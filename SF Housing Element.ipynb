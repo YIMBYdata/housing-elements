{
 "cells": [
  {
   "cell_type": "code",
   "execution_count": 1,
   "id": "synthetic-fluid",
   "metadata": {},
   "outputs": [],
   "source": [
    "import numpy as np\n",
    "import pandas as pd\n",
    "import geopandas as gpd\n",
    "import matplotlib.pyplot as plt\n",
    "import contextily as ctx"
   ]
  },
  {
   "cell_type": "code",
   "execution_count": 2,
   "id": "fancy-narrow",
   "metadata": {},
   "outputs": [],
   "source": [
    "sf_sites = pd.read_csv('./data/clean_data/sf_sites.csv')\n",
    "sf_new_construction_all = pd.read_csv('./data/clean_data/sf_all_construction.csv')\n",
    "sf_new_construction_post_2015 = pd.read_csv('./data/clean_data/sf_construction_post_2015.csv')"
   ]
  },
  {
   "cell_type": "code",
   "execution_count": 3,
   "id": "viral-klein",
   "metadata": {},
   "outputs": [],
   "source": [
    "date_cols = [c for c in sf_new_construction_all.columns if 'Date' in c]\n",
    "sf_new_construction_all[date_cols] = sf_new_construction_all[date_cols].apply(pd.to_datetime)\n",
    "sf_new_construction_post_2015[date_cols] = sf_new_construction_post_2015[date_cols].apply(pd.to_datetime)"
   ]
  },
  {
   "cell_type": "markdown",
   "id": "electoral-offense",
   "metadata": {},
   "source": [
    "## Make sure the `relcapcty` column is what we want:"
   ]
  },
  {
   "cell_type": "code",
   "execution_count": 4,
   "id": "short-plant",
   "metadata": {},
   "outputs": [],
   "source": [
    "test_df = pd.DataFrame({\n",
    "    'maybe_density': sf_sites['allowden'] * sf_sites['locacres'],\n",
    "    'capacity': sf_sites['relcapcty'].astype(float)\n",
    "}).dropna()\n",
    "test_df['maybe_density_int'] = test_df['maybe_density'].round(1)\n",
    "test_df['capacity_int'] = test_df['capacity'].round(1)"
   ]
  },
  {
   "cell_type": "code",
   "execution_count": 5,
   "id": "cathedral-white",
   "metadata": {},
   "outputs": [
    {
     "data": {
      "text/plain": [
       "1.0"
      ]
     },
     "execution_count": 5,
     "metadata": {},
     "output_type": "execute_result"
    }
   ],
   "source": [
    "(test_df['maybe_density_int'] == test_df['capacity_int']).mean()"
   ]
  },
  {
   "cell_type": "markdown",
   "id": "ceramic-serum",
   "metadata": {},
   "source": [
    "## Now let's do some stats:"
   ]
  },
  {
   "cell_type": "code",
   "execution_count": 6,
   "id": "changing-defendant",
   "metadata": {},
   "outputs": [
    {
     "data": {
      "text/plain": [
       "0.08379343942838584"
      ]
     },
     "execution_count": 6,
     "metadata": {},
     "output_type": "execute_result"
    }
   ],
   "source": [
    "sf_sites['apn'].isin(sf_new_construction_all['apn']).mean()"
   ]
  },
  {
   "cell_type": "code",
   "execution_count": 7,
   "id": "sweet-messenger",
   "metadata": {},
   "outputs": [
    {
     "data": {
      "text/plain": [
       "0.044982137057486195"
      ]
     },
     "execution_count": 7,
     "metadata": {},
     "output_type": "execute_result"
    }
   ],
   "source": [
    "sf_sites['apn'].isin(sf_new_construction_post_2015['apn']).mean()"
   ]
  },
  {
   "cell_type": "code",
   "execution_count": 8,
   "id": "physical-statement",
   "metadata": {},
   "outputs": [
    {
     "data": {
      "text/plain": [
       "0.09545454545454546"
      ]
     },
     "execution_count": 8,
     "metadata": {},
     "output_type": "execute_result"
    }
   ],
   "source": [
    "sf_new_construction_all['apn'].isin(sf_sites['apn']).mean()"
   ]
  },
  {
   "cell_type": "code",
   "execution_count": 9,
   "id": "patient-cholesterol",
   "metadata": {},
   "outputs": [
    {
     "data": {
      "text/plain": [
       "0.10060734090308952"
      ]
     },
     "execution_count": 9,
     "metadata": {},
     "output_type": "execute_result"
    }
   ],
   "source": [
    "sf_new_construction_post_2015['apn'].isin(sf_sites['apn']).mean()"
   ]
  },
  {
   "cell_type": "code",
   "execution_count": 10,
   "id": "elementary-cabinet",
   "metadata": {},
   "outputs": [
    {
     "data": {
      "text/plain": [
       "15712.0"
      ]
     },
     "execution_count": 10,
     "metadata": {},
     "output_type": "execute_result"
    }
   ],
   "source": [
    "sf_new_construction_post_2015[\n",
    "    sf_new_construction_post_2015['apn'].isin(sf_sites['apn'])\n",
    "]['new_units'].sum()"
   ]
  },
  {
   "cell_type": "code",
   "execution_count": 11,
   "id": "plastic-career",
   "metadata": {},
   "outputs": [
    {
     "data": {
      "text/plain": [
       "72562.0"
      ]
     },
     "execution_count": 11,
     "metadata": {},
     "output_type": "execute_result"
    }
   ],
   "source": [
    "sf_new_construction_post_2015['new_units'].sum()"
   ]
  },
  {
   "cell_type": "code",
   "execution_count": 12,
   "id": "fitting-model",
   "metadata": {},
   "outputs": [
    {
     "data": {
      "text/plain": [
       "0.2165320691270913"
      ]
     },
     "execution_count": 12,
     "metadata": {},
     "output_type": "execute_result"
    }
   ],
   "source": [
    "15712.0 / 72562.0"
   ]
  },
  {
   "cell_type": "markdown",
   "id": "horizontal-adelaide",
   "metadata": {},
   "source": [
    "## Number of units in HE:"
   ]
  },
  {
   "cell_type": "code",
   "execution_count": 13,
   "id": "separated-melbourne",
   "metadata": {},
   "outputs": [
    {
     "data": {
      "text/plain": [
       "47209.0"
      ]
     },
     "execution_count": 13,
     "metadata": {},
     "output_type": "execute_result"
    }
   ],
   "source": [
    "sf_sites['relcapcty'].sum()"
   ]
  },
  {
   "cell_type": "markdown",
   "id": "partial-treat",
   "metadata": {},
   "source": [
    "## Overall number of units completed:"
   ]
  },
  {
   "cell_type": "code",
   "execution_count": 14,
   "id": "administrative-billy",
   "metadata": {},
   "outputs": [
    {
     "data": {
      "text/plain": [
       "172275.0"
      ]
     },
     "execution_count": 14,
     "metadata": {},
     "output_type": "execute_result"
    }
   ],
   "source": [
    "n_filed_ever = sf_new_construction_all[sf_new_construction_all['Filed Date'].notnull()]['Proposed Units'].sum()\n",
    "n_filed_ever"
   ]
  },
  {
   "cell_type": "code",
   "execution_count": 15,
   "id": "reverse-mississippi",
   "metadata": {},
   "outputs": [
    {
     "data": {
      "text/plain": [
       "123073.0"
      ]
     },
     "execution_count": 15,
     "metadata": {},
     "output_type": "execute_result"
    }
   ],
   "source": [
    "n_issued_ever = sf_new_construction_all[sf_new_construction_all['Issued Date'].notnull()]['Proposed Units'].sum()\n",
    "n_issued_ever"
   ]
  },
  {
   "cell_type": "code",
   "execution_count": 16,
   "id": "vertical-hampshire",
   "metadata": {},
   "outputs": [
    {
     "data": {
      "text/plain": [
       "31116.0"
      ]
     },
     "execution_count": 16,
     "metadata": {},
     "output_type": "execute_result"
    }
   ],
   "source": [
    "n_started_ever = sf_new_construction_all[\n",
    "    sf_new_construction_all['First Construction Document Date'].notnull()\n",
    "]['Proposed Units'].sum()\n",
    "n_started_ever"
   ]
  },
  {
   "cell_type": "code",
   "execution_count": 17,
   "id": "proof-spouse",
   "metadata": {},
   "outputs": [
    {
     "data": {
      "text/plain": [
       "66284.0"
      ]
     },
     "execution_count": 17,
     "metadata": {},
     "output_type": "execute_result"
    }
   ],
   "source": [
    "n_completed_ever = sf_new_construction_all[\n",
    "    sf_new_construction_all['Completed Date'].notnull()\n",
    "]['Proposed Units'].sum()\n",
    "n_completed_ever"
   ]
  },
  {
   "cell_type": "code",
   "execution_count": 18,
   "id": "sunrise-virus",
   "metadata": {},
   "outputs": [
    {
     "data": {
      "text/plain": [
       "95144.0"
      ]
     },
     "execution_count": 18,
     "metadata": {},
     "output_type": "execute_result"
    }
   ],
   "source": [
    "n_filed_post_15 = sf_new_construction_post_2015[\n",
    "    sf_new_construction_post_2015['Filed Date'].notnull()\n",
    "]['Proposed Units'].sum()\n",
    "n_filed_post_15"
   ]
  },
  {
   "cell_type": "code",
   "execution_count": 19,
   "id": "circular-dating",
   "metadata": {},
   "outputs": [
    {
     "data": {
      "text/plain": [
       "95144.0"
      ]
     },
     "execution_count": 19,
     "metadata": {},
     "output_type": "execute_result"
    }
   ],
   "source": [
    "n_issued_post_15 = sf_new_construction_post_2015[\n",
    "    sf_new_construction_post_2015['Issued Date'].notnull()\n",
    "]['Proposed Units'].sum()\n",
    "n_issued_post_15"
   ]
  },
  {
   "cell_type": "code",
   "execution_count": 20,
   "id": "hungarian-reservation",
   "metadata": {},
   "outputs": [
    {
     "data": {
      "text/plain": [
       "25660.0"
      ]
     },
     "execution_count": 20,
     "metadata": {},
     "output_type": "execute_result"
    }
   ],
   "source": [
    "n_started_post_15 = sf_new_construction_post_2015[\n",
    "    sf_new_construction_post_2015['First Construction Document Date'].notnull()\n",
    "]['Proposed Units'].sum()\n",
    "n_started_post_15"
   ]
  },
  {
   "cell_type": "code",
   "execution_count": 21,
   "id": "bottom-footage",
   "metadata": {},
   "outputs": [
    {
     "data": {
      "text/plain": [
       "44172.0"
      ]
     },
     "execution_count": 21,
     "metadata": {},
     "output_type": "execute_result"
    }
   ],
   "source": [
    "n_completed_post_15 = sf_new_construction_post_2015[\n",
    "    sf_new_construction_post_2015['Completed Date'].notnull()\n",
    "]['Proposed Units'].sum()\n",
    "n_completed_post_15"
   ]
  },
  {
   "cell_type": "code",
   "execution_count": 22,
   "id": "sapphire-negotiation",
   "metadata": {},
   "outputs": [
    {
     "data": {
      "text/plain": [
       "57865.0"
      ]
     },
     "execution_count": 22,
     "metadata": {},
     "output_type": "execute_result"
    }
   ],
   "source": [
    "# started before 2015, completed after 2015\n",
    "sf_new_construction_all[\n",
    "    sf_new_construction_all['Completed Date'] >= '2015-01-01'\n",
    "]['Proposed Units'].sum()"
   ]
  },
  {
   "cell_type": "code",
   "execution_count": 23,
   "id": "united-exchange",
   "metadata": {},
   "outputs": [
    {
     "data": {
      "text/plain": [
       "0.5385746670675128"
      ]
     },
     "execution_count": 23,
     "metadata": {},
     "output_type": "execute_result"
    }
   ],
   "source": [
    "n_completed_ever / n_issued_ever"
   ]
  },
  {
   "cell_type": "code",
   "execution_count": 24,
   "id": "contained-verification",
   "metadata": {},
   "outputs": [
    {
     "data": {
      "text/plain": [
       "13256.8"
      ]
     },
     "execution_count": 24,
     "metadata": {},
     "output_type": "execute_result"
    }
   ],
   "source": [
    "n_completed_ever / 5"
   ]
  },
  {
   "cell_type": "code",
   "execution_count": 25,
   "id": "animal-eclipse",
   "metadata": {},
   "outputs": [
    {
     "data": {
      "text/html": [
       "<div>\n",
       "<style scoped>\n",
       "    .dataframe tbody tr th:only-of-type {\n",
       "        vertical-align: middle;\n",
       "    }\n",
       "\n",
       "    .dataframe tbody tr th {\n",
       "        vertical-align: top;\n",
       "    }\n",
       "\n",
       "    .dataframe thead th {\n",
       "        text-align: right;\n",
       "    }\n",
       "</style>\n",
       "<table border=\"1\" class=\"dataframe\">\n",
       "  <thead>\n",
       "    <tr style=\"text-align: right;\">\n",
       "      <th></th>\n",
       "      <th>Permit Number</th>\n",
       "      <th>Permit Type</th>\n",
       "      <th>Permit Type Definition</th>\n",
       "      <th>Permit Creation Date</th>\n",
       "      <th>Block</th>\n",
       "      <th>Lot</th>\n",
       "      <th>Street Number</th>\n",
       "      <th>Street Number Suffix</th>\n",
       "      <th>Street Name</th>\n",
       "      <th>Street Suffix</th>\n",
       "      <th>...</th>\n",
       "      <th>Current Police Districts</th>\n",
       "      <th>Current Supervisor Districts</th>\n",
       "      <th>Analysis Neighborhoods</th>\n",
       "      <th>DELETE - Zip Codes</th>\n",
       "      <th>DELETE - Fire Prevention Districts</th>\n",
       "      <th>DELETE - Supervisor Districts</th>\n",
       "      <th>DELETE - Current Police Districts</th>\n",
       "      <th>DELETE - Supervisorial_Districts_Waterline_data_from_7pkg_wer3</th>\n",
       "      <th>apn</th>\n",
       "      <th>new_units</th>\n",
       "    </tr>\n",
       "  </thead>\n",
       "  <tbody>\n",
       "    <tr>\n",
       "      <th>38</th>\n",
       "      <td>201406138386</td>\n",
       "      <td>1</td>\n",
       "      <td>new construction</td>\n",
       "      <td>2014-06-13</td>\n",
       "      <td>0281</td>\n",
       "      <td>003</td>\n",
       "      <td>832</td>\n",
       "      <td>NaN</td>\n",
       "      <td>Sutter</td>\n",
       "      <td>St</td>\n",
       "      <td>...</td>\n",
       "      <td>6.0</td>\n",
       "      <td>3.0</td>\n",
       "      <td>21.0</td>\n",
       "      <td>28858.0</td>\n",
       "      <td>5.0</td>\n",
       "      <td>10.0</td>\n",
       "      <td>1.0</td>\n",
       "      <td>2.0</td>\n",
       "      <td>0281/003</td>\n",
       "      <td>20.0</td>\n",
       "    </tr>\n",
       "    <tr>\n",
       "      <th>40</th>\n",
       "      <td>201308204717</td>\n",
       "      <td>1</td>\n",
       "      <td>new construction</td>\n",
       "      <td>2013-08-20</td>\n",
       "      <td>4624</td>\n",
       "      <td>031</td>\n",
       "      <td>142</td>\n",
       "      <td>NaN</td>\n",
       "      <td>West Point</td>\n",
       "      <td>Rd</td>\n",
       "      <td>...</td>\n",
       "      <td>2.0</td>\n",
       "      <td>9.0</td>\n",
       "      <td>1.0</td>\n",
       "      <td>58.0</td>\n",
       "      <td>10.0</td>\n",
       "      <td>8.0</td>\n",
       "      <td>3.0</td>\n",
       "      <td>6.0</td>\n",
       "      <td>4624/031</td>\n",
       "      <td>50.0</td>\n",
       "    </tr>\n",
       "    <tr>\n",
       "      <th>71</th>\n",
       "      <td>201307051190</td>\n",
       "      <td>1</td>\n",
       "      <td>new construction</td>\n",
       "      <td>2013-07-05</td>\n",
       "      <td>0811</td>\n",
       "      <td>031</td>\n",
       "      <td>101</td>\n",
       "      <td>NaN</td>\n",
       "      <td>Polk</td>\n",
       "      <td>St</td>\n",
       "      <td>...</td>\n",
       "      <td>4.0</td>\n",
       "      <td>10.0</td>\n",
       "      <td>36.0</td>\n",
       "      <td>28852.0</td>\n",
       "      <td>7.0</td>\n",
       "      <td>9.0</td>\n",
       "      <td>6.0</td>\n",
       "      <td>3.0</td>\n",
       "      <td>0811/031</td>\n",
       "      <td>162.0</td>\n",
       "    </tr>\n",
       "    <tr>\n",
       "      <th>72</th>\n",
       "      <td>201404042522</td>\n",
       "      <td>1</td>\n",
       "      <td>new construction</td>\n",
       "      <td>2014-04-04</td>\n",
       "      <td>8711</td>\n",
       "      <td>031</td>\n",
       "      <td>588</td>\n",
       "      <td>NaN</td>\n",
       "      <td>Mission Bay Blvd North</td>\n",
       "      <td>Bl</td>\n",
       "      <td>...</td>\n",
       "      <td>1.0</td>\n",
       "      <td>10.0</td>\n",
       "      <td>4.0</td>\n",
       "      <td>310.0</td>\n",
       "      <td>14.0</td>\n",
       "      <td>9.0</td>\n",
       "      <td>3.0</td>\n",
       "      <td>3.0</td>\n",
       "      <td>8711/031</td>\n",
       "      <td>200.0</td>\n",
       "    </tr>\n",
       "    <tr>\n",
       "      <th>85</th>\n",
       "      <td>201301319232</td>\n",
       "      <td>1</td>\n",
       "      <td>new construction</td>\n",
       "      <td>2013-01-31</td>\n",
       "      <td>3509</td>\n",
       "      <td>043</td>\n",
       "      <td>104</td>\n",
       "      <td>NaN</td>\n",
       "      <td>09th</td>\n",
       "      <td>St</td>\n",
       "      <td>...</td>\n",
       "      <td>1.0</td>\n",
       "      <td>10.0</td>\n",
       "      <td>34.0</td>\n",
       "      <td>28853.0</td>\n",
       "      <td>8.0</td>\n",
       "      <td>9.0</td>\n",
       "      <td>2.0</td>\n",
       "      <td>3.0</td>\n",
       "      <td>3509/043</td>\n",
       "      <td>160.0</td>\n",
       "    </tr>\n",
       "    <tr>\n",
       "      <th>...</th>\n",
       "      <td>...</td>\n",
       "      <td>...</td>\n",
       "      <td>...</td>\n",
       "      <td>...</td>\n",
       "      <td>...</td>\n",
       "      <td>...</td>\n",
       "      <td>...</td>\n",
       "      <td>...</td>\n",
       "      <td>...</td>\n",
       "      <td>...</td>\n",
       "      <td>...</td>\n",
       "      <td>...</td>\n",
       "      <td>...</td>\n",
       "      <td>...</td>\n",
       "      <td>...</td>\n",
       "      <td>...</td>\n",
       "      <td>...</td>\n",
       "      <td>...</td>\n",
       "      <td>...</td>\n",
       "      <td>...</td>\n",
       "      <td>...</td>\n",
       "    </tr>\n",
       "    <tr>\n",
       "      <th>7148</th>\n",
       "      <td>201407080672</td>\n",
       "      <td>8</td>\n",
       "      <td>otc alterations permit</td>\n",
       "      <td>2014-07-08</td>\n",
       "      <td>4146</td>\n",
       "      <td>019</td>\n",
       "      <td>2830</td>\n",
       "      <td>NaN</td>\n",
       "      <td>22nd</td>\n",
       "      <td>St</td>\n",
       "      <td>...</td>\n",
       "      <td>3.0</td>\n",
       "      <td>2.0</td>\n",
       "      <td>20.0</td>\n",
       "      <td>28859.0</td>\n",
       "      <td>2.0</td>\n",
       "      <td>7.0</td>\n",
       "      <td>7.0</td>\n",
       "      <td>7.0</td>\n",
       "      <td>4146/019</td>\n",
       "      <td>1.0</td>\n",
       "    </tr>\n",
       "    <tr>\n",
       "      <th>7150</th>\n",
       "      <td>201407070539</td>\n",
       "      <td>8</td>\n",
       "      <td>otc alterations permit</td>\n",
       "      <td>2014-07-07</td>\n",
       "      <td>6349</td>\n",
       "      <td>021</td>\n",
       "      <td>717</td>\n",
       "      <td>V</td>\n",
       "      <td>Paris</td>\n",
       "      <td>St</td>\n",
       "      <td>...</td>\n",
       "      <td>9.0</td>\n",
       "      <td>1.0</td>\n",
       "      <td>7.0</td>\n",
       "      <td>28861.0</td>\n",
       "      <td>9.0</td>\n",
       "      <td>6.0</td>\n",
       "      <td>4.0</td>\n",
       "      <td>8.0</td>\n",
       "      <td>6349/021</td>\n",
       "      <td>1.0</td>\n",
       "    </tr>\n",
       "    <tr>\n",
       "      <th>7151</th>\n",
       "      <td>201407030495</td>\n",
       "      <td>8</td>\n",
       "      <td>otc alterations permit</td>\n",
       "      <td>2014-07-03</td>\n",
       "      <td>4591C</td>\n",
       "      <td>045</td>\n",
       "      <td>451</td>\n",
       "      <td>NaN</td>\n",
       "      <td>Hudson</td>\n",
       "      <td>Av</td>\n",
       "      <td>...</td>\n",
       "      <td>2.0</td>\n",
       "      <td>9.0</td>\n",
       "      <td>1.0</td>\n",
       "      <td>58.0</td>\n",
       "      <td>10.0</td>\n",
       "      <td>8.0</td>\n",
       "      <td>3.0</td>\n",
       "      <td>6.0</td>\n",
       "      <td>4591C/045</td>\n",
       "      <td>9.0</td>\n",
       "    </tr>\n",
       "    <tr>\n",
       "      <th>7152</th>\n",
       "      <td>201407030493</td>\n",
       "      <td>8</td>\n",
       "      <td>otc alterations permit</td>\n",
       "      <td>2014-07-03</td>\n",
       "      <td>4591C</td>\n",
       "      <td>068</td>\n",
       "      <td>421</td>\n",
       "      <td>NaN</td>\n",
       "      <td>Hudson</td>\n",
       "      <td>Av</td>\n",
       "      <td>...</td>\n",
       "      <td>2.0</td>\n",
       "      <td>9.0</td>\n",
       "      <td>1.0</td>\n",
       "      <td>58.0</td>\n",
       "      <td>10.0</td>\n",
       "      <td>8.0</td>\n",
       "      <td>3.0</td>\n",
       "      <td>6.0</td>\n",
       "      <td>4591C/068</td>\n",
       "      <td>9.0</td>\n",
       "    </tr>\n",
       "    <tr>\n",
       "      <th>7158</th>\n",
       "      <td>201407302556</td>\n",
       "      <td>8</td>\n",
       "      <td>otc alterations permit</td>\n",
       "      <td>2014-07-30</td>\n",
       "      <td>3833</td>\n",
       "      <td>001</td>\n",
       "      <td>1380</td>\n",
       "      <td>NaN</td>\n",
       "      <td>07th</td>\n",
       "      <td>St</td>\n",
       "      <td>...</td>\n",
       "      <td>1.0</td>\n",
       "      <td>9.0</td>\n",
       "      <td>4.0</td>\n",
       "      <td>28856.0</td>\n",
       "      <td>14.0</td>\n",
       "      <td>8.0</td>\n",
       "      <td>3.0</td>\n",
       "      <td>6.0</td>\n",
       "      <td>3833/001</td>\n",
       "      <td>388.0</td>\n",
       "    </tr>\n",
       "  </tbody>\n",
       "</table>\n",
       "<p>275 rows × 54 columns</p>\n",
       "</div>"
      ],
      "text/plain": [
       "      Permit Number  Permit Type  Permit Type Definition Permit Creation Date  \\\n",
       "38     201406138386            1        new construction           2014-06-13   \n",
       "40     201308204717            1        new construction           2013-08-20   \n",
       "71     201307051190            1        new construction           2013-07-05   \n",
       "72     201404042522            1        new construction           2014-04-04   \n",
       "85     201301319232            1        new construction           2013-01-31   \n",
       "...             ...          ...                     ...                  ...   \n",
       "7148   201407080672            8  otc alterations permit           2014-07-08   \n",
       "7150   201407070539            8  otc alterations permit           2014-07-07   \n",
       "7151   201407030495            8  otc alterations permit           2014-07-03   \n",
       "7152   201407030493            8  otc alterations permit           2014-07-03   \n",
       "7158   201407302556            8  otc alterations permit           2014-07-30   \n",
       "\n",
       "      Block  Lot  Street Number Street Number Suffix             Street Name  \\\n",
       "38     0281  003            832                  NaN                  Sutter   \n",
       "40     4624  031            142                  NaN              West Point   \n",
       "71     0811  031            101                  NaN                    Polk   \n",
       "72     8711  031            588                  NaN  Mission Bay Blvd North   \n",
       "85     3509  043            104                  NaN                    09th   \n",
       "...     ...  ...            ...                  ...                     ...   \n",
       "7148   4146  019           2830                  NaN                    22nd   \n",
       "7150   6349  021            717                    V                   Paris   \n",
       "7151  4591C  045            451                  NaN                  Hudson   \n",
       "7152  4591C  068            421                  NaN                  Hudson   \n",
       "7158   3833  001           1380                  NaN                    07th   \n",
       "\n",
       "     Street Suffix  ...  Current Police Districts  \\\n",
       "38              St  ...                       6.0   \n",
       "40              Rd  ...                       2.0   \n",
       "71              St  ...                       4.0   \n",
       "72              Bl  ...                       1.0   \n",
       "85              St  ...                       1.0   \n",
       "...            ...  ...                       ...   \n",
       "7148            St  ...                       3.0   \n",
       "7150            St  ...                       9.0   \n",
       "7151            Av  ...                       2.0   \n",
       "7152            Av  ...                       2.0   \n",
       "7158            St  ...                       1.0   \n",
       "\n",
       "     Current Supervisor Districts Analysis Neighborhoods DELETE - Zip Codes  \\\n",
       "38                            3.0                   21.0            28858.0   \n",
       "40                            9.0                    1.0               58.0   \n",
       "71                           10.0                   36.0            28852.0   \n",
       "72                           10.0                    4.0              310.0   \n",
       "85                           10.0                   34.0            28853.0   \n",
       "...                           ...                    ...                ...   \n",
       "7148                          2.0                   20.0            28859.0   \n",
       "7150                          1.0                    7.0            28861.0   \n",
       "7151                          9.0                    1.0               58.0   \n",
       "7152                          9.0                    1.0               58.0   \n",
       "7158                          9.0                    4.0            28856.0   \n",
       "\n",
       "     DELETE - Fire Prevention Districts DELETE - Supervisor Districts  \\\n",
       "38                                  5.0                          10.0   \n",
       "40                                 10.0                           8.0   \n",
       "71                                  7.0                           9.0   \n",
       "72                                 14.0                           9.0   \n",
       "85                                  8.0                           9.0   \n",
       "...                                 ...                           ...   \n",
       "7148                                2.0                           7.0   \n",
       "7150                                9.0                           6.0   \n",
       "7151                               10.0                           8.0   \n",
       "7152                               10.0                           8.0   \n",
       "7158                               14.0                           8.0   \n",
       "\n",
       "     DELETE - Current Police Districts  \\\n",
       "38                                 1.0   \n",
       "40                                 3.0   \n",
       "71                                 6.0   \n",
       "72                                 3.0   \n",
       "85                                 2.0   \n",
       "...                                ...   \n",
       "7148                               7.0   \n",
       "7150                               4.0   \n",
       "7151                               3.0   \n",
       "7152                               3.0   \n",
       "7158                               3.0   \n",
       "\n",
       "     DELETE - Supervisorial_Districts_Waterline_data_from_7pkg_wer3  \\\n",
       "38                                                  2.0               \n",
       "40                                                  6.0               \n",
       "71                                                  3.0               \n",
       "72                                                  3.0               \n",
       "85                                                  3.0               \n",
       "...                                                 ...               \n",
       "7148                                                7.0               \n",
       "7150                                                8.0               \n",
       "7151                                                6.0               \n",
       "7152                                                6.0               \n",
       "7158                                                6.0               \n",
       "\n",
       "            apn new_units  \n",
       "38     0281/003      20.0  \n",
       "40     4624/031      50.0  \n",
       "71     0811/031     162.0  \n",
       "72     8711/031     200.0  \n",
       "85     3509/043     160.0  \n",
       "...         ...       ...  \n",
       "7148   4146/019       1.0  \n",
       "7150   6349/021       1.0  \n",
       "7151  4591C/045       9.0  \n",
       "7152  4591C/068       9.0  \n",
       "7158   3833/001     388.0  \n",
       "\n",
       "[275 rows x 54 columns]"
      ]
     },
     "execution_count": 25,
     "metadata": {},
     "output_type": "execute_result"
    }
   ],
   "source": [
    "sf_new_construction_all[\n",
    "    (sf_new_construction_all['Completed Date'] >= '2015-01-01')\n",
    "    & (sf_new_construction_all['Issued Date'] < '2015-01-01')\n",
    "]"
   ]
  },
  {
   "cell_type": "markdown",
   "id": "daily-lyric",
   "metadata": {},
   "source": [
    "# By capacity"
   ]
  },
  {
   "cell_type": "code",
   "execution_count": 26,
   "id": "demographic-attitude",
   "metadata": {},
   "outputs": [
    {
     "data": {
      "text/plain": [
       "Index(['objectid', 'apn', 'locapn', 'genplan', 'zoning', 'gacres', 'locacres',\n",
       "       'allowden', 'allowhigh', 'relcapcty', 'sitetype', 'pdaparcel',\n",
       "       'existuse', 'Shape__Are', 'Shape__Len', 'geometry'],\n",
       "      dtype='object')"
      ]
     },
     "execution_count": 26,
     "metadata": {},
     "output_type": "execute_result"
    }
   ],
   "source": [
    "sf_sites.columns"
   ]
  },
  {
   "cell_type": "code",
   "execution_count": 27,
   "id": "lucky-brunswick",
   "metadata": {},
   "outputs": [
    {
     "data": {
      "text/plain": [
       "(6158, 16)"
      ]
     },
     "execution_count": 27,
     "metadata": {},
     "output_type": "execute_result"
    }
   ],
   "source": [
    "sf_sites.shape"
   ]
  },
  {
   "cell_type": "code",
   "execution_count": 28,
   "id": "generous-merchant",
   "metadata": {},
   "outputs": [
    {
     "data": {
      "text/plain": [
       "1.0     1103\n",
       "2.0      959\n",
       "0.0      904\n",
       "3.0      687\n",
       "4.0      463\n",
       "5.0      291\n",
       "6.0      227\n",
       "7.0      194\n",
       "8.0      139\n",
       "9.0      117\n",
       "10.0     102\n",
       "Name: relcapcty, dtype: int64"
      ]
     },
     "execution_count": 28,
     "metadata": {},
     "output_type": "execute_result"
    }
   ],
   "source": [
    "sf_sites['relcapcty'].value_counts()[:10]"
   ]
  },
  {
   "cell_type": "code",
   "execution_count": 29,
   "id": "handy-brass",
   "metadata": {},
   "outputs": [
    {
     "data": {
      "text/plain": [
       "972"
      ]
     },
     "execution_count": 29,
     "metadata": {},
     "output_type": "execute_result"
    }
   ],
   "source": [
    "(sf_sites['relcapcty'] > 10).sum()"
   ]
  },
  {
   "cell_type": "code",
   "execution_count": 31,
   "id": "ongoing-music",
   "metadata": {},
   "outputs": [
    {
     "data": {
      "text/html": [
       "<div>\n",
       "<style scoped>\n",
       "    .dataframe tbody tr th:only-of-type {\n",
       "        vertical-align: middle;\n",
       "    }\n",
       "\n",
       "    .dataframe tbody tr th {\n",
       "        vertical-align: top;\n",
       "    }\n",
       "\n",
       "    .dataframe thead th {\n",
       "        text-align: right;\n",
       "    }\n",
       "</style>\n",
       "<table border=\"1\" class=\"dataframe\">\n",
       "  <thead>\n",
       "    <tr style=\"text-align: right;\">\n",
       "      <th></th>\n",
       "      <th>capacity_num_units</th>\n",
       "      <th>fraction_of_projects_built</th>\n",
       "    </tr>\n",
       "  </thead>\n",
       "  <tbody>\n",
       "    <tr>\n",
       "      <th>0</th>\n",
       "      <td>1</td>\n",
       "      <td>0.113327</td>\n",
       "    </tr>\n",
       "    <tr>\n",
       "      <th>1</th>\n",
       "      <td>2</td>\n",
       "      <td>0.084463</td>\n",
       "    </tr>\n",
       "    <tr>\n",
       "      <th>2</th>\n",
       "      <td>3</td>\n",
       "      <td>0.056769</td>\n",
       "    </tr>\n",
       "    <tr>\n",
       "      <th>3</th>\n",
       "      <td>4</td>\n",
       "      <td>0.105832</td>\n",
       "    </tr>\n",
       "    <tr>\n",
       "      <th>4</th>\n",
       "      <td>5</td>\n",
       "      <td>0.092784</td>\n",
       "    </tr>\n",
       "    <tr>\n",
       "      <th>5</th>\n",
       "      <td>6</td>\n",
       "      <td>0.083700</td>\n",
       "    </tr>\n",
       "    <tr>\n",
       "      <th>6</th>\n",
       "      <td>7</td>\n",
       "      <td>0.108247</td>\n",
       "    </tr>\n",
       "    <tr>\n",
       "      <th>7</th>\n",
       "      <td>8</td>\n",
       "      <td>0.093525</td>\n",
       "    </tr>\n",
       "    <tr>\n",
       "      <th>8</th>\n",
       "      <td>9</td>\n",
       "      <td>0.102564</td>\n",
       "    </tr>\n",
       "    <tr>\n",
       "      <th>9</th>\n",
       "      <td>10</td>\n",
       "      <td>0.039216</td>\n",
       "    </tr>\n",
       "  </tbody>\n",
       "</table>\n",
       "</div>"
      ],
      "text/plain": [
       "   capacity_num_units  fraction_of_projects_built\n",
       "0                   1                    0.113327\n",
       "1                   2                    0.084463\n",
       "2                   3                    0.056769\n",
       "3                   4                    0.105832\n",
       "4                   5                    0.092784\n",
       "5                   6                    0.083700\n",
       "6                   7                    0.108247\n",
       "7                   8                    0.093525\n",
       "8                   9                    0.102564\n",
       "9                  10                    0.039216"
      ]
     },
     "execution_count": 31,
     "metadata": {},
     "output_type": "execute_result"
    }
   ],
   "source": [
    "rows = []\n",
    "for n in range(1, 11):\n",
    "    rows.append({\n",
    "        'capacity_num_units': n,\n",
    "        'fraction_of_projects_built': sf_sites[\n",
    "            sf_sites['relcapcty'] == n\n",
    "        ]['apn'].isin(sf_new_construction_all['apn']).mean()\n",
    "    })\n",
    "    \n",
    "pd.DataFrame(rows)"
   ]
  },
  {
   "cell_type": "code",
   "execution_count": 32,
   "id": "atomic-violence",
   "metadata": {},
   "outputs": [
    {
     "data": {
      "text/plain": [
       "0.11625514403292181"
      ]
     },
     "execution_count": 32,
     "metadata": {},
     "output_type": "execute_result"
    }
   ],
   "source": [
    "sf_sites[\n",
    "    sf_sites['relcapcty'] > 10\n",
    "]['apn'].isin(sf_new_construction_all['apn']).mean()"
   ]
  },
  {
   "cell_type": "markdown",
   "id": "alone-briefs",
   "metadata": {},
   "source": [
    "# Merging the datasets"
   ]
  },
  {
   "cell_type": "code",
   "execution_count": 38,
   "id": "vulnerable-approval",
   "metadata": {},
   "outputs": [
    {
     "data": {
      "text/plain": [
       "1    6128\n",
       "2      13\n",
       "4       1\n",
       "Name: apn, dtype: int64"
      ]
     },
     "execution_count": 38,
     "metadata": {},
     "output_type": "execute_result"
    }
   ],
   "source": [
    "sf_sites['apn'].value_counts().value_counts()"
   ]
  },
  {
   "cell_type": "code",
   "execution_count": 39,
   "id": "technical-secretariat",
   "metadata": {},
   "outputs": [],
   "source": [
    "sf_sites_deduped = sf_sites.sort_values('relcapcty').drop_duplicates('apn', keep='last')"
   ]
  },
  {
   "cell_type": "code",
   "execution_count": 35,
   "id": "responsible-think",
   "metadata": {},
   "outputs": [],
   "source": [
    "sf_new_construction_through_2019 = sf_new_construction_post_2015[\n",
    "    sf_new_construction_post_2015['Issued Date'] < '2020-01-01'\n",
    "]"
   ]
  },
  {
   "cell_type": "code",
   "execution_count": 42,
   "id": "chinese-introduction",
   "metadata": {},
   "outputs": [
    {
     "data": {
      "text/plain": [
       "1     2033\n",
       "2      407\n",
       "3       65\n",
       "4       20\n",
       "5       13\n",
       "6        9\n",
       "8        2\n",
       "10       2\n",
       "14       1\n",
       "11       1\n",
       "Name: apn, dtype: int64"
      ]
     },
     "execution_count": 42,
     "metadata": {},
     "output_type": "execute_result"
    }
   ],
   "source": [
    "sf_new_construction_through_2019['apn'].value_counts().value_counts()"
   ]
  },
  {
   "cell_type": "code",
   "execution_count": 44,
   "id": "responsible-hours",
   "metadata": {},
   "outputs": [],
   "source": [
    "sf_new_construction_through_2019_deduped = (\n",
    "    sf_new_construction_through_2019.sort_values(['Issued Date', 'new_units'])\n",
    "    .drop_duplicates('apn', keep='last')\n",
    ")"
   ]
  },
  {
   "cell_type": "code",
   "execution_count": 45,
   "id": "vietnamese-agreement",
   "metadata": {},
   "outputs": [],
   "source": [
    "merged_df = sf_sites_deduped.merge(\n",
    "    sf_new_construction_through_2019_deduped,\n",
    "    on='apn',\n",
    "    how='left',\n",
    "    indicator=True\n",
    ")"
   ]
  },
  {
   "cell_type": "code",
   "execution_count": 46,
   "id": "broken-measure",
   "metadata": {},
   "outputs": [
    {
     "data": {
      "text/plain": [
       "1    6142\n",
       "Name: apn, dtype: int64"
      ]
     },
     "execution_count": 46,
     "metadata": {},
     "output_type": "execute_result"
    }
   ],
   "source": [
    "merged_df['apn'].value_counts().value_counts()"
   ]
  },
  {
   "cell_type": "code",
   "execution_count": 48,
   "id": "human-upper",
   "metadata": {},
   "outputs": [],
   "source": [
    "zone_mappings = {\n",
    "    'PDR': 'Industrial',\n",
    "    'RH': 'Residential',\n",
    "    'NC': 'Commercial',\n",
    "    'RM': 'Residential',\n",
    "    'RC': 'Commercial',\n",
    "    'RTO': 'Residential',\n",
    "    'M-1': 'Industrial',\n",
    "    'UMU': 'Commercial',\n",
    "    'C-2': 'Commercial',\n",
    "    'C-3': 'Commercial',\n",
    "    'C-M': 'Commercial',\n",
    "}"
   ]
  },
  {
   "cell_type": "code",
   "execution_count": 49,
   "id": "recovered-chosen",
   "metadata": {},
   "outputs": [],
   "source": [
    "current_use_mappings = {\n",
    "    'Vacant': 'Vacant', \n",
    "    'Dwelling': 'Residential', \n",
    "    'Commercial': 'Commercial', \n",
    "    'Industrial': 'Industrial', \n",
    "    'Flat+store': 'Residential',\n",
    "    'Misc/unknown': 'Other', \n",
    "    'Flats+duplex': 'Residential', \n",
    "    'Office Bld': 'Commercial', \n",
    "    'Gas Station': 'Commercial',\n",
    "    'Indust Ware': 'Industrial', \n",
    "    'Church': 'Other', \n",
    "    'Comm Garage': 'Commercial', \n",
    "    'Public Prop': 'Other', \n",
    "    'Parking Lot': 'Commercial',\n",
    "    'Bank': 'Commercial', \n",
    "    'Condominium': 'Residential', \n",
    "    'Motel': 'Commercial', \n",
    "    'Club/lodge': 'Commercial', \n",
    "    'Apartment': 'Residential', \n",
    "    'School': 'Other',\n",
    "    'Dwel+apts': 'Residential', \n",
    "    'Theatre': 'Commercial', \n",
    "    'Store/condo': 'Residential', \n",
    "    'Apt/store': 'Residential', \n",
    "    'Other Hotel': 'Commercial',\n",
    "    'Hospital': 'Other', \n",
    "    'Nursing Hm': 'Residential', \n",
    "    'Livework': 'Residential', \n",
    "    'Dwelling Bm': 'Residential', \n",
    "    '2 Dwel 1 Lot': 'Residential',\n",
    "    'Office Condo': 'Commercial',\n",
    "    'Flat+apt': 'Residential', \n",
    "    'Indust Data': 'Commercial', \n",
    "    'D/f >1 Lot': 'Other', \n",
    "    'Co-op Units': 'Residential',\n",
    "    'Shopping Cen': 'Commercial',\n",
    "}"
   ]
  },
  {
   "cell_type": "code",
   "execution_count": 50,
   "id": "manual-possibility",
   "metadata": {},
   "outputs": [],
   "source": [
    "def get_zone_mapping(zone):\n",
    "    for zone_match_string, zone_type in zone_mappings.items():\n",
    "        if zone_match_string in zone:\n",
    "            return zone_type\n",
    "    return None\n",
    "\n",
    "merged_df_with_type = merged_df.copy()\n",
    "merged_df_with_type['zoning_type'] = merged_df_with_type['zoning'].map(get_zone_mapping)\n",
    "merged_df_with_type['current_use_type'] = merged_df_with_type['existuse'].map(current_use_mappings)"
   ]
  },
  {
   "cell_type": "code",
   "execution_count": 51,
   "id": "offshore-london",
   "metadata": {},
   "outputs": [
    {
     "data": {
      "text/plain": [
       "Commercial     2869\n",
       "Residential    1928\n",
       "Industrial     1038\n",
       "Name: zoning_type, dtype: int64"
      ]
     },
     "execution_count": 51,
     "metadata": {},
     "output_type": "execute_result"
    }
   ],
   "source": [
    "merged_df_with_type['zoning_type'].value_counts()"
   ]
  },
  {
   "cell_type": "code",
   "execution_count": 52,
   "id": "boxed-lounge",
   "metadata": {},
   "outputs": [
    {
     "data": {
      "text/plain": [
       "Residential    1703\n",
       "Commercial     1578\n",
       "Vacant         1534\n",
       "Industrial      890\n",
       "Other           437\n",
       "Name: current_use_type, dtype: int64"
      ]
     },
     "execution_count": 52,
     "metadata": {},
     "output_type": "execute_result"
    }
   ],
   "source": [
    "merged_df_with_type['current_use_type'].value_counts()"
   ]
  },
  {
   "cell_type": "code",
   "execution_count": 53,
   "id": "infectious-samoa",
   "metadata": {},
   "outputs": [
    {
     "data": {
      "text/plain": [
       "left_only     0.960111\n",
       "both          0.039889\n",
       "right_only    0.000000\n",
       "Name: _merge, dtype: float64"
      ]
     },
     "execution_count": 53,
     "metadata": {},
     "output_type": "execute_result"
    }
   ],
   "source": [
    "merged_df_with_type['_merge'].value_counts(normalize=True)"
   ]
  },
  {
   "cell_type": "code",
   "execution_count": 59,
   "id": "greatest-underground",
   "metadata": {},
   "outputs": [
    {
     "data": {
      "text/plain": [
       "zoning_type\n",
       "Commercial     0.041478\n",
       "Industrial     0.005780\n",
       "Residential    0.054461\n",
       "dtype: float64"
      ]
     },
     "execution_count": 59,
     "metadata": {},
     "output_type": "execute_result"
    }
   ],
   "source": [
    "merged_df_with_type.groupby('zoning_type').apply(lambda g: (g['_merge'] == 'both').mean())"
   ]
  },
  {
   "cell_type": "code",
   "execution_count": 61,
   "id": "signed-census",
   "metadata": {},
   "outputs": [
    {
     "data": {
      "text/plain": [
       "current_use_type\n",
       "Commercial     0.029785\n",
       "Industrial     0.040449\n",
       "Other          0.057208\n",
       "Residential    0.034645\n",
       "Vacant         0.050847\n",
       "dtype: float64"
      ]
     },
     "execution_count": 61,
     "metadata": {},
     "output_type": "execute_result"
    }
   ],
   "source": [
    "merged_df_with_type.groupby('current_use_type').apply(lambda g: (g['_merge'] == 'both').mean())"
   ]
  },
  {
   "cell_type": "markdown",
   "id": "hearing-detection",
   "metadata": {},
   "source": [
    "# Extrapolate to 8 years"
   ]
  },
  {
   "cell_type": "code",
   "execution_count": 64,
   "id": "alleged-bahrain",
   "metadata": {},
   "outputs": [
    {
     "data": {
      "text/plain": [
       "0.03988928687723869"
      ]
     },
     "execution_count": 64,
     "metadata": {},
     "output_type": "execute_result"
    }
   ],
   "source": [
    "(merged_df['_merge'] == 'both').mean()"
   ]
  },
  {
   "cell_type": "code",
   "execution_count": 65,
   "id": "burning-theory",
   "metadata": {},
   "outputs": [
    {
     "data": {
      "text/plain": [
       "0.06382285900358191"
      ]
     },
     "execution_count": 65,
     "metadata": {},
     "output_type": "execute_result"
    }
   ],
   "source": [
    "8 / 5 * (merged_df['_merge'] == 'both').mean()"
   ]
  },
  {
   "cell_type": "code",
   "execution_count": 62,
   "id": "piano-yorkshire",
   "metadata": {},
   "outputs": [
    {
     "data": {
      "text/plain": [
       "zoning_type\n",
       "Commercial     0.066365\n",
       "Industrial     0.009249\n",
       "Residential    0.087137\n",
       "dtype: float64"
      ]
     },
     "execution_count": 62,
     "metadata": {},
     "output_type": "execute_result"
    }
   ],
   "source": [
    "8/5 * merged_df_with_type.groupby('zoning_type').apply(lambda g: (g['_merge'] == 'both').mean())"
   ]
  },
  {
   "cell_type": "code",
   "execution_count": 63,
   "id": "eastern-formation",
   "metadata": {},
   "outputs": [
    {
     "data": {
      "text/plain": [
       "current_use_type\n",
       "Commercial     0.047655\n",
       "Industrial     0.064719\n",
       "Other          0.091533\n",
       "Residential    0.055432\n",
       "Vacant         0.081356\n",
       "dtype: float64"
      ]
     },
     "execution_count": 63,
     "metadata": {},
     "output_type": "execute_result"
    }
   ],
   "source": [
    "8/5 * merged_df_with_type.groupby('current_use_type').apply(lambda g: (g['_merge'] == 'both').mean())"
   ]
  }
 ],
 "metadata": {
  "kernelspec": {
   "display_name": "Python 3",
   "language": "python",
   "name": "python3"
  },
  "language_info": {
   "codemirror_mode": {
    "name": "ipython",
    "version": 3
   },
   "file_extension": ".py",
   "mimetype": "text/x-python",
   "name": "python",
   "nbconvert_exporter": "python",
   "pygments_lexer": "ipython3",
   "version": "3.8.1"
  }
 },
 "nbformat": 4,
 "nbformat_minor": 5
}
