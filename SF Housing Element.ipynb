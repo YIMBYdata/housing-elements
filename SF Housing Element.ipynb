{
 "cells": [
  {
   "cell_type": "code",
   "execution_count": 9,
   "id": "norwegian-drive",
   "metadata": {},
   "outputs": [],
   "source": [
    "import numpy as np\n",
    "import pandas as pd\n",
    "import geopandas as gpd\n",
    "import matplotlib.pyplot as plt\n",
    "import contextily as ctx"
   ]
  },
  {
   "cell_type": "code",
   "execution_count": 77,
   "id": "trained-valuable",
   "metadata": {},
   "outputs": [],
   "source": [
    "sf_sites = pd.read_csv('./clean_data/sf_sites.csv')\n",
    "sf_new_construction_all = pd.read_csv('./clean_data/sf_all_construction.csv')\n",
    "sf_new_construction_post_2015 = pd.read_csv('./clean_data/sf_construction_post_2015.csv')"
   ]
  },
  {
   "cell_type": "code",
   "execution_count": 78,
   "id": "terminal-tennis",
   "metadata": {},
   "outputs": [],
   "source": [
    "date_cols = [c for c in sf_new_construction_all.columns if 'Date' in c]\n",
    "sf_new_construction_all[date_cols] = sf_new_construction_all[date_cols].apply(pd.to_datetime)\n",
    "sf_new_construction_post_2015[date_cols] = sf_new_construction_post_2015[date_cols].apply(pd.to_datetime)"
   ]
  },
  {
   "cell_type": "markdown",
   "id": "promotional-rogers",
   "metadata": {},
   "source": [
    "## Make sure the `relcapcty` column is what we want:"
   ]
  },
  {
   "cell_type": "code",
   "execution_count": 79,
   "id": "tough-teacher",
   "metadata": {},
   "outputs": [],
   "source": [
    "test_df = pd.DataFrame({\n",
    "    'maybe_density': sf_sites['allowden'] * sf_sites['locacres'],\n",
    "    'capacity': sf_sites['relcapcty'].astype(float)\n",
    "}).dropna()\n",
    "test_df['maybe_density_int'] = test_df['maybe_density'].round(1)\n",
    "test_df['capacity_int'] = test_df['capacity'].round(1)"
   ]
  },
  {
   "cell_type": "code",
   "execution_count": 80,
   "id": "conservative-treasurer",
   "metadata": {},
   "outputs": [
    {
     "data": {
      "text/plain": [
       "1.0"
      ]
     },
     "execution_count": 80,
     "metadata": {},
     "output_type": "execute_result"
    }
   ],
   "source": [
    "(test_df['maybe_density_int'] == test_df['capacity_int']).mean()"
   ]
  },
  {
   "cell_type": "markdown",
   "id": "electoral-qatar",
   "metadata": {},
   "source": [
    "## Now let's do some stats:"
   ]
  },
  {
   "cell_type": "code",
   "execution_count": 81,
   "id": "divine-father",
   "metadata": {},
   "outputs": [
    {
     "data": {
      "text/plain": [
       "0.08379343942838584"
      ]
     },
     "execution_count": 81,
     "metadata": {},
     "output_type": "execute_result"
    }
   ],
   "source": [
    "sf_sites['apn'].isin(sf_new_construction_all['apn']).mean()"
   ]
  },
  {
   "cell_type": "code",
   "execution_count": 82,
   "id": "complex-senate",
   "metadata": {},
   "outputs": [
    {
     "data": {
      "text/plain": [
       "0.044982137057486195"
      ]
     },
     "execution_count": 82,
     "metadata": {},
     "output_type": "execute_result"
    }
   ],
   "source": [
    "sf_sites['apn'].isin(sf_new_construction_post_2015['apn']).mean()"
   ]
  },
  {
   "cell_type": "code",
   "execution_count": 83,
   "id": "bulgarian-tonight",
   "metadata": {},
   "outputs": [
    {
     "data": {
      "text/plain": [
       "0.09545454545454546"
      ]
     },
     "execution_count": 83,
     "metadata": {},
     "output_type": "execute_result"
    }
   ],
   "source": [
    "sf_new_construction_all['apn'].isin(sf_sites['apn']).mean()"
   ]
  },
  {
   "cell_type": "code",
   "execution_count": 84,
   "id": "bright-silver",
   "metadata": {},
   "outputs": [
    {
     "data": {
      "text/plain": [
       "0.10060734090308952"
      ]
     },
     "execution_count": 84,
     "metadata": {},
     "output_type": "execute_result"
    }
   ],
   "source": [
    "sf_new_construction_post_2015['apn'].isin(sf_sites['apn']).mean()"
   ]
  },
  {
   "cell_type": "markdown",
   "id": "pharmaceutical-intensity",
   "metadata": {},
   "source": [
    "## Number of units in HE:"
   ]
  },
  {
   "cell_type": "code",
   "execution_count": 85,
   "id": "established-bonus",
   "metadata": {},
   "outputs": [
    {
     "data": {
      "text/plain": [
       "47209.0"
      ]
     },
     "execution_count": 85,
     "metadata": {},
     "output_type": "execute_result"
    }
   ],
   "source": [
    "sf_sites['relcapcty'].sum()"
   ]
  },
  {
   "cell_type": "markdown",
   "id": "previous-variance",
   "metadata": {},
   "source": [
    "## Overall number of units completed:"
   ]
  },
  {
   "cell_type": "code",
   "execution_count": 86,
   "id": "qualified-compression",
   "metadata": {},
   "outputs": [
    {
     "data": {
      "text/plain": [
       "172275.0"
      ]
     },
     "execution_count": 86,
     "metadata": {},
     "output_type": "execute_result"
    }
   ],
   "source": [
    "n_filed_ever = sf_new_construction_all[sf_new_construction_all['Filed Date'].notnull()]['Proposed Units'].sum()\n",
    "n_filed_ever"
   ]
  },
  {
   "cell_type": "code",
   "execution_count": 87,
   "id": "upper-giving",
   "metadata": {},
   "outputs": [
    {
     "data": {
      "text/plain": [
       "123073.0"
      ]
     },
     "execution_count": 87,
     "metadata": {},
     "output_type": "execute_result"
    }
   ],
   "source": [
    "n_issued_ever = sf_new_construction_all[sf_new_construction_all['Issued Date'].notnull()]['Proposed Units'].sum()\n",
    "n_issued_ever"
   ]
  },
  {
   "cell_type": "code",
   "execution_count": 88,
   "id": "congressional-agent",
   "metadata": {},
   "outputs": [
    {
     "data": {
      "text/plain": [
       "31116.0"
      ]
     },
     "execution_count": 88,
     "metadata": {},
     "output_type": "execute_result"
    }
   ],
   "source": [
    "n_started_ever = sf_new_construction_all[\n",
    "    sf_new_construction_all['First Construction Document Date'].notnull()\n",
    "]['Proposed Units'].sum()\n",
    "n_started_ever"
   ]
  },
  {
   "cell_type": "code",
   "execution_count": 89,
   "id": "south-cross",
   "metadata": {},
   "outputs": [
    {
     "data": {
      "text/plain": [
       "66284.0"
      ]
     },
     "execution_count": 89,
     "metadata": {},
     "output_type": "execute_result"
    }
   ],
   "source": [
    "n_completed_ever = sf_new_construction_all[\n",
    "    sf_new_construction_all['Completed Date'].notnull()\n",
    "]['Proposed Units'].sum()\n",
    "n_completed_ever"
   ]
  },
  {
   "cell_type": "code",
   "execution_count": 90,
   "id": "experimental-community",
   "metadata": {},
   "outputs": [
    {
     "data": {
      "text/plain": [
       "95144.0"
      ]
     },
     "execution_count": 90,
     "metadata": {},
     "output_type": "execute_result"
    }
   ],
   "source": [
    "n_filed_post_15 = sf_new_construction_post_2015[\n",
    "    sf_new_construction_post_2015['Filed Date'].notnull()\n",
    "]['Proposed Units'].sum()\n",
    "n_filed_post_15"
   ]
  },
  {
   "cell_type": "code",
   "execution_count": 91,
   "id": "rational-guide",
   "metadata": {},
   "outputs": [
    {
     "data": {
      "text/plain": [
       "95144.0"
      ]
     },
     "execution_count": 91,
     "metadata": {},
     "output_type": "execute_result"
    }
   ],
   "source": [
    "n_issued_post_15 = sf_new_construction_post_2015[\n",
    "    sf_new_construction_post_2015['Issued Date'].notnull()\n",
    "]['Proposed Units'].sum()\n",
    "n_issued_post_15"
   ]
  },
  {
   "cell_type": "code",
   "execution_count": 92,
   "id": "controlling-mayor",
   "metadata": {},
   "outputs": [
    {
     "data": {
      "text/plain": [
       "25660.0"
      ]
     },
     "execution_count": 92,
     "metadata": {},
     "output_type": "execute_result"
    }
   ],
   "source": [
    "n_started_post_15 = sf_new_construction_post_2015[\n",
    "    sf_new_construction_post_2015['First Construction Document Date'].notnull()\n",
    "]['Proposed Units'].sum()\n",
    "n_started_post_15"
   ]
  },
  {
   "cell_type": "code",
   "execution_count": 93,
   "id": "perfect-keeping",
   "metadata": {},
   "outputs": [
    {
     "data": {
      "text/plain": [
       "44172.0"
      ]
     },
     "execution_count": 93,
     "metadata": {},
     "output_type": "execute_result"
    }
   ],
   "source": [
    "n_completed_post_15 = sf_new_construction_post_2015[\n",
    "    sf_new_construction_post_2015['Completed Date'].notnull()\n",
    "]['Proposed Units'].sum()\n",
    "n_completed_post_15"
   ]
  },
  {
   "cell_type": "code",
   "execution_count": 94,
   "id": "expanded-viking",
   "metadata": {},
   "outputs": [
    {
     "data": {
      "text/plain": [
       "57865.0"
      ]
     },
     "execution_count": 94,
     "metadata": {},
     "output_type": "execute_result"
    }
   ],
   "source": [
    "# started before 2015, completed after 2015\n",
    "sf_new_construction_all[\n",
    "    sf_new_construction_all['Completed Date'] >= '2015-01-01'\n",
    "]['Proposed Units'].sum()"
   ]
  },
  {
   "cell_type": "code",
   "execution_count": 95,
   "id": "victorian-minister",
   "metadata": {},
   "outputs": [
    {
     "data": {
      "text/plain": [
       "0.5385746670675128"
      ]
     },
     "execution_count": 95,
     "metadata": {},
     "output_type": "execute_result"
    }
   ],
   "source": [
    "n_completed_ever / n_issued_ever"
   ]
  },
  {
   "cell_type": "code",
   "execution_count": 96,
   "id": "permanent-manor",
   "metadata": {},
   "outputs": [
    {
     "data": {
      "text/plain": [
       "13256.8"
      ]
     },
     "execution_count": 96,
     "metadata": {},
     "output_type": "execute_result"
    }
   ],
   "source": [
    "n_completed_ever / 5"
   ]
  },
  {
   "cell_type": "code",
   "execution_count": 97,
   "id": "senior-sally",
   "metadata": {},
   "outputs": [
    {
     "data": {
      "text/html": [
       "<div>\n",
       "<style scoped>\n",
       "    .dataframe tbody tr th:only-of-type {\n",
       "        vertical-align: middle;\n",
       "    }\n",
       "\n",
       "    .dataframe tbody tr th {\n",
       "        vertical-align: top;\n",
       "    }\n",
       "\n",
       "    .dataframe thead th {\n",
       "        text-align: right;\n",
       "    }\n",
       "</style>\n",
       "<table border=\"1\" class=\"dataframe\">\n",
       "  <thead>\n",
       "    <tr style=\"text-align: right;\">\n",
       "      <th></th>\n",
       "      <th>Permit Number</th>\n",
       "      <th>Permit Type</th>\n",
       "      <th>Permit Type Definition</th>\n",
       "      <th>Permit Creation Date</th>\n",
       "      <th>Block</th>\n",
       "      <th>Lot</th>\n",
       "      <th>Street Number</th>\n",
       "      <th>Street Number Suffix</th>\n",
       "      <th>Street Name</th>\n",
       "      <th>Street Suffix</th>\n",
       "      <th>...</th>\n",
       "      <th>Current Police Districts</th>\n",
       "      <th>Current Supervisor Districts</th>\n",
       "      <th>Analysis Neighborhoods</th>\n",
       "      <th>DELETE - Zip Codes</th>\n",
       "      <th>DELETE - Fire Prevention Districts</th>\n",
       "      <th>DELETE - Supervisor Districts</th>\n",
       "      <th>DELETE - Current Police Districts</th>\n",
       "      <th>DELETE - Supervisorial_Districts_Waterline_data_from_7pkg_wer3</th>\n",
       "      <th>apn</th>\n",
       "      <th>new_units</th>\n",
       "    </tr>\n",
       "  </thead>\n",
       "  <tbody>\n",
       "    <tr>\n",
       "      <th>38</th>\n",
       "      <td>201406138386</td>\n",
       "      <td>1</td>\n",
       "      <td>new construction</td>\n",
       "      <td>2014-06-13</td>\n",
       "      <td>0281</td>\n",
       "      <td>003</td>\n",
       "      <td>832</td>\n",
       "      <td>NaN</td>\n",
       "      <td>Sutter</td>\n",
       "      <td>St</td>\n",
       "      <td>...</td>\n",
       "      <td>6.0</td>\n",
       "      <td>3.0</td>\n",
       "      <td>21.0</td>\n",
       "      <td>28858.0</td>\n",
       "      <td>5.0</td>\n",
       "      <td>10.0</td>\n",
       "      <td>1.0</td>\n",
       "      <td>2.0</td>\n",
       "      <td>0281/003</td>\n",
       "      <td>20.0</td>\n",
       "    </tr>\n",
       "    <tr>\n",
       "      <th>40</th>\n",
       "      <td>201308204717</td>\n",
       "      <td>1</td>\n",
       "      <td>new construction</td>\n",
       "      <td>2013-08-20</td>\n",
       "      <td>4624</td>\n",
       "      <td>031</td>\n",
       "      <td>142</td>\n",
       "      <td>NaN</td>\n",
       "      <td>West Point</td>\n",
       "      <td>Rd</td>\n",
       "      <td>...</td>\n",
       "      <td>2.0</td>\n",
       "      <td>9.0</td>\n",
       "      <td>1.0</td>\n",
       "      <td>58.0</td>\n",
       "      <td>10.0</td>\n",
       "      <td>8.0</td>\n",
       "      <td>3.0</td>\n",
       "      <td>6.0</td>\n",
       "      <td>4624/031</td>\n",
       "      <td>50.0</td>\n",
       "    </tr>\n",
       "    <tr>\n",
       "      <th>71</th>\n",
       "      <td>201307051190</td>\n",
       "      <td>1</td>\n",
       "      <td>new construction</td>\n",
       "      <td>2013-07-05</td>\n",
       "      <td>0811</td>\n",
       "      <td>031</td>\n",
       "      <td>101</td>\n",
       "      <td>NaN</td>\n",
       "      <td>Polk</td>\n",
       "      <td>St</td>\n",
       "      <td>...</td>\n",
       "      <td>4.0</td>\n",
       "      <td>10.0</td>\n",
       "      <td>36.0</td>\n",
       "      <td>28852.0</td>\n",
       "      <td>7.0</td>\n",
       "      <td>9.0</td>\n",
       "      <td>6.0</td>\n",
       "      <td>3.0</td>\n",
       "      <td>0811/031</td>\n",
       "      <td>162.0</td>\n",
       "    </tr>\n",
       "    <tr>\n",
       "      <th>72</th>\n",
       "      <td>201404042522</td>\n",
       "      <td>1</td>\n",
       "      <td>new construction</td>\n",
       "      <td>2014-04-04</td>\n",
       "      <td>8711</td>\n",
       "      <td>031</td>\n",
       "      <td>588</td>\n",
       "      <td>NaN</td>\n",
       "      <td>Mission Bay Blvd North</td>\n",
       "      <td>Bl</td>\n",
       "      <td>...</td>\n",
       "      <td>1.0</td>\n",
       "      <td>10.0</td>\n",
       "      <td>4.0</td>\n",
       "      <td>310.0</td>\n",
       "      <td>14.0</td>\n",
       "      <td>9.0</td>\n",
       "      <td>3.0</td>\n",
       "      <td>3.0</td>\n",
       "      <td>8711/031</td>\n",
       "      <td>200.0</td>\n",
       "    </tr>\n",
       "    <tr>\n",
       "      <th>85</th>\n",
       "      <td>201301319232</td>\n",
       "      <td>1</td>\n",
       "      <td>new construction</td>\n",
       "      <td>2013-01-31</td>\n",
       "      <td>3509</td>\n",
       "      <td>043</td>\n",
       "      <td>104</td>\n",
       "      <td>NaN</td>\n",
       "      <td>09th</td>\n",
       "      <td>St</td>\n",
       "      <td>...</td>\n",
       "      <td>1.0</td>\n",
       "      <td>10.0</td>\n",
       "      <td>34.0</td>\n",
       "      <td>28853.0</td>\n",
       "      <td>8.0</td>\n",
       "      <td>9.0</td>\n",
       "      <td>2.0</td>\n",
       "      <td>3.0</td>\n",
       "      <td>3509/043</td>\n",
       "      <td>160.0</td>\n",
       "    </tr>\n",
       "    <tr>\n",
       "      <th>...</th>\n",
       "      <td>...</td>\n",
       "      <td>...</td>\n",
       "      <td>...</td>\n",
       "      <td>...</td>\n",
       "      <td>...</td>\n",
       "      <td>...</td>\n",
       "      <td>...</td>\n",
       "      <td>...</td>\n",
       "      <td>...</td>\n",
       "      <td>...</td>\n",
       "      <td>...</td>\n",
       "      <td>...</td>\n",
       "      <td>...</td>\n",
       "      <td>...</td>\n",
       "      <td>...</td>\n",
       "      <td>...</td>\n",
       "      <td>...</td>\n",
       "      <td>...</td>\n",
       "      <td>...</td>\n",
       "      <td>...</td>\n",
       "      <td>...</td>\n",
       "    </tr>\n",
       "    <tr>\n",
       "      <th>7148</th>\n",
       "      <td>201407080672</td>\n",
       "      <td>8</td>\n",
       "      <td>otc alterations permit</td>\n",
       "      <td>2014-07-08</td>\n",
       "      <td>4146</td>\n",
       "      <td>019</td>\n",
       "      <td>2830</td>\n",
       "      <td>NaN</td>\n",
       "      <td>22nd</td>\n",
       "      <td>St</td>\n",
       "      <td>...</td>\n",
       "      <td>3.0</td>\n",
       "      <td>2.0</td>\n",
       "      <td>20.0</td>\n",
       "      <td>28859.0</td>\n",
       "      <td>2.0</td>\n",
       "      <td>7.0</td>\n",
       "      <td>7.0</td>\n",
       "      <td>7.0</td>\n",
       "      <td>4146/019</td>\n",
       "      <td>1.0</td>\n",
       "    </tr>\n",
       "    <tr>\n",
       "      <th>7150</th>\n",
       "      <td>201407070539</td>\n",
       "      <td>8</td>\n",
       "      <td>otc alterations permit</td>\n",
       "      <td>2014-07-07</td>\n",
       "      <td>6349</td>\n",
       "      <td>021</td>\n",
       "      <td>717</td>\n",
       "      <td>V</td>\n",
       "      <td>Paris</td>\n",
       "      <td>St</td>\n",
       "      <td>...</td>\n",
       "      <td>9.0</td>\n",
       "      <td>1.0</td>\n",
       "      <td>7.0</td>\n",
       "      <td>28861.0</td>\n",
       "      <td>9.0</td>\n",
       "      <td>6.0</td>\n",
       "      <td>4.0</td>\n",
       "      <td>8.0</td>\n",
       "      <td>6349/021</td>\n",
       "      <td>1.0</td>\n",
       "    </tr>\n",
       "    <tr>\n",
       "      <th>7151</th>\n",
       "      <td>201407030495</td>\n",
       "      <td>8</td>\n",
       "      <td>otc alterations permit</td>\n",
       "      <td>2014-07-03</td>\n",
       "      <td>4591C</td>\n",
       "      <td>045</td>\n",
       "      <td>451</td>\n",
       "      <td>NaN</td>\n",
       "      <td>Hudson</td>\n",
       "      <td>Av</td>\n",
       "      <td>...</td>\n",
       "      <td>2.0</td>\n",
       "      <td>9.0</td>\n",
       "      <td>1.0</td>\n",
       "      <td>58.0</td>\n",
       "      <td>10.0</td>\n",
       "      <td>8.0</td>\n",
       "      <td>3.0</td>\n",
       "      <td>6.0</td>\n",
       "      <td>4591C/045</td>\n",
       "      <td>9.0</td>\n",
       "    </tr>\n",
       "    <tr>\n",
       "      <th>7152</th>\n",
       "      <td>201407030493</td>\n",
       "      <td>8</td>\n",
       "      <td>otc alterations permit</td>\n",
       "      <td>2014-07-03</td>\n",
       "      <td>4591C</td>\n",
       "      <td>068</td>\n",
       "      <td>421</td>\n",
       "      <td>NaN</td>\n",
       "      <td>Hudson</td>\n",
       "      <td>Av</td>\n",
       "      <td>...</td>\n",
       "      <td>2.0</td>\n",
       "      <td>9.0</td>\n",
       "      <td>1.0</td>\n",
       "      <td>58.0</td>\n",
       "      <td>10.0</td>\n",
       "      <td>8.0</td>\n",
       "      <td>3.0</td>\n",
       "      <td>6.0</td>\n",
       "      <td>4591C/068</td>\n",
       "      <td>9.0</td>\n",
       "    </tr>\n",
       "    <tr>\n",
       "      <th>7158</th>\n",
       "      <td>201407302556</td>\n",
       "      <td>8</td>\n",
       "      <td>otc alterations permit</td>\n",
       "      <td>2014-07-30</td>\n",
       "      <td>3833</td>\n",
       "      <td>001</td>\n",
       "      <td>1380</td>\n",
       "      <td>NaN</td>\n",
       "      <td>07th</td>\n",
       "      <td>St</td>\n",
       "      <td>...</td>\n",
       "      <td>1.0</td>\n",
       "      <td>9.0</td>\n",
       "      <td>4.0</td>\n",
       "      <td>28856.0</td>\n",
       "      <td>14.0</td>\n",
       "      <td>8.0</td>\n",
       "      <td>3.0</td>\n",
       "      <td>6.0</td>\n",
       "      <td>3833/001</td>\n",
       "      <td>388.0</td>\n",
       "    </tr>\n",
       "  </tbody>\n",
       "</table>\n",
       "<p>275 rows × 54 columns</p>\n",
       "</div>"
      ],
      "text/plain": [
       "      Permit Number  Permit Type  Permit Type Definition Permit Creation Date  \\\n",
       "38     201406138386            1        new construction           2014-06-13   \n",
       "40     201308204717            1        new construction           2013-08-20   \n",
       "71     201307051190            1        new construction           2013-07-05   \n",
       "72     201404042522            1        new construction           2014-04-04   \n",
       "85     201301319232            1        new construction           2013-01-31   \n",
       "...             ...          ...                     ...                  ...   \n",
       "7148   201407080672            8  otc alterations permit           2014-07-08   \n",
       "7150   201407070539            8  otc alterations permit           2014-07-07   \n",
       "7151   201407030495            8  otc alterations permit           2014-07-03   \n",
       "7152   201407030493            8  otc alterations permit           2014-07-03   \n",
       "7158   201407302556            8  otc alterations permit           2014-07-30   \n",
       "\n",
       "      Block  Lot  Street Number Street Number Suffix             Street Name  \\\n",
       "38     0281  003            832                  NaN                  Sutter   \n",
       "40     4624  031            142                  NaN              West Point   \n",
       "71     0811  031            101                  NaN                    Polk   \n",
       "72     8711  031            588                  NaN  Mission Bay Blvd North   \n",
       "85     3509  043            104                  NaN                    09th   \n",
       "...     ...  ...            ...                  ...                     ...   \n",
       "7148   4146  019           2830                  NaN                    22nd   \n",
       "7150   6349  021            717                    V                   Paris   \n",
       "7151  4591C  045            451                  NaN                  Hudson   \n",
       "7152  4591C  068            421                  NaN                  Hudson   \n",
       "7158   3833  001           1380                  NaN                    07th   \n",
       "\n",
       "     Street Suffix  ...  Current Police Districts  \\\n",
       "38              St  ...                       6.0   \n",
       "40              Rd  ...                       2.0   \n",
       "71              St  ...                       4.0   \n",
       "72              Bl  ...                       1.0   \n",
       "85              St  ...                       1.0   \n",
       "...            ...  ...                       ...   \n",
       "7148            St  ...                       3.0   \n",
       "7150            St  ...                       9.0   \n",
       "7151            Av  ...                       2.0   \n",
       "7152            Av  ...                       2.0   \n",
       "7158            St  ...                       1.0   \n",
       "\n",
       "     Current Supervisor Districts Analysis Neighborhoods DELETE - Zip Codes  \\\n",
       "38                            3.0                   21.0            28858.0   \n",
       "40                            9.0                    1.0               58.0   \n",
       "71                           10.0                   36.0            28852.0   \n",
       "72                           10.0                    4.0              310.0   \n",
       "85                           10.0                   34.0            28853.0   \n",
       "...                           ...                    ...                ...   \n",
       "7148                          2.0                   20.0            28859.0   \n",
       "7150                          1.0                    7.0            28861.0   \n",
       "7151                          9.0                    1.0               58.0   \n",
       "7152                          9.0                    1.0               58.0   \n",
       "7158                          9.0                    4.0            28856.0   \n",
       "\n",
       "     DELETE - Fire Prevention Districts DELETE - Supervisor Districts  \\\n",
       "38                                  5.0                          10.0   \n",
       "40                                 10.0                           8.0   \n",
       "71                                  7.0                           9.0   \n",
       "72                                 14.0                           9.0   \n",
       "85                                  8.0                           9.0   \n",
       "...                                 ...                           ...   \n",
       "7148                                2.0                           7.0   \n",
       "7150                                9.0                           6.0   \n",
       "7151                               10.0                           8.0   \n",
       "7152                               10.0                           8.0   \n",
       "7158                               14.0                           8.0   \n",
       "\n",
       "     DELETE - Current Police Districts  \\\n",
       "38                                 1.0   \n",
       "40                                 3.0   \n",
       "71                                 6.0   \n",
       "72                                 3.0   \n",
       "85                                 2.0   \n",
       "...                                ...   \n",
       "7148                               7.0   \n",
       "7150                               4.0   \n",
       "7151                               3.0   \n",
       "7152                               3.0   \n",
       "7158                               3.0   \n",
       "\n",
       "     DELETE - Supervisorial_Districts_Waterline_data_from_7pkg_wer3  \\\n",
       "38                                                  2.0               \n",
       "40                                                  6.0               \n",
       "71                                                  3.0               \n",
       "72                                                  3.0               \n",
       "85                                                  3.0               \n",
       "...                                                 ...               \n",
       "7148                                                7.0               \n",
       "7150                                                8.0               \n",
       "7151                                                6.0               \n",
       "7152                                                6.0               \n",
       "7158                                                6.0               \n",
       "\n",
       "            apn new_units  \n",
       "38     0281/003      20.0  \n",
       "40     4624/031      50.0  \n",
       "71     0811/031     162.0  \n",
       "72     8711/031     200.0  \n",
       "85     3509/043     160.0  \n",
       "...         ...       ...  \n",
       "7148   4146/019       1.0  \n",
       "7150   6349/021       1.0  \n",
       "7151  4591C/045       9.0  \n",
       "7152  4591C/068       9.0  \n",
       "7158   3833/001     388.0  \n",
       "\n",
       "[275 rows x 54 columns]"
      ]
     },
     "execution_count": 97,
     "metadata": {},
     "output_type": "execute_result"
    }
   ],
   "source": [
    "sf_new_construction_all[\n",
    "    (sf_new_construction_all['Completed Date'] >= '2015-01-01')\n",
    "    & (sf_new_construction_all['Issued Date'] < '2015-01-01')\n",
    "]"
   ]
  },
  {
   "cell_type": "markdown",
   "id": "ecological-apparel",
   "metadata": {},
   "source": [
    "# By capacity"
   ]
  },
  {
   "cell_type": "code",
   "execution_count": 98,
   "id": "modular-lancaster",
   "metadata": {},
   "outputs": [
    {
     "data": {
      "text/plain": [
       "Index(['objectid', 'apn', 'locapn', 'genplan', 'zoning', 'gacres', 'locacres',\n",
       "       'allowden', 'allowhigh', 'relcapcty', 'sitetype', 'pdaparcel',\n",
       "       'existuse', 'Shape__Are', 'Shape__Len', 'geometry'],\n",
       "      dtype='object')"
      ]
     },
     "execution_count": 98,
     "metadata": {},
     "output_type": "execute_result"
    }
   ],
   "source": [
    "sf_sites.columns"
   ]
  },
  {
   "cell_type": "code",
   "execution_count": 99,
   "id": "confirmed-viewer",
   "metadata": {},
   "outputs": [
    {
     "data": {
      "text/plain": [
       "(6158, 16)"
      ]
     },
     "execution_count": 99,
     "metadata": {},
     "output_type": "execute_result"
    }
   ],
   "source": [
    "sf_sites.shape"
   ]
  },
  {
   "cell_type": "code",
   "execution_count": 100,
   "id": "single-reliance",
   "metadata": {},
   "outputs": [
    {
     "data": {
      "text/plain": [
       "1.0     1103\n",
       "2.0      959\n",
       "0.0      904\n",
       "3.0      687\n",
       "4.0      463\n",
       "5.0      291\n",
       "6.0      227\n",
       "7.0      194\n",
       "8.0      139\n",
       "9.0      117\n",
       "10.0     102\n",
       "Name: relcapcty, dtype: int64"
      ]
     },
     "execution_count": 100,
     "metadata": {},
     "output_type": "execute_result"
    }
   ],
   "source": [
    "sf_sites['relcapcty'].value_counts()[:10]"
   ]
  },
  {
   "cell_type": "code",
   "execution_count": 101,
   "id": "difficult-criminal",
   "metadata": {},
   "outputs": [
    {
     "data": {
      "text/plain": [
       "972"
      ]
     },
     "execution_count": 101,
     "metadata": {},
     "output_type": "execute_result"
    }
   ],
   "source": [
    "(sf_sites['relcapcty'] > 10).sum()"
   ]
  },
  {
   "cell_type": "code",
   "execution_count": 102,
   "id": "respected-facility",
   "metadata": {},
   "outputs": [
    {
     "name": "stdout",
     "output_type": "stream",
     "text": [
      "1\n",
      "0.11332728921124206\n",
      "\n",
      "2\n",
      "0.08446298227320125\n",
      "\n",
      "3\n",
      "0.056768558951965066\n",
      "\n",
      "4\n",
      "0.10583153347732181\n",
      "\n",
      "5\n",
      "0.09278350515463918\n",
      "\n",
      "6\n",
      "0.08370044052863436\n",
      "\n",
      "7\n",
      "0.10824742268041238\n",
      "\n",
      "8\n",
      "0.09352517985611511\n",
      "\n",
      "9\n",
      "0.10256410256410256\n",
      "\n",
      "10\n",
      "0.0392156862745098\n",
      "\n"
     ]
    }
   ],
   "source": [
    "for n in range(1, 11):\n",
    "    print(n)\n",
    "    print(\n",
    "        sf_sites[\n",
    "            sf_sites['relcapcty'] == n\n",
    "        ]['apn'].isin(sf_new_construction_all['apn']).mean()\n",
    "    )\n",
    "    print()"
   ]
  },
  {
   "cell_type": "code",
   "execution_count": 103,
   "id": "soviet-property",
   "metadata": {},
   "outputs": [
    {
     "data": {
      "text/plain": [
       "0.11625514403292181"
      ]
     },
     "execution_count": 103,
     "metadata": {},
     "output_type": "execute_result"
    }
   ],
   "source": [
    "sf_sites[\n",
    "    sf_sites['relcapcty'] > 10\n",
    "]['apn'].isin(sf_new_construction_all['apn']).mean()"
   ]
  },
  {
   "cell_type": "markdown",
   "id": "personalized-deputy",
   "metadata": {},
   "source": [
    "# Merging the datasets"
   ]
  },
  {
   "cell_type": "code",
   "execution_count": 104,
   "id": "textile-andorra",
   "metadata": {},
   "outputs": [],
   "source": [
    "merged_df = sf_sites.merge(\n",
    "    sf_new_construction_all,\n",
    "    on='apn',\n",
    "    how='left',\n",
    "    indicator=True\n",
    ")"
   ]
  },
  {
   "cell_type": "code",
   "execution_count": 105,
   "id": "outside-planet",
   "metadata": {},
   "outputs": [],
   "source": [
    "merged_df['Lot Size Sq Ft'] = merged_df['locacres'] * 43560."
   ]
  },
  {
   "cell_type": "code",
   "execution_count": 106,
   "id": "anticipated-colon",
   "metadata": {},
   "outputs": [],
   "source": [
    "increase_df = merged_df[\n",
    "    merged_df['Proposed Units'] > merged_df['relcapcty']\n",
    "]"
   ]
  },
  {
   "cell_type": "code",
   "execution_count": 107,
   "id": "waiting-surprise",
   "metadata": {},
   "outputs": [],
   "source": [
    "pd.set_option('max_rows', 100)"
   ]
  },
  {
   "cell_type": "code",
   "execution_count": 108,
   "id": "opposite-collection",
   "metadata": {},
   "outputs": [
    {
     "data": {
      "text/html": [
       "<div>\n",
       "<style scoped>\n",
       "    .dataframe tbody tr th:only-of-type {\n",
       "        vertical-align: middle;\n",
       "    }\n",
       "\n",
       "    .dataframe tbody tr th {\n",
       "        vertical-align: top;\n",
       "    }\n",
       "\n",
       "    .dataframe thead th {\n",
       "        text-align: right;\n",
       "    }\n",
       "</style>\n",
       "<table border=\"1\" class=\"dataframe\">\n",
       "  <thead>\n",
       "    <tr style=\"text-align: right;\">\n",
       "      <th></th>\n",
       "      <th>objectid</th>\n",
       "      <th>apn</th>\n",
       "      <th>locapn</th>\n",
       "      <th>genplan</th>\n",
       "      <th>zoning</th>\n",
       "      <th>gacres</th>\n",
       "      <th>locacres</th>\n",
       "      <th>allowden</th>\n",
       "      <th>allowhigh</th>\n",
       "      <th>relcapcty</th>\n",
       "      <th>...</th>\n",
       "      <th>Current Supervisor Districts</th>\n",
       "      <th>Analysis Neighborhoods</th>\n",
       "      <th>DELETE - Zip Codes</th>\n",
       "      <th>DELETE - Fire Prevention Districts</th>\n",
       "      <th>DELETE - Supervisor Districts</th>\n",
       "      <th>DELETE - Current Police Districts</th>\n",
       "      <th>DELETE - Supervisorial_Districts_Waterline_data_from_7pkg_wer3</th>\n",
       "      <th>new_units</th>\n",
       "      <th>_merge</th>\n",
       "      <th>Lot Size Sq Ft</th>\n",
       "    </tr>\n",
       "  </thead>\n",
       "  <tbody>\n",
       "    <tr>\n",
       "      <th>15</th>\n",
       "      <td>66781</td>\n",
       "      <td>0024/020</td>\n",
       "      <td>0024/020</td>\n",
       "      <td>Northeast</td>\n",
       "      <td>C-2</td>\n",
       "      <td>0.036</td>\n",
       "      <td>0.036468</td>\n",
       "      <td>0.0</td>\n",
       "      <td>0</td>\n",
       "      <td>0.0</td>\n",
       "      <td>...</td>\n",
       "      <td>6.0</td>\n",
       "      <td>32.0</td>\n",
       "      <td>28858.0</td>\n",
       "      <td>5.0</td>\n",
       "      <td>1.0</td>\n",
       "      <td>1.0</td>\n",
       "      <td>11.0</td>\n",
       "      <td>1.0</td>\n",
       "      <td>both</td>\n",
       "      <td>1588.550996</td>\n",
       "    </tr>\n",
       "    <tr>\n",
       "      <th>783</th>\n",
       "      <td>70115</td>\n",
       "      <td>0106/002</td>\n",
       "      <td>0106/002</td>\n",
       "      <td>Northeast</td>\n",
       "      <td>C-2</td>\n",
       "      <td>0.061</td>\n",
       "      <td>0.061228</td>\n",
       "      <td>0.0</td>\n",
       "      <td>0</td>\n",
       "      <td>0.0</td>\n",
       "      <td>...</td>\n",
       "      <td>3.0</td>\n",
       "      <td>23.0</td>\n",
       "      <td>308.0</td>\n",
       "      <td>3.0</td>\n",
       "      <td>10.0</td>\n",
       "      <td>1.0</td>\n",
       "      <td>2.0</td>\n",
       "      <td>9.0</td>\n",
       "      <td>both</td>\n",
       "      <td>2667.093866</td>\n",
       "    </tr>\n",
       "    <tr>\n",
       "      <th>1597</th>\n",
       "      <td>70919</td>\n",
       "      <td>3530/048</td>\n",
       "      <td>3530/048</td>\n",
       "      <td>Mission</td>\n",
       "      <td>PDR-1-G</td>\n",
       "      <td>0.140</td>\n",
       "      <td>0.140383</td>\n",
       "      <td>0.0</td>\n",
       "      <td>0</td>\n",
       "      <td>0.0</td>\n",
       "      <td>...</td>\n",
       "      <td>2.0</td>\n",
       "      <td>20.0</td>\n",
       "      <td>28853.0</td>\n",
       "      <td>8.0</td>\n",
       "      <td>7.0</td>\n",
       "      <td>7.0</td>\n",
       "      <td>7.0</td>\n",
       "      <td>1.0</td>\n",
       "      <td>both</td>\n",
       "      <td>6115.074681</td>\n",
       "    </tr>\n",
       "    <tr>\n",
       "      <th>1760</th>\n",
       "      <td>71104</td>\n",
       "      <td>3552/012</td>\n",
       "      <td>3552/012</td>\n",
       "      <td>Mission</td>\n",
       "      <td>PDR-1-G</td>\n",
       "      <td>0.666</td>\n",
       "      <td>0.666168</td>\n",
       "      <td>0.0</td>\n",
       "      <td>0</td>\n",
       "      <td>0.0</td>\n",
       "      <td>...</td>\n",
       "      <td>2.0</td>\n",
       "      <td>20.0</td>\n",
       "      <td>28853.0</td>\n",
       "      <td>8.0</td>\n",
       "      <td>7.0</td>\n",
       "      <td>7.0</td>\n",
       "      <td>7.0</td>\n",
       "      <td>143.0</td>\n",
       "      <td>both</td>\n",
       "      <td>29018.271842</td>\n",
       "    </tr>\n",
       "    <tr>\n",
       "      <th>2540</th>\n",
       "      <td>71866</td>\n",
       "      <td>5463/001G</td>\n",
       "      <td>5463/001G</td>\n",
       "      <td>Other S Bayshore</td>\n",
       "      <td>RH-1</td>\n",
       "      <td>0.034</td>\n",
       "      <td>0.033752</td>\n",
       "      <td>0.0</td>\n",
       "      <td>0</td>\n",
       "      <td>0.0</td>\n",
       "      <td>...</td>\n",
       "      <td>9.0</td>\n",
       "      <td>1.0</td>\n",
       "      <td>58.0</td>\n",
       "      <td>10.0</td>\n",
       "      <td>8.0</td>\n",
       "      <td>3.0</td>\n",
       "      <td>6.0</td>\n",
       "      <td>1.0</td>\n",
       "      <td>both</td>\n",
       "      <td>1470.234583</td>\n",
       "    </tr>\n",
       "    <tr>\n",
       "      <th>3333</th>\n",
       "      <td>72643</td>\n",
       "      <td>1269/167</td>\n",
       "      <td>1269/167</td>\n",
       "      <td>Buena Vista</td>\n",
       "      <td>RH-2</td>\n",
       "      <td>0.033</td>\n",
       "      <td>0.032640</td>\n",
       "      <td>0.0</td>\n",
       "      <td>0</td>\n",
       "      <td>0.0</td>\n",
       "      <td>...</td>\n",
       "      <td>11.0</td>\n",
       "      <td>3.0</td>\n",
       "      <td>29492.0</td>\n",
       "      <td>15.0</td>\n",
       "      <td>11.0</td>\n",
       "      <td>8.0</td>\n",
       "      <td>10.0</td>\n",
       "      <td>1.0</td>\n",
       "      <td>both</td>\n",
       "      <td>1421.818049</td>\n",
       "    </tr>\n",
       "    <tr>\n",
       "      <th>3664</th>\n",
       "      <td>72967</td>\n",
       "      <td>2627/005</td>\n",
       "      <td>2627/005</td>\n",
       "      <td>Buena Vista</td>\n",
       "      <td>RH-2</td>\n",
       "      <td>0.033</td>\n",
       "      <td>0.033129</td>\n",
       "      <td>0.0</td>\n",
       "      <td>0</td>\n",
       "      <td>0.0</td>\n",
       "      <td>...</td>\n",
       "      <td>5.0</td>\n",
       "      <td>5.0</td>\n",
       "      <td>28862.0</td>\n",
       "      <td>15.0</td>\n",
       "      <td>5.0</td>\n",
       "      <td>8.0</td>\n",
       "      <td>1.0</td>\n",
       "      <td>2.0</td>\n",
       "      <td>both</td>\n",
       "      <td>1443.086027</td>\n",
       "    </tr>\n",
       "    <tr>\n",
       "      <th>3665</th>\n",
       "      <td>72967</td>\n",
       "      <td>2627/005</td>\n",
       "      <td>2627/005</td>\n",
       "      <td>Buena Vista</td>\n",
       "      <td>RH-2</td>\n",
       "      <td>0.033</td>\n",
       "      <td>0.033129</td>\n",
       "      <td>0.0</td>\n",
       "      <td>0</td>\n",
       "      <td>0.0</td>\n",
       "      <td>...</td>\n",
       "      <td>5.0</td>\n",
       "      <td>5.0</td>\n",
       "      <td>28862.0</td>\n",
       "      <td>15.0</td>\n",
       "      <td>5.0</td>\n",
       "      <td>8.0</td>\n",
       "      <td>1.0</td>\n",
       "      <td>2.0</td>\n",
       "      <td>both</td>\n",
       "      <td>1443.086027</td>\n",
       "    </tr>\n",
       "    <tr>\n",
       "      <th>3889</th>\n",
       "      <td>73183</td>\n",
       "      <td>5577/006</td>\n",
       "      <td>5577/006</td>\n",
       "      <td>Bernal Heights</td>\n",
       "      <td>RH-1</td>\n",
       "      <td>0.032</td>\n",
       "      <td>0.032391</td>\n",
       "      <td>0.0</td>\n",
       "      <td>0</td>\n",
       "      <td>0.0</td>\n",
       "      <td>...</td>\n",
       "      <td>2.0</td>\n",
       "      <td>2.0</td>\n",
       "      <td>28859.0</td>\n",
       "      <td>2.0</td>\n",
       "      <td>7.0</td>\n",
       "      <td>4.0</td>\n",
       "      <td>7.0</td>\n",
       "      <td>1.0</td>\n",
       "      <td>both</td>\n",
       "      <td>1410.957064</td>\n",
       "    </tr>\n",
       "    <tr>\n",
       "      <th>3890</th>\n",
       "      <td>73183</td>\n",
       "      <td>5577/006</td>\n",
       "      <td>5577/006</td>\n",
       "      <td>Bernal Heights</td>\n",
       "      <td>RH-1</td>\n",
       "      <td>0.032</td>\n",
       "      <td>0.032391</td>\n",
       "      <td>0.0</td>\n",
       "      <td>0</td>\n",
       "      <td>0.0</td>\n",
       "      <td>...</td>\n",
       "      <td>2.0</td>\n",
       "      <td>2.0</td>\n",
       "      <td>28859.0</td>\n",
       "      <td>2.0</td>\n",
       "      <td>7.0</td>\n",
       "      <td>4.0</td>\n",
       "      <td>7.0</td>\n",
       "      <td>2.0</td>\n",
       "      <td>both</td>\n",
       "      <td>1410.957064</td>\n",
       "    </tr>\n",
       "    <tr>\n",
       "      <th>4574</th>\n",
       "      <td>73988</td>\n",
       "      <td>4353/008</td>\n",
       "      <td>4353/008</td>\n",
       "      <td>BVHP Area A,B</td>\n",
       "      <td>PDR-2</td>\n",
       "      <td>0.847</td>\n",
       "      <td>0.847320</td>\n",
       "      <td>0.0</td>\n",
       "      <td>0</td>\n",
       "      <td>0.0</td>\n",
       "      <td>...</td>\n",
       "      <td>9.0</td>\n",
       "      <td>1.0</td>\n",
       "      <td>58.0</td>\n",
       "      <td>10.0</td>\n",
       "      <td>8.0</td>\n",
       "      <td>3.0</td>\n",
       "      <td>6.0</td>\n",
       "      <td>2.0</td>\n",
       "      <td>both</td>\n",
       "      <td>36909.270541</td>\n",
       "    </tr>\n",
       "    <tr>\n",
       "      <th>4843</th>\n",
       "      <td>74241</td>\n",
       "      <td>5237/013</td>\n",
       "      <td>5237/013</td>\n",
       "      <td>Other S Bayshore</td>\n",
       "      <td>PDR-2</td>\n",
       "      <td>0.115</td>\n",
       "      <td>0.115109</td>\n",
       "      <td>0.0</td>\n",
       "      <td>0</td>\n",
       "      <td>0.0</td>\n",
       "      <td>...</td>\n",
       "      <td>9.0</td>\n",
       "      <td>1.0</td>\n",
       "      <td>58.0</td>\n",
       "      <td>10.0</td>\n",
       "      <td>8.0</td>\n",
       "      <td>3.0</td>\n",
       "      <td>6.0</td>\n",
       "      <td>1.0</td>\n",
       "      <td>both</td>\n",
       "      <td>5014.136437</td>\n",
       "    </tr>\n",
       "    <tr>\n",
       "      <th>4893</th>\n",
       "      <td>74291</td>\n",
       "      <td>5260/036</td>\n",
       "      <td>5260/036</td>\n",
       "      <td>Other S Bayshore</td>\n",
       "      <td>M-1</td>\n",
       "      <td>0.054</td>\n",
       "      <td>0.054448</td>\n",
       "      <td>0.0</td>\n",
       "      <td>0</td>\n",
       "      <td>0.0</td>\n",
       "      <td>...</td>\n",
       "      <td>9.0</td>\n",
       "      <td>1.0</td>\n",
       "      <td>58.0</td>\n",
       "      <td>10.0</td>\n",
       "      <td>8.0</td>\n",
       "      <td>3.0</td>\n",
       "      <td>6.0</td>\n",
       "      <td>7.0</td>\n",
       "      <td>both</td>\n",
       "      <td>2371.757379</td>\n",
       "    </tr>\n",
       "    <tr>\n",
       "      <th>5059</th>\n",
       "      <td>74473</td>\n",
       "      <td>1704/034A</td>\n",
       "      <td>1704/034A</td>\n",
       "      <td>Outer Sunset</td>\n",
       "      <td>RH-2</td>\n",
       "      <td>0.033</td>\n",
       "      <td>0.033351</td>\n",
       "      <td>0.0</td>\n",
       "      <td>0</td>\n",
       "      <td>0.0</td>\n",
       "      <td>...</td>\n",
       "      <td>7.0</td>\n",
       "      <td>35.0</td>\n",
       "      <td>56.0</td>\n",
       "      <td>1.0</td>\n",
       "      <td>3.0</td>\n",
       "      <td>5.0</td>\n",
       "      <td>4.0</td>\n",
       "      <td>1.0</td>\n",
       "      <td>both</td>\n",
       "      <td>1452.779935</td>\n",
       "    </tr>\n",
       "    <tr>\n",
       "      <th>5554</th>\n",
       "      <td>75904</td>\n",
       "      <td>4167/011</td>\n",
       "      <td>4167/011</td>\n",
       "      <td>Showpl/Potrero</td>\n",
       "      <td>PDR-1-G</td>\n",
       "      <td>0.503</td>\n",
       "      <td>0.502838</td>\n",
       "      <td>0.0</td>\n",
       "      <td>0</td>\n",
       "      <td>0.0</td>\n",
       "      <td>...</td>\n",
       "      <td>9.0</td>\n",
       "      <td>26.0</td>\n",
       "      <td>28856.0</td>\n",
       "      <td>10.0</td>\n",
       "      <td>8.0</td>\n",
       "      <td>3.0</td>\n",
       "      <td>6.0</td>\n",
       "      <td>256.0</td>\n",
       "      <td>both</td>\n",
       "      <td>21903.611321</td>\n",
       "    </tr>\n",
       "  </tbody>\n",
       "</table>\n",
       "<p>15 rows × 71 columns</p>\n",
       "</div>"
      ],
      "text/plain": [
       "      objectid        apn     locapn           genplan   zoning  gacres  \\\n",
       "15       66781   0024/020   0024/020         Northeast      C-2   0.036   \n",
       "783      70115   0106/002   0106/002         Northeast      C-2   0.061   \n",
       "1597     70919   3530/048   3530/048           Mission  PDR-1-G   0.140   \n",
       "1760     71104   3552/012   3552/012           Mission  PDR-1-G   0.666   \n",
       "2540     71866  5463/001G  5463/001G  Other S Bayshore     RH-1   0.034   \n",
       "3333     72643   1269/167   1269/167       Buena Vista     RH-2   0.033   \n",
       "3664     72967   2627/005   2627/005       Buena Vista     RH-2   0.033   \n",
       "3665     72967   2627/005   2627/005       Buena Vista     RH-2   0.033   \n",
       "3889     73183   5577/006   5577/006    Bernal Heights     RH-1   0.032   \n",
       "3890     73183   5577/006   5577/006    Bernal Heights     RH-1   0.032   \n",
       "4574     73988   4353/008   4353/008     BVHP Area A,B    PDR-2   0.847   \n",
       "4843     74241   5237/013   5237/013  Other S Bayshore    PDR-2   0.115   \n",
       "4893     74291   5260/036   5260/036  Other S Bayshore      M-1   0.054   \n",
       "5059     74473  1704/034A  1704/034A      Outer Sunset     RH-2   0.033   \n",
       "5554     75904   4167/011   4167/011    Showpl/Potrero  PDR-1-G   0.503   \n",
       "\n",
       "      locacres  allowden  allowhigh  relcapcty  ...  \\\n",
       "15    0.036468       0.0          0        0.0  ...   \n",
       "783   0.061228       0.0          0        0.0  ...   \n",
       "1597  0.140383       0.0          0        0.0  ...   \n",
       "1760  0.666168       0.0          0        0.0  ...   \n",
       "2540  0.033752       0.0          0        0.0  ...   \n",
       "3333  0.032640       0.0          0        0.0  ...   \n",
       "3664  0.033129       0.0          0        0.0  ...   \n",
       "3665  0.033129       0.0          0        0.0  ...   \n",
       "3889  0.032391       0.0          0        0.0  ...   \n",
       "3890  0.032391       0.0          0        0.0  ...   \n",
       "4574  0.847320       0.0          0        0.0  ...   \n",
       "4843  0.115109       0.0          0        0.0  ...   \n",
       "4893  0.054448       0.0          0        0.0  ...   \n",
       "5059  0.033351       0.0          0        0.0  ...   \n",
       "5554  0.502838       0.0          0        0.0  ...   \n",
       "\n",
       "     Current Supervisor Districts Analysis Neighborhoods DELETE - Zip Codes  \\\n",
       "15                            6.0                   32.0            28858.0   \n",
       "783                           3.0                   23.0              308.0   \n",
       "1597                          2.0                   20.0            28853.0   \n",
       "1760                          2.0                   20.0            28853.0   \n",
       "2540                          9.0                    1.0               58.0   \n",
       "3333                         11.0                    3.0            29492.0   \n",
       "3664                          5.0                    5.0            28862.0   \n",
       "3665                          5.0                    5.0            28862.0   \n",
       "3889                          2.0                    2.0            28859.0   \n",
       "3890                          2.0                    2.0            28859.0   \n",
       "4574                          9.0                    1.0               58.0   \n",
       "4843                          9.0                    1.0               58.0   \n",
       "4893                          9.0                    1.0               58.0   \n",
       "5059                          7.0                   35.0               56.0   \n",
       "5554                          9.0                   26.0            28856.0   \n",
       "\n",
       "      DELETE - Fire Prevention Districts  DELETE - Supervisor Districts  \\\n",
       "15                                   5.0                            1.0   \n",
       "783                                  3.0                           10.0   \n",
       "1597                                 8.0                            7.0   \n",
       "1760                                 8.0                            7.0   \n",
       "2540                                10.0                            8.0   \n",
       "3333                                15.0                           11.0   \n",
       "3664                                15.0                            5.0   \n",
       "3665                                15.0                            5.0   \n",
       "3889                                 2.0                            7.0   \n",
       "3890                                 2.0                            7.0   \n",
       "4574                                10.0                            8.0   \n",
       "4843                                10.0                            8.0   \n",
       "4893                                10.0                            8.0   \n",
       "5059                                 1.0                            3.0   \n",
       "5554                                10.0                            8.0   \n",
       "\n",
       "     DELETE - Current Police Districts  \\\n",
       "15                                 1.0   \n",
       "783                                1.0   \n",
       "1597                               7.0   \n",
       "1760                               7.0   \n",
       "2540                               3.0   \n",
       "3333                               8.0   \n",
       "3664                               8.0   \n",
       "3665                               8.0   \n",
       "3889                               4.0   \n",
       "3890                               4.0   \n",
       "4574                               3.0   \n",
       "4843                               3.0   \n",
       "4893                               3.0   \n",
       "5059                               5.0   \n",
       "5554                               3.0   \n",
       "\n",
       "      DELETE - Supervisorial_Districts_Waterline_data_from_7pkg_wer3  \\\n",
       "15                                                 11.0                \n",
       "783                                                 2.0                \n",
       "1597                                                7.0                \n",
       "1760                                                7.0                \n",
       "2540                                                6.0                \n",
       "3333                                               10.0                \n",
       "3664                                                1.0                \n",
       "3665                                                1.0                \n",
       "3889                                                7.0                \n",
       "3890                                                7.0                \n",
       "4574                                                6.0                \n",
       "4843                                                6.0                \n",
       "4893                                                6.0                \n",
       "5059                                                4.0                \n",
       "5554                                                6.0                \n",
       "\n",
       "      new_units _merge Lot Size Sq Ft  \n",
       "15          1.0   both    1588.550996  \n",
       "783         9.0   both    2667.093866  \n",
       "1597        1.0   both    6115.074681  \n",
       "1760      143.0   both   29018.271842  \n",
       "2540        1.0   both    1470.234583  \n",
       "3333        1.0   both    1421.818049  \n",
       "3664        2.0   both    1443.086027  \n",
       "3665        2.0   both    1443.086027  \n",
       "3889        1.0   both    1410.957064  \n",
       "3890        2.0   both    1410.957064  \n",
       "4574        2.0   both   36909.270541  \n",
       "4843        1.0   both    5014.136437  \n",
       "4893        7.0   both    2371.757379  \n",
       "5059        1.0   both    1452.779935  \n",
       "5554      256.0   both   21903.611321  \n",
       "\n",
       "[15 rows x 71 columns]"
      ]
     },
     "execution_count": 108,
     "metadata": {},
     "output_type": "execute_result"
    }
   ],
   "source": [
    "increase_df[\n",
    "    increase_df['relcapcty'] == 0\n",
    "]"
   ]
  },
  {
   "cell_type": "code",
   "execution_count": 109,
   "id": "surprising-pacific",
   "metadata": {},
   "outputs": [
    {
     "data": {
      "text/plain": [
       "0.0      15\n",
       "1.0      61\n",
       "2.0      25\n",
       "3.0      30\n",
       "4.0      22\n",
       "5.0      14\n",
       "6.0      13\n",
       "7.0      17\n",
       "8.0       4\n",
       "9.0      11\n",
       "10.0      2\n",
       "11.0      7\n",
       "12.0      5\n",
       "13.0      3\n",
       "14.0      5\n",
       "15.0      3\n",
       "16.0      2\n",
       "17.0      2\n",
       "18.0      3\n",
       "19.0      2\n",
       "20.0      4\n",
       "21.0      4\n",
       "22.0      3\n",
       "23.0      4\n",
       "24.0     15\n",
       "25.0      1\n",
       "26.0      4\n",
       "27.0      4\n",
       "29.0      2\n",
       "33.0      1\n",
       "34.0      1\n",
       "35.0      1\n",
       "36.0      4\n",
       "38.0      2\n",
       "39.0      2\n",
       "40.0      1\n",
       "42.0      1\n",
       "43.0      2\n",
       "45.0      3\n",
       "46.0      2\n",
       "47.0      1\n",
       "53.0      1\n",
       "56.0      2\n",
       "57.0      2\n",
       "58.0      1\n",
       "59.0      2\n",
       "65.0      3\n",
       "66.0      1\n",
       "67.0      4\n",
       "69.0      6\n",
       "72.0      1\n",
       "73.0      2\n",
       "75.0      3\n",
       "77.0      1\n",
       "78.0      1\n",
       "83.0      3\n",
       "88.0      3\n",
       "97.0      1\n",
       "108.0     3\n",
       "118.0     1\n",
       "122.0     3\n",
       "141.0     1\n",
       "154.0     1\n",
       "Name: relcapcty, dtype: int64"
      ]
     },
     "execution_count": 109,
     "metadata": {},
     "output_type": "execute_result"
    }
   ],
   "source": [
    "increase_df['relcapcty'].value_counts().sort_index()"
   ]
  },
  {
   "cell_type": "code",
   "execution_count": null,
   "id": "above-marsh",
   "metadata": {},
   "outputs": [],
   "source": []
  }
 ],
 "metadata": {
  "kernelspec": {
   "display_name": "Python 3",
   "language": "python",
   "name": "python3"
  },
  "language_info": {
   "codemirror_mode": {
    "name": "ipython",
    "version": 3
   },
   "file_extension": ".py",
   "mimetype": "text/x-python",
   "name": "python",
   "nbconvert_exporter": "python",
   "pygments_lexer": "ipython3",
   "version": "3.8.0"
  }
 },
 "nbformat": 4,
 "nbformat_minor": 5
}
