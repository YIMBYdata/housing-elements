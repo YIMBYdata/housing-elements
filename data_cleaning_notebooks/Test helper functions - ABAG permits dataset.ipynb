{
 "cells": [
  {
   "cell_type": "markdown",
   "id": "fe2ad432",
   "metadata": {},
   "source": [
    "This notebook tests out the helper functions (in `utils.py`) that (1) parse the APR spreadsheets for 2018-2019 data, and (2) combines the ABAG permits dataset from 2013-2017 with the APR spreadsheets from 2018 to 2019 to create a dataset of all permits over the entire time period."
   ]
  },
  {
   "cell_type": "code",
   "execution_count": 1,
   "id": "427b67ff",
   "metadata": {},
   "outputs": [],
   "source": [
    "import geopandas as gpd\n",
    "import pandas as pd\n",
    "from IPython.display import Markdown\n",
    "from housing_elements import utils"
   ]
  },
  {
   "cell_type": "markdown",
   "id": "116ee82d",
   "metadata": {},
   "source": [
    "Set up logging to print to the screen:"
   ]
  },
  {
   "cell_type": "code",
   "execution_count": 2,
   "id": "e95215b0",
   "metadata": {},
   "outputs": [],
   "source": [
    "import logging\n",
    "import sys\n",
    "logging.basicConfig(stream=sys.stdout, level=logging.INFO)"
   ]
  },
  {
   "cell_type": "code",
   "execution_count": 64,
   "id": "87542e10",
   "metadata": {},
   "outputs": [
    {
     "data": {
      "text/plain": [
       "<module 'housing_elements.utils' from '/Users/Salim/Desktop/housing-elements/housing_elements/utils.py'>"
      ]
     },
     "execution_count": 64,
     "metadata": {},
     "output_type": "execute_result"
    }
   ],
   "source": [
    "from importlib import reload\n",
    "reload(utils)"
   ]
  },
  {
   "cell_type": "markdown",
   "id": "3da27f3d",
   "metadata": {},
   "source": [
    "First, let's test out the APR spreadsheet helper function (`utils.load_apr_permits`) on the cities we have to ensure they look reasonable."
   ]
  },
  {
   "cell_type": "code",
   "execution_count": null,
   "id": "05f6a3e9",
   "metadata": {},
   "outputs": [],
   "source": [
    "datasets = {}\n",
    "for city in ['Berkeley', 'Mountain View', 'Oakland',  'Palo Alto', 'SanJose']:\n",
    "    for year in ['2018', '2019']:\n",
    "        filtered_df = utils.load_apr_permits(city, year)\n",
    "\n",
    "        display(Markdown('# ' + city + ' ' + year))\n",
    "        display(filtered_df[['Current APN', 'Street Address', '# of Units Issued Building Permits', \n",
    "                             'Unit Category (SFA,SFD,2 to 4,5+,ADU,MH)']])"
   ]
  },
  {
   "cell_type": "markdown",
   "id": "cb25ab81",
   "metadata": {},
   "source": [
    "These look reasonable.\n",
    "\n",
    "Now let's test out the functions that load the ABAG permits:"
   ]
  },
  {
   "cell_type": "code",
   "execution_count": null,
   "id": "cceefe1f",
   "metadata": {},
   "outputs": [],
   "source": [
    "sj_permits_df = utils.load_all_new_building_permits('San Jose')"
   ]
  },
  {
   "cell_type": "code",
   "execution_count": null,
   "id": "e06192cb",
   "metadata": {},
   "outputs": [],
   "source": [
    "sj_permits_df.groupby('permyear')['totalunit'].sum()"
   ]
  },
  {
   "cell_type": "markdown",
   "id": "f044a61d",
   "metadata": {},
   "source": [
    "Looks good!"
   ]
  },
  {
   "cell_type": "code",
   "execution_count": null,
   "id": "f26b98c5",
   "metadata": {},
   "outputs": [],
   "source": [
    "sj_permits_df.columns"
   ]
  },
  {
   "cell_type": "code",
   "execution_count": null,
   "id": "017e082b",
   "metadata": {},
   "outputs": [],
   "source": [
    "sj_sites = utils.load_site_inventory('San Jose')"
   ]
  },
  {
   "cell_type": "code",
   "execution_count": null,
   "id": "dcdf72fa",
   "metadata": {},
   "outputs": [],
   "source": [
    "sj_permits_df.columns"
   ]
  },
  {
   "cell_type": "code",
   "execution_count": null,
   "id": "4a863a16",
   "metadata": {},
   "outputs": [],
   "source": [
    "utils.calculate_inventory_housing_over_all_housing(sj_sites, sj_permits_df)"
   ]
  },
  {
   "cell_type": "code",
   "execution_count": null,
   "id": "3f0695f8",
   "metadata": {},
   "outputs": [],
   "source": [
    "sj_sites[sj_sites.apn == '25417084']"
   ]
  },
  {
   "cell_type": "code",
   "execution_count": null,
   "id": "e9812a74",
   "metadata": {},
   "outputs": [],
   "source": [
    "# TODO: In the course of testing with the san jose dataset, i saw one APN listed three times.\n",
    "# apn == 25417084. we should find some fix during cleaning"
   ]
  },
  {
   "cell_type": "code",
   "execution_count": null,
   "id": "7aaf4a4b",
   "metadata": {},
   "outputs": [],
   "source": [
    "sj_sites.apn.isin(sj_permits_df.apn).sum()"
   ]
  },
  {
   "cell_type": "code",
   "execution_count": null,
   "id": "6aa2ca5b",
   "metadata": {},
   "outputs": [],
   "source": [
    "sj_permits_df.apn.isin(sj_sites.apn).sum()"
   ]
  },
  {
   "cell_type": "code",
   "execution_count": null,
   "id": "43e3747a",
   "metadata": {},
   "outputs": [],
   "source": [
    "# TODO: why are there multiple permits per site? are some of these not used? are there duplicates?"
   ]
  },
  {
   "cell_type": "code",
   "execution_count": null,
   "id": "ae440f06",
   "metadata": {},
   "outputs": [],
   "source": [
    "utils.calculate_mean_overproduction_on_sites(sj_sites, sj_permits_df)"
   ]
  },
  {
   "cell_type": "code",
   "execution_count": null,
   "id": "88b0b9da",
   "metadata": {},
   "outputs": [],
   "source": [
    "utils.calculate_inventory_housing_over_all_housing(sj_sites, sj_permits_df)"
   ]
  },
  {
   "cell_type": "code",
   "execution_count": null,
   "id": "f2f24958",
   "metadata": {},
   "outputs": [],
   "source": [
    "utils.calculate_total_units_permitted_over_he_capacity(sj_sites, sj_permits_df)"
   ]
  },
  {
   "cell_type": "code",
   "execution_count": null,
   "id": "dbafd3bc",
   "metadata": {},
   "outputs": [],
   "source": [
    "sj_sites.sitetype.value_counts()"
   ]
  },
  {
   "cell_type": "code",
   "execution_count": null,
   "id": "7df6e839",
   "metadata": {},
   "outputs": [],
   "source": [
    "utils.calculate_pdev_for_nonvacant_sites(sj_sites, sj_permits_df)"
   ]
  },
  {
   "cell_type": "code",
   "execution_count": null,
   "id": "dca0f431",
   "metadata": {},
   "outputs": [],
   "source": [
    "utils.calculate_pdev_for_vacant_sites(sj_sites, sj_permits_df)"
   ]
  },
  {
   "cell_type": "code",
   "execution_count": null,
   "id": "409f17c3",
   "metadata": {},
   "outputs": [],
   "source": [
    "utils.calculate_pdev_for_inventory(sj_sites, sj_permits_df)"
   ]
  },
  {
   "cell_type": "code",
   "execution_count": null,
   "id": "a2424ba2",
   "metadata": {},
   "outputs": [],
   "source": [
    "sj_sites"
   ]
  },
  {
   "cell_type": "code",
   "execution_count": 56,
   "id": "fcfecfab",
   "metadata": {},
   "outputs": [],
   "source": [
    "import numpy as np\n",
    "df = gpd.read_file(\n",
    "        \"./data/raw_data/housing_sites/xn--Bay_Area_Housing_Opportunity_Sites_Inventory__20072023_-it38a.shp\"\n",
    "    )\n"
   ]
  },
  {
   "cell_type": "code",
   "execution_count": 5,
   "id": "8ef82edc",
   "metadata": {},
   "outputs": [],
   "source": [
    "cities = df.jurisdict.unique()"
   ]
  },
  {
   "cell_type": "code",
   "execution_count": 62,
   "id": "d0ad93e7",
   "metadata": {},
   "outputs": [
    {
     "data": {
      "text/plain": [
       "<module 'housing_elements.utils' from '/Users/Salim/Desktop/housing-elements/housing_elements/utils.py'>"
      ]
     },
     "execution_count": 62,
     "metadata": {},
     "output_type": "execute_result"
    }
   ],
   "source": []
  },
  {
   "cell_type": "code",
   "execution_count": 63,
   "id": "a5bd0d09",
   "metadata": {},
   "outputs": [],
   "source": [
    "import os, sys\n",
    "\n",
    "class HiddenPrints:\n",
    "    def __enter__(self):\n",
    "        self._original_stdout = sys.stdout\n",
    "        sys.stdout = open(os.devnull, 'w')\n",
    "\n",
    "    def __exit__(self, exc_type, exc_val, exc_tb):\n",
    "        sys.stdout.close()\n",
    "        sys.stdout = self._original_stdout"
   ]
  },
  {
   "cell_type": "markdown",
   "id": "a7bff989",
   "metadata": {},
   "source": [
    "Unfortunate cases of casting values to nan:\n",
    " - San Ramon has \"up to 1.35 FAR\" as allowden for one parcel. I will cast to nan.\n",
    " - Newark has \"2500 sf/ac\" as allowden for one parcel. It will be turned to 'ac' and cast to nan.\n",
    " - Danville uses '1 du/20 ac' as allowden. I cannot do the math bc it's a waste of time. These are cast to nan.\n",
    " - El Cerrito uses nonstandardized plain english in allowden.\n",
    " - Walnut Creek mostly uses FAR instead of du/ac\n",
    " - Pittsburg has one allowden value of 'Max 96 units'. Im not going to support this one parcel.\n",
    " - Sausality does everything in terms of p units per k square feet, where p and k are variable. Im not bothering with this.\n",
    " - Fairfax has a lot of values of \"project specific - no maximum\"\n",
    " - Novato has some FAR values.\n",
    " - Portola valley has a few values of 'PD' for allowden that I cannot understand the meaning of.\n",
    " \n",
    "Other data info:\n",
    "- Orinda has no sites in the cycle in ABAG dataset.\n",
    "- Piedmont's allowden is just nonsensical\n",
    "- Woodside's allowden is also nonsensical\n",
    "\n",
    "For any quantity of interest with over 50% of a input variable as nan, we should just mark it as ignored in the results table"
   ]
  },
  {
   "cell_type": "code",
   "execution_count": null,
   "id": "e8a1d2ee",
   "metadata": {},
   "outputs": [],
   "source": [
    "la_sites.apn = la_sites.apn.str.replace('-','').astype('float')"
   ]
  },
  {
   "cell_type": "code",
   "execution_count": null,
   "id": "3e4e69f9",
   "metadata": {},
   "outputs": [],
   "source": [
    "permits.sort_values('totalunit', ascending=False).drop_duplicates('apn').shape"
   ]
  },
  {
   "cell_type": "markdown",
   "id": "47bd309d",
   "metadata": {},
   "source": [
    "permits"
   ]
  },
  {
   "cell_type": "code",
   "execution_count": null,
   "id": "aba39c37",
   "metadata": {},
   "outputs": [],
   "source": [
    "permits.shape"
   ]
  },
  {
   "cell_type": "code",
   "execution_count": 45,
   "id": "54fa05ae",
   "metadata": {},
   "outputs": [
    {
     "data": {
      "text/plain": [
       "array(['Berkeley', 'Albany', 'Alameda', 'Livermore', 'Fremont',\n",
       "       'San Ramon', 'Newark', 'Brentwood', 'Hayward',\n",
       "       'Contra Costa County', 'Emeryville', 'Alameda County',\n",
       "       'Pleasanton', 'San Leandro', 'Concord', 'Richmond', 'Martinez',\n",
       "       'Clayton', 'Pinole', 'Oakland', 'San Francisco', 'Dublin',\n",
       "       'Antioch', 'Lafayette', 'Danville', 'San Pablo', 'Napa',\n",
       "       'El Cerrito', 'Union City', 'Walnut Creek', 'Corte Madera',\n",
       "       'Moraga', 'Hercules', 'Oakley', 'Orinda', 'Marin County',\n",
       "       'Pittsburg', 'Pleasant Hill', 'American Canyon', 'Larkspur',\n",
       "       'Piedmont', 'San Rafael', 'Calistoga', 'Tiburon', 'Sausalito',\n",
       "       'Saint Helena', 'Yountville', 'Napa County', 'San Anselmo',\n",
       "       'Belvedere', 'Fairfax', 'Ross', 'Novato', 'Half Moon Bay',\n",
       "       'Millbrae', 'San Bruno', 'Mill Valley', 'Brisbane', 'Atherton',\n",
       "       'Menlo Park', 'Pacifica', 'Redwood City', 'Belmont', 'San Mateo',\n",
       "       'Colma', 'Daly City', 'San Carlos', 'Hillsborough', 'Woodside',\n",
       "       'Burlingame', 'San Mateo County', 'Foster City', 'Portola Valley',\n",
       "       'Gilroy', 'East Palo Alto', 'Los Altos', 'Los Altos Hills',\n",
       "       'South San Francisco', 'Mountain View', 'San Jose', 'Los Gatos',\n",
       "       'Milpitas', 'Palo Alto', 'Santa Clara', 'Sunnyvale', 'Morgan Hill',\n",
       "       'Campbell', 'Cupertino', 'Saratoga', 'Cloverdale', 'Benicia',\n",
       "       'Petaluma', 'Santa Rosa', 'Sebastopol', 'Rohnert Park',\n",
       "       'Vacaville', 'Suisun City', 'Cotati', 'Dixon', 'Vallejo',\n",
       "       'Sonoma County', 'Rio Vista', 'Monte Sereno', 'Healdsburg',\n",
       "       'Fairfield', 'Sonoma', 'Windsor', 'Solano County'], dtype=object)"
      ]
     },
     "execution_count": 45,
     "metadata": {},
     "output_type": "execute_result"
    }
   ],
   "source": [
    "cities"
   ]
  },
  {
   "cell_type": "code",
   "execution_count": 55,
   "id": "7a34d710",
   "metadata": {},
   "outputs": [
    {
     "name": "stdout",
     "output_type": "stream",
     "text": [
      "BERKELEY\n",
      "ALBANY\n",
      "ALAMEDA\n",
      "LIVERMORE\n",
      "FREMONT\n",
      "SAN RAMON\n",
      "ERROR FOUND\n",
      "San Ramon\n",
      "[Errno 2] No such file or directory: 'data/raw_data/APRs/SanRamon2018.xlsm'\n",
      "-------\n",
      "NEWARK\n",
      "BRENTWOOD\n",
      "HAYWARD\n",
      "CONTRA COSTA COUNTY\n",
      "ERROR FOUND\n",
      "Contra Costa County\n",
      "\n",
      "-------\n",
      "EMERYVILLE\n",
      "ALAMEDA COUNTY\n",
      "ERROR FOUND\n",
      "Alameda County\n",
      "\n",
      "-------\n",
      "PLEASANTON\n",
      "SAN LEANDRO\n",
      "CONCORD\n",
      "RICHMOND\n",
      "MARTINEZ\n",
      "ERROR FOUND\n",
      "Martinez\n",
      "[Errno 2] No such file or directory: 'data/raw_data/APRs/Martinez2018.xlsm'\n",
      "-------\n",
      "CLAYTON\n",
      "ERROR FOUND\n",
      "Clayton\n",
      "[Errno 2] No such file or directory: 'data/raw_data/APRs/Clayton2018.xlsm'\n",
      "-------\n",
      "PINOLE\n",
      "OAKLAND\n",
      "SAN FRANCISCO\n",
      "DUBLIN\n",
      "ANTIOCH\n",
      "LAFAYETTE\n",
      "DANVILLE\n",
      "SAN PABLO\n",
      "ERROR FOUND\n",
      "San Pablo\n",
      "[Errno 2] No such file or directory: 'data/raw_data/APRs/SanPablo2018.xlsm'\n",
      "-------\n",
      "NAPA\n",
      "EL CERRITO\n",
      "UNION CITY\n",
      "WALNUT CREEK\n",
      "CORTE MADERA\n",
      "ERROR FOUND\n",
      "Corte Madera\n",
      "[Errno 2] No such file or directory: 'data/raw_data/APRs/CorteMadera2018.xlsm'\n",
      "-------\n",
      "MORAGA\n",
      "ERROR FOUND\n",
      "Moraga\n",
      "[Errno 2] No such file or directory: 'data/raw_data/APRs/Moraga2018.xlsm'\n",
      "-------\n",
      "HERCULES\n",
      "OAKLEY\n",
      "ORINDA\n",
      "MARIN COUNTY\n",
      "ERROR FOUND\n",
      "Marin County\n",
      "\n",
      "-------\n",
      "PITTSBURG\n",
      "PLEASANT HILL\n",
      "ERROR FOUND\n",
      "Pleasant Hill\n",
      "[Errno 2] No such file or directory: 'data/raw_data/APRs/PleasantHill2018.xlsm'\n",
      "-------\n",
      "AMERICAN CANYON\n",
      "ERROR FOUND\n",
      "American Canyon\n",
      "[Errno 2] No such file or directory: 'data/raw_data/APRs/AmericanCanyon2018.xlsm'\n",
      "-------\n",
      "LARKSPUR\n",
      "PIEDMONT\n",
      "SAN RAFAEL\n",
      "ERROR FOUND\n",
      "San Rafael\n",
      "[Errno 2] No such file or directory: 'data/raw_data/APRs/SanRafael2018.xlsm'\n",
      "-------\n",
      "CALISTOGA\n",
      "ERROR FOUND\n",
      "Calistoga\n",
      "[Errno 2] No such file or directory: 'data/raw_data/APRs/Calistoga2018.xlsm'\n",
      "-------\n",
      "TIBURON\n",
      "SAUSALITO\n",
      "SAINT HELENA\n",
      "ERROR FOUND\n",
      "Saint Helena\n",
      "\n",
      "-------\n",
      "YOUNTVILLE\n",
      "ERROR FOUND\n",
      "Yountville\n",
      "[Errno 2] No such file or directory: 'data/raw_data/APRs/Yountville2018.xlsm'\n",
      "-------\n",
      "NAPA COUNTY\n",
      "ERROR FOUND\n",
      "Napa County\n",
      "\n",
      "-------\n",
      "SAN ANSELMO\n",
      "ERROR FOUND\n",
      "San Anselmo\n",
      "[Errno 2] No such file or directory: 'data/raw_data/APRs/SanAnselmo2018.xlsm'\n",
      "-------\n",
      "BELVEDERE\n",
      "ERROR FOUND\n",
      "Belvedere\n",
      "[Errno 2] No such file or directory: 'data/raw_data/APRs/Belvedere2018.xlsm'\n",
      "-------\n",
      "FAIRFAX\n",
      "ROSS\n",
      "ERROR FOUND\n",
      "Ross\n",
      "[Errno 2] No such file or directory: 'data/raw_data/APRs/Ross2018.xlsm'\n",
      "-------\n",
      "NOVATO\n",
      "HALF MOON BAY\n",
      "MILLBRAE\n",
      "SAN BRUNO\n",
      "MILL VALLEY\n",
      "BRISBANE\n",
      "ERROR FOUND\n",
      "Brisbane\n",
      "[Errno 2] No such file or directory: 'data/raw_data/APRs/Brisbane2018.xlsm'\n",
      "-------\n",
      "ATHERTON\n",
      "MENLO PARK\n",
      "PACIFICA\n",
      "REDWOOD CITY\n",
      "BELMONT\n",
      "SAN MATEO\n",
      "COLMA\n",
      "ERROR FOUND\n",
      "Colma\n",
      "[Errno 2] No such file or directory: 'data/raw_data/APRs/Colma2018.xlsm'\n",
      "-------\n",
      "DALY CITY\n",
      "SAN CARLOS\n",
      "HILLSBOROUGH\n",
      "ERROR FOUND\n",
      "Hillsborough\n",
      "[Errno 2] No such file or directory: 'data/raw_data/APRs/Hillsborough2019.xlsm'\n",
      "-------\n",
      "WOODSIDE\n",
      "BURLINGAME\n",
      "ERROR FOUND\n",
      "Burlingame\n",
      "[Errno 2] No such file or directory: 'data/raw_data/APRs/Burlingame2018.xlsm'\n",
      "-------\n",
      "SAN MATEO COUNTY\n",
      "ERROR FOUND\n",
      "San Mateo County\n",
      "\n",
      "-------\n",
      "FOSTER CITY\n",
      "PORTOLA VALLEY\n",
      "ERROR FOUND\n",
      "Portola Valley\n",
      "[Errno 2] No such file or directory: 'data/raw_data/APRs/PortolaValley2018.xlsm'\n",
      "-------\n",
      "GILROY\n",
      "EAST PALO ALTO\n",
      "LOS ALTOS\n",
      "ERROR FOUND\n",
      "Los Altos\n",
      "[Errno 2] No such file or directory: 'data/raw_data/APRs/LosAltos2018.xlsm'\n",
      "-------\n",
      "LOS ALTOS HILLS\n",
      "SOUTH SAN FRANCISCO\n",
      "MOUNTAIN VIEW\n",
      "SAN JOSE\n",
      "LOS GATOS\n",
      "ERROR FOUND\n",
      "Los Gatos\n",
      "[Errno 2] No such file or directory: 'data/raw_data/APRs/LosGatos2018.xlsm'\n",
      "-------\n",
      "MILPITAS\n",
      "PALO ALTO\n",
      "SANTA CLARA\n",
      "SUNNYVALE\n",
      "ERROR FOUND\n",
      "Sunnyvale\n",
      "[Errno 2] No such file or directory: 'data/raw_data/APRs/Sunnyvale2018.xlsm'\n",
      "-------\n",
      "MORGAN HILL\n",
      "CAMPBELL\n",
      "CUPERTINO\n",
      "SARATOGA\n",
      "ERROR FOUND\n",
      "Saratoga\n",
      "[Errno 2] No such file or directory: 'data/raw_data/APRs/Saratoga2018.xlsm'\n",
      "-------\n",
      "CLOVERDALE\n",
      "BENICIA\n",
      "PETALUMA\n",
      "SANTA ROSA\n",
      "SEBASTOPOL\n",
      "ROHNERT PARK\n",
      "VACAVILLE\n",
      "SUISUN CITY\n",
      "COTATI\n",
      "DIXON\n",
      "VALLEJO\n",
      "SONOMA COUNTY\n",
      "ERROR FOUND\n",
      "Sonoma County\n",
      "\n",
      "-------\n",
      "RIO VISTA\n",
      "MONTE SERENO\n",
      "HEALDSBURG\n",
      "FAIRFIELD\n",
      "SONOMA\n",
      "WINDSOR\n",
      "SOLANO COUNTY\n",
      "ERROR FOUND\n",
      "Solano County\n",
      "\n",
      "-------\n"
     ]
    }
   ],
   "source": [
    "for city in cities:\n",
    "    print(city.upper())\n",
    "    try:\n",
    "        with HiddenPrints():\n",
    "            utils.load_all_new_building_permits(city)\n",
    "    except Exception as exc:\n",
    "        print('ERROR FOUND')\n",
    "        print(city)\n",
    "        print(str(exc))\n",
    "        print('-------')"
   ]
  },
  {
   "cell_type": "code",
   "execution_count": null,
   "id": "8e191dad",
   "metadata": {},
   "outputs": [],
   "source": []
  }
 ],
 "metadata": {
  "kernelspec": {
   "display_name": "my_kernel",
   "language": "python",
   "name": "my_kernel"
  },
  "language_info": {
   "codemirror_mode": {
    "name": "ipython",
    "version": 3
   },
   "file_extension": ".py",
   "mimetype": "text/x-python",
   "name": "python",
   "nbconvert_exporter": "python",
   "pygments_lexer": "ipython3",
   "version": "3.7.7"
  }
 },
 "nbformat": 4,
 "nbformat_minor": 5
}
