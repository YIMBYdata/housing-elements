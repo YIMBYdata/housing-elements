{
 "cells": [
  {
   "cell_type": "code",
   "execution_count": 132,
   "id": "early-green",
   "metadata": {},
   "outputs": [],
   "source": [
    "import numpy as np\n",
    "import pandas as pd\n",
    "import geopandas as gpd\n",
    "from datetime import timedelta  \n"
   ]
  },
  {
   "cell_type": "markdown",
   "id": "wound-progressive",
   "metadata": {},
   "source": [
    "## Load sites data, and clean data"
   ]
  },
  {
   "cell_type": "code",
   "execution_count": 276,
   "id": "front-lithuania",
   "metadata": {},
   "outputs": [],
   "source": [
    "los_altos = pd.read_csv('../data/raw_data/los_altos/los_altos_permits.csv', sep='\\t')"
   ]
  },
  {
   "cell_type": "code",
   "execution_count": 277,
   "id": "600fec2d-c6ac-4ae5-bc1d-dbb6e9cf5851",
   "metadata": {},
   "outputs": [],
   "source": [
    "# make all column names a single lower case word\n",
    "los_altos.rename({'Issued Date': 'issued', \n",
    "                  'Applied Date': 'applied', \n",
    "                  'Finaled Date': 'final', \n",
    "                  'Site APN': 'apn', \n",
    "                  \"Site Address\": 'address',\n",
    "                  'Permit Type': 'type',\n",
    "                  'Permit Subtype': 'subtype',\n",
    "                  'Permit Number': 'id'}, axis=1, inplace=True)\n",
    "los_altos.columns = map(str.lower, los_altos.columns)"
   ]
  },
  {
   "cell_type": "code",
   "execution_count": 278,
   "id": "a01f731e-5b39-4b26-8849-29b4020e0d5d",
   "metadata": {},
   "outputs": [
    {
     "data": {
      "text/html": [
       "<div>\n",
       "<style scoped>\n",
       "    .dataframe tbody tr th:only-of-type {\n",
       "        vertical-align: middle;\n",
       "    }\n",
       "\n",
       "    .dataframe tbody tr th {\n",
       "        vertical-align: top;\n",
       "    }\n",
       "\n",
       "    .dataframe thead th {\n",
       "        text-align: right;\n",
       "    }\n",
       "</style>\n",
       "<table border=\"1\" class=\"dataframe\">\n",
       "  <thead>\n",
       "    <tr style=\"text-align: right;\">\n",
       "      <th></th>\n",
       "      <th>id</th>\n",
       "      <th>type</th>\n",
       "      <th>subtype</th>\n",
       "      <th>status</th>\n",
       "      <th>description</th>\n",
       "      <th>address</th>\n",
       "      <th>apn</th>\n",
       "      <th>applied</th>\n",
       "      <th>issued</th>\n",
       "      <th>final</th>\n",
       "    </tr>\n",
       "  </thead>\n",
       "  <tbody>\n",
       "    <tr>\n",
       "      <th>0</th>\n",
       "      <td>1995-627536</td>\n",
       "      <td>DEMOLITION</td>\n",
       "      <td>NaN</td>\n",
       "      <td>ISSUED</td>\n",
       "      <td></td>\n",
       "      <td>382 FIRST ST</td>\n",
       "      <td>16741005</td>\n",
       "      <td>3/22/1995</td>\n",
       "      <td>3/22/1995</td>\n",
       "      <td>NaN</td>\n",
       "    </tr>\n",
       "    <tr>\n",
       "      <th>1</th>\n",
       "      <td>1995-627599</td>\n",
       "      <td>DEMOLITION</td>\n",
       "      <td>NaN</td>\n",
       "      <td>ISSUED</td>\n",
       "      <td>PERMIT.</td>\n",
       "      <td>300 SPAGNOLI CT</td>\n",
       "      <td>16724033</td>\n",
       "      <td>4/4/1995</td>\n",
       "      <td>1/1/1980</td>\n",
       "      <td>NaN</td>\n",
       "    </tr>\n",
       "    <tr>\n",
       "      <th>2</th>\n",
       "      <td>1995-627667</td>\n",
       "      <td>DEMOLITION</td>\n",
       "      <td>NaN</td>\n",
       "      <td>FINALED</td>\n",
       "      <td>Int Remodel -111 &amp; 113</td>\n",
       "      <td>300 SECOND ST</td>\n",
       "      <td>16740043</td>\n",
       "      <td>4/17/1995</td>\n",
       "      <td>4/17/1995</td>\n",
       "      <td>4/24/1994</td>\n",
       "    </tr>\n",
       "    <tr>\n",
       "      <th>3</th>\n",
       "      <td>1995-627692</td>\n",
       "      <td>DEMOLITION</td>\n",
       "      <td>NaN</td>\n",
       "      <td>FINALED</td>\n",
       "      <td>SFD</td>\n",
       "      <td>170 LOS ALTOS AV</td>\n",
       "      <td>16735074</td>\n",
       "      <td>4/20/1995</td>\n",
       "      <td>9/19/1995</td>\n",
       "      <td>4/11/1996</td>\n",
       "    </tr>\n",
       "    <tr>\n",
       "      <th>4</th>\n",
       "      <td>1995-627762</td>\n",
       "      <td>DEMOLITION</td>\n",
       "      <td>NaN</td>\n",
       "      <td>FINALED</td>\n",
       "      <td>Demo</td>\n",
       "      <td>422 CHERRY AV</td>\n",
       "      <td>16727051</td>\n",
       "      <td>5/2/1995</td>\n",
       "      <td>5/2/1995</td>\n",
       "      <td>6/5/1995</td>\n",
       "    </tr>\n",
       "  </tbody>\n",
       "</table>\n",
       "</div>"
      ],
      "text/plain": [
       "            id        type subtype   status              description  \\\n",
       "0  1995-627536  DEMOLITION     NaN   ISSUED                            \n",
       "1  1995-627599  DEMOLITION     NaN   ISSUED                  PERMIT.   \n",
       "2  1995-627667  DEMOLITION     NaN  FINALED   Int Remodel -111 & 113   \n",
       "3  1995-627692  DEMOLITION     NaN  FINALED                      SFD   \n",
       "4  1995-627762  DEMOLITION     NaN  FINALED                     Demo   \n",
       "\n",
       "            address       apn    applied     issued      final  \n",
       "0      382 FIRST ST  16741005  3/22/1995  3/22/1995        NaN  \n",
       "1   300 SPAGNOLI CT  16724033   4/4/1995   1/1/1980        NaN  \n",
       "2     300 SECOND ST  16740043  4/17/1995  4/17/1995  4/24/1994  \n",
       "3  170 LOS ALTOS AV  16735074  4/20/1995  9/19/1995  4/11/1996  \n",
       "4     422 CHERRY AV  16727051   5/2/1995   5/2/1995   6/5/1995  "
      ]
     },
     "execution_count": 278,
     "metadata": {},
     "output_type": "execute_result"
    }
   ],
   "source": [
    "los_altos.head()"
   ]
  },
  {
   "cell_type": "code",
   "execution_count": 279,
   "id": "45848dd2-a749-4393-b487-b04d3f70ea1c",
   "metadata": {},
   "outputs": [
    {
     "data": {
      "text/plain": [
       "DEMOLITION      2128\n",
       "PHOTOVOLTAIC    2002\n",
       "SFD              630\n",
       "MULTI FAMILY     232\n",
       "ADU               84\n",
       "MIXED USE         17\n",
       "Name: type, dtype: int64"
      ]
     },
     "execution_count": 279,
     "metadata": {},
     "output_type": "execute_result"
    }
   ],
   "source": [
    "los_altos.type.value_counts()"
   ]
  },
  {
   "cell_type": "markdown",
   "id": "9d404a14-e551-4ac3-9476-ffed2316b133",
   "metadata": {},
   "source": [
    "Remove non-housing"
   ]
  },
  {
   "cell_type": "code",
   "execution_count": 280,
   "id": "6e57f20a-9c9c-4726-a335-8c112b82b165",
   "metadata": {},
   "outputs": [],
   "source": [
    "los_altos = los_altos.query('type != \"PHOTOVOLTAIC\"')"
   ]
  },
  {
   "cell_type": "markdown",
   "id": "9a574edf-d28d-43a1-b8bb-887a2c21efe4",
   "metadata": {},
   "source": [
    "### Correct data type"
   ]
  },
  {
   "cell_type": "code",
   "execution_count": 281,
   "id": "e1f3c615-dddc-4e36-bbc9-e5dfb85b21a5",
   "metadata": {},
   "outputs": [],
   "source": [
    "date_cols = ['applied', 'issued', 'final']\n",
    "los_altos[date_cols] = los_altos[date_cols].apply(pd.to_datetime)"
   ]
  },
  {
   "cell_type": "code",
   "execution_count": 282,
   "id": "e20de984-68fa-4899-8357-8b7b818dccce",
   "metadata": {},
   "outputs": [],
   "source": [
    "los_altos.apn = los_altos.apn.str.replace(r\"[\\-a-zA-Z|.+,;:/]\", '', regex=True)\n",
    "los_altos.apn = pd.to_numeric(los_altos.apn)"
   ]
  },
  {
   "cell_type": "code",
   "execution_count": 283,
   "id": "199538dd-1b95-46a6-88bb-8b74f1eb48ec",
   "metadata": {},
   "outputs": [],
   "source": [
    "demolitions = los_altos.query('(issued >= \"2013\" and type == \"DEMOLITION\")')"
   ]
  },
  {
   "cell_type": "code",
   "execution_count": 284,
   "id": "9a081a7b-96db-4b85-85ce-670ce9f0f138",
   "metadata": {},
   "outputs": [],
   "source": [
    "homes = los_altos.query('issued >= 2015 and type != \"DEMOLITION\"')"
   ]
  },
  {
   "cell_type": "markdown",
   "id": "afba3db8-a014-4729-8822-ae28fcaebf6b",
   "metadata": {},
   "source": [
    "### Flag rebuild"
   ]
  },
  {
   "cell_type": "code",
   "execution_count": 285,
   "id": "151bc77a-268e-49c6-8288-7b2b7a7c2025",
   "metadata": {},
   "outputs": [],
   "source": [
    "homes['demolished'] = 0"
   ]
  },
  {
   "cell_type": "code",
   "execution_count": 286,
   "id": "9a7d35ab-880c-4618-b4ed-86757e4c395c",
   "metadata": {},
   "outputs": [],
   "source": [
    "def find_rebuild(demolition, homes):\n",
    "    \"\"\"For a demolition permit, find the soonest rebuild. Print delay.\"\"\"\n",
    "    apn, address, pid, date = demolition.apn, demolition.address, demolition.id, demolition.issued\n",
    "    by_date = date + timedelta(days=365*2)\n",
    "    matches = homes.query('(apn == @apn or address == @address) and id != @pid and type != \"DEMOLITION\" and applied < @by_date').copy()\n",
    "    matches.sort_values('applied', inplace=True)\n",
    "    if len(matches.index):\n",
    "        return matches.index[0]\n",
    "    return False"
   ]
  },
  {
   "cell_type": "code",
   "execution_count": 287,
   "id": "8a1fae09-b364-4ba8-8999-9cc8daa424d0",
   "metadata": {},
   "outputs": [
    {
     "data": {
      "text/plain": [
       "(358, 11)"
      ]
     },
     "execution_count": 287,
     "metadata": {},
     "output_type": "execute_result"
    }
   ],
   "source": [
    "homes.shape"
   ]
  },
  {
   "cell_type": "code",
   "execution_count": 288,
   "id": "6254d373-4f7c-4287-9506-871967c78322",
   "metadata": {},
   "outputs": [],
   "source": [
    "for i, demolition in demolitions.iterrows():\n",
    "    idx = find_rebuild(demolition, homes)\n",
    "    if idx:\n",
    "        homes.demolished[idx] = 1"
   ]
  },
  {
   "cell_type": "code",
   "execution_count": 289,
   "id": "cd03602d-b18f-42e3-9ebf-5c5d9f0d3aff",
   "metadata": {},
   "outputs": [
    {
     "data": {
      "text/plain": [
       "0.9421487603305785"
      ]
     },
     "execution_count": 289,
     "metadata": {},
     "output_type": "execute_result"
    }
   ],
   "source": [
    "homes[homes.type == 'SFD'].demolished.sum() / homes.demolished.sum()"
   ]
  },
  {
   "cell_type": "code",
   "execution_count": 291,
   "id": "05b4b130-8f7d-404e-a71d-31fe2c0e8ed4",
   "metadata": {},
   "outputs": [],
   "source": [
    "manual = pd.read_csv('../data/raw_data/los_altos_manual.csv')"
   ]
  },
  {
   "cell_type": "code",
   "execution_count": 292,
   "id": "ecde0e9d-3d1e-4d7d-b731-496c531fc56d",
   "metadata": {},
   "outputs": [],
   "source": [
    "manual.rename({'pid': 'id'}, axis=1, inplace=True)"
   ]
  },
  {
   "cell_type": "code",
   "execution_count": 301,
   "id": "7a36c848-c52e-4c86-8fbf-b32786c1a092",
   "metadata": {},
   "outputs": [],
   "source": [
    "results = homes.merge(manual, how='left', left_on=['id', 'apn', 'address'], right_on=['id', 'apn', 'address'])"
   ]
  },
  {
   "cell_type": "code",
   "execution_count": 302,
   "id": "2ffa9ae3-1af7-4538-952e-527cf230a1ad",
   "metadata": {},
   "outputs": [
    {
     "data": {
      "text/html": [
       "<div>\n",
       "<style scoped>\n",
       "    .dataframe tbody tr th:only-of-type {\n",
       "        vertical-align: middle;\n",
       "    }\n",
       "\n",
       "    .dataframe tbody tr th {\n",
       "        vertical-align: top;\n",
       "    }\n",
       "\n",
       "    .dataframe thead th {\n",
       "        text-align: right;\n",
       "    }\n",
       "</style>\n",
       "<table border=\"1\" class=\"dataframe\">\n",
       "  <thead>\n",
       "    <tr style=\"text-align: right;\">\n",
       "      <th></th>\n",
       "      <th>id</th>\n",
       "      <th>type</th>\n",
       "      <th>subtype</th>\n",
       "      <th>status</th>\n",
       "      <th>description</th>\n",
       "      <th>address</th>\n",
       "      <th>apn</th>\n",
       "      <th>applied</th>\n",
       "      <th>issued</th>\n",
       "      <th>final</th>\n",
       "      <th>demolished</th>\n",
       "      <th>new</th>\n",
       "    </tr>\n",
       "  </thead>\n",
       "  <tbody>\n",
       "    <tr>\n",
       "      <th>0</th>\n",
       "      <td>2014-663052</td>\n",
       "      <td>SFD</td>\n",
       "      <td>NaN</td>\n",
       "      <td>FINALED</td>\n",
       "      <td>SFD</td>\n",
       "      <td>1650 MORTON AV</td>\n",
       "      <td>31818014.0</td>\n",
       "      <td>2014-07-18</td>\n",
       "      <td>2015-03-18</td>\n",
       "      <td>2017-10-27</td>\n",
       "      <td>1</td>\n",
       "      <td>NaN</td>\n",
       "    </tr>\n",
       "    <tr>\n",
       "      <th>1</th>\n",
       "      <td>2014-663372</td>\n",
       "      <td>SFD</td>\n",
       "      <td>NaN</td>\n",
       "      <td>FINALED</td>\n",
       "      <td>SFD</td>\n",
       "      <td>292 MARGARITA CT</td>\n",
       "      <td>16713051.0</td>\n",
       "      <td>2014-09-23</td>\n",
       "      <td>2015-05-19</td>\n",
       "      <td>2018-07-12</td>\n",
       "      <td>1</td>\n",
       "      <td>NaN</td>\n",
       "    </tr>\n",
       "    <tr>\n",
       "      <th>2</th>\n",
       "      <td>2014-663487</td>\n",
       "      <td>SFD</td>\n",
       "      <td>NaN</td>\n",
       "      <td>FINALED</td>\n",
       "      <td>SFD</td>\n",
       "      <td>1215 ALTAMEAD DR</td>\n",
       "      <td>19331041.0</td>\n",
       "      <td>2014-10-10</td>\n",
       "      <td>2015-02-02</td>\n",
       "      <td>2016-12-23</td>\n",
       "      <td>1</td>\n",
       "      <td>NaN</td>\n",
       "    </tr>\n",
       "    <tr>\n",
       "      <th>3</th>\n",
       "      <td>2014-663511</td>\n",
       "      <td>SFD</td>\n",
       "      <td>NaN</td>\n",
       "      <td>FINALED</td>\n",
       "      <td>New SFD</td>\n",
       "      <td>932 PARMA WY</td>\n",
       "      <td>18941065.0</td>\n",
       "      <td>2014-10-16</td>\n",
       "      <td>2015-04-27</td>\n",
       "      <td>2016-04-04</td>\n",
       "      <td>1</td>\n",
       "      <td>NaN</td>\n",
       "    </tr>\n",
       "    <tr>\n",
       "      <th>4</th>\n",
       "      <td>2014-663587</td>\n",
       "      <td>SFD</td>\n",
       "      <td>NaN</td>\n",
       "      <td>FINALED</td>\n",
       "      <td>New SFD</td>\n",
       "      <td>542 BENVENUE AV</td>\n",
       "      <td>18952062.0</td>\n",
       "      <td>2014-11-03</td>\n",
       "      <td>2015-03-16</td>\n",
       "      <td>2016-11-21</td>\n",
       "      <td>1</td>\n",
       "      <td>NaN</td>\n",
       "    </tr>\n",
       "  </tbody>\n",
       "</table>\n",
       "</div>"
      ],
      "text/plain": [
       "            id type subtype   status description           address  \\\n",
       "0  2014-663052  SFD     NaN  FINALED         SFD    1650 MORTON AV   \n",
       "1  2014-663372  SFD     NaN  FINALED         SFD  292 MARGARITA CT   \n",
       "2  2014-663487  SFD     NaN  FINALED         SFD  1215 ALTAMEAD DR   \n",
       "3  2014-663511  SFD     NaN  FINALED     New SFD      932 PARMA WY   \n",
       "4  2014-663587  SFD     NaN  FINALED     New SFD   542 BENVENUE AV   \n",
       "\n",
       "          apn    applied     issued      final  demolished  new  \n",
       "0  31818014.0 2014-07-18 2015-03-18 2017-10-27           1  NaN  \n",
       "1  16713051.0 2014-09-23 2015-05-19 2018-07-12           1  NaN  \n",
       "2  19331041.0 2014-10-10 2015-02-02 2016-12-23           1  NaN  \n",
       "3  18941065.0 2014-10-16 2015-04-27 2016-04-04           1  NaN  \n",
       "4  18952062.0 2014-11-03 2015-03-16 2016-11-21           1  NaN  "
      ]
     },
     "execution_count": 302,
     "metadata": {},
     "output_type": "execute_result"
    }
   ],
   "source": [
    "results.head()"
   ]
  },
  {
   "cell_type": "code",
   "execution_count": 303,
   "id": "24621a38-08b1-4e8f-ab59-004f764de796",
   "metadata": {},
   "outputs": [],
   "source": [
    "results['new'] = results['new'].fillna(1) "
   ]
  },
  {
   "cell_type": "code",
   "execution_count": 304,
   "id": "258da38d-a546-4a1d-bb08-ccff6f02c8b8",
   "metadata": {},
   "outputs": [
    {
     "data": {
      "text/html": [
       "<div>\n",
       "<style scoped>\n",
       "    .dataframe tbody tr th:only-of-type {\n",
       "        vertical-align: middle;\n",
       "    }\n",
       "\n",
       "    .dataframe tbody tr th {\n",
       "        vertical-align: top;\n",
       "    }\n",
       "\n",
       "    .dataframe thead th {\n",
       "        text-align: right;\n",
       "    }\n",
       "</style>\n",
       "<table border=\"1\" class=\"dataframe\">\n",
       "  <thead>\n",
       "    <tr style=\"text-align: right;\">\n",
       "      <th></th>\n",
       "      <th>id</th>\n",
       "      <th>type</th>\n",
       "      <th>subtype</th>\n",
       "      <th>status</th>\n",
       "      <th>description</th>\n",
       "      <th>address</th>\n",
       "      <th>apn</th>\n",
       "      <th>applied</th>\n",
       "      <th>issued</th>\n",
       "      <th>final</th>\n",
       "      <th>demolished</th>\n",
       "      <th>new</th>\n",
       "    </tr>\n",
       "  </thead>\n",
       "  <tbody>\n",
       "    <tr>\n",
       "      <th>0</th>\n",
       "      <td>2014-663052</td>\n",
       "      <td>SFD</td>\n",
       "      <td>NaN</td>\n",
       "      <td>FINALED</td>\n",
       "      <td>SFD</td>\n",
       "      <td>1650 MORTON AV</td>\n",
       "      <td>31818014.0</td>\n",
       "      <td>2014-07-18</td>\n",
       "      <td>2015-03-18</td>\n",
       "      <td>2017-10-27</td>\n",
       "      <td>1</td>\n",
       "      <td>1.0</td>\n",
       "    </tr>\n",
       "    <tr>\n",
       "      <th>1</th>\n",
       "      <td>2014-663372</td>\n",
       "      <td>SFD</td>\n",
       "      <td>NaN</td>\n",
       "      <td>FINALED</td>\n",
       "      <td>SFD</td>\n",
       "      <td>292 MARGARITA CT</td>\n",
       "      <td>16713051.0</td>\n",
       "      <td>2014-09-23</td>\n",
       "      <td>2015-05-19</td>\n",
       "      <td>2018-07-12</td>\n",
       "      <td>1</td>\n",
       "      <td>1.0</td>\n",
       "    </tr>\n",
       "    <tr>\n",
       "      <th>2</th>\n",
       "      <td>2014-663487</td>\n",
       "      <td>SFD</td>\n",
       "      <td>NaN</td>\n",
       "      <td>FINALED</td>\n",
       "      <td>SFD</td>\n",
       "      <td>1215 ALTAMEAD DR</td>\n",
       "      <td>19331041.0</td>\n",
       "      <td>2014-10-10</td>\n",
       "      <td>2015-02-02</td>\n",
       "      <td>2016-12-23</td>\n",
       "      <td>1</td>\n",
       "      <td>1.0</td>\n",
       "    </tr>\n",
       "    <tr>\n",
       "      <th>3</th>\n",
       "      <td>2014-663511</td>\n",
       "      <td>SFD</td>\n",
       "      <td>NaN</td>\n",
       "      <td>FINALED</td>\n",
       "      <td>New SFD</td>\n",
       "      <td>932 PARMA WY</td>\n",
       "      <td>18941065.0</td>\n",
       "      <td>2014-10-16</td>\n",
       "      <td>2015-04-27</td>\n",
       "      <td>2016-04-04</td>\n",
       "      <td>1</td>\n",
       "      <td>1.0</td>\n",
       "    </tr>\n",
       "    <tr>\n",
       "      <th>4</th>\n",
       "      <td>2014-663587</td>\n",
       "      <td>SFD</td>\n",
       "      <td>NaN</td>\n",
       "      <td>FINALED</td>\n",
       "      <td>New SFD</td>\n",
       "      <td>542 BENVENUE AV</td>\n",
       "      <td>18952062.0</td>\n",
       "      <td>2014-11-03</td>\n",
       "      <td>2015-03-16</td>\n",
       "      <td>2016-11-21</td>\n",
       "      <td>1</td>\n",
       "      <td>1.0</td>\n",
       "    </tr>\n",
       "  </tbody>\n",
       "</table>\n",
       "</div>"
      ],
      "text/plain": [
       "            id type subtype   status description           address  \\\n",
       "0  2014-663052  SFD     NaN  FINALED         SFD    1650 MORTON AV   \n",
       "1  2014-663372  SFD     NaN  FINALED         SFD  292 MARGARITA CT   \n",
       "2  2014-663487  SFD     NaN  FINALED         SFD  1215 ALTAMEAD DR   \n",
       "3  2014-663511  SFD     NaN  FINALED     New SFD      932 PARMA WY   \n",
       "4  2014-663587  SFD     NaN  FINALED     New SFD   542 BENVENUE AV   \n",
       "\n",
       "          apn    applied     issued      final  demolished  new  \n",
       "0  31818014.0 2014-07-18 2015-03-18 2017-10-27           1  1.0  \n",
       "1  16713051.0 2014-09-23 2015-05-19 2018-07-12           1  1.0  \n",
       "2  19331041.0 2014-10-10 2015-02-02 2016-12-23           1  1.0  \n",
       "3  18941065.0 2014-10-16 2015-04-27 2016-04-04           1  1.0  \n",
       "4  18952062.0 2014-11-03 2015-03-16 2016-11-21           1  1.0  "
      ]
     },
     "execution_count": 304,
     "metadata": {},
     "output_type": "execute_result"
    }
   ],
   "source": [
    "results.head()"
   ]
  },
  {
   "cell_type": "code",
   "execution_count": 305,
   "id": "8fe2036c-d8b3-4c36-a1a5-ce3b64e536de",
   "metadata": {},
   "outputs": [],
   "source": [
    "results['totalunit'] = results['new'] - results['demolished']"
   ]
  },
  {
   "cell_type": "code",
   "execution_count": 317,
   "id": "722a1277-900d-4e53-9072-21808e167082",
   "metadata": {},
   "outputs": [],
   "source": [
    "results = results.query(\"not (totalunit == 0 and type in ['SFD', 'ADU'])\")"
   ]
  },
  {
   "cell_type": "code",
   "execution_count": 325,
   "id": "daf92258-ffbc-4667-b038-94ba5a954223",
   "metadata": {},
   "outputs": [],
   "source": [
    "results['permyear'] = results.issued.dt.year"
   ]
  },
  {
   "cell_type": "code",
   "execution_count": 326,
   "id": "acceptable-sewing",
   "metadata": {},
   "outputs": [],
   "source": [
    "results.to_csv('../data/clean_data/los_altos_permits.csv', index=False)"
   ]
  },
  {
   "cell_type": "code",
   "execution_count": null,
   "id": "28c653c5-66ee-4166-9aa2-67dca6fb060f",
   "metadata": {},
   "outputs": [],
   "source": []
  }
 ],
 "metadata": {
  "kernelspec": {
   "display_name": "Python 3",
   "language": "python",
   "name": "python3"
  },
  "language_info": {
   "codemirror_mode": {
    "name": "ipython",
    "version": 3
   },
   "file_extension": ".py",
   "mimetype": "text/x-python",
   "name": "python",
   "nbconvert_exporter": "python",
   "pygments_lexer": "ipython3",
   "version": "3.8.2"
  }
 },
 "nbformat": 4,
 "nbformat_minor": 5
}
