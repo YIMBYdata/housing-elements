{
 "cells": [
  {
   "cell_type": "code",
   "execution_count": 1,
   "id": "million-prince",
   "metadata": {},
   "outputs": [],
   "source": [
    "import pandas as pd"
   ]
  },
  {
   "cell_type": "code",
   "execution_count": 127,
   "id": "appreciated-plymouth",
   "metadata": {},
   "outputs": [],
   "source": [
    "sites = pd.read_excel('data/raw_data/los_angeles/Appendix H MasterListbasic.xlsx')\n",
    "\n",
    "sites = sites.dropna(axis='rows', how='all').dropna(axis='columns', how='all')\n",
    "sites['APN'] = sites['APN'].astype(str)"
   ]
  },
  {
   "cell_type": "code",
   "execution_count": 219,
   "id": "composed-credit",
   "metadata": {},
   "outputs": [
    {
     "name": "stderr",
     "output_type": "stream",
     "text": [
      "/Users/sidharthkapur/Library/Caches/pypoetry/virtualenvs/housing-elements-H302xxA9-py3.8/lib/python3.8/site-packages/IPython/core/interactiveshell.py:3146: DtypeWarning: Columns (1) have mixed types.Specify dtype option on import or set low_memory=False.\n",
      "  has_raised = await self.run_ast_nodes(code_ast.body, cell_name,\n"
     ]
    }
   ],
   "source": [
    "# Downloaded from https://data.lacity.org/Community-Economic-development/Building-Permits-New-Housing-Units/cpkv-aajs\n",
    "permits = pd.read_csv('data/raw_data/los_angeles/Building_Permits__New_Housing_Units.csv')\n",
    "\n",
    "permits['Issue Date'] = pd.to_datetime(permits['Issue Date'])"
   ]
  },
  {
   "cell_type": "code",
   "execution_count": 220,
   "id": "textile-puppy",
   "metadata": {},
   "outputs": [],
   "source": [
    "permits_with_apn = permits[\n",
    "    permits['Assessor Book'].notnull()\n",
    "    & ~permits['Assessor Page'].str.contains('\\*').fillna(False)\n",
    "    & ~permits['Assessor Page'].str.contains('BRK').fillna(False)\n",
    "    & ~permits['Assessor Parcel'].str.contains('\\*').fillna(False)\n",
    "    & ~permits['Assessor Parcel'].str.contains('XXX').fillna(False)\n",
    "].copy()"
   ]
  },
  {
   "cell_type": "code",
   "execution_count": 221,
   "id": "aging-medium",
   "metadata": {},
   "outputs": [],
   "source": [
    "permits_with_apn['Assessor Book'] = permits_with_apn['Assessor Book'].astype(int).astype(str)\n",
    "permits_with_apn['Assessor Page'] = permits_with_apn['Assessor Page'].astype(int).astype(str)\n",
    "permits_with_apn['Assessor Parcel'] = permits_with_apn['Assessor Parcel'].astype(int).astype(str)"
   ]
  },
  {
   "cell_type": "code",
   "execution_count": 222,
   "id": "organizational-prediction",
   "metadata": {},
   "outputs": [
    {
     "data": {
      "text/plain": [
       "736"
      ]
     },
     "execution_count": 222,
     "metadata": {},
     "output_type": "execute_result"
    }
   ],
   "source": [
    "len(permits) - len(permits_with_apn)"
   ]
  },
  {
   "cell_type": "code",
   "execution_count": 223,
   "id": "critical-graham",
   "metadata": {},
   "outputs": [],
   "source": [
    "permits_with_apn['APN'] = (\n",
    "    permits_with_apn['Assessor Book'].astype(int).astype(str)\n",
    "    + permits_with_apn['Assessor Page'].astype(int).astype(str).str.zfill(3)\n",
    "    + permits_with_apn['Assessor Parcel'].astype(str).str.zfill(3)\n",
    ")"
   ]
  },
  {
   "cell_type": "code",
   "execution_count": 206,
   "id": "handy-potential",
   "metadata": {},
   "outputs": [
    {
     "data": {
      "text/plain": [
       "Bldg-New             17930\n",
       "Bldg-Alter/Repair     1284\n",
       "Bldg-Addition          887\n",
       "Fire Sprinkler           7\n",
       "Bldg-Relocation          5\n",
       "Nonbldg-New              5\n",
       "Plumbing                 4\n",
       "Grading                  2\n",
       "HVAC                     1\n",
       "Elevator                 1\n",
       "Electrical               1\n",
       "Bldg-Demolition          1\n",
       "Name: Permit Type, dtype: int64"
      ]
     },
     "execution_count": 206,
     "metadata": {},
     "output_type": "execute_result"
    }
   ],
   "source": [
    "permits_with_apn['Permit Type'].value_counts()"
   ]
  },
  {
   "cell_type": "code",
   "execution_count": 208,
   "id": "massive-anthropology",
   "metadata": {},
   "outputs": [
    {
     "data": {
      "text/plain": [
       "1 or 2 Family Dwelling    16005\n",
       "Apartment                  1695\n",
       "Commercial                  230\n",
       "Name: Permit Sub-Type, dtype: int64"
      ]
     },
     "execution_count": 208,
     "metadata": {},
     "output_type": "execute_result"
    }
   ],
   "source": [
    "permits_with_apn[\n",
    "    (permits_with_apn['Permit Type'] == 'Bldg-New')\n",
    "]['Permit Sub-Type'].value_counts()"
   ]
  },
  {
   "cell_type": "code",
   "execution_count": 225,
   "id": "unlikely-cinema",
   "metadata": {},
   "outputs": [],
   "source": [
    "new_housing_permits = permits_with_apn[\n",
    "    (permits_with_apn['Permit Type'] == 'Bldg-New')\n",
    "    & (permits_with_apn['Permit Sub-Type'].isin(['Apartment', '1 or 2 Family Dwelling']))\n",
    "]"
   ]
  },
  {
   "cell_type": "code",
   "execution_count": 226,
   "id": "taken-playback",
   "metadata": {},
   "outputs": [
    {
     "data": {
      "text/plain": [
       "(17700, 53)"
      ]
     },
     "execution_count": 226,
     "metadata": {},
     "output_type": "execute_result"
    }
   ],
   "source": [
    "new_housing_permits.shape"
   ]
  },
  {
   "cell_type": "code",
   "execution_count": 227,
   "id": "alpine-adrian",
   "metadata": {},
   "outputs": [
    {
     "data": {
      "text/plain": [
       "Timestamp('2021-03-12 00:00:00')"
      ]
     },
     "execution_count": 227,
     "metadata": {},
     "output_type": "execute_result"
    }
   ],
   "source": [
    "new_housing_permits['Issue Date'].max()"
   ]
  },
  {
   "cell_type": "markdown",
   "id": "dental-airfare",
   "metadata": {},
   "source": [
    "In small lot subdivisions and duplexes, often separate buildings in the same project have separate rows in the permits. Let's dedupe them by just keeping the last row."
   ]
  },
  {
   "cell_type": "code",
   "execution_count": 358,
   "id": "funny-representative",
   "metadata": {},
   "outputs": [],
   "source": [
    "new_housing_permits_deduped = new_housing_permits.sort_values(['APN', 'Issue Date']).drop_duplicates('APN', keep='last')"
   ]
  },
  {
   "cell_type": "markdown",
   "id": "certain-daniel",
   "metadata": {},
   "source": [
    "The fifth SCAG cycle covers Oct 2013 to Oct 2021. Let's just look at 2014 - 2020 (7 years) for simplicity. We'll multiply this number by 8/7 at the end to account for the fact that the cycle is actually 8 years long.\n",
    "\n",
    "We'll also try looking at just 2014-2019, excluding 2020, to account for COVID weirdness. That's 6 years, so multiply by 8/6 to get the 8-year average."
   ]
  },
  {
   "cell_type": "code",
   "execution_count": 359,
   "id": "tribal-reputation",
   "metadata": {},
   "outputs": [],
   "source": [
    "new_housing_permits_2014_to_2020 = new_housing_permits_deduped[\n",
    "    (new_housing_permits_deduped['Issue Date'] >= '2014-01-01')\n",
    "    & (new_housing_permits_deduped['Issue Date'] < '2021-01-01')\n",
    "]"
   ]
  },
  {
   "cell_type": "code",
   "execution_count": 360,
   "id": "metallic-chase",
   "metadata": {},
   "outputs": [],
   "source": [
    "new_housing_permits_2014_to_2019 = new_housing_permits_deduped[\n",
    "    (new_housing_permits_deduped['Issue Date'] >= '2014-01-01')\n",
    "    & (new_housing_permits_deduped['Issue Date'] < '2020-01-01')\n",
    "]"
   ]
  },
  {
   "cell_type": "code",
   "execution_count": 191,
   "id": "welcome-pasta",
   "metadata": {},
   "outputs": [],
   "source": [
    "# Had to look up some zones at https://codelibrary.amlegal.com/codes/los_angeles/latest/lapz/\n",
    "zone_mappings = {\n",
    "    'R1': 'R',\n",
    "    'R2': 'R',\n",
    "    'R3': 'R',\n",
    "    'R4': 'R',\n",
    "    'R5': 'R',\n",
    "    'RD1.5': 'R',\n",
    "    'RD2': 'R',\n",
    "    'RD3': 'R',\n",
    "    'RD5': 'R',\n",
    "    'RD6': 'R',\n",
    "    'RE1': 'R',  # residential estate\n",
    "    'RE2': 'R',  # residential estate\n",
    "    'RE4': 'R',  # residential estate\n",
    "    'RE9': 'R',  # residential estate\n",
    "    'RA-': 'R',  # residential/accessory services - mixed use\n",
    "    'RS-': 'R',  # \"Suburban Zone\" lol\n",
    "    'RW2': 'R',  # Residential Waterways\n",
    "    'RAS3': 'C',  # mixed use\n",
    "    'C1': 'C',\n",
    "    'C2': 'C',\n",
    "    'C4': 'C',\n",
    "    'C5': 'C',\n",
    "    'C5': 'C',\n",
    "    'CM': 'M',  # commercial manufacturing\n",
    "    'CR': 'C',  # not sure\n",
    "    'P-1': 'C',  # not sure\n",
    "    'WC': 'C',  # allows retail according to https://planning.lacity.org/ordinances/docs/CommercialCannabis/files/SummaryLocationRestrictions.pdf\n",
    "    'M1': 'M',\n",
    "    'PF': 'Public/Other',  # public facilities\n",
    "    'OS': 'Public/Other',  # open space\n",
    "}"
   ]
  },
  {
   "cell_type": "code",
   "execution_count": 192,
   "id": "vanilla-ebony",
   "metadata": {},
   "outputs": [],
   "source": [
    "zones = sites['Zone'].drop_duplicates()\n",
    "\n",
    "not_found_zones = []\n",
    "for zone in zones:\n",
    "    if not any(key in zone for key in zone_mappings):\n",
    "        not_found_zones.append(zone)"
   ]
  },
  {
   "cell_type": "code",
   "execution_count": 193,
   "id": "legitimate-driver",
   "metadata": {},
   "outputs": [
    {
     "name": "stdout",
     "output_type": "stream",
     "text": [
      "\n"
     ]
    }
   ],
   "source": [
    "print('\\n'.join(sorted(not_found_zones)))"
   ]
  },
  {
   "cell_type": "code",
   "execution_count": 196,
   "id": "later-dietary",
   "metadata": {},
   "outputs": [],
   "source": [
    "def get_zone_mapping(zone):\n",
    "    for zone_match_string, zone_type in zone_mappings.items():\n",
    "        if zone_match_string in zone:\n",
    "            return zone_type\n",
    "    return None\n",
    "\n",
    "sites_with_type = sites.copy()\n",
    "sites_with_type['Zone Type'] = sites_with_type['Zone'].map(get_zone_mapping)"
   ]
  },
  {
   "cell_type": "code",
   "execution_count": 198,
   "id": "polar-marsh",
   "metadata": {},
   "outputs": [
    {
     "data": {
      "text/plain": [
       "C               11003\n",
       "R                9675\n",
       "M                 631\n",
       "Public/Other       21\n",
       "Name: Zone Type, dtype: int64"
      ]
     },
     "execution_count": 198,
     "metadata": {},
     "output_type": "execute_result"
    }
   ],
   "source": [
    "sites_with_type['Zone Type'].value_counts()"
   ]
  },
  {
   "cell_type": "code",
   "execution_count": 428,
   "id": "lonely-understanding",
   "metadata": {},
   "outputs": [
    {
     "data": {
      "text/plain": [
       "0.0746379502413665"
      ]
     },
     "execution_count": 428,
     "metadata": {},
     "output_type": "execute_result"
    }
   ],
   "source": [
    "new_housing_permits_2014_to_2020['APN'].isin(\n",
    "    sites_with_type['APN']\n",
    ").mean()"
   ]
  },
  {
   "cell_type": "code",
   "execution_count": 435,
   "id": "ongoing-romania",
   "metadata": {},
   "outputs": [
    {
     "data": {
      "text/plain": [
       "21266"
      ]
     },
     "execution_count": 435,
     "metadata": {},
     "output_type": "execute_result"
    }
   ],
   "source": [
    "new_housing_permits_2014_to_2020[\n",
    "    new_housing_permits_2014_to_2020['APN'].isin(\n",
    "        sites_with_type['APN']\n",
    "    )\n",
    "]['# of Residential Dwelling Units'].sum()"
   ]
  },
  {
   "cell_type": "code",
   "execution_count": 436,
   "id": "operational-haiti",
   "metadata": {},
   "outputs": [
    {
     "data": {
      "text/plain": [
       "60534"
      ]
     },
     "execution_count": 436,
     "metadata": {},
     "output_type": "execute_result"
    }
   ],
   "source": [
    "new_housing_permits_2014_to_2020['# of Residential Dwelling Units'].sum()"
   ]
  },
  {
   "cell_type": "code",
   "execution_count": 437,
   "id": "biblical-framework",
   "metadata": {},
   "outputs": [
    {
     "data": {
      "text/plain": [
       "0.3513067036706644"
      ]
     },
     "execution_count": 437,
     "metadata": {},
     "output_type": "execute_result"
    }
   ],
   "source": [
    "21266 / 60534"
   ]
  },
  {
   "cell_type": "code",
   "execution_count": 428,
   "id": "painful-november",
   "metadata": {},
   "outputs": [
    {
     "data": {
      "text/plain": [
       "0.0746379502413665"
      ]
     },
     "execution_count": 428,
     "metadata": {},
     "output_type": "execute_result"
    }
   ],
   "source": [
    "new_housing_permits_2014_to_2020['APN'].isin(\n",
    "    sites_with_type['APN']\n",
    ").mean()"
   ]
  },
  {
   "cell_type": "markdown",
   "id": "flexible-vatican",
   "metadata": {},
   "source": [
    "## Merge the datasets"
   ]
  },
  {
   "cell_type": "markdown",
   "id": "operating-procurement",
   "metadata": {},
   "source": [
    "Let's look at through 2020:"
   ]
  },
  {
   "cell_type": "code",
   "execution_count": 361,
   "id": "extended-preview",
   "metadata": {},
   "outputs": [],
   "source": [
    "merged_through_2020 = sites_with_type.merge(\n",
    "    new_housing_permits_2014_to_2020,\n",
    "    on='APN',\n",
    "    how='left',\n",
    "    indicator=True\n",
    ")"
   ]
  },
  {
   "cell_type": "code",
   "execution_count": 362,
   "id": "premier-precipitation",
   "metadata": {},
   "outputs": [
    {
     "data": {
      "text/plain": [
       "left_only     0.962307\n",
       "both          0.037693\n",
       "right_only    0.000000\n",
       "Name: _merge, dtype: float64"
      ]
     },
     "execution_count": 362,
     "metadata": {},
     "output_type": "execute_result"
    }
   ],
   "source": [
    "merged_through_2020['_merge'].value_counts(normalize=True)"
   ]
  },
  {
   "cell_type": "code",
   "execution_count": 363,
   "id": "proof-thinking",
   "metadata": {},
   "outputs": [],
   "source": [
    "merged_through_2019 = sites_with_type.merge(\n",
    "    new_housing_permits_2014_to_2019,\n",
    "    on='APN',\n",
    "    how='left',\n",
    "    indicator=True\n",
    ")"
   ]
  },
  {
   "cell_type": "code",
   "execution_count": 364,
   "id": "simple-corporation",
   "metadata": {},
   "outputs": [
    {
     "data": {
      "text/plain": [
       "left_only     0.967135\n",
       "both          0.032865\n",
       "right_only    0.000000\n",
       "Name: _merge, dtype: float64"
      ]
     },
     "execution_count": 364,
     "metadata": {},
     "output_type": "execute_result"
    }
   ],
   "source": [
    "merged_through_2019['_merge'].value_counts(normalize=True)"
   ]
  },
  {
   "cell_type": "markdown",
   "id": "physical-television",
   "metadata": {},
   "source": [
    "## Development probabilities by zone"
   ]
  },
  {
   "cell_type": "code",
   "execution_count": 367,
   "id": "eleven-newfoundland",
   "metadata": {},
   "outputs": [],
   "source": [
    "development_probability_through_2020 = merged_through_2020.groupby('Zone Type').apply(lambda g: (g['_merge'] == 'both').mean())"
   ]
  },
  {
   "cell_type": "code",
   "execution_count": 368,
   "id": "annoying-inflation",
   "metadata": {},
   "outputs": [
    {
     "data": {
      "text/plain": [
       "Zone Type\n",
       "C               0.011179\n",
       "M               0.006339\n",
       "Public/Other    0.000000\n",
       "R               0.069974\n",
       "dtype: float64"
      ]
     },
     "execution_count": 368,
     "metadata": {},
     "output_type": "execute_result"
    }
   ],
   "source": [
    "development_probability_through_2020"
   ]
  },
  {
   "cell_type": "code",
   "execution_count": 369,
   "id": "reduced-burns",
   "metadata": {},
   "outputs": [
    {
     "data": {
      "text/plain": [
       "Zone Type\n",
       "C               0.012776\n",
       "M               0.007245\n",
       "Public/Other    0.000000\n",
       "R               0.079970\n",
       "dtype: float64"
      ]
     },
     "execution_count": 369,
     "metadata": {},
     "output_type": "execute_result"
    }
   ],
   "source": [
    "8/7 * development_probability_through_2020"
   ]
  },
  {
   "cell_type": "markdown",
   "id": "commercial-mounting",
   "metadata": {},
   "source": [
    "And now through 2019 only:"
   ]
  },
  {
   "cell_type": "code",
   "execution_count": 427,
   "id": "surgical-price",
   "metadata": {},
   "outputs": [
    {
     "data": {
      "text/plain": [
       "left_only     0.967135\n",
       "both          0.032865\n",
       "right_only    0.000000\n",
       "Name: _merge, dtype: float64"
      ]
     },
     "execution_count": 427,
     "metadata": {},
     "output_type": "execute_result"
    }
   ],
   "source": [
    "merged_through_2019['_merge'].value_counts(normalize=True)"
   ]
  },
  {
   "cell_type": "code",
   "execution_count": 438,
   "id": "standard-entrance",
   "metadata": {},
   "outputs": [
    {
     "data": {
      "text/plain": [
       "0.04382"
      ]
     },
     "execution_count": 438,
     "metadata": {},
     "output_type": "execute_result"
    }
   ],
   "source": [
    "8/6 * 0.032865"
   ]
  },
  {
   "cell_type": "code",
   "execution_count": 425,
   "id": "increasing-vintage",
   "metadata": {},
   "outputs": [],
   "source": [
    "development_probability_through_2019 = merged_through_2019.groupby('Zone Type').apply(lambda g: (g['_merge'] == 'both').mean())"
   ]
  },
  {
   "cell_type": "code",
   "execution_count": 371,
   "id": "choice-berry",
   "metadata": {},
   "outputs": [
    {
     "data": {
      "text/plain": [
       "Zone Type\n",
       "C               0.010270\n",
       "M               0.004754\n",
       "Public/Other    0.000000\n",
       "R               0.060465\n",
       "dtype: float64"
      ]
     },
     "execution_count": 371,
     "metadata": {},
     "output_type": "execute_result"
    }
   ],
   "source": [
    "development_probability_through_2019"
   ]
  },
  {
   "cell_type": "code",
   "execution_count": 372,
   "id": "timely-filename",
   "metadata": {},
   "outputs": [
    {
     "data": {
      "text/plain": [
       "Zone Type\n",
       "C               0.013693\n",
       "M               0.006339\n",
       "Public/Other    0.000000\n",
       "R               0.080620\n",
       "dtype: float64"
      ]
     },
     "execution_count": 372,
     "metadata": {},
     "output_type": "execute_result"
    }
   ],
   "source": [
    "8/6 * development_probability_through_2019"
   ]
  },
  {
   "cell_type": "markdown",
   "id": "ecological-bronze",
   "metadata": {},
   "source": [
    "Let's use the 2019 numbers, because they're more optimistic."
   ]
  },
  {
   "cell_type": "markdown",
   "id": "laughing-master",
   "metadata": {},
   "source": [
    "The residential development fraction seems pretty high! But actually it's probably lower when you exclude buildings that were just developed for single-fam with no net new units."
   ]
  },
  {
   "cell_type": "code",
   "execution_count": 417,
   "id": "alive-peninsula",
   "metadata": {},
   "outputs": [
    {
     "data": {
      "text/plain": [
       "Zone Type\n",
       "C               123\n",
       "M                 4\n",
       "Public/Other      0\n",
       "R               677\n",
       "dtype: int64"
      ]
     },
     "execution_count": 417,
     "metadata": {},
     "output_type": "execute_result"
    }
   ],
   "source": [
    "merged_through_2020.groupby('Zone Type').apply(lambda g: (g['_merge'] == 'both').sum())"
   ]
  },
  {
   "cell_type": "code",
   "execution_count": 418,
   "id": "prostate-kingston",
   "metadata": {},
   "outputs": [
    {
     "data": {
      "text/plain": [
       "Zone Type\n",
       "C               113\n",
       "M                 3\n",
       "Public/Other      0\n",
       "R               585\n",
       "dtype: int64"
      ]
     },
     "execution_count": 418,
     "metadata": {},
     "output_type": "execute_result"
    }
   ],
   "source": [
    "merged_through_2019.groupby('Zone Type').apply(lambda g: (g['_merge'] == 'both').sum())"
   ]
  },
  {
   "cell_type": "code",
   "execution_count": 421,
   "id": "elect-pennsylvania",
   "metadata": {},
   "outputs": [
    {
     "data": {
      "text/plain": [
       "Apartment                 385\n",
       "1 or 2 Family Dwelling    292\n",
       "Name: Permit Sub-Type, dtype: int64"
      ]
     },
     "execution_count": 421,
     "metadata": {},
     "output_type": "execute_result"
    }
   ],
   "source": [
    "merged_through_2020[\n",
    "    merged_through_2020['Zone Type'] == 'R'\n",
    "]['Permit Sub-Type'].value_counts()"
   ]
  },
  {
   "cell_type": "code",
   "execution_count": 422,
   "id": "logical-alert",
   "metadata": {},
   "outputs": [],
   "source": [
    "residential_zone_one_or_two_units = merged_through_2020[\n",
    "    (merged_through_2020['_merge'] == 'both')\n",
    "    & (merged_through_2020['Zone Type'] == 'R')\n",
    "    & (merged_through_2020['Permit Sub-Type'] == '1 or 2 Family Dwelling')\n",
    "]"
   ]
  },
  {
   "cell_type": "markdown",
   "id": "hundred-sharing",
   "metadata": {},
   "source": [
    "Let's see how many of these are SFDs..."
   ]
  },
  {
   "cell_type": "code",
   "execution_count": 400,
   "id": "english-shade",
   "metadata": {},
   "outputs": [
    {
     "data": {
      "text/html": [
       "<div>\n",
       "<style scoped>\n",
       "    .dataframe tbody tr th:only-of-type {\n",
       "        vertical-align: middle;\n",
       "    }\n",
       "\n",
       "    .dataframe tbody tr th {\n",
       "        vertical-align: top;\n",
       "    }\n",
       "\n",
       "    .dataframe thead th {\n",
       "        text-align: right;\n",
       "    }\n",
       "</style>\n",
       "<table border=\"1\" class=\"dataframe\">\n",
       "  <thead>\n",
       "    <tr style=\"text-align: right;\">\n",
       "      <th></th>\n",
       "      <th>Work Description</th>\n",
       "    </tr>\n",
       "  </thead>\n",
       "  <tbody>\n",
       "    <tr>\n",
       "      <th>20870</th>\n",
       "      <td>NEW 3-STORY, TYPE-VB DUPLEX  (REAR)</td>\n",
       "    </tr>\n",
       "    <tr>\n",
       "      <th>5954</th>\n",
       "      <td>A NEW THREE STORY DUPLEX WITH A CARPOT</td>\n",
       "    </tr>\n",
       "    <tr>\n",
       "      <th>2584</th>\n",
       "      <td>FOR NEW THREE STORY SFD/GAR PER VTT 72367-5L-IA  (LOT 1), Comply with</td>\n",
       "    </tr>\n",
       "    <tr>\n",
       "      <th>11807</th>\n",
       "      <td>New 2 story Duplex building #2</td>\n",
       "    </tr>\n",
       "    <tr>\n",
       "      <th>2934</th>\n",
       "      <td>NEW DUPLEX/GAR-  BLD-B, 2 OF 2</td>\n",
       "    </tr>\n",
       "    <tr>\n",
       "      <th>16733</th>\n",
       "      <td>SUPPLEMENTAL PERMIT TO REVISE WORK DESCRIPTION FROM ADDITION TO - NEW</td>\n",
       "    </tr>\n",
       "    <tr>\n",
       "      <th>11171</th>\n",
       "      <td>(N)  2  STORY  DUPLEX WITH ATTACHED 3 CAR GARAGE</td>\n",
       "    </tr>\n",
       "    <tr>\n",
       "      <th>18193</th>\n",
       "      <td>NEW 4 STORY SFD IN A SMALL LOT SUBDIVISION.  BUILDING TYPE A. SEE COM</td>\n",
       "    </tr>\n",
       "    <tr>\n",
       "      <th>20887</th>\n",
       "      <td>NEW 3-STORY DUPLEX WITH ATTACHED 2 CAR GARAGE @ FRONT LOT</td>\n",
       "    </tr>\n",
       "    <tr>\n",
       "      <th>18529</th>\n",
       "      <td>(N) 2 STORY DUPLEX/ ROOF DECK W/  BASEMENT 4-CAR GARAGE AND STORAGE RO</td>\n",
       "    </tr>\n",
       "    <tr>\n",
       "      <th>3118</th>\n",
       "      <td>(N) 3-story duplex with attached 3-car garage in the middle of the lot</td>\n",
       "    </tr>\n",
       "    <tr>\n",
       "      <th>20917</th>\n",
       "      <td>(N) 30'X 45' THREE STORY DUPLEX (FRONT).  ALL WORK PER ENGINEERING.</td>\n",
       "    </tr>\n",
       "  </tbody>\n",
       "</table>\n",
       "</div>"
      ],
      "text/plain": [
       "                                                             Work Description\n",
       "20870                                     NEW 3-STORY, TYPE-VB DUPLEX  (REAR)\n",
       "5954                                   A NEW THREE STORY DUPLEX WITH A CARPOT\n",
       "2584    FOR NEW THREE STORY SFD/GAR PER VTT 72367-5L-IA  (LOT 1), Comply with\n",
       "11807                                          New 2 story Duplex building #2\n",
       "2934                                           NEW DUPLEX/GAR-  BLD-B, 2 OF 2\n",
       "16733   SUPPLEMENTAL PERMIT TO REVISE WORK DESCRIPTION FROM ADDITION TO - NEW\n",
       "11171                        (N)  2  STORY  DUPLEX WITH ATTACHED 3 CAR GARAGE\n",
       "18193   NEW 4 STORY SFD IN A SMALL LOT SUBDIVISION.  BUILDING TYPE A. SEE COM\n",
       "20887               NEW 3-STORY DUPLEX WITH ATTACHED 2 CAR GARAGE @ FRONT LOT\n",
       "18529  (N) 2 STORY DUPLEX/ ROOF DECK W/  BASEMENT 4-CAR GARAGE AND STORAGE RO\n",
       "3118   (N) 3-story duplex with attached 3-car garage in the middle of the lot\n",
       "20917     (N) 30'X 45' THREE STORY DUPLEX (FRONT).  ALL WORK PER ENGINEERING."
      ]
     },
     "execution_count": 400,
     "metadata": {},
     "output_type": "execute_result"
    }
   ],
   "source": [
    "residential_zone_one_or_two_units[['Work Description']].sample(12)"
   ]
  },
  {
   "cell_type": "markdown",
   "id": "challenging-client",
   "metadata": {},
   "source": [
    "Some of these might be small lot subdivisions..."
   ]
  },
  {
   "cell_type": "code",
   "execution_count": 404,
   "id": "parallel-premium",
   "metadata": {},
   "outputs": [
    {
     "data": {
      "text/plain": [
       "1698      NEW SINGLE FAMILY DWELLING W/ATTACHED 2 CAR GARAGE; PART OF SMALL LOT\n",
       "2608                                   SMALL LOT SUDDIVISION. Lot 3 Plan Type C\n",
       "2617                         CONSTRUCTION OF NEW 4 UNITS SMALL LOT SFR.  3 OF 4\n",
       "2698                                       3 STORY SMALL LOT SUBDIVISION UNIT B\n",
       "2987                           5 lot small lot subdivision. Lot 3- plan type A2\n",
       "2990     NEW 4 UNIT SMALL LOT SUBDIVISION  (4 STORY TYPE VB SFD WITH ATTACHED G\n",
       "3084     New 3 story unit, part of 8 unit small lot subdivision, Unit B3.  (28.\n",
       "3129     (N) 4-story SFD with attached garage; Type VB (PLAN 3) Small lot subdi\n",
       "3453     Small lot subdivision pursuant to Tentative Tract Map # VTT-73277-SL f\n",
       "3902     NEW SFD/GARAGE - LOT 1, PLAN-1. -  1 OF 6. \" Small lot subdivision pur\n",
       "4354     CONSTRUCTION OF A  SFD   PER  4-UNIT SMALL LOT SUBDIVISION  AA-2014-26\n",
       "4367      NEW SFD/ GAR \" Small lot subdivision pursuant to Tentative Tract  Map\n",
       "6143      SMALL LOT SUBDIVISION PURSUANT TO PARCEL MAP VTT-73674-SL.  PARCEL 6:\n",
       "6207     NEW 3-STORY SFD OVER ATTACHED GARAGE IN ACCORDANCE WITH SMALL LOT SUBD\n",
       "6234     NEW THREE STORY SINGLE FAMILY DWELLING WITH ATTACHED GARAGE  SMALL LOT\n",
       "6251     Small lot subdivision pursuant to Tentative Tract Map No. VTT-72735. A\n",
       "6702     \"Small lot subdivision pursuant to Tentative Tract No./Preliminary Par\n",
       "6788     Small lot subdivision pursuant to Tentative Tract No./Preliminary Parc\n",
       "6798     \"Small lot subdivision pursuant to Tentative Tract No./Preliminary Par\n",
       "6935     \"Small lot subdivision pursuant to Tentative Tract No./Preliminary Par\n",
       "8125     SMALL LOT SUBDIVISION PERSUANT TO TENTATIVE TRACT MAP NO. VTT-72776-SL\n",
       "8858     NEW SINGLE FAMILY DWELLING WITH ATTACHED GARAGE PER SMALL LOT SUBDIVIS\n",
       "14081    SMALL LOT SUBDIVISION SFD/ GARAGE. PLAN A2 SMALL LOT SUBDIVISION PURSU\n",
       "14782    (N) SFD w/ attached garage (unit 3/4 of small lot subdivision per  PML\n",
       "18193     NEW 4 STORY SFD IN A SMALL LOT SUBDIVISION.  BUILDING TYPE A. SEE COM\n",
       "19112    five units small lot subdivision: unit on lot 1 (Irregular 19' 11\" x 4\n",
       "19372    NEW 3STORY SINGLE FAMILY DWELLING PART OF  10-UNIT SMALL LOT SUBDIVISI\n",
       "21109         CONSTRUCT 3-STORY SFD ON SMALL LOT SUBDIVISON AA-2015-704-PMLA-SL\n",
       "21120    NEW 3-STORY W/ MEZZ. ( 244 sf ) SFD/ 2-CAR GARAGE. ( SMALL LOTS SUBDIV\n",
       "Name: Work Description, dtype: object"
      ]
     },
     "execution_count": 404,
     "metadata": {},
     "output_type": "execute_result"
    }
   ],
   "source": [
    "residential_zone_one_or_two_units['Work Description'][\n",
    "    residential_zone_one_or_two_units['Work Description'].str.lower().str.contains('small lot')\n",
    "]"
   ]
  },
  {
   "cell_type": "code",
   "execution_count": 405,
   "id": "acting-ballot",
   "metadata": {},
   "outputs": [
    {
     "data": {
      "text/plain": [
       "(29,)"
      ]
     },
     "execution_count": 405,
     "metadata": {},
     "output_type": "execute_result"
    }
   ],
   "source": [
    "residential_zone_one_or_two_units['Work Description'][\n",
    "    residential_zone_one_or_two_units['Work Description'].str.lower().str.contains('small lot')\n",
    "].shape"
   ]
  },
  {
   "cell_type": "markdown",
   "id": "dimensional-rwanda",
   "metadata": {},
   "source": [
    "Okay, only 29 of them. Those should count as new multifamily. Let's see how many are non-small lot subdivision SFDs..."
   ]
  },
  {
   "cell_type": "code",
   "execution_count": 416,
   "id": "greek-buyer",
   "metadata": {},
   "outputs": [
    {
     "data": {
      "text/plain": [
       "(292, 63)"
      ]
     },
     "execution_count": 416,
     "metadata": {},
     "output_type": "execute_result"
    }
   ],
   "source": [
    "residential_zone_one_or_two_units.shape"
   ]
  },
  {
   "cell_type": "code",
   "execution_count": 413,
   "id": "worst-royal",
   "metadata": {},
   "outputs": [],
   "source": [
    "sfhs = residential_zone_one_or_two_units[\n",
    "    ~residential_zone_one_or_two_units['Work Description'].str.lower().str.contains('small lot')\n",
    "    & ~residential_zone_one_or_two_units['Work Description'].str.lower().str.contains('duplex')\n",
    "]"
   ]
  },
  {
   "cell_type": "code",
   "execution_count": 414,
   "id": "opposed-auction",
   "metadata": {},
   "outputs": [
    {
     "data": {
      "text/plain": [
       "16550     NEW  3 STORY TWO FAMILY DWELLING  WITH ATTACHED 2- CAR GARAGE AND ROO\n",
       "7176     NEW 2-STORY  55' 2\" X 33' IRREGULAR-SHAPED SINGLE FAMILY DWELLING WITH\n",
       "4420                             NEW 2 STORY SFD W/BASEMENT AND ATTACHED GARAGE\n",
       "7247                                             NEW SFD W/ATT GARAGE - PLAN 2A\n",
       "13232    SUPPLEMENTAL TO PERMIT 19010-70000-04313 TO REVISE BUILDING HEIGHT FRO\n",
       "2312     New 103'-1''x 109'-8'' 2-story single family dwelling with attached ga\n",
       "14908    Lot 4: plan-A2 to construct a new 1708 sf , three story, 45'0\" tall, s\n",
       "5576     lot 13, 3-story s.f.d. with attached 2-car garage as part of a 14-unit\n",
       "2584      FOR NEW THREE STORY SFD/GAR PER VTT 72367-5L-IA  (LOT 1), Comply with\n",
       "21133    NEW 19'9\"  X 40'0\"  FOUR STORY DWELLING WITH AN ATTACHED GARAGE (LOT D\n",
       "749                   NEW TWO STORY SINGLE FAMILY DWELLING W/ATT.  4 CAR GARAGE\n",
       "17337    (VTT 72661-SL) THREE STORY SFD W/ ATT GARAGE & OPEN ROOF DECK (PLAN B)\n",
       "19135    Proposed three story single family dwelling with a mezzanine and 2 car\n",
       "731              PROPOSED NEW 2-STORY SFD W/ ATT GARAGE. TV = $800,000 (1 OF 2)\n",
       "8022                       NEW 3 STORY SFD WITH ATTACHED GARAGE AND ROOF DECK .\n",
       "11692     (N) SINGLE FAMILY HOME OVER (N) 6-CAR GARAGE WITH LAUNDRY AND STORAGE\n",
       "4323     NEW 3-STORY TWO FAMILY DWELLING \"DUPLIX\" <SPRINKLERS REQ'D THROUGHOUT>\n",
       "7905     NEW 21'x35' TWO-STORY SINGLE FAMILY DWELLING W/ ATTACHED TWO-CAR GARAG\n",
       "16719                                       New sfd w/ open deck, 30\", infront.\n",
       "13031    This is a supplemental permit to application number 18010 10000 03280,\n",
       "Name: Work Description, dtype: object"
      ]
     },
     "execution_count": 414,
     "metadata": {},
     "output_type": "execute_result"
    }
   ],
   "source": [
    "sfhs['Work Description'].sample(20)"
   ]
  },
  {
   "cell_type": "code",
   "execution_count": 415,
   "id": "governing-execution",
   "metadata": {},
   "outputs": [
    {
     "data": {
      "text/plain": [
       "(85, 63)"
      ]
     },
     "execution_count": 415,
     "metadata": {},
     "output_type": "execute_result"
    }
   ],
   "source": [
    "sfhs.shape"
   ]
  },
  {
   "cell_type": "markdown",
   "id": "subjective-combining",
   "metadata": {},
   "source": [
    "So probably 85 out of 677, or roughly 12.5% of the residential-zone development only produced a non-SLS single family house, and therefore likely added no net units.\n",
    "\n",
    "It's possible that some of the duplexes are also no net units, but it's not easy to figure that out because the \"Current Use\" data seems so low-quality."
   ]
  },
  {
   "cell_type": "markdown",
   "id": "painted-approval",
   "metadata": {},
   "source": [
    "## Development probabilities by current use"
   ]
  },
  {
   "cell_type": "code",
   "execution_count": 269,
   "id": "promotional-evidence",
   "metadata": {},
   "outputs": [],
   "source": [
    "pd.set_option('max_rows', 300)"
   ]
  },
  {
   "cell_type": "code",
   "execution_count": null,
   "id": "atmospheric-nomination",
   "metadata": {},
   "outputs": [],
   "source": [
    "current_use_types = {\n",
    "    'Commercial': 'Commercial',\n",
    "    'Store': 'Commercial',\n",
    "    'VACANT LAND': 'Vacant',\n",
    "    'Double, duplex, or two units': 'Residential',\n",
    "    \n",
    "}"
   ]
  },
  {
   "cell_type": "code",
   "execution_count": 277,
   "id": "level-northeast",
   "metadata": {},
   "outputs": [
    {
     "data": {
      "text/html": [
       "<div>\n",
       "<style scoped>\n",
       "    .dataframe tbody tr th:only-of-type {\n",
       "        vertical-align: middle;\n",
       "    }\n",
       "\n",
       "    .dataframe tbody tr th {\n",
       "        vertical-align: top;\n",
       "    }\n",
       "\n",
       "    .dataframe thead th {\n",
       "        text-align: right;\n",
       "    }\n",
       "</style>\n",
       "<table border=\"1\" class=\"dataframe\">\n",
       "  <thead>\n",
       "    <tr style=\"text-align: right;\">\n",
       "      <th></th>\n",
       "      <th>APN</th>\n",
       "      <th>Year Built</th>\n",
       "      <th>Current Use</th>\n",
       "      <th>Zone</th>\n",
       "      <th>30 du/ac (Y/N)</th>\n",
       "      <th>Net Units</th>\n",
       "      <th>Acres</th>\n",
       "      <th>CPA</th>\n",
       "      <th>General Plan Land Use Designation</th>\n",
       "      <th>Zone Type</th>\n",
       "    </tr>\n",
       "  </thead>\n",
       "  <tbody>\n",
       "    <tr>\n",
       "      <th>12</th>\n",
       "      <td>2535014026</td>\n",
       "      <td>1940.0</td>\n",
       "      <td>Commercial</td>\n",
       "      <td>RD1.5-1-O</td>\n",
       "      <td>No</td>\n",
       "      <td>6.0</td>\n",
       "      <td>0.244444</td>\n",
       "      <td>Arleta - Pacoima</td>\n",
       "      <td>Low Medium II Residential</td>\n",
       "      <td>R</td>\n",
       "    </tr>\n",
       "    <tr>\n",
       "      <th>45</th>\n",
       "      <td>2620025009</td>\n",
       "      <td>1923.0</td>\n",
       "      <td>Commercial</td>\n",
       "      <td>R1-1-O</td>\n",
       "      <td>No</td>\n",
       "      <td>5.0</td>\n",
       "      <td>0.700161</td>\n",
       "      <td>Arleta - Pacoima</td>\n",
       "      <td>Low Residential</td>\n",
       "      <td>R</td>\n",
       "    </tr>\n",
       "    <tr>\n",
       "      <th>46</th>\n",
       "      <td>2620025026</td>\n",
       "      <td>1925.0</td>\n",
       "      <td>Commercial</td>\n",
       "      <td>R1-1-O</td>\n",
       "      <td>No</td>\n",
       "      <td>5.0</td>\n",
       "      <td>0.751561</td>\n",
       "      <td>Arleta - Pacoima</td>\n",
       "      <td>Low Residential</td>\n",
       "      <td>R</td>\n",
       "    </tr>\n",
       "    <tr>\n",
       "      <th>48</th>\n",
       "      <td>2621010002</td>\n",
       "      <td>1947.0</td>\n",
       "      <td>Commercial</td>\n",
       "      <td>(T)R1-1</td>\n",
       "      <td>No</td>\n",
       "      <td>6.0</td>\n",
       "      <td>0.828719</td>\n",
       "      <td>Arleta - Pacoima</td>\n",
       "      <td>Low Residential</td>\n",
       "      <td>R</td>\n",
       "    </tr>\n",
       "    <tr>\n",
       "      <th>51</th>\n",
       "      <td>2622004020</td>\n",
       "      <td>1946.0</td>\n",
       "      <td>Commercial</td>\n",
       "      <td>(T)RD2-1</td>\n",
       "      <td>No</td>\n",
       "      <td>6.0</td>\n",
       "      <td>0.337351</td>\n",
       "      <td>Arleta - Pacoima</td>\n",
       "      <td>Low Medium II Residential</td>\n",
       "      <td>R</td>\n",
       "    </tr>\n",
       "    <tr>\n",
       "      <th>...</th>\n",
       "      <td>...</td>\n",
       "      <td>...</td>\n",
       "      <td>...</td>\n",
       "      <td>...</td>\n",
       "      <td>...</td>\n",
       "      <td>...</td>\n",
       "      <td>...</td>\n",
       "      <td>...</td>\n",
       "      <td>...</td>\n",
       "      <td>...</td>\n",
       "    </tr>\n",
       "    <tr>\n",
       "      <th>21322</th>\n",
       "      <td>5539028002</td>\n",
       "      <td>1904.0</td>\n",
       "      <td>Commercial</td>\n",
       "      <td>R3-1</td>\n",
       "      <td>YES</td>\n",
       "      <td>8.0</td>\n",
       "      <td>0.172153</td>\n",
       "      <td>Wilshire</td>\n",
       "      <td>Medium Residential</td>\n",
       "      <td>R</td>\n",
       "    </tr>\n",
       "    <tr>\n",
       "      <th>21323</th>\n",
       "      <td>5539028003</td>\n",
       "      <td>0.0</td>\n",
       "      <td>Commercial</td>\n",
       "      <td>R3-1</td>\n",
       "      <td>YES</td>\n",
       "      <td>8.0</td>\n",
       "      <td>0.172153</td>\n",
       "      <td>Wilshire</td>\n",
       "      <td>Medium Residential</td>\n",
       "      <td>R</td>\n",
       "    </tr>\n",
       "    <tr>\n",
       "      <th>21324</th>\n",
       "      <td>5539028004</td>\n",
       "      <td>1910.0</td>\n",
       "      <td>Commercial</td>\n",
       "      <td>R3-1</td>\n",
       "      <td>YES</td>\n",
       "      <td>8.0</td>\n",
       "      <td>0.172176</td>\n",
       "      <td>Wilshire</td>\n",
       "      <td>Medium Residential</td>\n",
       "      <td>R</td>\n",
       "    </tr>\n",
       "    <tr>\n",
       "      <th>21327</th>\n",
       "      <td>5539028013</td>\n",
       "      <td>1910.0</td>\n",
       "      <td>Commercial</td>\n",
       "      <td>R3-1</td>\n",
       "      <td>YES</td>\n",
       "      <td>8.0</td>\n",
       "      <td>0.172153</td>\n",
       "      <td>Wilshire</td>\n",
       "      <td>Medium Residential</td>\n",
       "      <td>R</td>\n",
       "    </tr>\n",
       "    <tr>\n",
       "      <th>21328</th>\n",
       "      <td>5539028014</td>\n",
       "      <td>1910.0</td>\n",
       "      <td>Commercial</td>\n",
       "      <td>R3-1</td>\n",
       "      <td>YES</td>\n",
       "      <td>8.0</td>\n",
       "      <td>0.172176</td>\n",
       "      <td>Wilshire</td>\n",
       "      <td>Medium Residential</td>\n",
       "      <td>R</td>\n",
       "    </tr>\n",
       "  </tbody>\n",
       "</table>\n",
       "<p>3626 rows × 10 columns</p>\n",
       "</div>"
      ],
      "text/plain": [
       "              APN  Year Built Current Use       Zone 30 du/ac (Y/N)  \\\n",
       "12     2535014026      1940.0  Commercial  RD1.5-1-O             No   \n",
       "45     2620025009      1923.0  Commercial     R1-1-O             No   \n",
       "46     2620025026      1925.0  Commercial     R1-1-O             No   \n",
       "48     2621010002      1947.0  Commercial    (T)R1-1             No   \n",
       "51     2622004020      1946.0  Commercial   (T)RD2-1             No   \n",
       "...           ...         ...         ...        ...            ...   \n",
       "21322  5539028002      1904.0  Commercial       R3-1            YES   \n",
       "21323  5539028003         0.0  Commercial       R3-1            YES   \n",
       "21324  5539028004      1910.0  Commercial       R3-1            YES   \n",
       "21327  5539028013      1910.0  Commercial       R3-1            YES   \n",
       "21328  5539028014      1910.0  Commercial       R3-1            YES   \n",
       "\n",
       "       Net Units     Acres               CPA  \\\n",
       "12           6.0  0.244444  Arleta - Pacoima   \n",
       "45           5.0  0.700161  Arleta - Pacoima   \n",
       "46           5.0  0.751561  Arleta - Pacoima   \n",
       "48           6.0  0.828719  Arleta - Pacoima   \n",
       "51           6.0  0.337351  Arleta - Pacoima   \n",
       "...          ...       ...               ...   \n",
       "21322        8.0  0.172153          Wilshire   \n",
       "21323        8.0  0.172153          Wilshire   \n",
       "21324        8.0  0.172176          Wilshire   \n",
       "21327        8.0  0.172153          Wilshire   \n",
       "21328        8.0  0.172176          Wilshire   \n",
       "\n",
       "      General Plan Land Use Designation Zone Type  \n",
       "12            Low Medium II Residential         R  \n",
       "45                      Low Residential         R  \n",
       "46                      Low Residential         R  \n",
       "48                      Low Residential         R  \n",
       "51            Low Medium II Residential         R  \n",
       "...                                 ...       ...  \n",
       "21322                Medium Residential         R  \n",
       "21323                Medium Residential         R  \n",
       "21324                Medium Residential         R  \n",
       "21327                Medium Residential         R  \n",
       "21328                Medium Residential         R  \n",
       "\n",
       "[3626 rows x 10 columns]"
      ]
     },
     "execution_count": 277,
     "metadata": {},
     "output_type": "execute_result"
    }
   ],
   "source": [
    "sites_with_type[\n",
    "    (sites_with_type['Zone Type'] == 'R')\n",
    "    & (sites_with_type['Current Use'] == 'Commercial')\n",
    "]"
   ]
  },
  {
   "cell_type": "code",
   "execution_count": 280,
   "id": "regulated-promotion",
   "metadata": {},
   "outputs": [
    {
     "data": {
      "text/html": [
       "<div>\n",
       "<style scoped>\n",
       "    .dataframe tbody tr th:only-of-type {\n",
       "        vertical-align: middle;\n",
       "    }\n",
       "\n",
       "    .dataframe tbody tr th {\n",
       "        vertical-align: top;\n",
       "    }\n",
       "\n",
       "    .dataframe thead th {\n",
       "        text-align: right;\n",
       "    }\n",
       "</style>\n",
       "<table border=\"1\" class=\"dataframe\">\n",
       "  <thead>\n",
       "    <tr style=\"text-align: right;\">\n",
       "      <th></th>\n",
       "      <th>APN</th>\n",
       "      <th>Year Built</th>\n",
       "      <th>Current Use</th>\n",
       "      <th>Zone_x</th>\n",
       "      <th>30 du/ac (Y/N)</th>\n",
       "      <th>Net Units</th>\n",
       "      <th>Acres</th>\n",
       "      <th>CPA</th>\n",
       "      <th>General Plan Land Use Designation</th>\n",
       "      <th>Zone Type</th>\n",
       "      <th>...</th>\n",
       "      <th>Applicant Business Name</th>\n",
       "      <th>Applicant Address 1</th>\n",
       "      <th>Applicant Address 2</th>\n",
       "      <th>Applicant Address 3</th>\n",
       "      <th>Zone_y</th>\n",
       "      <th>Occupancy</th>\n",
       "      <th>Floor Area-L.A. Building Code Definition</th>\n",
       "      <th>Census Tract</th>\n",
       "      <th>Latitude/Longitude</th>\n",
       "      <th>_merge</th>\n",
       "    </tr>\n",
       "  </thead>\n",
       "  <tbody>\n",
       "    <tr>\n",
       "      <th>101</th>\n",
       "      <td>4357016029</td>\n",
       "      <td>0.0</td>\n",
       "      <td>Single Residence</td>\n",
       "      <td>RE15-1-H</td>\n",
       "      <td>No</td>\n",
       "      <td>6.0</td>\n",
       "      <td>2.200938</td>\n",
       "      <td>Bel Air - Beverly Crest</td>\n",
       "      <td>Very Low II Residential</td>\n",
       "      <td>R</td>\n",
       "      <td>...</td>\n",
       "      <td>NaN</td>\n",
       "      <td>23622 CALABASAS RD</td>\n",
       "      <td>NaN</td>\n",
       "      <td>CALABASAS, CA</td>\n",
       "      <td>RE15-1-H</td>\n",
       "      <td>NaN</td>\n",
       "      <td>36183.0</td>\n",
       "      <td>2612.0</td>\n",
       "      <td>(34.09373, -118.43372)</td>\n",
       "      <td>both</td>\n",
       "    </tr>\n",
       "    <tr>\n",
       "      <th>249</th>\n",
       "      <td>5175007005</td>\n",
       "      <td>1901.0</td>\n",
       "      <td>Commercial</td>\n",
       "      <td>R3-1</td>\n",
       "      <td>YES</td>\n",
       "      <td>7.0</td>\n",
       "      <td>0.150666</td>\n",
       "      <td>Boyle Heights</td>\n",
       "      <td>Medium Residential</td>\n",
       "      <td>R</td>\n",
       "      <td>...</td>\n",
       "      <td>NaN</td>\n",
       "      <td>1005 E. 80TH ST</td>\n",
       "      <td>NaN</td>\n",
       "      <td>LA CA</td>\n",
       "      <td>R3-1</td>\n",
       "      <td>NaN</td>\n",
       "      <td>729.6</td>\n",
       "      <td>2036.0</td>\n",
       "      <td>(34.0505, -118.20583)</td>\n",
       "      <td>both</td>\n",
       "    </tr>\n",
       "    <tr>\n",
       "      <th>250</th>\n",
       "      <td>5175007005</td>\n",
       "      <td>1901.0</td>\n",
       "      <td>Commercial</td>\n",
       "      <td>R3-1</td>\n",
       "      <td>YES</td>\n",
       "      <td>7.0</td>\n",
       "      <td>0.150666</td>\n",
       "      <td>Boyle Heights</td>\n",
       "      <td>Medium Residential</td>\n",
       "      <td>R</td>\n",
       "      <td>...</td>\n",
       "      <td>NaN</td>\n",
       "      <td>1005 E. 80TH ST</td>\n",
       "      <td>NaN</td>\n",
       "      <td>LA CA</td>\n",
       "      <td>R3-1</td>\n",
       "      <td>NaN</td>\n",
       "      <td>729.6</td>\n",
       "      <td>2036.0</td>\n",
       "      <td>(34.05058, -118.20578)</td>\n",
       "      <td>both</td>\n",
       "    </tr>\n",
       "    <tr>\n",
       "      <th>294</th>\n",
       "      <td>5175033005</td>\n",
       "      <td>1905.0</td>\n",
       "      <td>Commercial</td>\n",
       "      <td>R3-1</td>\n",
       "      <td>YES</td>\n",
       "      <td>7.0</td>\n",
       "      <td>0.149219</td>\n",
       "      <td>Boyle Heights</td>\n",
       "      <td>Medium Residential</td>\n",
       "      <td>R</td>\n",
       "      <td>...</td>\n",
       "      <td>NaN</td>\n",
       "      <td>NaN</td>\n",
       "      <td>NaN</td>\n",
       "      <td>NaN</td>\n",
       "      <td>R3-1-CUGU</td>\n",
       "      <td>NaN</td>\n",
       "      <td>3910.0</td>\n",
       "      <td>2036.0</td>\n",
       "      <td>NaN</td>\n",
       "      <td>both</td>\n",
       "    </tr>\n",
       "    <tr>\n",
       "      <th>295</th>\n",
       "      <td>5175033005</td>\n",
       "      <td>1905.0</td>\n",
       "      <td>Commercial</td>\n",
       "      <td>R3-1</td>\n",
       "      <td>YES</td>\n",
       "      <td>7.0</td>\n",
       "      <td>0.149219</td>\n",
       "      <td>Boyle Heights</td>\n",
       "      <td>Medium Residential</td>\n",
       "      <td>R</td>\n",
       "      <td>...</td>\n",
       "      <td>NaN</td>\n",
       "      <td>NaN</td>\n",
       "      <td>NaN</td>\n",
       "      <td>NaN</td>\n",
       "      <td>R3-1-CUGU</td>\n",
       "      <td>NaN</td>\n",
       "      <td>3669.0</td>\n",
       "      <td>2036.0</td>\n",
       "      <td>(34.05107, -118.21318)</td>\n",
       "      <td>both</td>\n",
       "    </tr>\n",
       "    <tr>\n",
       "      <th>...</th>\n",
       "      <td>...</td>\n",
       "      <td>...</td>\n",
       "      <td>...</td>\n",
       "      <td>...</td>\n",
       "      <td>...</td>\n",
       "      <td>...</td>\n",
       "      <td>...</td>\n",
       "      <td>...</td>\n",
       "      <td>...</td>\n",
       "      <td>...</td>\n",
       "      <td>...</td>\n",
       "      <td>...</td>\n",
       "      <td>...</td>\n",
       "      <td>...</td>\n",
       "      <td>...</td>\n",
       "      <td>...</td>\n",
       "      <td>...</td>\n",
       "      <td>...</td>\n",
       "      <td>...</td>\n",
       "      <td>...</td>\n",
       "      <td>...</td>\n",
       "    </tr>\n",
       "    <tr>\n",
       "      <th>21910</th>\n",
       "      <td>5522031006</td>\n",
       "      <td>1913.0</td>\n",
       "      <td>Commercial</td>\n",
       "      <td>R3-1</td>\n",
       "      <td>YES</td>\n",
       "      <td>8.0</td>\n",
       "      <td>0.166575</td>\n",
       "      <td>Wilshire</td>\n",
       "      <td>Medium Residential</td>\n",
       "      <td>R</td>\n",
       "      <td>...</td>\n",
       "      <td>NaN</td>\n",
       "      <td>NaN</td>\n",
       "      <td>NaN</td>\n",
       "      <td>NaN</td>\n",
       "      <td>R3-1</td>\n",
       "      <td>NaN</td>\n",
       "      <td>2388.0</td>\n",
       "      <td>1924.2</td>\n",
       "      <td>(34.07741, -118.3104)</td>\n",
       "      <td>both</td>\n",
       "    </tr>\n",
       "    <tr>\n",
       "      <th>21911</th>\n",
       "      <td>5522031006</td>\n",
       "      <td>1913.0</td>\n",
       "      <td>Commercial</td>\n",
       "      <td>R3-1</td>\n",
       "      <td>YES</td>\n",
       "      <td>8.0</td>\n",
       "      <td>0.166575</td>\n",
       "      <td>Wilshire</td>\n",
       "      <td>Medium Residential</td>\n",
       "      <td>R</td>\n",
       "      <td>...</td>\n",
       "      <td>NaN</td>\n",
       "      <td>NaN</td>\n",
       "      <td>NaN</td>\n",
       "      <td>NaN</td>\n",
       "      <td>R3-1</td>\n",
       "      <td>NaN</td>\n",
       "      <td>2388.0</td>\n",
       "      <td>1924.2</td>\n",
       "      <td>(34.07741, -118.3103)</td>\n",
       "      <td>both</td>\n",
       "    </tr>\n",
       "    <tr>\n",
       "      <th>21935</th>\n",
       "      <td>5522033017</td>\n",
       "      <td>1920.0</td>\n",
       "      <td>Double, duplex, or two units</td>\n",
       "      <td>R3-1</td>\n",
       "      <td>YES</td>\n",
       "      <td>7.0</td>\n",
       "      <td>0.166437</td>\n",
       "      <td>Wilshire</td>\n",
       "      <td>Medium Residential</td>\n",
       "      <td>R</td>\n",
       "      <td>...</td>\n",
       "      <td>NaN</td>\n",
       "      <td>NaN</td>\n",
       "      <td>NaN</td>\n",
       "      <td>NaN</td>\n",
       "      <td>R3-1</td>\n",
       "      <td>NaN</td>\n",
       "      <td>14522.0</td>\n",
       "      <td>1924.2</td>\n",
       "      <td>(34.07711, -118.31194)</td>\n",
       "      <td>both</td>\n",
       "    </tr>\n",
       "    <tr>\n",
       "      <th>21940</th>\n",
       "      <td>5522033025</td>\n",
       "      <td>1918.0</td>\n",
       "      <td>Double, duplex, or two units</td>\n",
       "      <td>R3-1</td>\n",
       "      <td>YES</td>\n",
       "      <td>6.0</td>\n",
       "      <td>0.164463</td>\n",
       "      <td>Wilshire</td>\n",
       "      <td>Medium Residential</td>\n",
       "      <td>R</td>\n",
       "      <td>...</td>\n",
       "      <td>NaN</td>\n",
       "      <td>NaN</td>\n",
       "      <td>NaN</td>\n",
       "      <td>NaN</td>\n",
       "      <td>R3-1</td>\n",
       "      <td>NaN</td>\n",
       "      <td>14000.0</td>\n",
       "      <td>1924.2</td>\n",
       "      <td>(34.0768, -118.31337)</td>\n",
       "      <td>both</td>\n",
       "    </tr>\n",
       "    <tr>\n",
       "      <th>22094</th>\n",
       "      <td>5539028004</td>\n",
       "      <td>1910.0</td>\n",
       "      <td>Commercial</td>\n",
       "      <td>R3-1</td>\n",
       "      <td>YES</td>\n",
       "      <td>8.0</td>\n",
       "      <td>0.172176</td>\n",
       "      <td>Wilshire</td>\n",
       "      <td>Medium Residential</td>\n",
       "      <td>R</td>\n",
       "      <td>...</td>\n",
       "      <td>NaN</td>\n",
       "      <td>1080 EVERETT PL</td>\n",
       "      <td>NaN</td>\n",
       "      <td>LOS ANGELES, C</td>\n",
       "      <td>R3-1</td>\n",
       "      <td>NaN</td>\n",
       "      <td>16708.0</td>\n",
       "      <td>1927.0</td>\n",
       "      <td>(34.08125, -118.28469)</td>\n",
       "      <td>both</td>\n",
       "    </tr>\n",
       "  </tbody>\n",
       "</table>\n",
       "<p>1301 rows × 63 columns</p>\n",
       "</div>"
      ],
      "text/plain": [
       "              APN  Year Built                   Current Use    Zone_x  \\\n",
       "101    4357016029         0.0              Single Residence  RE15-1-H   \n",
       "249    5175007005      1901.0                    Commercial      R3-1   \n",
       "250    5175007005      1901.0                    Commercial      R3-1   \n",
       "294    5175033005      1905.0                    Commercial      R3-1   \n",
       "295    5175033005      1905.0                    Commercial      R3-1   \n",
       "...           ...         ...                           ...       ...   \n",
       "21910  5522031006      1913.0                    Commercial      R3-1   \n",
       "21911  5522031006      1913.0                    Commercial      R3-1   \n",
       "21935  5522033017      1920.0  Double, duplex, or two units      R3-1   \n",
       "21940  5522033025      1918.0  Double, duplex, or two units      R3-1   \n",
       "22094  5539028004      1910.0                    Commercial      R3-1   \n",
       "\n",
       "      30 du/ac (Y/N)  Net Units     Acres                      CPA  \\\n",
       "101               No        6.0  2.200938  Bel Air - Beverly Crest   \n",
       "249              YES        7.0  0.150666            Boyle Heights   \n",
       "250              YES        7.0  0.150666            Boyle Heights   \n",
       "294              YES        7.0  0.149219            Boyle Heights   \n",
       "295              YES        7.0  0.149219            Boyle Heights   \n",
       "...              ...        ...       ...                      ...   \n",
       "21910            YES        8.0  0.166575                 Wilshire   \n",
       "21911            YES        8.0  0.166575                 Wilshire   \n",
       "21935            YES        7.0  0.166437                 Wilshire   \n",
       "21940            YES        6.0  0.164463                 Wilshire   \n",
       "22094            YES        8.0  0.172176                 Wilshire   \n",
       "\n",
       "      General Plan Land Use Designation Zone Type  ...  \\\n",
       "101             Very Low II Residential         R  ...   \n",
       "249                  Medium Residential         R  ...   \n",
       "250                  Medium Residential         R  ...   \n",
       "294                  Medium Residential         R  ...   \n",
       "295                  Medium Residential         R  ...   \n",
       "...                                 ...       ...  ...   \n",
       "21910                Medium Residential         R  ...   \n",
       "21911                Medium Residential         R  ...   \n",
       "21935                Medium Residential         R  ...   \n",
       "21940                Medium Residential         R  ...   \n",
       "22094                Medium Residential         R  ...   \n",
       "\n",
       "      Applicant Business Name Applicant Address 1 Applicant Address 2  \\\n",
       "101                       NaN  23622 CALABASAS RD                 NaN   \n",
       "249                       NaN     1005 E. 80TH ST                 NaN   \n",
       "250                       NaN     1005 E. 80TH ST                 NaN   \n",
       "294                       NaN                 NaN                 NaN   \n",
       "295                       NaN                 NaN                 NaN   \n",
       "...                       ...                 ...                 ...   \n",
       "21910                     NaN                 NaN                 NaN   \n",
       "21911                     NaN                 NaN                 NaN   \n",
       "21935                     NaN                 NaN                 NaN   \n",
       "21940                     NaN                 NaN                 NaN   \n",
       "22094                     NaN     1080 EVERETT PL                 NaN   \n",
       "\n",
       "      Applicant Address 3     Zone_y Occupancy  \\\n",
       "101         CALABASAS, CA   RE15-1-H       NaN   \n",
       "249                 LA CA       R3-1       NaN   \n",
       "250                 LA CA       R3-1       NaN   \n",
       "294                   NaN  R3-1-CUGU       NaN   \n",
       "295                   NaN  R3-1-CUGU       NaN   \n",
       "...                   ...        ...       ...   \n",
       "21910                 NaN       R3-1       NaN   \n",
       "21911                 NaN       R3-1       NaN   \n",
       "21935                 NaN       R3-1       NaN   \n",
       "21940                 NaN       R3-1       NaN   \n",
       "22094      LOS ANGELES, C       R3-1       NaN   \n",
       "\n",
       "      Floor Area-L.A. Building Code Definition Census Tract  \\\n",
       "101                                    36183.0       2612.0   \n",
       "249                                      729.6       2036.0   \n",
       "250                                      729.6       2036.0   \n",
       "294                                     3910.0       2036.0   \n",
       "295                                     3669.0       2036.0   \n",
       "...                                        ...          ...   \n",
       "21910                                   2388.0       1924.2   \n",
       "21911                                   2388.0       1924.2   \n",
       "21935                                  14522.0       1924.2   \n",
       "21940                                  14000.0       1924.2   \n",
       "22094                                  16708.0       1927.0   \n",
       "\n",
       "           Latitude/Longitude _merge  \n",
       "101    (34.09373, -118.43372)   both  \n",
       "249     (34.0505, -118.20583)   both  \n",
       "250    (34.05058, -118.20578)   both  \n",
       "294                       NaN   both  \n",
       "295    (34.05107, -118.21318)   both  \n",
       "...                       ...    ...  \n",
       "21910   (34.07741, -118.3104)   both  \n",
       "21911   (34.07741, -118.3103)   both  \n",
       "21935  (34.07711, -118.31194)   both  \n",
       "21940   (34.0768, -118.31337)   both  \n",
       "22094  (34.08125, -118.28469)   both  \n",
       "\n",
       "[1301 rows x 63 columns]"
      ]
     },
     "execution_count": 280,
     "metadata": {},
     "output_type": "execute_result"
    }
   ],
   "source": [
    "merged_through_2019[\n",
    "    (merged_through_2019['Zone Type'] == 'R')\n",
    "    & (merged_through_2019['_merge'] == 'both')\n",
    "]"
   ]
  },
  {
   "cell_type": "code",
   "execution_count": 285,
   "id": "simplified-investing",
   "metadata": {},
   "outputs": [
    {
     "data": {
      "text/plain": [
       "1 or 2 Family Dwelling    917\n",
       "Apartment                 384\n",
       "Name: Permit Sub-Type, dtype: int64"
      ]
     },
     "execution_count": 285,
     "metadata": {},
     "output_type": "execute_result"
    }
   ],
   "source": [
    "merged_through_2019[\n",
    "    (merged_through_2019['Zone Type'] == 'R')\n",
    "    & (merged_through_2019['_merge'] == 'both')\n",
    "]['Permit Sub-Type'].value_counts()"
   ]
  },
  {
   "cell_type": "code",
   "execution_count": 287,
   "id": "olive-proportion",
   "metadata": {},
   "outputs": [
    {
     "data": {
      "text/plain": [
       "1.0      643\n",
       "2.0      274\n",
       "3.0       32\n",
       "8.0       30\n",
       "6.0       26\n",
       "5.0       23\n",
       "9.0       17\n",
       "4.0       16\n",
       "12.0      15\n",
       "7.0       14\n",
       "15.0      13\n",
       "13.0      11\n",
       "10.0       9\n",
       "19.0       8\n",
       "18.0       8\n",
       "11.0       7\n",
       "24.0       7\n",
       "32.0       7\n",
       "23.0       6\n",
       "16.0       6\n",
       "14.0       5\n",
       "28.0       5\n",
       "22.0       5\n",
       "20.0       5\n",
       "29.0       5\n",
       "21.0       5\n",
       "46.0       4\n",
       "37.0       4\n",
       "17.0       4\n",
       "41.0       4\n",
       "49.0       4\n",
       "44.0       4\n",
       "27.0       4\n",
       "26.0       4\n",
       "31.0       3\n",
       "34.0       3\n",
       "25.0       3\n",
       "33.0       3\n",
       "93.0       2\n",
       "84.0       2\n",
       "65.0       2\n",
       "50.0       2\n",
       "35.0       2\n",
       "60.0       2\n",
       "47.0       2\n",
       "51.0       2\n",
       "61.0       2\n",
       "36.0       2\n",
       "68.0       2\n",
       "101.0      2\n",
       "89.0       1\n",
       "144.0      1\n",
       "30.0       1\n",
       "136.0      1\n",
       "75.0       1\n",
       "76.0       1\n",
       "120.0      1\n",
       "88.0       1\n",
       "273.0      1\n",
       "86.0       1\n",
       "74.0       1\n",
       "309.0      1\n",
       "83.0       1\n",
       "70.0       1\n",
       "666.0      1\n",
       "85.0       1\n",
       "80.0       1\n",
       "48.0       1\n",
       "69.0       1\n",
       "81.0       1\n",
       "199.0      1\n",
       "90.0       1\n",
       "45.0       1\n",
       "224.0      1\n",
       "39.0       1\n",
       "99.0       1\n",
       "703.0      1\n",
       "115.0      1\n",
       "40.0       1\n",
       "125.0      1\n",
       "54.0       1\n",
       "Name: # of Residential Dwelling Units, dtype: int64"
      ]
     },
     "execution_count": 287,
     "metadata": {},
     "output_type": "execute_result"
    }
   ],
   "source": [
    "merged_through_2019[\n",
    "    (merged_through_2019['Zone Type'] == 'R')\n",
    "    & (merged_through_2019['_merge'] == 'both')\n",
    "]['# of Residential Dwelling Units'].value_counts()"
   ]
  },
  {
   "cell_type": "code",
   "execution_count": 290,
   "id": "mental-spending",
   "metadata": {},
   "outputs": [
    {
     "data": {
      "text/plain": [
       "VACANT LAND                          200\n",
       "Commercial                           185\n",
       "Double, duplex, or two units          63\n",
       "Churches                              55\n",
       "Single Residence                      54\n",
       "Schools (Private)                     25\n",
       "Studios                               21\n",
       "Auto Service Shops                    12\n",
       "Homes for the aged and others         12\n",
       "Three units (any combination)         11\n",
       "3 units (4 stories or less)           10\n",
       "Service Station                        8\n",
       "2 units (4 stories or less)            6\n",
       "4 units (4 stories or less)            6\n",
       "Medical/dental Building                4\n",
       "Office Building                        1\n",
       "Five or more apartments or units       1\n",
       "Store and residential combination      1\n",
       "Name: Current Use, dtype: int64"
      ]
     },
     "execution_count": 290,
     "metadata": {},
     "output_type": "execute_result"
    }
   ],
   "source": [
    "merged_through_2019[\n",
    "    (merged_through_2019['# of Residential Dwelling Units'] == 1)\n",
    "    & (merged_through_2019['_merge'] == 'both')\n",
    "]['Current Use'].value_counts()"
   ]
  },
  {
   "cell_type": "code",
   "execution_count": 291,
   "id": "plain-still",
   "metadata": {},
   "outputs": [
    {
     "data": {
      "text/plain": [
       "Commercial                              216\n",
       "Double, duplex, or two units             35\n",
       "VACANT LAND                              22\n",
       "Store and residential combination        10\n",
       "Single Residence                          8\n",
       "Auto Service Shops                        5\n",
       "Five or more apartments or units          4\n",
       "Miscellaneous commercial                  4\n",
       "Store                                     4\n",
       "Restaurants, cocktail lounge, tavern      4\n",
       "Four units (any combination)              3\n",
       "Medical/dental Building                   2\n",
       "Churches                                  2\n",
       "Lots - patron or employee                 2\n",
       "Store and office combination              1\n",
       "Three units (any combination)             1\n",
       "Name: Current Use, dtype: int64"
      ]
     },
     "execution_count": 291,
     "metadata": {},
     "output_type": "execute_result"
    }
   ],
   "source": [
    "merged_through_2019[\n",
    "    (merged_through_2019['# of Residential Dwelling Units'] == 2)\n",
    "    & (merged_through_2019['_merge'] == 'both')\n",
    "]['Current Use'].value_counts()"
   ]
  },
  {
   "cell_type": "code",
   "execution_count": 286,
   "id": "grand-walker",
   "metadata": {},
   "outputs": [
    {
     "data": {
      "text/plain": [
       "7.0      212\n",
       "6.0      204\n",
       "8.0      183\n",
       "5.0      170\n",
       "10.0      88\n",
       "13.8      55\n",
       "9.0       47\n",
       "27.0      38\n",
       "14.0      30\n",
       "11.0      28\n",
       "16.0      24\n",
       "19.0      21\n",
       "85.0      21\n",
       "12.0      20\n",
       "18.0      20\n",
       "37.0      20\n",
       "13.0      17\n",
       "29.7      14\n",
       "15.0      14\n",
       "17.0      11\n",
       "64.0      10\n",
       "24.0       8\n",
       "30.0       7\n",
       "28.0       4\n",
       "26.0       4\n",
       "22.0       2\n",
       "42.0       2\n",
       "21.0       2\n",
       "32.0       2\n",
       "20.0       2\n",
       "190.0      2\n",
       "95.0       1\n",
       "142.0      1\n",
       "36.0       1\n",
       "23.0       1\n",
       "34.0       1\n",
       "31.0       1\n",
       "200.0      1\n",
       "40.0       1\n",
       "146.0      1\n",
       "38.3       1\n",
       "84.0       1\n",
       "53.0       1\n",
       "60.0       1\n",
       "29.0       1\n",
       "1.2        1\n",
       "35.0       1\n",
       "41.0       1\n",
       "145.0      1\n",
       "54.0       1\n",
       "Name: Net Units, dtype: int64"
      ]
     },
     "execution_count": 286,
     "metadata": {},
     "output_type": "execute_result"
    }
   ],
   "source": [
    "merged_through_2019[\n",
    "    (merged_through_2019['Zone Type'] == 'R')\n",
    "    & (merged_through_2019['_merge'] == 'both')\n",
    "]['Net Units'].value_counts()"
   ]
  },
  {
   "cell_type": "code",
   "execution_count": 278,
   "id": "french-textbook",
   "metadata": {},
   "outputs": [
    {
     "data": {
      "text/plain": [
       "Wilshire                            901\n",
       "Southeast Los Angeles               468\n",
       "Westlake                            295\n",
       "West Adams - Baldwin Hills          287\n",
       "Hollywood                           257\n",
       "South Los Angeles                   231\n",
       "Palms - Mar Vista - Del Rey         230\n",
       "North Hollywood - Valley Village    216\n",
       "Silver Lake - Echo Park             115\n",
       "Northeast Los Angeles               100\n",
       "Boyle Heights                        85\n",
       "Sherman Oaks - Studio City           62\n",
       "Central City North                   56\n",
       "West Los Angeles                     49\n",
       "Van Nuys - North Sherman Oaks        45\n",
       "Harbor Gateway                       35\n",
       "Sun Valley - La Tuna Canyon          34\n",
       "Mission Hills - Panorama City        21\n",
       "Westchester - Playa del Rey          20\n",
       "Canoga Park - Woodland Hills         19\n",
       "Sunland - Tujunga                    16\n",
       "Sylmar                               15\n",
       "Venice                               14\n",
       "Arleta - Pacoima                     12\n",
       "San Pedro                            11\n",
       "Brentwood - Pacific Palisades        11\n",
       "Bel Air - Beverly Crest               6\n",
       "Chatsworth - Porter Ranch             5\n",
       "Granada Hills - Knollwood             4\n",
       "Reseda - West Van Nuys                2\n",
       "Wilmington - Harbor City              2\n",
       "Encino - Tarzana                      1\n",
       "Northridge                            1\n",
       "Name: CPA, dtype: int64"
      ]
     },
     "execution_count": 278,
     "metadata": {},
     "output_type": "execute_result"
    }
   ],
   "source": [
    "sites_with_type[\n",
    "    (sites_with_type['Zone Type'] == 'R')\n",
    "    & (sites_with_type['Current Use'] == 'Commercial')\n",
    "]['CPA'].value_counts()"
   ]
  },
  {
   "cell_type": "code",
   "execution_count": 276,
   "id": "considerable-trustee",
   "metadata": {},
   "outputs": [
    {
     "name": "stdout",
     "output_type": "stream",
     "text": [
      "R\n",
      "Commercial                                         3626\n",
      "Double, duplex, or two units                       1385\n",
      "VACANT LAND                                         797\n",
      "Single Residence                                    458\n",
      "Lots - patron or employee                           385\n",
      "Churches                                            360\n",
      "Four units (any combination)                        342\n",
      "Three units (any combination)                       286\n",
      "2 units (4 stories or less)                         228\n",
      "Five or more apartments or units                    188\n",
      "Government Owned Property (OPEN)                    147\n",
      "Schools (Private)                                   136\n",
      "5 or more units (4 stories or less)                 101\n",
      "Parking Lot (Patron or Employee)                    100\n",
      "4 units (4 stories or less)                          78\n",
      "Office Building                                      71\n",
      "3 units (4 stories or less)                          68\n",
      "Store                                                68\n",
      "Store and residential combination                    66\n",
      "Clubs, lodge halls, fraternal organizations          58\n",
      "Homes for the aged and others                        56\n",
      "Rooming / boarding house                             49\n",
      "Utility Commercial and Mutual                        36\n",
      "Auto Service Shops                                   34\n",
      "Stores                                               34\n",
      "Light Manufacturing(Machine Shops/ Printing)         29\n",
      "Hospitals                                            27\n",
      "Light manufacturing                                  22\n",
      "Restaurants, cocktail lounge, tavern                 21\n",
      "Rooming House                                        21\n",
      "Church                                               15\n",
      "Office building                                      13\n",
      "Church Parking lots                                  13\n",
      "Professional Building                                13\n",
      "Lots - commercial parking                            12\n",
      "Parking Lot (Commercial)                             12\n",
      "Auto Service Body and Fender Repair                  11\n",
      "Store and Office Combination                         10\n",
      "2 units (4 stories or less with Pool)                10\n",
      "Convalescent hospitals, nursing homes                10\n",
      "Home for the Aged or Other                            9\n",
      "Store and Residential Combination                     9\n",
      "Service Station                                       8\n",
      "Shopping Center (Neighborhood, Community)             8\n",
      "Studios                                               8\n",
      "Condominium                                           8\n",
      "Community Redevelopment                               8\n",
      "Hotel, Motel                                          7\n",
      "Bank, Savings and Loan                                7\n",
      "Store combination (with office or residential)        7\n",
      "Light Manufacturing                                   7\n",
      "Warehousing, distribution under 10,000 sq. ft.        7\n",
      "Restaurant Lounge Tavern                              7\n",
      "Hotel (50+ Rooms)                                     6\n",
      "Store and office combination                          6\n",
      "Wholesale and Manufacturing Outlet                    6\n",
      "5 or more units (4 stories or less with Pool)         6\n",
      "Warehousing, Distribution, Storage                    6\n",
      "Club Lodge or Hall or Fraternal Organization          5\n",
      "Public Housing                                        5\n",
      "Public School, General                                5\n",
      "Hotels - under 50 rooms                               5\n",
      "Supermarket - 12000 sq. ft. or more                   4\n",
      "Auditoriums, stadiums, amphitheatres                  4\n",
      "Warehouse Distributor (10000 to 24999 sqft)           4\n",
      "Wholesale and manufacturing outlet                    3\n",
      "Government Property, possessory interest              3\n",
      "Single Residence with Pool                            3\n",
      "Office and residential                                3\n",
      "Flood Control Drainage                                3\n",
      "Warehouse Distributor (under 10000 sqft)              3\n",
      "Colleges, Universities (Private)                      3\n",
      "Medical/dental Building                               3\n",
      "Auto Service Centers (no gasoline)                    3\n",
      "Parking lot (industrial use)                          3\n",
      "Private School                                        3\n",
      "Service shops                                         3\n",
      "Unknown                                               3\n",
      "Motels - under 50 units                               3\n",
      "Motels - 50 or more units                             2\n",
      "Public storage - mini warehouse                       2\n",
      "Elementary School                                     2\n",
      "Miscellaneous commercial                              2\n",
      "New Car Sales and Service                             2\n",
      "Parking Structure (Patron or Employee)                2\n",
      "Planned unit development (PUD)                        2\n",
      "Parking Structures - patron or employee               2\n",
      "Heavy manufacturing                                   2\n",
      "Parking lot (Commercial use properties)               2\n",
      "Hotel (Under 50 Rooms)                                2\n",
      "Dance halls                                           2\n",
      "Warehousing, distribution 10,000-24,999 sq. ft.       2\n",
      "Hospital                                              2\n",
      "Movie - indoor                                        2\n",
      "Nursery or Greenhouse                                 2\n",
      "College                                               2\n",
      "Public Park                                           2\n",
      "Hotel and motel                                       2\n",
      "5 or more units (5 stories or less)                   1\n",
      "Transmission Facilities                               1\n",
      "Trucking companies, terminals                         1\n",
      "Library                                               1\n",
      "Miscellaneous industrial                              1\n",
      "Loft type buildings                                   1\n",
      "Gymnasiums, health spas                               1\n",
      "Industrial Use Parking Lot                            1\n",
      "Fast Food - Auto Oriented                             1\n",
      "Residential -- Duplex                                 1\n",
      "Warehousing. distribution over 50,000 sq. ft.         1\n",
      "Parking Structures - commercial parking               1\n",
      "Fast Food - Walk up                                   1\n",
      "Residential -- Triplex                                1\n",
      "Reservoir, Tank, Underground Storage                  1\n",
      "Manufactured homes                                    1\n",
      "Government Services, General                          1\n",
      "Condo Conversion                                      1\n",
      "High School                                           1\n",
      "School Service Center                                 1\n",
      "Utilities Office (Power, Water, etc.)                 1\n",
      "Car Wash                                              1\n",
      "Bank / Savings and Loan                               1\n",
      "Single residence                                      1\n",
      "Dance Hall                                            1\n",
      "Motel (less than 50 units)                            1\n",
      "Cemeteries, Mausoleums                                1\n",
      "Police and Fire Station                               1\n",
      "Industrial                                            1\n",
      "Institutional                                         1\n",
      "Horse stable - private                                1\n",
      "Petroleum and Gas                                     1\n",
      "Tennis courts, clubs, Pro shops                       1\n",
      "Postal Facility                                       1\n",
      "Amusement Facility                                    1\n",
      "3 units (4 stories or less with Pool)                 1\n",
      "Single Residence with Therapy Pool                    1\n",
      "Name: Current Use, dtype: int64\n",
      "\n",
      "C\n",
      "Store                                                          1876\n",
      "Office Building                                                 874\n",
      "VACANT LAND                                                     808\n",
      "Auto Service Shops                                              698\n",
      "Store and residential combination                               653\n",
      "Lots - patron or employee                                       646\n",
      "Restaurants, cocktail lounge, tavern                            454\n",
      "Store and office combination                                    406\n",
      "Commercial                                                      335\n",
      "Churches                                                        277\n",
      "Professional Building                                           253\n",
      "Light manufacturing                                             239\n",
      "Office building                                                 236\n",
      "Shopping Center (Neighborhood, Community)                       224\n",
      "Service Station                                                 188\n",
      "Stores                                                          181\n",
      "Parking Lot (Patron or Employee)                                175\n",
      "Schools (Private)                                               121\n",
      "Bank, Savings and Loan                                          101\n",
      "Store and Office Combination                                     88\n",
      "Shopping Center (Regional)                                       85\n",
      "Warehousing, distribution under 10,000 sq. ft.                   82\n",
      "Government Owned Property (OPEN)                                 81\n",
      "Medical/dental Building                                          79\n",
      "Service shops                                                    77\n",
      "Store combination (with office or residential)                   76\n",
      "Restaurant Lounge Tavern                                         62\n",
      "Auto Service Body and Fender Repair                              61\n",
      "Light Manufacturing(Machine Shops/ Printing)                     60\n",
      "Five or more apartments or units                                 55\n",
      "Clubs, lodge halls, fraternal organizations                      51\n",
      "Store and Residential Combination                                49\n",
      "Used Car Sales                                                   49\n",
      "Miscellaneous commercial                                         48\n",
      "Auto Service Centers (no gasoline)                               48\n",
      "Double, duplex, or two units                                     47\n",
      "Single Residence                                                 43\n",
      "Service station                                                  42\n",
      "Hotels - under 50 rooms                                          40\n",
      "Homes for the aged and others                                    39\n",
      "Hospitals                                                        37\n",
      "Lots - commercial parking                                        36\n",
      "Shopping Center (Neighborhood)                                   36\n",
      "Fast Food - Walk up                                              34\n",
      "Supermarket - 12000 sq. ft. or more                              30\n",
      "Office and residential                                           28\n",
      "Four units (any combination)                                     27\n",
      "5 or more units (4 stories or less)                              25\n",
      "Church                                                           23\n",
      "Three units (any combination)                                    20\n",
      "Bank / Savings and Loan                                          20\n",
      "New Car Sales and Service                                        20\n",
      "Utility Commercial and Mutual                                    20\n",
      "Car Wash                                                         19\n",
      "Fast Food - Auto Oriented                                        17\n",
      "Studios                                                          17\n",
      "Motels - under 50 units                                          15\n",
      "Car Wash - self service type                                     15\n",
      "Restaurant, cocktail lounge                                      13\n",
      "2 units (4 stories or less)                                      13\n",
      "Service Station (Full Service)                                   13\n",
      "Church Parking lots                                              13\n",
      "Private School                                                   13\n",
      "Store and Office Residential Combination                         12\n",
      "Wholesale and Manufacturing Outlet                               12\n",
      "Hotels - 50 or more rooms                                        12\n",
      "Gymnasiums, health spas                                          12\n",
      "Nursery or Greenhouse                                            12\n",
      "Government Property, possessory interest                         11\n",
      "Warehousing, distribution 10,000-24,999 sq. ft.                  11\n",
      "Wholesale and manufacturing outlet                               10\n",
      "Warehouse Distributor (under 10000 sqft)                         10\n",
      "Food processing plant                                             9\n",
      "Hotel and motel                                                   9\n",
      "Movie - indoor                                                    9\n",
      "Supermarket - 6000 to 11999 sq. ft.                               8\n",
      "Rooming / boarding house                                          8\n",
      "Studio (Movie / Radio / TV Studio)                                8\n",
      "Movie Theater (Indoor)                                            8\n",
      "Auto, recreation/construction equipment, sales, and service       7\n",
      "Rights of Way                                                     7\n",
      "Small food store - less than 6000 sq. ft.                         7\n",
      "Medical / Dental Building                                         7\n",
      "Motel (less than 50 units)                                        7\n",
      "Institutional                                                     7\n",
      "Parking Structures - patron or employee                           7\n",
      "Police and Fire Station                                           7\n",
      "Convalescent hospitals, nursing homes                             7\n",
      "Warehousing, Distribution, Storage                                7\n",
      "Rapid Transit, Bus, etc                                           6\n",
      "Heavy manufacturing                                               6\n",
      "Cemeteries, Mausoleums                                            6\n",
      "Warehousing, distribution, storage                                6\n",
      "Supermarket (12000 sqft or more)                                  6\n",
      "Public storage - mini warehouse                                   6\n",
      "Lumber yard                                                       5\n",
      "Colleges, Universities (Private)                                  5\n",
      "Industrial                                                        5\n",
      "Elementary School                                                 5\n",
      "Parking lot (Commercial use properties)                           5\n",
      "Hotel (50+ Rooms)                                                 5\n",
      "Department Stores                                                 5\n",
      "4 units (4 stories or less)                                       5\n",
      "Government Services, General                                      5\n",
      "Department store                                                  5\n",
      "3 units (4 stories or less)                                       5\n",
      "Auditoriums, stadiums, amphitheatres                              5\n",
      "Hotel, Motel                                                      5\n",
      "Service Shop (eg. Radio / TV Repair / Laundry)                    5\n",
      "Discount department store (Target, etc.)                          4\n",
      "Dance halls                                                       4\n",
      "Unknown                                                           4\n",
      "Store with Air Conditioning                                       4\n",
      "Fast Food (Walks)                                                 4\n",
      "Parking Structures - commercial parking                           4\n",
      "Office Building (Residential)                                     4\n",
      "Motion Picture, Radio, Television                                 3\n",
      "Restaurant, Cocktail Lounge, Coffee Shop                          3\n",
      "Mortuaries, Funeral Homes                                         3\n",
      "Club Lodge or Hall or Fraternal Organization                      3\n",
      "Postal Facility                                                   3\n",
      "Motels - 50 or more units                                         3\n",
      "Warehousing, distribution 25,000-50,000 sq. ft.                   3\n",
      "Parking Structure (Patron or Employee)                            3\n",
      "Warehouse Distributor (10000 to 24999 sqft)                       3\n",
      "Cemetery / Mausoleum                                              3\n",
      "Home for the Aged or Other                                        3\n",
      "Auditorium Stadium or Amphitheater                                3\n",
      "Legitimate (stage) theater                                        3\n",
      "Supermarkets                                                      3\n",
      "Utilities Office (Power, Water, etc.)                             2\n",
      "Open storage                                                      2\n",
      "High School                                                       2\n",
      "Vacant parcel that has improvement value                          2\n",
      "Parking lot (industrial use)                                      2\n",
      "Mineral processing                                                2\n",
      "Dance Hall                                                        2\n",
      "Parking Lot (Commercial)                                          2\n",
      "Home for the Aged and Others                                      2\n",
      "Retail-warehouse combo (Levitz, etc.)                             2\n",
      "Animal kennel                                                     2\n",
      "Commercial (Vacant Land)                                          2\n",
      "Miscellaneous industrial                                          2\n",
      "Transmission Facilities                                           2\n",
      "Legitimate Theater                                                2\n",
      "Supermarket (6000 to 11999 sqft)                                  2\n",
      "Public School, General                                            2\n",
      "Hospital                                                          2\n",
      "Carwash                                                           2\n",
      "Bowling alley                                                     2\n",
      "Public storage (Bekins, Lyons)                                    2\n",
      "Motel/Hotel and Apartment combo - under 50 units                  2\n",
      "Miscellaneous Commercial                                          2\n",
      "Petroleum and Gas                                                 1\n",
      "Residential Vacant Land                                           1\n",
      "Recreational                                                      1\n",
      "Commercial (Open)                                                 1\n",
      "Gymnasium or Health Spa                                           1\n",
      "Radio / TV Transmission Facilities                                1\n",
      "Warehousing. distribution over 50,000 sq. ft.                     1\n",
      "Wireless communication tower, vacant w/some imps value            1\n",
      "Ice Skating Rink                                                  1\n",
      "Movie Theater                                                     1\n",
      "Manufactured home park                                            1\n",
      "Library                                                           1\n",
      "Auto, Recreation Equipment                                        1\n",
      "Loft type buildings                                               1\n",
      "Parking Lot (Commercial or Patron)                                1\n",
      "Adult care facility - social and recreational services            1\n",
      "Public Housing                                                    1\n",
      "Retail Warehouse Combination                                      1\n",
      "Nursing Home                                                      1\n",
      "Tennis Court Club Pro Shop                                        1\n",
      "Nursery Greenhouse                                                1\n",
      "Fast Food (Drive-Thru)                                            1\n",
      "Rights of Way, General                                            1\n",
      "Building supplies (Home Depot, etc.)                              1\n",
      "Single Family Residential                                         1\n",
      "Light Manufacturing                                               1\n",
      "Warehouse store (Costco, etc.)                                    1\n",
      "Private Rural Pumping Plant                                       1\n",
      "Auto Service Centers                                              1\n",
      "Condominium                                                       1\n",
      "Carwash (Self Service)                                            1\n",
      "Artist in residence                                               1\n",
      "Farm, Construction Equipment Sales and Service                    1\n",
      "Flood Control Drainage                                            1\n",
      "Public Swimming Pool                                              1\n",
      "Veterinary hospital, clinic                                       1\n",
      "Service Station (Self Service)                                    1\n",
      "Welfare and Social Services                                       1\n",
      "Medical / Dental Building (2 to 5 stories)                        1\n",
      "Name: Current Use, dtype: int64\n",
      "\n",
      "Public/Other\n",
      "Double, duplex, or two units        5\n",
      "VACANT LAND                         5\n",
      "Library                             3\n",
      "Five or more apartments or units    2\n",
      "Lots - patron or employee           2\n",
      "Commercial                          2\n",
      "Light manufacturing                 1\n",
      "Cemeteries, Mausoleums              1\n",
      "Name: Current Use, dtype: int64\n",
      "\n",
      "M\n",
      "Light manufacturing                                157\n",
      "Auto Service Shops                                  51\n",
      "Store                                               45\n",
      "Lots - patron or employee                           42\n",
      "Store and residential combination                   39\n",
      "VACANT LAND                                         37\n",
      "Office Building                                     35\n",
      "Warehousing, distribution under 10,000 sq. ft.      29\n",
      "Light Manufacturing(Machine Shops/ Printing)        16\n",
      "Commercial                                          13\n",
      "Parking lot (industrial use)                        11\n",
      "Restaurants, cocktail lounge, tavern                10\n",
      "Service shops                                        9\n",
      "Store and office combination                         8\n",
      "Schools (Private)                                    7\n",
      "Food processing plant                                6\n",
      "Churches                                             6\n",
      "Artist in residence                                  5\n",
      "Warehousing, distribution 10,000-24,999 sq. ft.      5\n",
      "Store combination (with office or residential)       5\n",
      "Government Owned Property (OPEN)                     5\n",
      "Professional Building                                5\n",
      "Studios                                              4\n",
      "Used Car Sales                                       4\n",
      "Animal kennel                                        3\n",
      "Lots - commercial parking                            3\n",
      "Utility Commercial and Mutual                        3\n",
      "Warehousing, distribution 25,000-50,000 sq. ft.      3\n",
      "Double, duplex, or two units                         3\n",
      "Auto Service Body and Fender Repair                  3\n",
      "Miscellaneous industrial                             3\n",
      "Office building                                      3\n",
      "Shopping Center (Neighborhood, Community)            3\n",
      "Wholesale and manufacturing outlet                   3\n",
      "Service Station                                      2\n",
      "Heavy Manufacturing                                  2\n",
      "Public storage - mini warehouse                      2\n",
      "Auto Service Centers (no gasoline)                   2\n",
      "Department store                                     2\n",
      "Office Building (Loft Type)                          2\n",
      "Office and residential                               2\n",
      "Open storage                                         1\n",
      "Warehousing, distribution, storage                   1\n",
      "Medical/dental Building                              1\n",
      "Warehousing. distribution over 50,000 sq. ft.        1\n",
      "Warehouse store (Costco, etc.)                       1\n",
      "Court Building, Jail                                 1\n",
      "Industrial Use Parking Lot                           1\n",
      "Institutional                                        1\n",
      "Veterinary hospital, clinic                          1\n",
      "Auxiliary and Regional Center                        1\n",
      "Fast Food - Walk up                                  1\n",
      "Motels - under 50 units                              1\n",
      "Hotel and motel                                      1\n",
      "Animal Kennel                                        1\n",
      "Parking lot (Commercial use properties)              1\n",
      "Supermarkets                                         1\n",
      "Heavy manufacturing                                  1\n",
      "Mortuaries, Funeral Homes                            1\n",
      "Miscellaneous Industrial                             1\n",
      "Cemeteries, Mausoleums                               1\n",
      "Recreation Equipment Sales and Service               1\n",
      "Service station                                      1\n",
      "Warehouse Distributor (10000 to 24999 sqft)          1\n",
      "Discount department store (Target, etc.)             1\n",
      "New Car Sales and Service                            1\n",
      "Skating rinks                                        1\n",
      "Five or more apartments or units                     1\n",
      "Warehousing, Distribution, Storage                   1\n",
      "Parking Lot (Patron or Employee)                     1\n",
      "Miscellaneous commercial                             1\n",
      "Retail-warehouse combo (Levitz, etc.)                1\n",
      "Public Storage(Mini Warehouse)                       1\n",
      "Clubs, lodge halls, fraternal organizations          1\n",
      "Name: Current Use, dtype: int64\n",
      "\n"
     ]
    }
   ],
   "source": [
    "for zone_type in set(zone_mappings.values()):\n",
    "    rows = sites_with_type[\n",
    "        sites_with_type['Zone Type'] == zone_type\n",
    "    ]\n",
    "    print(zone_type)\n",
    "    print(rows['Current Use'].value_counts())\n",
    "    print()\n",
    "# merged_through_2020['Current Use'].value_counts()"
   ]
  },
  {
   "cell_type": "markdown",
   "id": "entire-census",
   "metadata": {},
   "source": [
    "# Validation\n",
    "\n",
    "Okay, these look okay (though the C fraction is depressingly low). Let's do some sanity checks:"
   ]
  },
  {
   "cell_type": "code",
   "execution_count": 243,
   "id": "formal-making",
   "metadata": {},
   "outputs": [
    {
     "data": {
      "text/plain": [
       "R    1499\n",
       "C     179\n",
       "M       4\n",
       "Name: Zone Type, dtype: int64"
      ]
     },
     "execution_count": 243,
     "metadata": {},
     "output_type": "execute_result"
    }
   ],
   "source": [
    "merged_through_2019[\n",
    "    merged_through_2019['_merge'] == 'both'\n",
    "]['Zone Type'].value_counts()"
   ]
  },
  {
   "cell_type": "code",
   "execution_count": 245,
   "id": "tired-diameter",
   "metadata": {},
   "outputs": [
    {
     "data": {
      "text/plain": [
       "1 or 2 Family Dwelling    1154\n",
       "Apartment                  528\n",
       "Name: Permit Sub-Type, dtype: int64"
      ]
     },
     "execution_count": 245,
     "metadata": {},
     "output_type": "execute_result"
    }
   ],
   "source": [
    "merged_through_2019[\n",
    "    merged_through_2019['_merge'] == 'both'\n",
    "]['Permit Sub-Type'].value_counts()"
   ]
  },
  {
   "cell_type": "code",
   "execution_count": 248,
   "id": "honey-rebecca",
   "metadata": {},
   "outputs": [
    {
     "data": {
      "text/plain": [
       "C               11003\n",
       "R                9675\n",
       "M                 631\n",
       "Public/Other       21\n",
       "Name: Zone Type, dtype: int64"
      ]
     },
     "execution_count": 248,
     "metadata": {},
     "output_type": "execute_result"
    }
   ],
   "source": [
    "sites_with_type['Zone Type'].value_counts()"
   ]
  },
  {
   "cell_type": "code",
   "execution_count": 249,
   "id": "gothic-wheel",
   "metadata": {},
   "outputs": [
    {
     "data": {
      "text/html": [
       "<div>\n",
       "<style scoped>\n",
       "    .dataframe tbody tr th:only-of-type {\n",
       "        vertical-align: middle;\n",
       "    }\n",
       "\n",
       "    .dataframe tbody tr th {\n",
       "        vertical-align: top;\n",
       "    }\n",
       "\n",
       "    .dataframe thead th {\n",
       "        text-align: right;\n",
       "    }\n",
       "</style>\n",
       "<table border=\"1\" class=\"dataframe\">\n",
       "  <thead>\n",
       "    <tr style=\"text-align: right;\">\n",
       "      <th></th>\n",
       "      <th>APN</th>\n",
       "      <th>Year Built</th>\n",
       "      <th>Current Use</th>\n",
       "      <th>Zone</th>\n",
       "      <th>30 du/ac (Y/N)</th>\n",
       "      <th>Net Units</th>\n",
       "      <th>Acres</th>\n",
       "      <th>CPA</th>\n",
       "      <th>General Plan Land Use Designation</th>\n",
       "      <th>Zone Type</th>\n",
       "    </tr>\n",
       "  </thead>\n",
       "  <tbody>\n",
       "    <tr>\n",
       "      <th>0</th>\n",
       "      <td>2524020030</td>\n",
       "      <td>1955.0</td>\n",
       "      <td>Churches</td>\n",
       "      <td>R1-1</td>\n",
       "      <td>No</td>\n",
       "      <td>6.0</td>\n",
       "      <td>1.032943</td>\n",
       "      <td>Arleta - Pacoima</td>\n",
       "      <td>Low Residential</td>\n",
       "      <td>R</td>\n",
       "    </tr>\n",
       "    <tr>\n",
       "      <th>4</th>\n",
       "      <td>2527005023</td>\n",
       "      <td>1951.0</td>\n",
       "      <td>Churches</td>\n",
       "      <td>R1-1</td>\n",
       "      <td>No</td>\n",
       "      <td>6.0</td>\n",
       "      <td>0.929683</td>\n",
       "      <td>Arleta - Pacoima</td>\n",
       "      <td>Low Residential</td>\n",
       "      <td>R</td>\n",
       "    </tr>\n",
       "    <tr>\n",
       "      <th>5</th>\n",
       "      <td>2527008039</td>\n",
       "      <td>1957.0</td>\n",
       "      <td>Churches</td>\n",
       "      <td>R1-1</td>\n",
       "      <td>No</td>\n",
       "      <td>8.0</td>\n",
       "      <td>0.929040</td>\n",
       "      <td>Arleta - Pacoima</td>\n",
       "      <td>Low Residential</td>\n",
       "      <td>R</td>\n",
       "    </tr>\n",
       "    <tr>\n",
       "      <th>9</th>\n",
       "      <td>2533009902</td>\n",
       "      <td>0.0</td>\n",
       "      <td>Schools (Private)</td>\n",
       "      <td>R1-1</td>\n",
       "      <td>No</td>\n",
       "      <td>6.0</td>\n",
       "      <td>0.688705</td>\n",
       "      <td>Arleta - Pacoima</td>\n",
       "      <td>Low Residential</td>\n",
       "      <td>R</td>\n",
       "    </tr>\n",
       "    <tr>\n",
       "      <th>10</th>\n",
       "      <td>2533009911</td>\n",
       "      <td>0.0</td>\n",
       "      <td>Schools (Private)</td>\n",
       "      <td>R1-1</td>\n",
       "      <td>No</td>\n",
       "      <td>8.0</td>\n",
       "      <td>0.965970</td>\n",
       "      <td>Arleta - Pacoima</td>\n",
       "      <td>Low Residential</td>\n",
       "      <td>R</td>\n",
       "    </tr>\n",
       "    <tr>\n",
       "      <th>...</th>\n",
       "      <td>...</td>\n",
       "      <td>...</td>\n",
       "      <td>...</td>\n",
       "      <td>...</td>\n",
       "      <td>...</td>\n",
       "      <td>...</td>\n",
       "      <td>...</td>\n",
       "      <td>...</td>\n",
       "      <td>...</td>\n",
       "      <td>...</td>\n",
       "    </tr>\n",
       "    <tr>\n",
       "      <th>21325</th>\n",
       "      <td>5539028006</td>\n",
       "      <td>1927.0</td>\n",
       "      <td>Double, duplex, or two units</td>\n",
       "      <td>R3-1</td>\n",
       "      <td>YES</td>\n",
       "      <td>9.0</td>\n",
       "      <td>0.172153</td>\n",
       "      <td>Wilshire</td>\n",
       "      <td>Medium Residential</td>\n",
       "      <td>R</td>\n",
       "    </tr>\n",
       "    <tr>\n",
       "      <th>21326</th>\n",
       "      <td>5539028011</td>\n",
       "      <td>1930.0</td>\n",
       "      <td>Light manufacturing</td>\n",
       "      <td>R3-1</td>\n",
       "      <td>YES</td>\n",
       "      <td>9.0</td>\n",
       "      <td>0.177365</td>\n",
       "      <td>Wilshire</td>\n",
       "      <td>Medium Residential</td>\n",
       "      <td>R</td>\n",
       "    </tr>\n",
       "    <tr>\n",
       "      <th>21327</th>\n",
       "      <td>5539028013</td>\n",
       "      <td>1910.0</td>\n",
       "      <td>Commercial</td>\n",
       "      <td>R3-1</td>\n",
       "      <td>YES</td>\n",
       "      <td>8.0</td>\n",
       "      <td>0.172153</td>\n",
       "      <td>Wilshire</td>\n",
       "      <td>Medium Residential</td>\n",
       "      <td>R</td>\n",
       "    </tr>\n",
       "    <tr>\n",
       "      <th>21328</th>\n",
       "      <td>5539028014</td>\n",
       "      <td>1910.0</td>\n",
       "      <td>Commercial</td>\n",
       "      <td>R3-1</td>\n",
       "      <td>YES</td>\n",
       "      <td>8.0</td>\n",
       "      <td>0.172176</td>\n",
       "      <td>Wilshire</td>\n",
       "      <td>Medium Residential</td>\n",
       "      <td>R</td>\n",
       "    </tr>\n",
       "    <tr>\n",
       "      <th>21329</th>\n",
       "      <td>5539033010</td>\n",
       "      <td>1951.0</td>\n",
       "      <td>Colleges, Universities (Private)</td>\n",
       "      <td>R4-1</td>\n",
       "      <td>YES</td>\n",
       "      <td>186.0</td>\n",
       "      <td>3.008379</td>\n",
       "      <td>Wilshire</td>\n",
       "      <td>General Commercial</td>\n",
       "      <td>R</td>\n",
       "    </tr>\n",
       "  </tbody>\n",
       "</table>\n",
       "<p>9675 rows × 10 columns</p>\n",
       "</div>"
      ],
      "text/plain": [
       "              APN  Year Built                       Current Use  Zone  \\\n",
       "0      2524020030      1955.0                          Churches  R1-1   \n",
       "4      2527005023      1951.0                          Churches  R1-1   \n",
       "5      2527008039      1957.0                          Churches  R1-1   \n",
       "9      2533009902         0.0                 Schools (Private)  R1-1   \n",
       "10     2533009911         0.0                 Schools (Private)  R1-1   \n",
       "...           ...         ...                               ...   ...   \n",
       "21325  5539028006      1927.0      Double, duplex, or two units  R3-1   \n",
       "21326  5539028011      1930.0               Light manufacturing  R3-1   \n",
       "21327  5539028013      1910.0                        Commercial  R3-1   \n",
       "21328  5539028014      1910.0                        Commercial  R3-1   \n",
       "21329  5539033010      1951.0  Colleges, Universities (Private)  R4-1   \n",
       "\n",
       "      30 du/ac (Y/N)  Net Units     Acres               CPA  \\\n",
       "0                 No        6.0  1.032943  Arleta - Pacoima   \n",
       "4                 No        6.0  0.929683  Arleta - Pacoima   \n",
       "5                 No        8.0  0.929040  Arleta - Pacoima   \n",
       "9                 No        6.0  0.688705  Arleta - Pacoima   \n",
       "10                No        8.0  0.965970  Arleta - Pacoima   \n",
       "...              ...        ...       ...               ...   \n",
       "21325            YES        9.0  0.172153          Wilshire   \n",
       "21326            YES        9.0  0.177365          Wilshire   \n",
       "21327            YES        8.0  0.172153          Wilshire   \n",
       "21328            YES        8.0  0.172176          Wilshire   \n",
       "21329            YES      186.0  3.008379          Wilshire   \n",
       "\n",
       "      General Plan Land Use Designation Zone Type  \n",
       "0                       Low Residential         R  \n",
       "4                       Low Residential         R  \n",
       "5                       Low Residential         R  \n",
       "9                       Low Residential         R  \n",
       "10                      Low Residential         R  \n",
       "...                                 ...       ...  \n",
       "21325                Medium Residential         R  \n",
       "21326                Medium Residential         R  \n",
       "21327                Medium Residential         R  \n",
       "21328                Medium Residential         R  \n",
       "21329                General Commercial         R  \n",
       "\n",
       "[9675 rows x 10 columns]"
      ]
     },
     "execution_count": 249,
     "metadata": {},
     "output_type": "execute_result"
    }
   ],
   "source": [
    "sites_with_type[\n",
    "    sites_with_type['Zone Type'] == 'R'\n",
    "]"
   ]
  },
  {
   "cell_type": "code",
   "execution_count": 250,
   "id": "grave-restaurant",
   "metadata": {},
   "outputs": [
    {
     "data": {
      "text/plain": [
       "Commercial                               3626\n",
       "Double, duplex, or two units             1385\n",
       "VACANT LAND                               797\n",
       "Single Residence                          458\n",
       "Lots - patron or employee                 385\n",
       "                                         ... \n",
       "Tennis courts, clubs, Pro shops             1\n",
       "Postal Facility                             1\n",
       "Amusement Facility                          1\n",
       "3 units (4 stories or less with Pool)       1\n",
       "Single Residence with Therapy Pool          1\n",
       "Name: Current Use, Length: 135, dtype: int64"
      ]
     },
     "execution_count": 250,
     "metadata": {},
     "output_type": "execute_result"
    }
   ],
   "source": [
    "sites_with_type[\n",
    "    sites_with_type['Zone Type'] == 'R'\n",
    "]['Current Use'].value_counts()"
   ]
  },
  {
   "cell_type": "code",
   "execution_count": 252,
   "id": "functional-example",
   "metadata": {},
   "outputs": [
    {
     "data": {
      "text/plain": [
       "R3-1               2148\n",
       "R4-1                337\n",
       "R3-1-O              179\n",
       "R3-1VL              124\n",
       "RD1.5-1              96\n",
       "R3-1XL               95\n",
       "R1-1                 95\n",
       "R4-1VL               92\n",
       "RD1.5-1XL            54\n",
       "R4-2                 52\n",
       "R4(CW)-75/3-O        46\n",
       "R4(CW)-75/3          41\n",
       "[Q]R3-1              40\n",
       "R4-1L                17\n",
       "R2-1XL               13\n",
       "R2-1                 12\n",
       "RD2-1                12\n",
       "R4(CW)-75/3.7-O      12\n",
       "R1-1-RFA             11\n",
       "R5(CW)-U/6           11\n",
       "R2-1VL               11\n",
       "R3-1-CDO              9\n",
       "RD1.5-1-O             8\n",
       "RE15-1-H              8\n",
       "RD2-1XL               8\n",
       "R3-2                  7\n",
       "RD1.5-1VL             7\n",
       "R1-1VL                6\n",
       "(T)RS-1               6\n",
       "[Q]R4-1VL             6\n",
       "RS-1                  5\n",
       "(T)R1-1               5\n",
       "[T]RD2-1              4\n",
       "R1-1-O                4\n",
       "(T)R3-1               4\n",
       "RD2-1VL               3\n",
       "(F)R2-1               3\n",
       "R4-2-O                3\n",
       "RD2-1-O               3\n",
       "R4-1L-O               3\n",
       "RD1.5-1-CDO           3\n",
       "R1-1XL                3\n",
       "RE11-1                2\n",
       "(T)RD2-1              2\n",
       "R1-1-CDO              2\n",
       "R3-1VL-CDO            2\n",
       "RE20-1-H              2\n",
       "RA-1-K                2\n",
       "RE11-1-H              1\n",
       "RA-1                  1\n",
       "(T)RE11-1-K           1\n",
       "RE9-1                 1\n",
       "R2-1XL-O              1\n",
       "(T)(Q)R3-1            1\n",
       "R1-1XL-O              1\n",
       "R4-1-O                1\n",
       "Name: Zone, dtype: int64"
      ]
     },
     "execution_count": 252,
     "metadata": {},
     "output_type": "execute_result"
    }
   ],
   "source": [
    "sites_with_type[\n",
    "    (sites_with_type['Zone Type'] == 'R')\n",
    "    & (sites_with_type['Current Use'] == 'Commercial')\n",
    "]['Zone'].value_counts()"
   ]
  }
 ],
 "metadata": {
  "kernelspec": {
   "display_name": "Python 3",
   "language": "python",
   "name": "python3"
  },
  "language_info": {
   "codemirror_mode": {
    "name": "ipython",
    "version": 3
   },
   "file_extension": ".py",
   "mimetype": "text/x-python",
   "name": "python",
   "nbconvert_exporter": "python",
   "pygments_lexer": "ipython3",
   "version": "3.8.1"
  }
 },
 "nbformat": 4,
 "nbformat_minor": 5
}
