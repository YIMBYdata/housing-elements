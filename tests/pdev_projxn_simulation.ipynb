{
 "cells": [
  {
   "cell_type": "code",
   "execution_count": 16,
   "id": "29b002b7-05af-4a13-b03f-0b05c2728a5b",
   "metadata": {},
   "outputs": [],
   "source": [
    "from scipy.stats import bernoulli, uniform\n",
    "from enum import Enum\n",
    "from collections import Counter\n",
    "import matplotlib.pyplot as plt"
   ]
  },
  {
   "cell_type": "code",
   "execution_count": 8,
   "id": "cd36b102-6262-450d-a4c3-7ca642cde827",
   "metadata": {},
   "outputs": [],
   "source": [
    "class BuiltOutcomes(Enum):\n",
    "    BUILT = 1 # => land is built by 2019\n",
    "    WILL = 2 # => land is built after 2019 but before 2023\n",
    "    WONT = 3 # => land is not built during rhna cycle\n",
    "    \n",
    "    @classmethod\n",
    "    def observed(cls, outcome):\n",
    "        return outcome != BuiltOutcomes.WONT\n",
    "    \n",
    "    @classmethod\n",
    "    def unobserved(cls, outcome):\n",
    "        return outcome == BuiltOutcomes.WONT"
   ]
  },
  {
   "cell_type": "code",
   "execution_count": 9,
   "id": "cf363d0c-5385-4e7d-bdce-2ae6e6d4f6ef",
   "metadata": {},
   "outputs": [],
   "source": [
    "def simulate_parcel(p):\n",
    "    w = 5\n",
    "    r = 8\n",
    "    if bernoulli.rvs(p):\n",
    "        if uniform.rvs(0, 8) < 5:\n",
    "            return BuiltOutcomes.BUILT\n",
    "        return BuiltOutcomes.WILL\n",
    "    return BuiltOutcomes.WONT"
   ]
  },
  {
   "cell_type": "code",
   "execution_count": 10,
   "id": "53ab97af-9953-40f1-a062-b616fabaac04",
   "metadata": {},
   "outputs": [],
   "source": [
    "def simulate_city(p, n):\n",
    "    results = [simulate_parcel(p) for _ in range(n)]\n",
    "    return Counter(results)"
   ]
  },
  {
   "cell_type": "code",
   "execution_count": 11,
   "id": "06987c0b-068a-4ee8-ac14-e7abc4ffc471",
   "metadata": {},
   "outputs": [],
   "source": [
    "def evaluate_85_projection(true_p):\n",
    "    M = 10**5\n",
    "    r = 8\n",
    "    w = 5\n",
    "    results = simulate_city(true_p, M)\n",
    "    n_built = results[BuiltOutcomes.BUILT] \n",
    "    p_hat = n_built / M * r / w\n",
    "    return p_hat"
   ]
  },
  {
   "cell_type": "code",
   "execution_count": 14,
   "id": "28ee3184-2598-4c6a-a1ad-f977f1c81534",
   "metadata": {},
   "outputs": [],
   "source": [
    "true_ps = [0., 0.1, 0.2, 0.3, 0.4, 0.5, 0.6, 0.7, 0.8, 0.9, 1]\n",
    "p_hats = [evaluate_85_projection(p) for p in true_ps]"
   ]
  },
  {
   "cell_type": "code",
   "execution_count": 17,
   "id": "fa681bdd-5857-4d26-bd6c-87cb27a048a7",
   "metadata": {},
   "outputs": [
    {
     "data": {
      "text/plain": [
       "<matplotlib.collections.PathCollection at 0x145b40220>"
      ]
     },
     "execution_count": 17,
     "metadata": {},
     "output_type": "execute_result"
    },
    {
     "data": {
      "image/png": "[encoded data removed]",
      "text/plain": [
       "<Figure size 432x288 with 1 Axes>"
      ]
     },
     "metadata": {
      "needs_background": "light"
     },
     "output_type": "display_data"
    }
   ],
   "source": [
    "plt.scatter(true_ps, p_hats)"
   ]
  },
  {
   "cell_type": "code",
   "execution_count": 20,
   "id": "a8c43716-5b33-4b57-9d6d-89e12cf11953",
   "metadata": {},
   "outputs": [
    {
     "data": {
      "text/plain": [
       "0.0046880000000000255"
      ]
     },
     "execution_count": 20,
     "metadata": {},
     "output_type": "execute_result"
    }
   ],
   "source": [
    "# What's the biggest residual?\n",
    "max_resid = max([true_p - p_hat for true_p, p_hat in zip(true_ps,  p_hats)])\n",
    "max_resid"
   ]
  },
  {
   "cell_type": "code",
   "execution_count": null,
   "id": "901ee138-6165-4602-ae0b-f930ed9997c1",
   "metadata": {},
   "outputs": [],
   "source": []
  }
 ],
 "metadata": {
  "kernelspec": {
   "display_name": "Python 3",
   "language": "python",
   "name": "python3"
  },
  "language_info": {
   "codemirror_mode": {
    "name": "ipython",
    "version": 3
   },
   "file_extension": ".py",
   "mimetype": "text/x-python",
   "name": "python",
   "nbconvert_exporter": "python",
   "pygments_lexer": "ipython3",
   "version": "3.8.2"
  }
 },
 "nbformat": 4,
 "nbformat_minor": 5
}
