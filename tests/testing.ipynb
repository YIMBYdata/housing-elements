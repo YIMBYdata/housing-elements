{
 "cells": [
  {
   "cell_type": "code",
   "execution_count": 29,
   "id": "04a32467-0450-437c-85ba-ff2d934b4a03",
   "metadata": {},
   "outputs": [],
   "source": [
    "import sys\n",
    "from importlib import reload\n",
    "import pandas as pd\n",
    "import numpy as np"
   ]
  },
  {
   "cell_type": "code",
   "execution_count": 2,
   "id": "53751463-1b9c-4a72-9e3f-aef154e20861",
   "metadata": {},
   "outputs": [],
   "source": [
    "sys.path.insert(1, '../housing_elements/')"
   ]
  },
  {
   "cell_type": "code",
   "execution_count": 31,
   "id": "6571ec98-312a-4fe6-9593-ef58d481ba8b",
   "metadata": {},
   "outputs": [
    {
     "data": {
      "text/plain": [
       "<module 'utils' from '../housing_elements/utils.py'>"
      ]
     },
     "execution_count": 31,
     "metadata": {},
     "output_type": "execute_result"
    }
   ],
   "source": [
    "import utils\n",
    "reload(utils)"
   ]
  },
  {
   "cell_type": "code",
   "execution_count": 12,
   "id": "382ef910-4728-466d-a0a2-d713787181ee",
   "metadata": {},
   "outputs": [],
   "source": [
    "import matplotlib.pyplot as plt"
   ]
  },
  {
   "cell_type": "code",
   "execution_count": 9,
   "id": "a3fbd187-7f13-4381-a46a-a0662c72d6f1",
   "metadata": {},
   "outputs": [
    {
     "data": {
      "text/plain": [
       "True"
      ]
     },
     "execution_count": 9,
     "metadata": {},
     "output_type": "execute_result"
    }
   ],
   "source": [
    "utils.adj_pdev(1) == 1"
   ]
  },
  {
   "cell_type": "code",
   "execution_count": 8,
   "id": "ad8b053a-0e80-43fc-aa5f-edd9671bca30",
   "metadata": {},
   "outputs": [
    {
     "data": {
      "text/plain": [
       "True"
      ]
     },
     "execution_count": 8,
     "metadata": {},
     "output_type": "execute_result"
    }
   ],
   "source": [
    "utils.adj_pdev(0) == 0"
   ]
  },
  {
   "cell_type": "code",
   "execution_count": 28,
   "id": "4cd4813e-7e00-43e9-9be8-196248998ed5",
   "metadata": {},
   "outputs": [
    {
     "data": {
      "text/plain": [
       "0.65"
      ]
     },
     "execution_count": 28,
     "metadata": {},
     "output_type": "execute_result"
    }
   ],
   "source": [
    "utils.adj_pdev(.5)"
   ]
  },
  {
   "cell_type": "code",
   "execution_count": 32,
   "id": "ae0edd61-bdbd-4fd1-a903-c5a1843cf245",
   "metadata": {},
   "outputs": [
    {
     "data": {
      "text/plain": [
       "nan"
      ]
     },
     "execution_count": 32,
     "metadata": {},
     "output_type": "execute_result"
    }
   ],
   "source": [
    "utils.adj_pdev(np.nan)"
   ]
  },
  {
   "cell_type": "code",
   "execution_count": 27,
   "id": "8df1880b-182d-466d-b7bf-9727f5111e62",
   "metadata": {},
   "outputs": [
    {
     "data": {
      "text/plain": [
       "0    1.00\n",
       "1    0.65\n",
       "2    1.00\n",
       "dtype: float64"
      ]
     },
     "execution_count": 27,
     "metadata": {},
     "output_type": "execute_result"
    }
   ],
   "source": [
    "utils.adj_pdev(pd.Series([1, .5, 1]))"
   ]
  },
  {
   "cell_type": "code",
   "execution_count": 15,
   "id": "5c50f9c9-573a-479a-88e9-a0d582c1d8a7",
   "metadata": {},
   "outputs": [],
   "source": [
    "x = [p/100 for p in range(100)]\n",
    "y = [utils.adj_pdev(xi) for xi in x]"
   ]
  },
  {
   "cell_type": "code",
   "execution_count": 18,
   "id": "c9768ad4-b1d2-4d36-8abf-b28b0bc28d37",
   "metadata": {},
   "outputs": [],
   "source": [
    "x2 = [p/100 for p in range(100)]\n",
    "y2 = [8/5* xi for xi in x]"
   ]
  },
  {
   "cell_type": "code",
   "execution_count": 19,
   "id": "65b38696-7ac4-49fc-ba67-0cfabe71eef1",
   "metadata": {},
   "outputs": [
    {
     "data": {
      "text/plain": [
       "<matplotlib.collections.PathCollection at 0x157ad7730>"
      ]
     },
     "execution_count": 19,
     "metadata": {},
     "output_type": "execute_result"
    },
    {
     "data": {
      "image/png": "[encoded data removed]",
      "text/plain": [
       "<Figure size 432x288 with 1 Axes>"
      ]
     },
     "metadata": {
      "needs_background": "light"
     },
     "output_type": "display_data"
    }
   ],
   "source": [
    "plt.scatter(x, y)\n",
    "plt.scatter(x2, y2)"
   ]
  },
  {
   "cell_type": "code",
   "execution_count": 81,
   "id": "94bd07c2-3b43-426a-97b6-48c5bd307931",
   "metadata": {},
   "outputs": [
    {
     "name": "stderr",
     "output_type": "stream",
     "text": [
      "/Users/Salim/Library/Caches/pypoetry/virtualenvs/housing-elements-_yehc9l1-py3.8/lib/python3.8/site-packages/openpyxl/worksheet/_reader.py:312: UserWarning: Data Validation extension is not supported and will be removed\n",
      "  warn(msg)\n"
     ]
    }
   ],
   "source": [
    "permits = utils.load_all_new_building_permits('Los Altos')"
   ]
  },
  {
   "cell_type": "code",
   "execution_count": 82,
   "id": "dd7aed05-bbf8-4e66-91d1-ef2d69682171",
   "metadata": {},
   "outputs": [
    {
     "data": {
      "text/plain": [
       "477"
      ]
     },
     "execution_count": 82,
     "metadata": {},
     "output_type": "execute_result"
    }
   ],
   "source": [
    "utils.calculate_rhna_success('Los Altos', permits)"
   ]
  },
  {
   "cell_type": "code",
   "execution_count": 84,
   "id": "d1fb6667-d18a-42d5-9acb-79cdc2deefdf",
   "metadata": {},
   "outputs": [
    {
     "data": {
      "text/plain": [
       "Int64Dtype()"
      ]
     },
     "execution_count": 84,
     "metadata": {},
     "output_type": "execute_result"
    }
   ],
   "source": [
    "permits['apn'].dtypes"
   ]
  },
  {
   "cell_type": "code",
   "execution_count": 87,
   "id": "3b7385c3-6093-461e-912d-89c1991d5fb9",
   "metadata": {},
   "outputs": [
    {
     "name": "stdout",
     "output_type": "stream",
     "text": [
      "Dropping constant columns: ['infcapcty', 'rhnacyc', 'num_am', 'num_m', 'county', 'rhnayrs', 'num_l', 'jurisdict', 'num_vl', 'allowlow']\n",
      "DF shape (57, 27)\n"
     ]
    }
   ],
   "source": [
    "sites = utils.load_site_inventory('Los Altos')"
   ]
  },
  {
   "cell_type": "code",
   "execution_count": 88,
   "id": "bda77fab-5636-473b-8c05-1b7178d0bca7",
   "metadata": {},
   "outputs": [
    {
     "data": {
      "text/plain": [
       "Int64Dtype()"
      ]
     },
     "execution_count": 88,
     "metadata": {},
     "output_type": "execute_result"
    }
   ],
   "source": [
    "sites['apn'].dtypes"
   ]
  },
  {
   "cell_type": "code",
   "execution_count": 89,
   "id": "680181e7-bc3d-4c48-9be7-b0dbf6d62b40",
   "metadata": {},
   "outputs": [
    {
     "data": {
      "text/plain": [
       "Int64Dtype()"
      ]
     },
     "execution_count": 89,
     "metadata": {},
     "output_type": "execute_result"
    }
   ],
   "source": [
    "sites['locapn'].dtypes"
   ]
  },
  {
   "cell_type": "code",
   "execution_count": 90,
   "id": "0e9a1a12-17f0-4de1-aff3-d329ddca766a",
   "metadata": {},
   "outputs": [
    {
     "name": "stdout",
     "output_type": "stream",
     "text": [
      "Dropping constant columns: ['rhnacyc', 'num_am', 'num_m', 'county', 'rhnayrs', 'num_l', 'jurisdict', 'num_vl', 'allowlow', 'currunits']\n",
      "DF shape (6158, 27)\n"
     ]
    }
   ],
   "source": [
    "sf_sites = utils.load_site_inventory('San Francisco')"
   ]
  },
  {
   "cell_type": "code",
   "execution_count": 91,
   "id": "6145b96c-b1be-439f-91ac-cc3db26dded3",
   "metadata": {},
   "outputs": [
    {
     "data": {
      "text/plain": [
       "Int64Dtype()"
      ]
     },
     "execution_count": 91,
     "metadata": {},
     "output_type": "execute_result"
    }
   ],
   "source": [
    "sf_sites['apn'].dtypes"
   ]
  },
  {
   "cell_type": "code",
   "execution_count": 92,
   "id": "e6e40d77-f70f-4b35-abff-8cdbee55d08d",
   "metadata": {},
   "outputs": [
    {
     "data": {
      "text/plain": [
       "Int64Dtype()"
      ]
     },
     "execution_count": 92,
     "metadata": {},
     "output_type": "execute_result"
    }
   ],
   "source": [
    "sf_sites['locapn'].dtypes"
   ]
  },
  {
   "cell_type": "code",
   "execution_count": 93,
   "id": "38793dd1-0eb4-4538-986d-b7ca4673285c",
   "metadata": {},
   "outputs": [
    {
     "name": "stderr",
     "output_type": "stream",
     "text": [
      "/Users/Salim/Library/Caches/pypoetry/virtualenvs/housing-elements-_yehc9l1-py3.8/lib/python3.8/site-packages/openpyxl/worksheet/_reader.py:312: UserWarning: Data Validation extension is not supported and will be removed\n",
      "  warn(msg)\n",
      "/Users/Salim/Library/Caches/pypoetry/virtualenvs/housing-elements-_yehc9l1-py3.8/lib/python3.8/site-packages/openpyxl/worksheet/_reader.py:312: UserWarning: Data Validation extension is not supported and will be removed\n",
      "  warn(msg)\n"
     ]
    }
   ],
   "source": [
    "sf_permits = utils.load_all_new_building_permits('San Francisco')"
   ]
  },
  {
   "cell_type": "code",
   "execution_count": 94,
   "id": "3e37f492-d171-49a1-9c1d-0db09e21546f",
   "metadata": {},
   "outputs": [
    {
     "data": {
      "text/plain": [
       "Int64Dtype()"
      ]
     },
     "execution_count": 94,
     "metadata": {},
     "output_type": "execute_result"
    }
   ],
   "source": [
    "sf_permits['apn'].dtypes"
   ]
  },
  {
   "cell_type": "code",
   "execution_count": 96,
   "id": "9aca7118-5267-4d1c-9068-ba4cc68e3f12",
   "metadata": {},
   "outputs": [
    {
     "data": {
      "text/plain": [
       "674        <NA>\n",
       "1207    1519035\n",
       "1702    4914031\n",
       "1699    1669025\n",
       "941        <NA>\n",
       "Name: apn, dtype: Int64"
      ]
     },
     "execution_count": 96,
     "metadata": {},
     "output_type": "execute_result"
    }
   ],
   "source": [
    "sf_permits.apn.sample(5)"
   ]
  },
  {
   "cell_type": "code",
   "execution_count": 98,
   "id": "f9e39831-cb3c-4892-9396-60be13a34065",
   "metadata": {},
   "outputs": [
    {
     "data": {
      "text/plain": [
       "34806    7030071\n",
       "27282    3639007\n",
       "30001     331005\n",
       "30624    2062022\n",
       "32387    5617032\n",
       "Name: locapn, dtype: Int64"
      ]
     },
     "execution_count": 98,
     "metadata": {},
     "output_type": "execute_result"
    }
   ],
   "source": [
    "sf_sites.locapn.sample(5)"
   ]
  },
  {
   "cell_type": "code",
   "execution_count": null,
   "id": "f0fa0bbb-73c1-4628-947f-eee66644e79d",
   "metadata": {},
   "outputs": [],
   "source": []
  }
 ],
 "metadata": {
  "kernelspec": {
   "display_name": "Python 3",
   "language": "python",
   "name": "python3"
  },
  "language_info": {
   "codemirror_mode": {
    "name": "ipython",
    "version": 3
   },
   "file_extension": ".py",
   "mimetype": "text/x-python",
   "name": "python",
   "nbconvert_exporter": "python",
   "pygments_lexer": "ipython3",
   "version": "3.8.2"
  }
 },
 "nbformat": 4,
 "nbformat_minor": 5
}
