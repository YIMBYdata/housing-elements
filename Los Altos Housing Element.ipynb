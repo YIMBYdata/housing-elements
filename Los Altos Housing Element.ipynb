{
 "cells": [
  {
   "cell_type": "code",
   "execution_count": 141,
   "id": "early-green",
   "metadata": {},
   "outputs": [],
   "source": [
    "import numpy as np\n",
    "import pandas as pd\n",
    "import geopandas as gpd"
   ]
  },
  {
   "cell_type": "markdown",
   "id": "wound-progressive",
   "metadata": {},
   "source": [
    "## Load sites data, and clean data"
   ]
  },
  {
   "cell_type": "code",
   "execution_count": 142,
   "id": "fiscal-debate",
   "metadata": {},
   "outputs": [],
   "source": [
    "sites_df = gpd.read_file(\n",
    "    './data/raw_data/housing_sites/xn--Bay_Area_Housing_Opportunity_Sites_Inventory__20072023_-it38a.shp'\n",
    ")"
   ]
  },
  {
   "cell_type": "code",
   "execution_count": 143,
   "id": "lucky-boost",
   "metadata": {},
   "outputs": [],
   "source": [
    "la_sites = sites_df.query('jurisdict == \"Los Altos\" and rhnacyc == \"RHNA5\"').copy()\n",
    "la_sites.fillna(value=np.nan, inplace=True)\n",
    "la_sites['allowden'] = la_sites['allowden'].astype(float)\n",
    "la_sites['relcapcty'] = la_sites['relcapcty'].astype(float)"
   ]
  },
  {
   "cell_type": "code",
   "execution_count": 144,
   "id": "residential-article",
   "metadata": {},
   "outputs": [
    {
     "data": {
      "text/plain": [
       "array(['rhnacyc', 'rhnayrs', 'county', 'jurisdict', 'allowlow', 'num_vl',\n",
       "       'num_l', 'num_m', 'num_am', 'infcapcty'], dtype=object)"
      ]
     },
     "execution_count": 144,
     "metadata": {},
     "output_type": "execute_result"
    }
   ],
   "source": [
    "is_constant = ((la_sites == la_sites.iloc[0]).all())\n",
    "constant_cols = is_constant[is_constant].index.values\n",
    "constant_cols"
   ]
  },
  {
   "cell_type": "code",
   "execution_count": 145,
   "id": "foreign-prisoner",
   "metadata": {},
   "outputs": [],
   "source": [
    "la_sites.drop(constant_cols, axis=1, inplace=True)"
   ]
  },
  {
   "cell_type": "code",
   "execution_count": 146,
   "id": "academic-consent",
   "metadata": {},
   "outputs": [],
   "source": [
    "la_sites.dropna(how='all', axis=1, inplace=True)"
   ]
  },
  {
   "cell_type": "code",
   "execution_count": 147,
   "id": "front-lithuania",
   "metadata": {},
   "outputs": [
    {
     "data": {
      "text/plain": [
       "(57, 19)"
      ]
     },
     "execution_count": 147,
     "metadata": {},
     "output_type": "execute_result"
    }
   ],
   "source": [
    "la_sites.shape"
   ]
  },
  {
   "cell_type": "markdown",
   "id": "elect-maryland",
   "metadata": {},
   "source": [
    "## Load building permits data"
   ]
  },
  {
   "cell_type": "code",
   "execution_count": 148,
   "id": "secret-tolerance",
   "metadata": {},
   "outputs": [],
   "source": [
    "permits = pd.read_csv('./data/clean_data/los_altos_clean.csv', sep='\\t')"
   ]
  },
  {
   "cell_type": "code",
   "execution_count": 149,
   "id": "standard-tokyo",
   "metadata": {},
   "outputs": [
    {
     "data": {
      "text/plain": [
       "(249, 15)"
      ]
     },
     "execution_count": 149,
     "metadata": {},
     "output_type": "execute_result"
    }
   ],
   "source": [
    "permits.shape"
   ]
  },
  {
   "cell_type": "code",
   "execution_count": 150,
   "id": "illegal-numbers",
   "metadata": {
    "tags": []
   },
   "outputs": [
    {
     "data": {
      "text/html": [
       "<div>\n",
       "<style scoped>\n",
       "    .dataframe tbody tr th:only-of-type {\n",
       "        vertical-align: middle;\n",
       "    }\n",
       "\n",
       "    .dataframe tbody tr th {\n",
       "        vertical-align: top;\n",
       "    }\n",
       "\n",
       "    .dataframe thead th {\n",
       "        text-align: right;\n",
       "    }\n",
       "</style>\n",
       "<table border=\"1\" class=\"dataframe\">\n",
       "  <thead>\n",
       "    <tr style=\"text-align: right;\">\n",
       "      <th></th>\n",
       "      <th>Permit.Number</th>\n",
       "      <th>Permit.Type</th>\n",
       "      <th>Permit.Subtype</th>\n",
       "      <th>Status</th>\n",
       "      <th>Description</th>\n",
       "      <th>Site.Address</th>\n",
       "      <th>APN</th>\n",
       "      <th>Applied</th>\n",
       "      <th>Issued</th>\n",
       "      <th>Finaled</th>\n",
       "      <th>Address</th>\n",
       "      <th>RHNA.Date</th>\n",
       "      <th>Applied.Year</th>\n",
       "      <th>lon</th>\n",
       "      <th>lat</th>\n",
       "    </tr>\n",
       "  </thead>\n",
       "  <tbody>\n",
       "    <tr>\n",
       "      <th>1</th>\n",
       "      <td>1996-630232</td>\n",
       "      <td>MULTI FAMILY</td>\n",
       "      <td>CONDOMINIUM</td>\n",
       "      <td>FINALED</td>\n",
       "      <td>Condo</td>\n",
       "      <td>540 GABILAN ST</td>\n",
       "      <td>17038093.0</td>\n",
       "      <td>1996-08-01</td>\n",
       "      <td>1996-10-31</td>\n",
       "      <td>1997-08-21</td>\n",
       "      <td>540 GABILAN</td>\n",
       "      <td>1996.0</td>\n",
       "      <td>1996</td>\n",
       "      <td>-122.110832</td>\n",
       "      <td>37.373316</td>\n",
       "    </tr>\n",
       "    <tr>\n",
       "      <th>2</th>\n",
       "      <td>2006-648097</td>\n",
       "      <td>MULTI FAMILY</td>\n",
       "      <td>NaN</td>\n",
       "      <td>FINALED</td>\n",
       "      <td>Town Homes</td>\n",
       "      <td>4388 EL CAMINO REAL</td>\n",
       "      <td>16711062.0</td>\n",
       "      <td>2006-04-14</td>\n",
       "      <td>2007-09-25</td>\n",
       "      <td>2009-06-04</td>\n",
       "      <td>4388 EL CAMINO</td>\n",
       "      <td>2007.0</td>\n",
       "      <td>2006</td>\n",
       "      <td>-122.117649</td>\n",
       "      <td>37.403486</td>\n",
       "    </tr>\n",
       "    <tr>\n",
       "      <th>3</th>\n",
       "      <td>2007-649844</td>\n",
       "      <td>MIXED USE</td>\n",
       "      <td>NaN</td>\n",
       "      <td>PENDING</td>\n",
       "      <td>Test</td>\n",
       "      <td>0 N AVALON DR</td>\n",
       "      <td>17022013.0</td>\n",
       "      <td>2007-04-09</td>\n",
       "      <td>NaN</td>\n",
       "      <td>NaN</td>\n",
       "      <td>0 AVALON DR</td>\n",
       "      <td>NaN</td>\n",
       "      <td>2007</td>\n",
       "      <td>-122.104574</td>\n",
       "      <td>37.385009</td>\n",
       "    </tr>\n",
       "    <tr>\n",
       "      <th>4</th>\n",
       "      <td>2008-654927</td>\n",
       "      <td>MULTI FAMILY</td>\n",
       "      <td>NaN</td>\n",
       "      <td>FINALED</td>\n",
       "      <td>Townhouse</td>\n",
       "      <td>58 CUESTA DR</td>\n",
       "      <td>17048024.0</td>\n",
       "      <td>2008-10-13</td>\n",
       "      <td>2010-03-05</td>\n",
       "      <td>2010-11-02</td>\n",
       "      <td>58 CUESTA DR</td>\n",
       "      <td>2010.0</td>\n",
       "      <td>2008</td>\n",
       "      <td>-122.113517</td>\n",
       "      <td>37.373805</td>\n",
       "    </tr>\n",
       "    <tr>\n",
       "      <th>5</th>\n",
       "      <td>2008-654928</td>\n",
       "      <td>MULTI FAMILY</td>\n",
       "      <td>NaN</td>\n",
       "      <td>FINALED</td>\n",
       "      <td>Townhome</td>\n",
       "      <td>62 CUESTA DR</td>\n",
       "      <td>17048025.0</td>\n",
       "      <td>2008-10-13</td>\n",
       "      <td>2010-03-05</td>\n",
       "      <td>2010-10-29</td>\n",
       "      <td>62 CUESTA DR</td>\n",
       "      <td>2010.0</td>\n",
       "      <td>2008</td>\n",
       "      <td>-122.113470</td>\n",
       "      <td>37.373808</td>\n",
       "    </tr>\n",
       "  </tbody>\n",
       "</table>\n",
       "</div>"
      ],
      "text/plain": [
       "  Permit.Number   Permit.Type Permit.Subtype   Status Description  \\\n",
       "1   1996-630232  MULTI FAMILY    CONDOMINIUM  FINALED       Condo   \n",
       "2   2006-648097  MULTI FAMILY            NaN  FINALED  Town Homes   \n",
       "3   2007-649844     MIXED USE            NaN  PENDING        Test   \n",
       "4   2008-654927  MULTI FAMILY            NaN  FINALED   Townhouse   \n",
       "5   2008-654928  MULTI FAMILY            NaN  FINALED    Townhome   \n",
       "\n",
       "          Site.Address         APN     Applied      Issued     Finaled  \\\n",
       "1       540 GABILAN ST  17038093.0  1996-08-01  1996-10-31  1997-08-21   \n",
       "2  4388 EL CAMINO REAL  16711062.0  2006-04-14  2007-09-25  2009-06-04   \n",
       "3        0 N AVALON DR  17022013.0  2007-04-09         NaN         NaN   \n",
       "4         58 CUESTA DR  17048024.0  2008-10-13  2010-03-05  2010-11-02   \n",
       "5         62 CUESTA DR  17048025.0  2008-10-13  2010-03-05  2010-10-29   \n",
       "\n",
       "          Address  RHNA.Date  Applied.Year         lon        lat  \n",
       "1     540 GABILAN     1996.0          1996 -122.110832  37.373316  \n",
       "2  4388 EL CAMINO     2007.0          2006 -122.117649  37.403486  \n",
       "3     0 AVALON DR        NaN          2007 -122.104574  37.385009  \n",
       "4    58 CUESTA DR     2010.0          2008 -122.113517  37.373805  \n",
       "5    62 CUESTA DR     2010.0          2008 -122.113470  37.373808  "
      ]
     },
     "execution_count": 150,
     "metadata": {},
     "output_type": "execute_result"
    }
   ],
   "source": [
    "permits.head()"
   ]
  },
  {
   "cell_type": "code",
   "execution_count": 151,
   "id": "ambient-weather",
   "metadata": {},
   "outputs": [],
   "source": [
    "permits.dropna(how='all', axis='columns', inplace=True)\n"
   ]
  },
  {
   "cell_type": "code",
   "execution_count": 152,
   "id": "promising-found",
   "metadata": {},
   "outputs": [
    {
     "data": {
      "text/plain": [
       "(249, 15)"
      ]
     },
     "execution_count": 152,
     "metadata": {},
     "output_type": "execute_result"
    }
   ],
   "source": [
    "permits.shape"
   ]
  },
  {
   "cell_type": "code",
   "execution_count": 153,
   "id": "solved-bathroom",
   "metadata": {},
   "outputs": [],
   "source": [
    "date_cols = ['Issued', 'Finaled', 'Applied']\n",
    "permits[date_cols] = permits[date_cols].apply(pd.to_datetime)"
   ]
  },
  {
   "cell_type": "code",
   "execution_count": 154,
   "id": "official-conditions",
   "metadata": {},
   "outputs": [
    {
     "data": {
      "text/plain": [
       "Issued\n",
       "1996-12-31      1\n",
       "2006-12-31      0\n",
       "2016-12-31    215\n",
       "2026-12-31     24\n",
       "dtype: int64"
      ]
     },
     "execution_count": 154,
     "metadata": {},
     "output_type": "execute_result"
    }
   ],
   "source": [
    "permits.groupby(pd.Grouper(key='Issued', freq='10Y')).size()"
   ]
  },
  {
   "cell_type": "code",
   "execution_count": 155,
   "id": "loose-curve",
   "metadata": {},
   "outputs": [
    {
     "data": {
      "text/plain": [
       "Permit.Number             2006-648097\n",
       "Permit.Type              MULTI FAMILY\n",
       "Permit.Subtype                    NaN\n",
       "Status                        FINALED\n",
       "Description                Town Homes\n",
       "Site.Address      4388 EL CAMINO REAL\n",
       "APN                       1.67111e+07\n",
       "Applied           2006-04-14 00:00:00\n",
       "Issued            2007-09-25 00:00:00\n",
       "Finaled           2009-06-04 00:00:00\n",
       "Address                4388 EL CAMINO\n",
       "RHNA.Date                        2007\n",
       "Applied.Year                     2006\n",
       "lon                          -122.118\n",
       "lat                           37.4035\n",
       "Name: 2, dtype: object"
      ]
     },
     "execution_count": 155,
     "metadata": {},
     "output_type": "execute_result"
    }
   ],
   "source": [
    "permits.iloc[1]"
   ]
  },
  {
   "cell_type": "code",
   "execution_count": 156,
   "id": "technical-incident",
   "metadata": {},
   "outputs": [],
   "source": [
    "permits_15_to_19 = permits.query('2015 <= Issued <= 2020')"
   ]
  },
  {
   "cell_type": "code",
   "execution_count": 163,
   "id": "mediterranean-practice",
   "metadata": {},
   "outputs": [],
   "source": [
    "la_sites.apn = la_sites.apn.str.replace('-','').astype('float')"
   ]
  },
  {
   "cell_type": "code",
   "execution_count": 164,
   "id": "determined-administrator",
   "metadata": {},
   "outputs": [
    {
     "data": {
      "text/plain": [
       "0.017543859649122806"
      ]
     },
     "execution_count": 164,
     "metadata": {},
     "output_type": "execute_result"
    }
   ],
   "source": [
    "la_sites.apn.isin(permits_15_to_19.APN).mean()"
   ]
  },
  {
   "cell_type": "code",
   "execution_count": 165,
   "id": "completed-madagascar",
   "metadata": {},
   "outputs": [
    {
     "data": {
      "text/html": [
       "<div>\n",
       "<style scoped>\n",
       "    .dataframe tbody tr th:only-of-type {\n",
       "        vertical-align: middle;\n",
       "    }\n",
       "\n",
       "    .dataframe tbody tr th {\n",
       "        vertical-align: top;\n",
       "    }\n",
       "\n",
       "    .dataframe thead th {\n",
       "        text-align: right;\n",
       "    }\n",
       "</style>\n",
       "<table border=\"1\" class=\"dataframe\">\n",
       "  <thead>\n",
       "    <tr style=\"text-align: right;\">\n",
       "      <th></th>\n",
       "      <th>objectid</th>\n",
       "      <th>apn</th>\n",
       "      <th>locapn</th>\n",
       "      <th>genplan</th>\n",
       "      <th>zoning</th>\n",
       "      <th>gacres</th>\n",
       "      <th>locacres</th>\n",
       "      <th>currunits</th>\n",
       "      <th>allowden</th>\n",
       "      <th>allowhigh</th>\n",
       "      <th>relcapcty</th>\n",
       "      <th>siteconst</th>\n",
       "      <th>sitetype</th>\n",
       "      <th>pdaparcel</th>\n",
       "      <th>existuse</th>\n",
       "      <th>localnote</th>\n",
       "      <th>Shape__Are</th>\n",
       "      <th>Shape__Len</th>\n",
       "      <th>geometry</th>\n",
       "    </tr>\n",
       "  </thead>\n",
       "  <tbody>\n",
       "    <tr>\n",
       "      <th>39880</th>\n",
       "      <td>82014</td>\n",
       "      <td>17038047.0</td>\n",
       "      <td>170-38-047</td>\n",
       "      <td>Medium Density Multi-Family</td>\n",
       "      <td>R3-1.8</td>\n",
       "      <td>0.162</td>\n",
       "      <td>0.16</td>\n",
       "      <td>1</td>\n",
       "      <td>50.0</td>\n",
       "      <td>50</td>\n",
       "      <td>8.0</td>\n",
       "      <td>One SFR</td>\n",
       "      <td>Underutilized</td>\n",
       "      <td>NaN</td>\n",
       "      <td>One SFR</td>\n",
       "      <td>could accommodate additional units through inc...</td>\n",
       "      <td>6.664641e-08</td>\n",
       "      <td>0.001253</td>\n",
       "      <td>POLYGON ((-122.11248 37.37373, -122.11248 37.3...</td>\n",
       "    </tr>\n",
       "  </tbody>\n",
       "</table>\n",
       "</div>"
      ],
      "text/plain": [
       "       objectid         apn      locapn                      genplan  zoning  \\\n",
       "39880     82014  17038047.0  170-38-047  Medium Density Multi-Family  R3-1.8   \n",
       "\n",
       "       gacres  locacres  currunits  allowden  allowhigh  relcapcty siteconst  \\\n",
       "39880   0.162      0.16          1      50.0         50        8.0   One SFR   \n",
       "\n",
       "            sitetype pdaparcel existuse  \\\n",
       "39880  Underutilized       NaN  One SFR   \n",
       "\n",
       "                                               localnote    Shape__Are  \\\n",
       "39880  could accommodate additional units through inc...  6.664641e-08   \n",
       "\n",
       "       Shape__Len                                           geometry  \n",
       "39880    0.001253  POLYGON ((-122.11248 37.37373, -122.11248 37.3...  "
      ]
     },
     "execution_count": 165,
     "metadata": {},
     "output_type": "execute_result"
    }
   ],
   "source": [
    "la_sites[la_sites.apn.isin(permits_15_to_19.APN)]"
   ]
  },
  {
   "cell_type": "code",
   "execution_count": null,
   "id": "tough-constraint",
   "metadata": {},
   "outputs": [],
   "source": []
  },
  {
   "cell_type": "code",
   "execution_count": null,
   "id": "acceptable-sewing",
   "metadata": {},
   "outputs": [],
   "source": []
  },
  {
   "cell_type": "code",
   "execution_count": null,
   "id": "random-dallas",
   "metadata": {},
   "outputs": [],
   "source": []
  }
 ],
 "metadata": {
  "kernelspec": {
   "display_name": "my_kernel",
   "language": "python",
   "name": "my_kernel"
  },
  "language_info": {
   "codemirror_mode": {
    "name": "ipython",
    "version": 3
   },
   "file_extension": ".py",
   "mimetype": "text/x-python",
   "name": "python",
   "nbconvert_exporter": "python",
   "pygments_lexer": "ipython3",
   "version": "3.7.7"
  }
 },
 "nbformat": 4,
 "nbformat_minor": 5
}
