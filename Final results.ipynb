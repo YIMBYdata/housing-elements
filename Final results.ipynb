{
 "cells": [
  {
   "cell_type": "code",
   "execution_count": 1,
   "id": "curious-british",
   "metadata": {},
   "outputs": [],
   "source": [
    "import numpy as np\n",
    "import pickle\n",
    "import pandas as pd\n",
    "from scipy import stats\n",
    "import matplotlib.pyplot as plt\n",
    "from housing_elements import utils, final_results"
   ]
  },
  {
   "cell_type": "markdown",
   "id": "third-preservation",
   "metadata": {},
   "source": [
    "# Load sites and permits DataFrames for each city"
   ]
  },
  {
   "cell_type": "code",
   "execution_count": 2,
   "id": "3ff69a62-4d87-4d0e-8e7a-00082aeb2426",
   "metadata": {},
   "outputs": [],
   "source": [
    "sites_df = utils.load_all_sites()"
   ]
  },
  {
   "cell_type": "code",
   "execution_count": 3,
   "id": "dacb6807-6293-405e-8a3f-93f34f0d6ca2",
   "metadata": {},
   "outputs": [],
   "source": [
    "# cities_with_sites, cities_with_permits = final_results.load_sites_and_permits()"
   ]
  },
  {
   "cell_type": "code",
   "execution_count": 4,
   "id": "718533f0-6bfd-4dac-857a-1d050fec9a3a",
   "metadata": {},
   "outputs": [],
   "source": [
    "with open('cities_with_sites_cache.pkl', 'rb') as f:\n",
    "    cities_with_sites = pickle.load(f)\n",
    "\n",
    "with open('cities_with_permits_cache.pkl', 'rb') as f:\n",
    "    cities_with_permits = pickle.load(f)"
   ]
  },
  {
   "cell_type": "markdown",
   "id": "indie-firewall",
   "metadata": {},
   "source": [
    "## Data Cleaning Factoids"
   ]
  },
  {
   "cell_type": "markdown",
   "id": "decimal-assessment",
   "metadata": {},
   "source": [
    "### Realistic Capacity"
   ]
  },
  {
   "cell_type": "markdown",
   "id": "checked-athens",
   "metadata": {},
   "source": [
    "#### Pre-Existing Nulls"
   ]
  },
  {
   "cell_type": "markdown",
   "id": "elect-convenience",
   "metadata": {},
   "source": [
    "Two ways to calculate NA realistic capacities come to the same conclusion"
   ]
  },
  {
   "cell_type": "code",
   "execution_count": 5,
   "id": "exciting-healthcare",
   "metadata": {},
   "outputs": [],
   "source": [
    "rhna5 = sites_df[sites_df.rhnacyc == 'RHNA5']"
   ]
  },
  {
   "cell_type": "code",
   "execution_count": 6,
   "id": "sonic-aquarium",
   "metadata": {},
   "outputs": [
    {
     "data": {
      "text/plain": [
       "(2910,)"
      ]
     },
     "execution_count": 6,
     "metadata": {},
     "output_type": "execute_result"
    }
   ],
   "source": [
    "rhna5.relcapcty[rhna5.relcapcty.isna()].shape"
   ]
  },
  {
   "cell_type": "code",
   "execution_count": 7,
   "id": "naughty-price",
   "metadata": {},
   "outputs": [
    {
     "name": "stderr",
     "output_type": "stream",
     "text": [
      "/Users/sidharthkapur/Library/Caches/pypoetry/virtualenvs/housing-elements-H302xxA9-py3.8/lib/python3.8/site-packages/pandas/core/strings/accessor.py:101: UserWarning: This pattern has match groups. To actually get the groups, use str.extract.\n",
      "  return func(self, *args, **kwargs)\n"
     ]
    },
    {
     "data": {
      "text/plain": [
       "(2910, 35)"
      ]
     },
     "execution_count": 7,
     "metadata": {},
     "output_type": "execute_result"
    }
   ],
   "source": [
    "rhna5[(rhna5.relcapcty.str.contains(\"/^([^0-9]*)$/\") != False)].shape"
   ]
  },
  {
   "cell_type": "code",
   "execution_count": 8,
   "id": "infrared-training",
   "metadata": {},
   "outputs": [
    {
     "data": {
      "text/plain": [
       "(20849, 35)"
      ]
     },
     "execution_count": 8,
     "metadata": {},
     "output_type": "execute_result"
    }
   ],
   "source": [
    "rhna5.shape"
   ]
  },
  {
   "cell_type": "code",
   "execution_count": 9,
   "id": "demanding-casino",
   "metadata": {},
   "outputs": [
    {
     "data": {
      "text/plain": [
       "0.13957503957024317"
      ]
     },
     "execution_count": 9,
     "metadata": {},
     "output_type": "execute_result"
    }
   ],
   "source": [
    "2910 / rhna5.shape[0]"
   ]
  },
  {
   "cell_type": "markdown",
   "id": "pursuant-contrary",
   "metadata": {},
   "source": [
    "### Proportion of nulls that are our fault versus theirs"
   ]
  },
  {
   "cell_type": "code",
   "execution_count": 10,
   "id": "third-course",
   "metadata": {},
   "outputs": [],
   "source": [
    "for city, site in cities_with_sites.items():\n",
    "    num_fail_parse_realcap = site.realcap_parse_fail.sum()\n",
    "    if num_fail_parse_realcap:\n",
    "        print(city, end='\\t')\n",
    "        print('Realcap', num_fail_parse_realcap)"
   ]
  },
  {
   "cell_type": "code",
   "execution_count": 11,
   "id": "rotary-overhead",
   "metadata": {},
   "outputs": [
    {
     "data": {
      "text/plain": [
       "0"
      ]
     },
     "execution_count": 11,
     "metadata": {},
     "output_type": "execute_result"
    }
   ],
   "source": [
    "sum([site.realcap_parse_fail.sum() for city, site in cities_with_sites.items()])"
   ]
  },
  {
   "cell_type": "markdown",
   "id": "incident-rochester",
   "metadata": {},
   "source": [
    "None of the realistic capacity nulls are our fault."
   ]
  },
  {
   "cell_type": "markdown",
   "id": "lucky-surge",
   "metadata": {},
   "source": [
    "#### Degenerate Rows"
   ]
  },
  {
   "cell_type": "code",
   "execution_count": 12,
   "id": "characteristic-johnson",
   "metadata": {},
   "outputs": [],
   "source": [
    "no_realcap = pd.to_numeric(rhna5.relcapcty, errors='coerce') == 0\n",
    "no_locacreage = pd.to_numeric(rhna5.locacres, errors='coerce') == 0\n",
    "no_gacreage = pd.to_numeric(rhna5.gacres, errors='coerce') == 0"
   ]
  },
  {
   "cell_type": "code",
   "execution_count": 13,
   "id": "discrete-discussion",
   "metadata": {},
   "outputs": [
    {
     "data": {
      "text/plain": [
       "(14, 35)"
      ]
     },
     "execution_count": 13,
     "metadata": {},
     "output_type": "execute_result"
    }
   ],
   "source": [
    "rhna5[no_realcap & no_locacreage].shape"
   ]
  },
  {
   "cell_type": "code",
   "execution_count": 14,
   "id": "neural-hunter",
   "metadata": {},
   "outputs": [
    {
     "data": {
      "text/plain": [
       "(0, 35)"
      ]
     },
     "execution_count": 14,
     "metadata": {},
     "output_type": "execute_result"
    }
   ],
   "source": [
    "rhna5[no_gacreage & no_locacreage].shape"
   ]
  },
  {
   "cell_type": "code",
   "execution_count": 15,
   "id": "cleared-excerpt",
   "metadata": {},
   "outputs": [
    {
     "data": {
      "text/plain": [
       "(0, 35)"
      ]
     },
     "execution_count": 15,
     "metadata": {},
     "output_type": "execute_result"
    }
   ],
   "source": [
    "rhna5[no_gacreage].shape"
   ]
  },
  {
   "cell_type": "markdown",
   "id": "previous-garlic",
   "metadata": {},
   "source": [
    "I wouldn't say there are any degenerate rows. Even when locacreage is zero, we can rely on gacreage instead. \n",
    "\n",
    "There are, however, 901 sites with no realistic capacity and no allowable density. What kind of sites are these?"
   ]
  },
  {
   "cell_type": "markdown",
   "id": "hundred-right",
   "metadata": {},
   "source": [
    "They're mostly in San Francisco and have a zoning type of PDR. According to SF's website, \"In order to protect PDR, residential development would be prohibited, while office, retail, and institutional uses (schools, hospitals, etc.) would be limited. HOWEVER, residences, offices and retail which currently exist legally in these areas may stay indefinitely.\"\n"
   ]
  },
  {
   "cell_type": "code",
   "execution_count": 16,
   "id": "apparent-surveillance",
   "metadata": {},
   "outputs": [],
   "source": [
    "sf_sites = cities_with_sites['San Francisco']\n",
    "sf_sites_fixed = sf_sites[\n",
    "    sf_sites['relcapcty'] != 0\n",
    "]\n",
    "cities_with_sites['San Francisco'] = sf_sites_fixed"
   ]
  },
  {
   "cell_type": "code",
   "execution_count": 17,
   "id": "mental-seeking",
   "metadata": {},
   "outputs": [
    {
     "data": {
      "text/plain": [
       "(5254, 30)"
      ]
     },
     "execution_count": 17,
     "metadata": {},
     "output_type": "execute_result"
    }
   ],
   "source": [
    "sf_sites.shape"
   ]
  },
  {
   "cell_type": "markdown",
   "id": "sticky-institution",
   "metadata": {},
   "source": [
    "## Results"
   ]
  },
  {
   "cell_type": "code",
   "execution_count": 18,
   "id": "6a627cf5-7e43-4fd8-b8d9-af3ad5cfd557",
   "metadata": {},
   "outputs": [],
   "source": [
    "apn_results_df = pd.read_csv('results/apn_matching_results.csv')"
   ]
  },
  {
   "cell_type": "code",
   "execution_count": 19,
   "id": "dcbebf99-4411-4a5c-bc13-55b527c32603",
   "metadata": {},
   "outputs": [
    {
     "data": {
      "text/plain": [
       "Text(0.5, 1.0, 'Are missing APNs skewing our results?')"
      ]
     },
     "execution_count": 19,
     "metadata": {},
     "output_type": "execute_result"
    },
    {
     "data": {
      "image/png": "[encoded data removed]",
      "text/plain": [
       "<Figure size 432x288 with 1 Axes>"
      ]
     },
     "metadata": {
      "needs_background": "light"
     },
     "output_type": "display_data"
    }
   ],
   "source": [
    "x = apn_results_df[\"P(dev) for inventory\"]\n",
    "y = [utils.fraction_apns_nan(p) for c, p in cities_with_permits.items() if c in cities_with_sites]\n",
    "plt.scatter(x, y, alpha=0.2)\n",
    "plt.xlabel(\"P(dev)\")\n",
    "plt.ylabel(\"% APNs NAN\")\n",
    "plt.title(\"Are missing APNs skewing our results?\")"
   ]
  },
  {
   "cell_type": "code",
   "execution_count": 20,
   "id": "22dd8dbe-afee-445d-95cc-1c806fcb354f",
   "metadata": {},
   "outputs": [],
   "source": [
    "results_both_df = pd.read_csv('results/apn_or_geo_matching_results.csv')"
   ]
  },
  {
   "cell_type": "code",
   "execution_count": 21,
   "id": "covered-astronomy",
   "metadata": {},
   "outputs": [
    {
     "data": {
      "text/html": [
       "<div>\n",
       "<style scoped>\n",
       "    .dataframe tbody tr th:only-of-type {\n",
       "        vertical-align: middle;\n",
       "    }\n",
       "\n",
       "    .dataframe tbody tr th {\n",
       "        vertical-align: top;\n",
       "    }\n",
       "\n",
       "    .dataframe thead th {\n",
       "        text-align: right;\n",
       "    }\n",
       "</style>\n",
       "<table border=\"1\" class=\"dataframe\">\n",
       "  <thead>\n",
       "    <tr style=\"text-align: right;\">\n",
       "      <th></th>\n",
       "      <th>city</th>\n",
       "      <th>fraction_null</th>\n",
       "    </tr>\n",
       "  </thead>\n",
       "  <tbody>\n",
       "    <tr>\n",
       "      <th>0</th>\n",
       "      <td>Berkeley</td>\n",
       "      <td>0.01</td>\n",
       "    </tr>\n",
       "    <tr>\n",
       "      <th>1</th>\n",
       "      <td>Albany</td>\n",
       "      <td>0.01</td>\n",
       "    </tr>\n",
       "    <tr>\n",
       "      <th>2</th>\n",
       "      <td>Alameda</td>\n",
       "      <td>0.43</td>\n",
       "    </tr>\n",
       "    <tr>\n",
       "      <th>3</th>\n",
       "      <td>Livermore</td>\n",
       "      <td>0.01</td>\n",
       "    </tr>\n",
       "    <tr>\n",
       "      <th>4</th>\n",
       "      <td>Fremont</td>\n",
       "      <td>0.40</td>\n",
       "    </tr>\n",
       "    <tr>\n",
       "      <th>...</th>\n",
       "      <td>...</td>\n",
       "      <td>...</td>\n",
       "    </tr>\n",
       "    <tr>\n",
       "      <th>94</th>\n",
       "      <td>Monte Sereno</td>\n",
       "      <td>0.18</td>\n",
       "    </tr>\n",
       "    <tr>\n",
       "      <th>95</th>\n",
       "      <td>Healdsburg</td>\n",
       "      <td>0.02</td>\n",
       "    </tr>\n",
       "    <tr>\n",
       "      <th>96</th>\n",
       "      <td>Fairfield</td>\n",
       "      <td>0.01</td>\n",
       "    </tr>\n",
       "    <tr>\n",
       "      <th>97</th>\n",
       "      <td>Sonoma</td>\n",
       "      <td>0.20</td>\n",
       "    </tr>\n",
       "    <tr>\n",
       "      <th>98</th>\n",
       "      <td>Windsor</td>\n",
       "      <td>0.01</td>\n",
       "    </tr>\n",
       "  </tbody>\n",
       "</table>\n",
       "<p>99 rows × 2 columns</p>\n",
       "</div>"
      ],
      "text/plain": [
       "            city  fraction_null\n",
       "0       Berkeley           0.01\n",
       "1         Albany           0.01\n",
       "2        Alameda           0.43\n",
       "3      Livermore           0.01\n",
       "4        Fremont           0.40\n",
       "..           ...            ...\n",
       "94  Monte Sereno           0.18\n",
       "95    Healdsburg           0.02\n",
       "96     Fairfield           0.01\n",
       "97        Sonoma           0.20\n",
       "98       Windsor           0.01\n",
       "\n",
       "[99 rows x 2 columns]"
      ]
     },
     "execution_count": 21,
     "metadata": {},
     "output_type": "execute_result"
    }
   ],
   "source": [
    "fraction_nulls = []\n",
    "for city, permits in cities_with_permits.items():\n",
    "    fraction_nulls.append({\n",
    "        'city': city,\n",
    "        'fraction_null': round(utils.fraction_apns_nan(permits), 2)\n",
    "    })\n",
    "pd.DataFrame(fraction_nulls)"
   ]
  },
  {
   "cell_type": "markdown",
   "id": "064274d8-8221-421b-ac34-08606c51f573",
   "metadata": {},
   "source": [
    "### Did RHNA success in last cycle actually have anything to do with how good the site inventory was?"
   ]
  },
  {
   "cell_type": "code",
   "execution_count": 22,
   "id": "ea4f35de-c644-4620-aff0-f97be66a18e3",
   "metadata": {},
   "outputs": [
    {
     "name": "stdout",
     "output_type": "stream",
     "text": [
      "Correlation between RHNA success and P(dev):\n",
      "(-0.05898729573982813, 0.56601770364845)\n"
     ]
    }
   ],
   "source": [
    "rhna_success = results_both_df['P(inventory) for homes built']\n",
    "p_dev = results_both_df['RHNA Success']\n",
    "\n",
    "is_null = np.isnan(rhna_success) | np.isnan(p_dev)\n",
    "\n",
    "print('Correlation between RHNA success and P(dev):')\n",
    "print(stats.pearsonr(rhna_success[~is_null], p_dev[~is_null]))"
   ]
  },
  {
   "cell_type": "markdown",
   "id": "harmful-balloon",
   "metadata": {},
   "source": [
    "### Table of top 10 cities by P(dev) & bottom 10"
   ]
  },
  {
   "cell_type": "markdown",
   "id": "continent-prime",
   "metadata": {},
   "source": [
    "#### Worst"
   ]
  },
  {
   "cell_type": "code",
   "execution_count": 23,
   "id": "infectious-marks",
   "metadata": {},
   "outputs": [
    {
     "data": {
      "text/html": [
       "<div>\n",
       "<style scoped>\n",
       "    .dataframe tbody tr th:only-of-type {\n",
       "        vertical-align: middle;\n",
       "    }\n",
       "\n",
       "    .dataframe tbody tr th {\n",
       "        vertical-align: top;\n",
       "    }\n",
       "\n",
       "    .dataframe thead th {\n",
       "        text-align: right;\n",
       "    }\n",
       "</style>\n",
       "<table border=\"1\" class=\"dataframe\">\n",
       "  <thead>\n",
       "    <tr style=\"text-align: right;\">\n",
       "      <th></th>\n",
       "      <th>Unnamed: 0</th>\n",
       "      <th>City</th>\n",
       "      <th>Mean underproduction</th>\n",
       "      <th>RHNA Success</th>\n",
       "      <th>P(inventory) for homes built</th>\n",
       "      <th>P(dev) for nonvacant sites</th>\n",
       "      <th>P(dev) for vacant sites</th>\n",
       "      <th>P(dev) for inventory</th>\n",
       "      <th># nonvacant matches</th>\n",
       "      <th># vacant matches</th>\n",
       "      <th># matches</th>\n",
       "    </tr>\n",
       "  </thead>\n",
       "  <tbody>\n",
       "    <tr>\n",
       "      <th>25</th>\n",
       "      <td>25</td>\n",
       "      <td>East Palo Alto</td>\n",
       "      <td>NaN</td>\n",
       "      <td>0.201285</td>\n",
       "      <td>0.0</td>\n",
       "      <td>0.0</td>\n",
       "      <td>0.0</td>\n",
       "      <td>0.0</td>\n",
       "      <td>0 / 27</td>\n",
       "      <td>0 / 8</td>\n",
       "      <td>0 / 39</td>\n",
       "    </tr>\n",
       "    <tr>\n",
       "      <th>1</th>\n",
       "      <td>1</td>\n",
       "      <td>Albany</td>\n",
       "      <td>NaN</td>\n",
       "      <td>0.770149</td>\n",
       "      <td>0.0</td>\n",
       "      <td>0.0</td>\n",
       "      <td>0.0</td>\n",
       "      <td>0.0</td>\n",
       "      <td>0 / 17</td>\n",
       "      <td>0 / 8</td>\n",
       "      <td>0 / 41</td>\n",
       "    </tr>\n",
       "    <tr>\n",
       "      <th>56</th>\n",
       "      <td>56</td>\n",
       "      <td>Pacifica</td>\n",
       "      <td>NaN</td>\n",
       "      <td>0.213075</td>\n",
       "      <td>0.0</td>\n",
       "      <td>0.0</td>\n",
       "      <td>0.0</td>\n",
       "      <td>0.0</td>\n",
       "      <td>0 / 18</td>\n",
       "      <td>0 / 9</td>\n",
       "      <td>0 / 43</td>\n",
       "    </tr>\n",
       "    <tr>\n",
       "      <th>3</th>\n",
       "      <td>3</td>\n",
       "      <td>Antioch</td>\n",
       "      <td>NaN</td>\n",
       "      <td>0.498619</td>\n",
       "      <td>0.0</td>\n",
       "      <td>0.0</td>\n",
       "      <td>0.0</td>\n",
       "      <td>0.0</td>\n",
       "      <td>0 / 6</td>\n",
       "      <td>0 / 3</td>\n",
       "      <td>0 / 9</td>\n",
       "    </tr>\n",
       "    <tr>\n",
       "      <th>35</th>\n",
       "      <td>35</td>\n",
       "      <td>Hercules</td>\n",
       "      <td>NaN</td>\n",
       "      <td>1.083578</td>\n",
       "      <td>0.0</td>\n",
       "      <td>NaN</td>\n",
       "      <td>0.0</td>\n",
       "      <td>0.0</td>\n",
       "      <td>0 / 0</td>\n",
       "      <td>0 / 14</td>\n",
       "      <td>0 / 14</td>\n",
       "    </tr>\n",
       "    <tr>\n",
       "      <th>82</th>\n",
       "      <td>82</td>\n",
       "      <td>Saratoga</td>\n",
       "      <td>NaN</td>\n",
       "      <td>0.189066</td>\n",
       "      <td>0.0</td>\n",
       "      <td>0.0</td>\n",
       "      <td>NaN</td>\n",
       "      <td>0.0</td>\n",
       "      <td>0 / 8</td>\n",
       "      <td>0 / 0</td>\n",
       "      <td>0 / 14</td>\n",
       "    </tr>\n",
       "    <tr>\n",
       "      <th>83</th>\n",
       "      <td>83</td>\n",
       "      <td>Sausalito</td>\n",
       "      <td>NaN</td>\n",
       "      <td>0.367089</td>\n",
       "      <td>0.0</td>\n",
       "      <td>0.0</td>\n",
       "      <td>0.0</td>\n",
       "      <td>0.0</td>\n",
       "      <td>0 / 60</td>\n",
       "      <td>0 / 27</td>\n",
       "      <td>0 / 87</td>\n",
       "    </tr>\n",
       "    <tr>\n",
       "      <th>47</th>\n",
       "      <td>47</td>\n",
       "      <td>Monte Sereno</td>\n",
       "      <td>NaN</td>\n",
       "      <td>0.770492</td>\n",
       "      <td>0.0</td>\n",
       "      <td>0.0</td>\n",
       "      <td>NaN</td>\n",
       "      <td>0.0</td>\n",
       "      <td>0 / 5</td>\n",
       "      <td>0 / 0</td>\n",
       "      <td>0 / 6</td>\n",
       "    </tr>\n",
       "    <tr>\n",
       "      <th>68</th>\n",
       "      <td>68</td>\n",
       "      <td>Rohnert Park</td>\n",
       "      <td>NaN</td>\n",
       "      <td>1.414905</td>\n",
       "      <td>0.0</td>\n",
       "      <td>0.0</td>\n",
       "      <td>0.0</td>\n",
       "      <td>0.0</td>\n",
       "      <td>0 / 3</td>\n",
       "      <td>0 / 1</td>\n",
       "      <td>0 / 35</td>\n",
       "    </tr>\n",
       "    <tr>\n",
       "      <th>69</th>\n",
       "      <td>69</td>\n",
       "      <td>Ross</td>\n",
       "      <td>NaN</td>\n",
       "      <td>1.000000</td>\n",
       "      <td>0.0</td>\n",
       "      <td>0.0</td>\n",
       "      <td>0.0</td>\n",
       "      <td>0.0</td>\n",
       "      <td>0 / 8</td>\n",
       "      <td>0 / 11</td>\n",
       "      <td>0 / 25</td>\n",
       "    </tr>\n",
       "  </tbody>\n",
       "</table>\n",
       "</div>"
      ],
      "text/plain": [
       "    Unnamed: 0            City  Mean underproduction  RHNA Success  \\\n",
       "25          25  East Palo Alto                   NaN      0.201285   \n",
       "1            1          Albany                   NaN      0.770149   \n",
       "56          56        Pacifica                   NaN      0.213075   \n",
       "3            3         Antioch                   NaN      0.498619   \n",
       "35          35        Hercules                   NaN      1.083578   \n",
       "82          82        Saratoga                   NaN      0.189066   \n",
       "83          83       Sausalito                   NaN      0.367089   \n",
       "47          47    Monte Sereno                   NaN      0.770492   \n",
       "68          68    Rohnert Park                   NaN      1.414905   \n",
       "69          69            Ross                   NaN      1.000000   \n",
       "\n",
       "    P(inventory) for homes built  P(dev) for nonvacant sites  \\\n",
       "25                           0.0                         0.0   \n",
       "1                            0.0                         0.0   \n",
       "56                           0.0                         0.0   \n",
       "3                            0.0                         0.0   \n",
       "35                           0.0                         NaN   \n",
       "82                           0.0                         0.0   \n",
       "83                           0.0                         0.0   \n",
       "47                           0.0                         0.0   \n",
       "68                           0.0                         0.0   \n",
       "69                           0.0                         0.0   \n",
       "\n",
       "    P(dev) for vacant sites  P(dev) for inventory # nonvacant matches  \\\n",
       "25                      0.0                   0.0              0 / 27   \n",
       "1                       0.0                   0.0              0 / 17   \n",
       "56                      0.0                   0.0              0 / 18   \n",
       "3                       0.0                   0.0               0 / 6   \n",
       "35                      0.0                   0.0               0 / 0   \n",
       "82                      NaN                   0.0               0 / 8   \n",
       "83                      0.0                   0.0              0 / 60   \n",
       "47                      NaN                   0.0               0 / 5   \n",
       "68                      0.0                   0.0               0 / 3   \n",
       "69                      0.0                   0.0               0 / 8   \n",
       "\n",
       "   # vacant matches # matches  \n",
       "25            0 / 8    0 / 39  \n",
       "1             0 / 8    0 / 41  \n",
       "56            0 / 9    0 / 43  \n",
       "3             0 / 3     0 / 9  \n",
       "35           0 / 14    0 / 14  \n",
       "82            0 / 0    0 / 14  \n",
       "83           0 / 27    0 / 87  \n",
       "47            0 / 0     0 / 6  \n",
       "68            0 / 1    0 / 35  \n",
       "69           0 / 11    0 / 25  "
      ]
     },
     "execution_count": 23,
     "metadata": {},
     "output_type": "execute_result"
    }
   ],
   "source": [
    "results_both_df.sort_values(by='P(dev) for inventory').head(10)"
   ]
  },
  {
   "cell_type": "markdown",
   "id": "leading-bermuda",
   "metadata": {},
   "source": [
    "#### Best"
   ]
  },
  {
   "cell_type": "code",
   "execution_count": 24,
   "id": "moving-duplicate",
   "metadata": {},
   "outputs": [
    {
     "data": {
      "text/html": [
       "<div>\n",
       "<style scoped>\n",
       "    .dataframe tbody tr th:only-of-type {\n",
       "        vertical-align: middle;\n",
       "    }\n",
       "\n",
       "    .dataframe tbody tr th {\n",
       "        vertical-align: top;\n",
       "    }\n",
       "\n",
       "    .dataframe thead th {\n",
       "        text-align: right;\n",
       "    }\n",
       "</style>\n",
       "<table border=\"1\" class=\"dataframe\">\n",
       "  <thead>\n",
       "    <tr style=\"text-align: right;\">\n",
       "      <th></th>\n",
       "      <th>Unnamed: 0</th>\n",
       "      <th>City</th>\n",
       "      <th>Mean underproduction</th>\n",
       "      <th>RHNA Success</th>\n",
       "      <th>P(inventory) for homes built</th>\n",
       "      <th>P(dev) for nonvacant sites</th>\n",
       "      <th>P(dev) for vacant sites</th>\n",
       "      <th>P(dev) for inventory</th>\n",
       "      <th># nonvacant matches</th>\n",
       "      <th># vacant matches</th>\n",
       "      <th># matches</th>\n",
       "    </tr>\n",
       "  </thead>\n",
       "  <tbody>\n",
       "    <tr>\n",
       "      <th>16</th>\n",
       "      <td>16</td>\n",
       "      <td>Colma</td>\n",
       "      <td>2.538462</td>\n",
       "      <td>1.271186</td>\n",
       "      <td>0.880000</td>\n",
       "      <td>NaN</td>\n",
       "      <td>NaN</td>\n",
       "      <td>1.000000</td>\n",
       "      <td>0 / 0</td>\n",
       "      <td>0 / 0</td>\n",
       "      <td>1 / 1</td>\n",
       "    </tr>\n",
       "    <tr>\n",
       "      <th>19</th>\n",
       "      <td>19</td>\n",
       "      <td>Cotati</td>\n",
       "      <td>NaN</td>\n",
       "      <td>0.613139</td>\n",
       "      <td>0.488095</td>\n",
       "      <td>0.000000</td>\n",
       "      <td>0.000000</td>\n",
       "      <td>0.418605</td>\n",
       "      <td>0 / 7</td>\n",
       "      <td>0 / 31</td>\n",
       "      <td>36 / 86</td>\n",
       "    </tr>\n",
       "    <tr>\n",
       "      <th>94</th>\n",
       "      <td>94</td>\n",
       "      <td>Windsor</td>\n",
       "      <td>NaN</td>\n",
       "      <td>0.454545</td>\n",
       "      <td>0.025000</td>\n",
       "      <td>0.000000</td>\n",
       "      <td>0.000000</td>\n",
       "      <td>0.392157</td>\n",
       "      <td>0 / 3</td>\n",
       "      <td>0 / 4</td>\n",
       "      <td>20 / 51</td>\n",
       "    </tr>\n",
       "    <tr>\n",
       "      <th>71</th>\n",
       "      <td>71</td>\n",
       "      <td>San Bruno</td>\n",
       "      <td>0.426667</td>\n",
       "      <td>0.216450</td>\n",
       "      <td>0.128000</td>\n",
       "      <td>0.333333</td>\n",
       "      <td>NaN</td>\n",
       "      <td>0.333333</td>\n",
       "      <td>2 / 6</td>\n",
       "      <td>0 / 0</td>\n",
       "      <td>2 / 6</td>\n",
       "    </tr>\n",
       "    <tr>\n",
       "      <th>18</th>\n",
       "      <td>18</td>\n",
       "      <td>Corte Madera</td>\n",
       "      <td>1.000000</td>\n",
       "      <td>0.486111</td>\n",
       "      <td>0.514286</td>\n",
       "      <td>0.000000</td>\n",
       "      <td>0.300000</td>\n",
       "      <td>0.272727</td>\n",
       "      <td>0 / 1</td>\n",
       "      <td>3 / 10</td>\n",
       "      <td>3 / 11</td>\n",
       "    </tr>\n",
       "    <tr>\n",
       "      <th>46</th>\n",
       "      <td>46</td>\n",
       "      <td>Milpitas</td>\n",
       "      <td>0.468769</td>\n",
       "      <td>0.947720</td>\n",
       "      <td>0.529185</td>\n",
       "      <td>0.222222</td>\n",
       "      <td>0.000000</td>\n",
       "      <td>0.263158</td>\n",
       "      <td>4 / 18</td>\n",
       "      <td>0 / 7</td>\n",
       "      <td>45 / 171</td>\n",
       "    </tr>\n",
       "    <tr>\n",
       "      <th>23</th>\n",
       "      <td>23</td>\n",
       "      <td>Dixon</td>\n",
       "      <td>0.118490</td>\n",
       "      <td>1.055838</td>\n",
       "      <td>0.110577</td>\n",
       "      <td>0.000000</td>\n",
       "      <td>0.363636</td>\n",
       "      <td>0.263158</td>\n",
       "      <td>0 / 2</td>\n",
       "      <td>4 / 11</td>\n",
       "      <td>5 / 19</td>\n",
       "    </tr>\n",
       "    <tr>\n",
       "      <th>0</th>\n",
       "      <td>0</td>\n",
       "      <td>Alameda</td>\n",
       "      <td>NaN</td>\n",
       "      <td>0.697040</td>\n",
       "      <td>0.000000</td>\n",
       "      <td>0.142857</td>\n",
       "      <td>0.272727</td>\n",
       "      <td>0.222222</td>\n",
       "      <td>1 / 7</td>\n",
       "      <td>3 / 11</td>\n",
       "      <td>4 / 18</td>\n",
       "    </tr>\n",
       "    <tr>\n",
       "      <th>63</th>\n",
       "      <td>63</td>\n",
       "      <td>Pleasanton</td>\n",
       "      <td>0.928975</td>\n",
       "      <td>1.027092</td>\n",
       "      <td>0.330193</td>\n",
       "      <td>0.250000</td>\n",
       "      <td>0.275862</td>\n",
       "      <td>0.220588</td>\n",
       "      <td>3 / 12</td>\n",
       "      <td>8 / 29</td>\n",
       "      <td>15 / 68</td>\n",
       "    </tr>\n",
       "    <tr>\n",
       "      <th>76</th>\n",
       "      <td>76</td>\n",
       "      <td>San Mateo</td>\n",
       "      <td>1.359946</td>\n",
       "      <td>0.545806</td>\n",
       "      <td>0.442080</td>\n",
       "      <td>0.100000</td>\n",
       "      <td>0.566667</td>\n",
       "      <td>0.212766</td>\n",
       "      <td>3 / 30</td>\n",
       "      <td>17 / 30</td>\n",
       "      <td>20 / 94</td>\n",
       "    </tr>\n",
       "  </tbody>\n",
       "</table>\n",
       "</div>"
      ],
      "text/plain": [
       "    Unnamed: 0          City  Mean underproduction  RHNA Success  \\\n",
       "16          16         Colma              2.538462      1.271186   \n",
       "19          19        Cotati                   NaN      0.613139   \n",
       "94          94       Windsor                   NaN      0.454545   \n",
       "71          71     San Bruno              0.426667      0.216450   \n",
       "18          18  Corte Madera              1.000000      0.486111   \n",
       "46          46      Milpitas              0.468769      0.947720   \n",
       "23          23         Dixon              0.118490      1.055838   \n",
       "0            0       Alameda                   NaN      0.697040   \n",
       "63          63    Pleasanton              0.928975      1.027092   \n",
       "76          76     San Mateo              1.359946      0.545806   \n",
       "\n",
       "    P(inventory) for homes built  P(dev) for nonvacant sites  \\\n",
       "16                      0.880000                         NaN   \n",
       "19                      0.488095                    0.000000   \n",
       "94                      0.025000                    0.000000   \n",
       "71                      0.128000                    0.333333   \n",
       "18                      0.514286                    0.000000   \n",
       "46                      0.529185                    0.222222   \n",
       "23                      0.110577                    0.000000   \n",
       "0                       0.000000                    0.142857   \n",
       "63                      0.330193                    0.250000   \n",
       "76                      0.442080                    0.100000   \n",
       "\n",
       "    P(dev) for vacant sites  P(dev) for inventory # nonvacant matches  \\\n",
       "16                      NaN              1.000000               0 / 0   \n",
       "19                 0.000000              0.418605               0 / 7   \n",
       "94                 0.000000              0.392157               0 / 3   \n",
       "71                      NaN              0.333333               2 / 6   \n",
       "18                 0.300000              0.272727               0 / 1   \n",
       "46                 0.000000              0.263158              4 / 18   \n",
       "23                 0.363636              0.263158               0 / 2   \n",
       "0                  0.272727              0.222222               1 / 7   \n",
       "63                 0.275862              0.220588              3 / 12   \n",
       "76                 0.566667              0.212766              3 / 30   \n",
       "\n",
       "   # vacant matches # matches  \n",
       "16            0 / 0     1 / 1  \n",
       "19           0 / 31   36 / 86  \n",
       "94            0 / 4   20 / 51  \n",
       "71            0 / 0     2 / 6  \n",
       "18           3 / 10    3 / 11  \n",
       "46            0 / 7  45 / 171  \n",
       "23           4 / 11    5 / 19  \n",
       "0            3 / 11    4 / 18  \n",
       "63           8 / 29   15 / 68  \n",
       "76          17 / 30   20 / 94  "
      ]
     },
     "execution_count": 24,
     "metadata": {},
     "output_type": "execute_result"
    }
   ],
   "source": [
    "results_both_df.sort_values(by='P(dev) for inventory', ascending=False).head(10)"
   ]
  },
  {
   "cell_type": "markdown",
   "id": "criminal-utilization",
   "metadata": {},
   "source": [
    "Let's look into some cities where the APN results and Geo results are very out of line:"
   ]
  },
  {
   "cell_type": "markdown",
   "id": "1417f15b-b6dc-43d9-aa5a-e2b84d721638",
   "metadata": {},
   "source": [
    "# Additional summary stats for results section"
   ]
  },
  {
   "cell_type": "code",
   "execution_count": 25,
   "id": "069c1dea-48b4-4717-a0bc-aa95ac4024b3",
   "metadata": {},
   "outputs": [
    {
     "name": "stdout",
     "output_type": "stream",
     "text": [
      "4007\n",
      "18575\n",
      "0.2157200538358008\n"
     ]
    }
   ],
   "source": [
    "n_nans = 0\n",
    "n_rows = 0\n",
    "for city, sites in cities_with_sites.items(): \n",
    "    n_nans += sites.sitetype.isna().sum()\n",
    "    n_rows += sites.shape[0]\n",
    "print(n_nans)\n",
    "print(n_rows)\n",
    "print(n_nans/ n_rows)"
   ]
  },
  {
   "cell_type": "code",
   "execution_count": 26,
   "id": "6ed7d902-0493-4799-ab18-b5617b79fdb1",
   "metadata": {},
   "outputs": [
    {
     "name": "stdout",
     "output_type": "stream",
     "text": [
      "6279 8120 4176\n"
     ]
    }
   ],
   "source": [
    "n_vacant, n_nonvacant, n_unknown = 0, 0, 0 \n",
    "for city, sites in cities_with_sites.items(): \n",
    "    n_vacant += sites.is_vacant.sum()\n",
    "    n_nonvacant  += sites.is_nonvacant.sum()\n",
    "    n_unknown += sites.na_vacant.sum()\n",
    "print(n_vacant, n_nonvacant, n_unknown)"
   ]
  },
  {
   "cell_type": "code",
   "execution_count": 27,
   "id": "c9b188a7-2651-4e84-9b16-06af8d2f3b0a",
   "metadata": {},
   "outputs": [
    {
     "name": "stdout",
     "output_type": "stream",
     "text": [
      "P(inventory) for homes built\n",
      "Median: 2.8%\n",
      "Mean: 11.3%\n",
      "\n"
     ]
    }
   ],
   "source": [
    "values = results_both_df['P(inventory) for homes built']\n",
    "print('P(inventory) for homes built')\n",
    "print('Median: {:.1%}'.format(values.median()))\n",
    "print('Mean: {:.1%}'.format(values.mean()))\n",
    "print()"
   ]
  },
  {
   "cell_type": "code",
   "execution_count": 28,
   "id": "3bc77342-fd57-474d-9503-b4f913d8350a",
   "metadata": {},
   "outputs": [],
   "source": [
    "def find_n_matches_raw_apn(cities):\n",
    "    n_matches = 0\n",
    "    for city in cities:\n",
    "        site_df = utils.load_site_inventory(city, standardize_apn=False)\n",
    "        permits_df = utils.load_all_new_building_permits(city, standardize_apn=False)\n",
    "        city_matches, _, _ = utils.calculate_pdev_for_inventory(site_df, permits_df, 'apn')\n",
    "        n_matches += city_matches\n",
    "    return n_matches"
   ]
  },
  {
   "cell_type": "code",
   "execution_count": 29,
   "id": "e6f674dc-fdf8-440f-870d-bf425d0ff3ec",
   "metadata": {},
   "outputs": [],
   "source": [
    "cities = sorted(set(cities_with_sites.keys()) & set(cities_with_permits.keys()))"
   ]
  },
  {
   "cell_type": "code",
   "execution_count": 31,
   "id": "2b1f399a-7ccd-43b3-bf2d-e8ced08d38cb",
   "metadata": {},
   "outputs": [
    {
     "name": "stdout",
     "output_type": "stream",
     "text": [
      "358\n"
     ]
    }
   ],
   "source": [
    "find_n_matches_raw_apn(cities)"
   ]
  },
  {
   "cell_type": "code",
   "execution_count": 292,
   "id": "e791c4db-fef7-4ce7-b167-4082b560b3ab",
   "metadata": {},
   "outputs": [],
   "source": [
    "def find_city_where_apn_formatting_mattered(cities):\n",
    "    for city in cities:\n",
    "        site_raw = utils.load_site_inventory(city, standardize_apn=False)\n",
    "        permits_raw = utils.load_all_new_building_permits(city, standardize_apn=False)\n",
    "        n_matches_raw, _, _ = utils.calculate_pdev_for_inventory(site_raw, permits_raw, 'apn')\n",
    "        \n",
    "        site_cln = utils.load_site_inventory(city, standardize_apn=True)\n",
    "        permits_cln = utils.load_all_new_building_permits(city, standardize_apn=True)\n",
    "        n_matches_cln, _, _ = utils.calculate_pdev_for_inventory(site_cln, permits_cln, 'apn')\n",
    "\n",
    "        if n_matches_raw != n_matches_cln:\n",
    "            matching_cln_site_indexes = site_cln[site_cln.apn.isin(permits_cln.apn)].index\n",
    "            matching_raw_site_indexes = site_raw[site_raw.apn.isin(permits_raw.apn)].index\n",
    "            new_matches_idx = list(set(matching_cln_site_indexes) - set(matching_raw_site_indexes))\n",
    "            print(city)\n",
    "            for idx in new_matches_idx:\n",
    "                apn = site_cln.loc[idx].apn\n",
    "                print('Clean sites apn', apn)\n",
    "                print('Raw sites apn', site_raw.loc[idx].apn)\n",
    "                permit_idx = permits_cln[permits_cln.apn == apn].index[0]\n",
    "                print('Clean permits apn', permits_cln.loc[permit_idx].apn)\n",
    "                print('Raw permits apn', permits_raw.loc[permit_idx].apn)\n",
    "            break"
   ]
  },
  {
   "cell_type": "code",
   "execution_count": 308,
   "id": "0dd0b42a-96b0-4cb5-bed7-fc8ff306d67d",
   "metadata": {},
   "outputs": [
    {
     "name": "stderr",
     "output_type": "stream",
     "text": [
      "/Users/Salim/Library/Caches/pypoetry/virtualenvs/housing-elements-_yehc9l1-py3.8/lib/python3.8/site-packages/openpyxl/worksheet/_reader.py:312: UserWarning: Conditional Formatting extension is not supported and will be removed\n",
      "  warn(msg)\n",
      "/Users/Salim/Library/Caches/pypoetry/virtualenvs/housing-elements-_yehc9l1-py3.8/lib/python3.8/site-packages/openpyxl/worksheet/_reader.py:312: UserWarning: Conditional Formatting extension is not supported and will be removed\n",
      "  warn(msg)\n"
     ]
    },
    {
     "name": "stdout",
     "output_type": "stream",
     "text": [
      "San Ramon\n",
      "Clean sites apn 208280017\n",
      "Raw sites apn 208-280-017\n",
      "Clean permits apn 208280017\n",
      "Raw permits apn 208280017\n"
     ]
    }
   ],
   "source": [
    "find_city_where_apn_formatting_mattered(cities)"
   ]
  },
  {
   "cell_type": "code",
   "execution_count": 168,
   "id": "cee991b6-40ee-499e-8168-1ac1760d9e23",
   "metadata": {},
   "outputs": [
    {
     "name": "stdout",
     "output_type": "stream",
     "text": [
      "['Berkeley', 'Albany']\n"
     ]
    }
   ],
   "source": [
    "print(cities[:2])"
   ]
  }
 ],
 "metadata": {
  "kernelspec": {
   "display_name": "Python 3",
   "language": "python",
   "name": "python3"
  },
  "language_info": {
   "codemirror_mode": {
    "name": "ipython",
    "version": 3
   },
   "file_extension": ".py",
   "mimetype": "text/x-python",
   "name": "python",
   "nbconvert_exporter": "python",
   "pygments_lexer": "ipython3",
   "version": "3.8.1"
  }
 },
 "nbformat": 4,
 "nbformat_minor": 5
}
