{
 "cells": [
  {
   "cell_type": "code",
   "execution_count": 740,
   "id": "505c70a4",
   "metadata": {},
   "outputs": [],
   "source": [
    "import pandas as pd\n",
    "import geopandas as gpd\n",
    "import numpy as np\n",
    "from housing_elements import utils, los_altos_permits, san_francisco_permits, san_jose_permits"
   ]
  },
  {
   "cell_type": "code",
   "execution_count": 755,
   "id": "8a8a2177",
   "metadata": {},
   "outputs": [
    {
     "data": {
      "text/plain": [
       "<module 'housing_elements.utils' from '/Users/Salim/Desktop/housing-elements/housing_elements/utils.py'>"
      ]
     },
     "execution_count": 755,
     "metadata": {},
     "output_type": "execute_result"
    }
   ],
   "source": [
    "from importlib import reload\n",
    "reload(los_altos_permits)\n",
    "reload(san_francisco_permits)\n",
    "reload(utils)"
   ]
  },
  {
   "cell_type": "code",
   "execution_count": 742,
   "id": "0e36c39c",
   "metadata": {},
   "outputs": [],
   "source": [
    "import os, sys\n",
    "\n",
    "class HiddenPrints:\n",
    "    def __enter__(self):\n",
    "        self._original_stdout = sys.stdout\n",
    "        sys.stdout = open(os.devnull, 'w')\n",
    "\n",
    "    def __exit__(self, exc_type, exc_val, exc_tb):\n",
    "        sys.stdout.close()\n",
    "        sys.stdout = self._original_stdout"
   ]
  },
  {
   "cell_type": "code",
   "execution_count": 743,
   "id": "68080002",
   "metadata": {},
   "outputs": [],
   "source": [
    "# Oakland and Palo Alto don't work right now (parsing certain columns as floats fails)\n",
    "cities = ['San Francisco', 'Berkeley', 'Mountain View', 'San Jose']"
   ]
  },
  {
   "cell_type": "code",
   "execution_count": 744,
   "id": "4767f50c",
   "metadata": {},
   "outputs": [],
   "source": [
    "df = gpd.read_file(\n",
    "        \"./data/raw_data/housing_sites/xn--Bay_Area_Housing_Opportunity_Sites_Inventory__20072023_-it38a.shp\"\n",
    "    )"
   ]
  },
  {
   "cell_type": "code",
   "execution_count": 745,
   "id": "72c9fe2f",
   "metadata": {},
   "outputs": [],
   "source": [
    "all_cities = df.jurisdict.unique()"
   ]
  },
  {
   "cell_type": "code",
   "execution_count": 746,
   "id": "8e4c395b",
   "metadata": {},
   "outputs": [
    {
     "data": {
      "text/plain": [
       "108"
      ]
     },
     "execution_count": 746,
     "metadata": {},
     "output_type": "execute_result"
    }
   ],
   "source": [
    "len(all_cities)"
   ]
  },
  {
   "cell_type": "code",
   "execution_count": 747,
   "id": "b4b4003c",
   "metadata": {},
   "outputs": [
    {
     "name": "stdout",
     "output_type": "stream",
     "text": [
      "CPU times: user 4min 45s, sys: 5.49 s, total: 4min 50s\n",
      "Wall time: 4min 48s\n"
     ]
    }
   ],
   "source": [
    "%%time\n",
    "cities_with_sites = {}\n",
    "\n",
    "for city in all_cities:\n",
    "    try:\n",
    "        with HiddenPrints():\n",
    "            cities_with_sites[city] = utils.load_site_inventory(city)\n",
    "            cities_with_sites[city].relcapcty.sum()\n",
    "    except Exception:\n",
    "        pass"
   ]
  },
  {
   "cell_type": "code",
   "execution_count": 748,
   "id": "3f8f1f4d",
   "metadata": {},
   "outputs": [
    {
     "data": {
      "text/plain": [
       "108"
      ]
     },
     "execution_count": 748,
     "metadata": {},
     "output_type": "execute_result"
    }
   ],
   "source": [
    "len(cities_with_sites)"
   ]
  },
  {
   "cell_type": "code",
   "execution_count": 749,
   "id": "021d5ce3",
   "metadata": {},
   "outputs": [
    {
     "name": "stdout",
     "output_type": "stream",
     "text": [
      "CPU times: user 4min 20s, sys: 1.66 s, total: 4min 22s\n",
      "Wall time: 4min 24s\n"
     ]
    }
   ],
   "source": [
    "%%time\n",
    "cities_with_permits = {}\n",
    "\n",
    "for city in all_cities:\n",
    "    try:\n",
    "        with HiddenPrints():\n",
    "            cities_with_permits[city] = utils.load_all_new_building_permits(city)\n",
    "    except Exception:\n",
    "        pass"
   ]
  },
  {
   "cell_type": "code",
   "execution_count": 750,
   "id": "0342535e",
   "metadata": {},
   "outputs": [
    {
     "data": {
      "text/plain": [
       "0"
      ]
     },
     "execution_count": 750,
     "metadata": {},
     "output_type": "execute_result"
    }
   ],
   "source": [
    "len(cities_with_permits)"
   ]
  },
  {
   "cell_type": "code",
   "execution_count": 751,
   "id": "621ed1b7",
   "metadata": {},
   "outputs": [],
   "source": [
    "def get_results_for_city(city: str, merge_with_address: bool = False) -> pd.DataFrame:\n",
    "    permits = utils.load_all_new_building_permits(city)\n",
    "    sites = utils.load_site_inventory(city)\n",
    "    \n",
    "    return {\n",
    "        'City': city,\n",
    "        'Ratio of development on inventory sites': utils.calculate_total_units_permitted_over_he_capacity(sites, permits),\n",
    "        'Mean overproduction': utils.calculate_underproduction_on_sites(sites, permits),\n",
    "        'Inventory housing / all housing': utils.calculate_inventory_housing_over_all_housing(sites, permits),\n",
    "        'P(dev) for nonvacant sites': utils.calculate_pdev_for_nonvacant_sites(sites, permits, merge_with_address),\n",
    "        'P(dev) for vacant sites': utils.calculate_pdev_for_vacant_sites(sites, permits, merge_with_address),\n",
    "        'P(dev) for inventory': utils.calculate_pdev_for_inventory(sites, permits, merge_with_address),\n",
    "    }"
   ]
  },
  {
   "cell_type": "code",
   "execution_count": 454,
   "id": "520eca55",
   "metadata": {},
   "outputs": [],
   "source": [
    "cities = [city for city in all_cities if city in cities_with_permits and city in cities_with_sites]"
   ]
  },
  {
   "cell_type": "code",
   "execution_count": 455,
   "id": "a2602b50",
   "metadata": {},
   "outputs": [
    {
     "data": {
      "text/plain": [
       "96"
      ]
     },
     "execution_count": 455,
     "metadata": {},
     "output_type": "execute_result"
    }
   ],
   "source": [
    "len(cities)"
   ]
  },
  {
   "cell_type": "code",
   "execution_count": 632,
   "id": "22bde7d2",
   "metadata": {},
   "outputs": [
    {
     "name": "stdout",
     "output_type": "stream",
     "text": [
      "CPU times: user 8min 8s, sys: 7.29 s, total: 8min 15s\n",
      "Wall time: 8min 13s\n"
     ]
    }
   ],
   "source": [
    "%%time\n",
    "with HiddenPrints():\n",
    "    results_df = pd.DataFrame([get_results_for_city(city) for city in cities])"
   ]
  },
  {
   "cell_type": "code",
   "execution_count": 752,
   "id": "13c3e23b",
   "metadata": {},
   "outputs": [
    {
     "data": {
      "text/html": [
       "<div>\n",
       "<style scoped>\n",
       "    .dataframe tbody tr th:only-of-type {\n",
       "        vertical-align: middle;\n",
       "    }\n",
       "\n",
       "    .dataframe tbody tr th {\n",
       "        vertical-align: top;\n",
       "    }\n",
       "\n",
       "    .dataframe thead th {\n",
       "        text-align: right;\n",
       "    }\n",
       "</style>\n",
       "<table border=\"1\" class=\"dataframe\">\n",
       "  <thead>\n",
       "    <tr style=\"text-align: right;\">\n",
       "      <th></th>\n",
       "      <th>City</th>\n",
       "      <th>Ratio of development on inventory sites</th>\n",
       "      <th>Mean overproduction</th>\n",
       "      <th>Inventory housing / all housing</th>\n",
       "      <th>P(dev) for nonvacant sites</th>\n",
       "      <th>P(dev) for vacant sites</th>\n",
       "      <th>P(dev) for inventory</th>\n",
       "    </tr>\n",
       "  </thead>\n",
       "  <tbody>\n",
       "    <tr>\n",
       "      <th>0</th>\n",
       "      <td>Berkeley</td>\n",
       "      <td>0.35</td>\n",
       "      <td>3.22</td>\n",
       "      <td>0.04</td>\n",
       "      <td>0.01</td>\n",
       "      <td>0.03</td>\n",
       "      <td>0.02</td>\n",
       "    </tr>\n",
       "    <tr>\n",
       "      <th>1</th>\n",
       "      <td>Albany</td>\n",
       "      <td>0.63</td>\n",
       "      <td>NaN</td>\n",
       "      <td>0.00</td>\n",
       "      <td>0.00</td>\n",
       "      <td>0.00</td>\n",
       "      <td>0.00</td>\n",
       "    </tr>\n",
       "    <tr>\n",
       "      <th>2</th>\n",
       "      <td>Alameda</td>\n",
       "      <td>0.53</td>\n",
       "      <td>NaN</td>\n",
       "      <td>0.00</td>\n",
       "      <td>0.00</td>\n",
       "      <td>0.00</td>\n",
       "      <td>0.00</td>\n",
       "    </tr>\n",
       "    <tr>\n",
       "      <th>3</th>\n",
       "      <td>Livermore</td>\n",
       "      <td>0.58</td>\n",
       "      <td>1.00</td>\n",
       "      <td>0.24</td>\n",
       "      <td>0.07</td>\n",
       "      <td>0.17</td>\n",
       "      <td>0.12</td>\n",
       "    </tr>\n",
       "    <tr>\n",
       "      <th>4</th>\n",
       "      <td>Fremont</td>\n",
       "      <td>0.65</td>\n",
       "      <td>-19.39</td>\n",
       "      <td>0.15</td>\n",
       "      <td>0.07</td>\n",
       "      <td>0.05</td>\n",
       "      <td>0.07</td>\n",
       "    </tr>\n",
       "    <tr>\n",
       "      <th>...</th>\n",
       "      <td>...</td>\n",
       "      <td>...</td>\n",
       "      <td>...</td>\n",
       "      <td>...</td>\n",
       "      <td>...</td>\n",
       "      <td>...</td>\n",
       "      <td>...</td>\n",
       "    </tr>\n",
       "    <tr>\n",
       "      <th>91</th>\n",
       "      <td>Monte Sereno</td>\n",
       "      <td>1.42</td>\n",
       "      <td>NaN</td>\n",
       "      <td>0.00</td>\n",
       "      <td>0.00</td>\n",
       "      <td>NaN</td>\n",
       "      <td>0.00</td>\n",
       "    </tr>\n",
       "    <tr>\n",
       "      <th>92</th>\n",
       "      <td>Healdsburg</td>\n",
       "      <td>0.51</td>\n",
       "      <td>-7.50</td>\n",
       "      <td>0.03</td>\n",
       "      <td>0.08</td>\n",
       "      <td>0.08</td>\n",
       "      <td>0.08</td>\n",
       "    </tr>\n",
       "    <tr>\n",
       "      <th>93</th>\n",
       "      <td>Fairfield</td>\n",
       "      <td>0.32</td>\n",
       "      <td>-7.00</td>\n",
       "      <td>0.00</td>\n",
       "      <td>0.00</td>\n",
       "      <td>0.03</td>\n",
       "      <td>0.02</td>\n",
       "    </tr>\n",
       "    <tr>\n",
       "      <th>94</th>\n",
       "      <td>Sonoma</td>\n",
       "      <td>0.18</td>\n",
       "      <td>-35.00</td>\n",
       "      <td>0.03</td>\n",
       "      <td>0.00</td>\n",
       "      <td>0.20</td>\n",
       "      <td>0.04</td>\n",
       "    </tr>\n",
       "    <tr>\n",
       "      <th>95</th>\n",
       "      <td>Windsor</td>\n",
       "      <td>0.16</td>\n",
       "      <td>6.83</td>\n",
       "      <td>0.38</td>\n",
       "      <td>0.12</td>\n",
       "      <td>0.00</td>\n",
       "      <td>0.12</td>\n",
       "    </tr>\n",
       "  </tbody>\n",
       "</table>\n",
       "<p>96 rows × 7 columns</p>\n",
       "</div>"
      ],
      "text/plain": [
       "            City  Ratio of development on inventory sites  \\\n",
       "0       Berkeley                                     0.35   \n",
       "1         Albany                                     0.63   \n",
       "2        Alameda                                     0.53   \n",
       "3      Livermore                                     0.58   \n",
       "4        Fremont                                     0.65   \n",
       "..           ...                                      ...   \n",
       "91  Monte Sereno                                     1.42   \n",
       "92    Healdsburg                                     0.51   \n",
       "93     Fairfield                                     0.32   \n",
       "94        Sonoma                                     0.18   \n",
       "95       Windsor                                     0.16   \n",
       "\n",
       "    Mean overproduction  Inventory housing / all housing  \\\n",
       "0                  3.22                             0.04   \n",
       "1                   NaN                             0.00   \n",
       "2                   NaN                             0.00   \n",
       "3                  1.00                             0.24   \n",
       "4                -19.39                             0.15   \n",
       "..                  ...                              ...   \n",
       "91                  NaN                             0.00   \n",
       "92                -7.50                             0.03   \n",
       "93                -7.00                             0.00   \n",
       "94               -35.00                             0.03   \n",
       "95                 6.83                             0.38   \n",
       "\n",
       "    P(dev) for nonvacant sites  P(dev) for vacant sites  P(dev) for inventory  \n",
       "0                         0.01                     0.03                  0.02  \n",
       "1                         0.00                     0.00                  0.00  \n",
       "2                         0.00                     0.00                  0.00  \n",
       "3                         0.07                     0.17                  0.12  \n",
       "4                         0.07                     0.05                  0.07  \n",
       "..                         ...                      ...                   ...  \n",
       "91                        0.00                      NaN                  0.00  \n",
       "92                        0.08                     0.08                  0.08  \n",
       "93                        0.00                     0.03                  0.02  \n",
       "94                        0.00                     0.20                  0.04  \n",
       "95                        0.12                     0.00                  0.12  \n",
       "\n",
       "[96 rows x 7 columns]"
      ]
     },
     "execution_count": 752,
     "metadata": {},
     "output_type": "execute_result"
    }
   ],
   "source": [
    "round(results_df, 2)"
   ]
  },
  {
   "cell_type": "code",
   "execution_count": 44,
   "id": "fde0ff9d",
   "metadata": {},
   "outputs": [
    {
     "name": "stderr",
     "output_type": "stream",
     "text": [
      "/Users/sidharthkapur/Library/Caches/pypoetry/virtualenvs/housing-elements-H302xxA9-py3.8/lib/python3.8/site-packages/openpyxl/worksheet/_reader.py:308: UserWarning: Data Validation extension is not supported and will be removed\n",
      "  warn(msg)\n",
      "/Users/sidharthkapur/Library/Caches/pypoetry/virtualenvs/housing-elements-H302xxA9-py3.8/lib/python3.8/site-packages/openpyxl/worksheet/_reader.py:308: UserWarning: Data Validation extension is not supported and will be removed\n",
      "  warn(msg)\n"
     ]
    },
    {
     "name": "stdout",
     "output_type": "stream",
     "text": [
      "Dropping constant columns: ['rhnacyc' 'rhnayrs' 'county' 'jurisdict' 'currunits' 'allowlow' 'num_vl'\n",
      " 'num_l' 'num_m' 'num_am']\n",
      "DF shape (6158, 16)\n",
      "Total units permitted: 26071\n",
      "Total realistic capacity in inventory: 47209.0\n",
      "Number of inventory sites developed: 0\n",
      "Number of units permitted on inventory sites: 0\n",
      "Total realistic capacity of inventory sites: 0.0\n",
      "Units permitted on inventory sites: 0\n",
      "Total units permitted: 26071\n"
     ]
    },
    {
     "name": "stderr",
     "output_type": "stream",
     "text": [
      "/Users/sidharthkapur/personal-workspace/housing-elements/housing_elements/utils.py:299: RuntimeWarning: invalid value encountered in double_scalars\n",
      "  return (n_units - n_claimed) / len(inventory_sites_permitted)\n",
      "/Users/sidharthkapur/Library/Caches/pypoetry/virtualenvs/housing-elements-H302xxA9-py3.8/lib/python3.8/site-packages/openpyxl/worksheet/_reader.py:308: UserWarning: Data Validation extension is not supported and will be removed\n",
      "  warn(msg)\n",
      "/Users/sidharthkapur/Library/Caches/pypoetry/virtualenvs/housing-elements-H302xxA9-py3.8/lib/python3.8/site-packages/openpyxl/worksheet/_reader.py:308: UserWarning: Data Validation extension is not supported and will be removed\n",
      "  warn(msg)\n"
     ]
    },
    {
     "name": "stdout",
     "output_type": "stream",
     "text": [
      "Dropping constant columns: ['rhnacyc' 'rhnayrs' 'county' 'jurisdict' 'currunits' 'allowlow' 'num_vl'\n",
      " 'num_l' 'num_m' 'num_am']\n",
      "DF shape (404, 18)\n",
      "Total units permitted: 1871\n",
      "Total realistic capacity in inventory: 5372.02\n",
      "Number of inventory sites developed: 0\n",
      "Number of units permitted on inventory sites: 0\n",
      "Total realistic capacity of inventory sites: 0.0\n",
      "Units permitted on inventory sites: 0\n",
      "Total units permitted: 1871\n"
     ]
    },
    {
     "name": "stderr",
     "output_type": "stream",
     "text": [
      "/Users/sidharthkapur/personal-workspace/housing-elements/housing_elements/utils.py:299: RuntimeWarning: invalid value encountered in double_scalars\n",
      "  return (n_units - n_claimed) / len(inventory_sites_permitted)\n",
      "/Users/sidharthkapur/Library/Caches/pypoetry/virtualenvs/housing-elements-H302xxA9-py3.8/lib/python3.8/site-packages/openpyxl/worksheet/_reader.py:308: UserWarning: Data Validation extension is not supported and will be removed\n",
      "  warn(msg)\n",
      "/Users/sidharthkapur/Library/Caches/pypoetry/virtualenvs/housing-elements-H302xxA9-py3.8/lib/python3.8/site-packages/openpyxl/worksheet/_reader.py:308: UserWarning: Data Validation extension is not supported and will be removed\n",
      "  warn(msg)\n"
     ]
    },
    {
     "name": "stdout",
     "output_type": "stream",
     "text": [
      "Dropping constant columns: ['rhnacyc' 'rhnayrs' 'county' 'jurisdict' 'num_vl' 'num_l' 'num_m'\n",
      " 'num_am']\n",
      "DF shape (93, 24)\n",
      "Total units permitted: 3579.0\n",
      "Total realistic capacity in inventory: 3216.0\n",
      "Number of inventory sites developed: 3\n",
      "Number of units permitted on inventory sites: 426.0\n",
      "Total realistic capacity of inventory sites: 799.0\n",
      "Units permitted on inventory sites: 426.0\n",
      "Total units permitted: 3579.0\n"
     ]
    },
    {
     "name": "stderr",
     "output_type": "stream",
     "text": [
      "/Users/sidharthkapur/Library/Caches/pypoetry/virtualenvs/housing-elements-H302xxA9-py3.8/lib/python3.8/site-packages/openpyxl/worksheet/_reader.py:308: UserWarning: Data Validation extension is not supported and will be removed\n",
      "  warn(msg)\n",
      "/Users/sidharthkapur/Library/Caches/pypoetry/virtualenvs/housing-elements-H302xxA9-py3.8/lib/python3.8/site-packages/openpyxl/worksheet/_reader.py:308: UserWarning: Data Validation extension is not supported and will be removed\n",
      "  warn(msg)\n"
     ]
    },
    {
     "name": "stdout",
     "output_type": "stream",
     "text": [
      "Dropping constant columns: ['rhnacyc' 'rhnayrs' 'county' 'jurisdict' 'currunits' 'allowlow' 'num_vl'\n",
      " 'num_l' 'num_m' 'num_am']\n",
      "DF shape (599, 18)\n",
      "Total units permitted: 16928.0\n",
      "Total realistic capacity in inventory: 35536.43\n",
      "Number of inventory sites developed: 64\n",
      "Number of units permitted on inventory sites: 3473.0\n",
      "Total realistic capacity of inventory sites: 3664.0\n",
      "Units permitted on inventory sites: 3473.0\n",
      "Total units permitted: 16928.0\n",
      "CPU times: user 55.1 s, sys: 1.27 s, total: 56.3 s\n",
      "Wall time: 57 s\n"
     ]
    }
   ],
   "source": [
    "%%time\n",
    "results_geo_df = pd.DataFrame([get_results_for_city(city, merge_with_address=True) for city in cities])"
   ]
  },
  {
   "cell_type": "code",
   "execution_count": 45,
   "id": "a1a6f1e8",
   "metadata": {},
   "outputs": [
    {
     "data": {
      "text/html": [
       "<div>\n",
       "<style scoped>\n",
       "    .dataframe tbody tr th:only-of-type {\n",
       "        vertical-align: middle;\n",
       "    }\n",
       "\n",
       "    .dataframe tbody tr th {\n",
       "        vertical-align: top;\n",
       "    }\n",
       "\n",
       "    .dataframe thead th {\n",
       "        text-align: right;\n",
       "    }\n",
       "</style>\n",
       "<table border=\"1\" class=\"dataframe\">\n",
       "  <thead>\n",
       "    <tr style=\"text-align: right;\">\n",
       "      <th></th>\n",
       "      <th>City</th>\n",
       "      <th>Ratio of development on inventory sites</th>\n",
       "      <th>Mean overproduction</th>\n",
       "      <th>Inventory housing / all housing</th>\n",
       "      <th>P(dev) for nonvacant sites</th>\n",
       "      <th>P(dev) for vacant sites</th>\n",
       "      <th>P(dev) for inventory</th>\n",
       "    </tr>\n",
       "  </thead>\n",
       "  <tbody>\n",
       "    <tr>\n",
       "      <th>0</th>\n",
       "      <td>San Francisco</td>\n",
       "      <td>0.552246</td>\n",
       "      <td>NaN</td>\n",
       "      <td>0.000000</td>\n",
       "      <td>0.074924</td>\n",
       "      <td>0.075974</td>\n",
       "      <td>0.075187</td>\n",
       "    </tr>\n",
       "    <tr>\n",
       "      <th>1</th>\n",
       "      <td>Berkeley</td>\n",
       "      <td>0.348286</td>\n",
       "      <td>NaN</td>\n",
       "      <td>0.000000</td>\n",
       "      <td>0.029940</td>\n",
       "      <td>0.033755</td>\n",
       "      <td>0.032178</td>\n",
       "    </tr>\n",
       "    <tr>\n",
       "      <th>2</th>\n",
       "      <td>Mountain View</td>\n",
       "      <td>1.112873</td>\n",
       "      <td>-124.333333</td>\n",
       "      <td>0.119028</td>\n",
       "      <td>0.186047</td>\n",
       "      <td>0.285714</td>\n",
       "      <td>0.193548</td>\n",
       "    </tr>\n",
       "    <tr>\n",
       "      <th>3</th>\n",
       "      <td>San Jose</td>\n",
       "      <td>0.476356</td>\n",
       "      <td>-2.984375</td>\n",
       "      <td>0.205163</td>\n",
       "      <td>0.236641</td>\n",
       "      <td>0.126214</td>\n",
       "      <td>0.198664</td>\n",
       "    </tr>\n",
       "  </tbody>\n",
       "</table>\n",
       "</div>"
      ],
      "text/plain": [
       "            City  Ratio of development on inventory sites  \\\n",
       "0  San Francisco                                 0.552246   \n",
       "1       Berkeley                                 0.348286   \n",
       "2  Mountain View                                 1.112873   \n",
       "3       San Jose                                 0.476356   \n",
       "\n",
       "   Mean overproduction  Inventory housing / all housing  \\\n",
       "0                  NaN                         0.000000   \n",
       "1                  NaN                         0.000000   \n",
       "2          -124.333333                         0.119028   \n",
       "3            -2.984375                         0.205163   \n",
       "\n",
       "   P(dev) for nonvacant sites  P(dev) for vacant sites  P(dev) for inventory  \n",
       "0                    0.074924                 0.075974              0.075187  \n",
       "1                    0.029940                 0.033755              0.032178  \n",
       "2                    0.186047                 0.285714              0.193548  \n",
       "3                    0.236641                 0.126214              0.198664  "
      ]
     },
     "execution_count": 45,
     "metadata": {},
     "output_type": "execute_result"
    }
   ],
   "source": [
    "results_geo_df"
   ]
  },
  {
   "cell_type": "code",
   "execution_count": 667,
   "id": "7d99c3f4",
   "metadata": {},
   "outputs": [],
   "source": [
    "def get_ground_truth_results_for_city(city: str) -> pd.DataFrame:\n",
    "    if city == 'San Jose':\n",
    "        permits = san_jose_permits.load_all_permits()\n",
    "    elif city == 'San Francisco':\n",
    "        permits = san_francisco_permits.load_all_permits()\n",
    "    elif city == 'Los Altos':\n",
    "        permits = los_altos_permits.load_all_permits()\n",
    "    else:\n",
    "        raise ValueError(f\"Ground truth data not available for {city}\")\n",
    "        \n",
    "    permits = utils.load_all_new_building_permits(city)\n",
    "    sites = utils.load_site_inventory(city)\n",
    "    \n",
    "    return {\n",
    "        'City': city,\n",
    "        'Ratio of development on inventory sites': utils.calculate_total_units_permitted_over_he_capacity(sites, permits),\n",
    "        'Mean overproduction': utils.calculate_underproduction_on_sites(sites, permits),\n",
    "        'Inventory housing / all housing': utils.calculate_inventory_housing_over_all_housing(sites, permits),\n",
    "        'P(dev) for nonvacant sites': utils.calculate_pdev_for_nonvacant_sites(sites, permits),\n",
    "        'P(dev) for vacant sites': utils.calculate_pdev_for_vacant_sites(sites, permits),\n",
    "        'P(dev) for inventory': utils.calculate_pdev_for_inventory(sites, permits),\n",
    "    }"
   ]
  },
  {
   "cell_type": "code",
   "execution_count": 672,
   "id": "68170ce0",
   "metadata": {},
   "outputs": [
    {
     "name": "stdout",
     "output_type": "stream",
     "text": [
      "Index(['version https://git-lfs.github.com/spec/v1'], dtype='object')\n"
     ]
    }
   ],
   "source": [
    "\n",
    "permits = pd.read_csv(\"./data/raw_data/sf_permits.csv\")\n",
    "print(permits.columns)\n",
    "date_cols = [c for c in permits.columns if 'Date' in c]\n",
    "permits[date_cols] = permits[date_cols].apply(pd.to_datetime)"
   ]
  },
  {
   "cell_type": "code",
   "execution_count": 673,
   "id": "04857549",
   "metadata": {},
   "outputs": [
    {
     "name": "stdout",
     "output_type": "stream",
     "text": [
      "Index(['version https://git-lfs.github.com/spec/v1'], dtype='object')\n"
     ]
    }
   ],
   "source": [
    "print(permits.columns)"
   ]
  },
  {
   "cell_type": "code",
   "execution_count": 756,
   "id": "095d2644",
   "metadata": {},
   "outputs": [
    {
     "name": "stdout",
     "output_type": "stream",
     "text": [
      "Dropping constant columns: ['county', 'num_vl', 'rhnayrs', 'rhnacyc', 'infcapcty', 'allowlow', 'jurisdict', 'num_m', 'num_am', 'num_l']\n",
      "DF shape (57, 25)\n",
      "Total units permitted: 532\n",
      "Total realistic capacity in inventory: 257.5\n",
      "Number of inventory sites developed: 9\n",
      "Number of units permitted on inventory sites: 34\n",
      "Total realistic capacity of inventory sites: 38.0\n",
      "Units permitted on inventory sites: 34\n",
      "Total units permitted: 532\n"
     ]
    },
    {
     "name": "stderr",
     "output_type": "stream",
     "text": [
      "/Users/Salim/opt/miniconda3/envs/my_env/lib/python3.7/site-packages/ipykernel_launcher.py:2: DtypeWarning: Columns (18,22,32,35) have mixed types.Specify dtype option on import or set low_memory=False.\n",
      "  \n",
      "/Users/Salim/Desktop/housing-elements/housing_elements/san_francisco_permits.py:21: SettingWithCopyWarning: \n",
      "A value is trying to be set on a copy of a slice from a DataFrame\n",
      "\n",
      "See the caveats in the documentation: https://pandas.pydata.org/pandas-docs/stable/user_guide/indexing.html#returning-a-view-versus-a-copy\n",
      "  ]\n"
     ]
    },
    {
     "name": "stdout",
     "output_type": "stream",
     "text": [
      "Dropping constant columns: ['county', 'num_vl', 'rhnayrs', 'rhnacyc', 'currunits', 'allowlow', 'jurisdict', 'num_m', 'num_am', 'num_l']\n",
      "DF shape (6158, 25)\n",
      "Total units permitted: 26071\n",
      "Total realistic capacity in inventory: 47209.0\n",
      "Number of inventory sites developed: 1\n",
      "Number of units permitted on inventory sites: 6939\n",
      "Total realistic capacity of inventory sites: 47209.0\n",
      "Units permitted on inventory sites: 6939\n",
      "Total units permitted: 26071\n",
      "Dropping constant columns: ['county', 'num_vl', 'rhnayrs', 'rhnacyc', 'currunits', 'allowlow', 'jurisdict', 'num_m', 'num_am', 'num_l']\n",
      "DF shape (599, 25)\n",
      "Total units permitted: 16928.0\n",
      "Total realistic capacity in inventory: 35536.43\n",
      "Number of inventory sites developed: 67\n",
      "Number of units permitted on inventory sites: 5011.0\n",
      "Total realistic capacity of inventory sites: 6422.0\n",
      "Units permitted on inventory sites: 5011.0\n",
      "Total units permitted: 16928.0\n",
      "CPU times: user 29.3 s, sys: 1.39 s, total: 30.7 s\n",
      "Wall time: 1min 21s\n"
     ]
    }
   ],
   "source": [
    "%%time\n",
    "ground_truth_cities = ['Los Altos', 'San Francisco', 'San Jose']\n",
    "ground_truth_results_df = pd.DataFrame([get_ground_truth_results_for_city(city) for city in ground_truth_cities])"
   ]
  },
  {
   "cell_type": "code",
   "execution_count": 684,
   "id": "46922039",
   "metadata": {},
   "outputs": [
    {
     "data": {
      "text/html": [
       "<div>\n",
       "<style scoped>\n",
       "    .dataframe tbody tr th:only-of-type {\n",
       "        vertical-align: middle;\n",
       "    }\n",
       "\n",
       "    .dataframe tbody tr th {\n",
       "        vertical-align: top;\n",
       "    }\n",
       "\n",
       "    .dataframe thead th {\n",
       "        text-align: right;\n",
       "    }\n",
       "</style>\n",
       "<table border=\"1\" class=\"dataframe\">\n",
       "  <thead>\n",
       "    <tr style=\"text-align: right;\">\n",
       "      <th></th>\n",
       "      <th>City</th>\n",
       "      <th>Ratio of development on inventory sites</th>\n",
       "      <th>Mean overproduction</th>\n",
       "      <th>Inventory housing / all housing</th>\n",
       "      <th>P(dev) for nonvacant sites</th>\n",
       "      <th>P(dev) for vacant sites</th>\n",
       "      <th>P(dev) for inventory</th>\n",
       "    </tr>\n",
       "  </thead>\n",
       "  <tbody>\n",
       "    <tr>\n",
       "      <th>0</th>\n",
       "      <td>Los Altos</td>\n",
       "      <td>2.066019</td>\n",
       "      <td>-0.444444</td>\n",
       "      <td>0.06391</td>\n",
       "      <td>0.088235</td>\n",
       "      <td>0.26087</td>\n",
       "      <td>0.157895</td>\n",
       "    </tr>\n",
       "  </tbody>\n",
       "</table>\n",
       "</div>"
      ],
      "text/plain": [
       "        City  Ratio of development on inventory sites  Mean overproduction  \\\n",
       "0  Los Altos                                 2.066019            -0.444444   \n",
       "\n",
       "   Inventory housing / all housing  P(dev) for nonvacant sites  \\\n",
       "0                          0.06391                    0.088235   \n",
       "\n",
       "   P(dev) for vacant sites  P(dev) for inventory  \n",
       "0                  0.26087              0.157895  "
      ]
     },
     "execution_count": 684,
     "metadata": {},
     "output_type": "execute_result"
    }
   ],
   "source": [
    "ground_truth_results_df"
   ]
  },
  {
   "cell_type": "code",
   "execution_count": null,
   "id": "6fad789f",
   "metadata": {},
   "outputs": [],
   "source": []
  }
 ],
 "metadata": {
  "kernelspec": {
   "display_name": "my_kernel",
   "language": "python",
   "name": "my_kernel"
  },
  "language_info": {
   "codemirror_mode": {
    "name": "ipython",
    "version": 3
   },
   "file_extension": ".py",
   "mimetype": "text/x-python",
   "name": "python",
   "nbconvert_exporter": "python",
   "pygments_lexer": "ipython3",
   "version": "3.7.7"
  }
 },
 "nbformat": 4,
 "nbformat_minor": 5
}
