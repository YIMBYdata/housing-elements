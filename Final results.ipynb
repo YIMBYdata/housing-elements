{
 "cells": [
  {
   "cell_type": "code",
   "execution_count": 1,
   "id": "curious-british",
   "metadata": {},
   "outputs": [],
   "source": [
    "import pandas as pd\n",
    "import geopandas as gpd\n",
    "import numpy as np\n",
    "import seaborn as sea\n",
    "from scipy import stats\n",
    "import matplotlib.pyplot as plt\n",
    "from housing_elements import utils, los_altos_permits, san_francisco_permits, san_jose_permits, map_utils\n",
    "from pathlib import Path"
   ]
  },
  {
   "cell_type": "code",
   "execution_count": 2,
   "id": "tight-planet",
   "metadata": {},
   "outputs": [
    {
     "data": {
      "text/plain": [
       "<module 'housing_elements.utils' from '/Users/sidharthkapur/personal-workspace/housing-elements/housing_elements/utils.py'>"
      ]
     },
     "execution_count": 2,
     "metadata": {},
     "output_type": "execute_result"
    }
   ],
   "source": [
    "from importlib import reload\n",
    "reload(los_altos_permits)\n",
    "reload(san_francisco_permits)\n",
    "reload(utils)"
   ]
  },
  {
   "cell_type": "code",
   "execution_count": 3,
   "id": "traditional-columbia",
   "metadata": {},
   "outputs": [],
   "source": [
    "import os, sys\n",
    "\n",
    "class HiddenPrints:\n",
    "    def __enter__(self):\n",
    "        self._original_stdout = sys.stdout\n",
    "        sys.stdout = open(os.devnull, 'w')\n",
    "\n",
    "    def __exit__(self, exc_type, exc_val, exc_tb):\n",
    "        sys.stdout.close()\n",
    "        sys.stdout = self._original_stdout"
   ]
  },
  {
   "cell_type": "code",
   "execution_count": 4,
   "id": "rental-disposition",
   "metadata": {},
   "outputs": [],
   "source": [
    "# Silence an annoying warning that I get when running pd.read_excel\n",
    "import warnings\n",
    "warnings.filterwarnings(\"ignore\", message=\"Data Validation extension is not supported and will be removed\")"
   ]
  },
  {
   "cell_type": "markdown",
   "id": "third-preservation",
   "metadata": {},
   "source": [
    "# Load sites and permits DataFrames for each city"
   ]
  },
  {
   "cell_type": "code",
   "execution_count": 5,
   "id": "changing-willow",
   "metadata": {},
   "outputs": [],
   "source": [
    "sites_df = utils.load_all_sites()"
   ]
  },
  {
   "cell_type": "code",
   "execution_count": 6,
   "id": "varying-karaoke",
   "metadata": {},
   "outputs": [],
   "source": [
    "all_cities = sites_df.jurisdict.unique()"
   ]
  },
  {
   "cell_type": "code",
   "execution_count": 7,
   "id": "standard-friday",
   "metadata": {},
   "outputs": [
    {
     "data": {
      "text/plain": [
       "108"
      ]
     },
     "execution_count": 7,
     "metadata": {},
     "output_type": "execute_result"
    }
   ],
   "source": [
    "len(all_cities)"
   ]
  },
  {
   "cell_type": "code",
   "execution_count": 8,
   "id": "micro-rescue",
   "metadata": {},
   "outputs": [
    {
     "name": "stderr",
     "output_type": "stream",
     "text": [
      "Orinda\n",
      "Foster City\n"
     ]
    },
    {
     "name": "stdout",
     "output_type": "stream",
     "text": [
      "CPU times: user 12.4 s, sys: 291 ms, total: 12.7 s\n",
      "Wall time: 12.8 s\n"
     ]
    }
   ],
   "source": [
    "%%time\n",
    "cities_with_sites = {}\n",
    "\n",
    "for city in all_cities:\n",
    "    with HiddenPrints():\n",
    "        try:\n",
    "            sites = utils.load_site_inventory(city)\n",
    "            assert sites.shape[0]\n",
    "            cities_with_sites[city] = sites\n",
    "            cities_with_sites[city].relcapcty.sum()\n",
    "        except Exception:\n",
    "            print(city, file=sys.stderr)"
   ]
  },
  {
   "cell_type": "code",
   "execution_count": 9,
   "id": "leading-idaho",
   "metadata": {},
   "outputs": [
    {
     "data": {
      "text/plain": [
       "106"
      ]
     },
     "execution_count": 9,
     "metadata": {},
     "output_type": "execute_result"
    }
   ],
   "source": [
    "len(cities_with_sites)"
   ]
  },
  {
   "cell_type": "code",
   "execution_count": 10,
   "id": "vocal-karma",
   "metadata": {},
   "outputs": [
    {
     "name": "stderr",
     "output_type": "stream",
     "text": [
      "/Users/sidharthkapur/Library/Caches/pypoetry/virtualenvs/housing-elements-H302xxA9-py3.8/lib/python3.8/site-packages/openpyxl/worksheet/_reader.py:312: UserWarning: Conditional Formatting extension is not supported and will be removed\n",
      "  warn(msg)\n",
      "Contra Costa County\n",
      "Alameda County\n",
      "Marin County\n",
      "Saint Helena\n",
      "Napa County\n",
      "/Users/sidharthkapur/Library/Caches/pypoetry/virtualenvs/housing-elements-H302xxA9-py3.8/lib/python3.8/site-packages/openpyxl/worksheet/_reader.py:312: UserWarning: Unknown extension is not supported and will be removed\n",
      "  warn(msg)\n",
      "Hillsborough\n",
      "San Mateo County\n",
      "Sonoma County\n"
     ]
    },
    {
     "name": "stdout",
     "output_type": "stream",
     "text": [
      "CPU times: user 7min 3s, sys: 20.3 s, total: 7min 24s\n",
      "Wall time: 8min 28s\n"
     ]
    },
    {
     "name": "stderr",
     "output_type": "stream",
     "text": [
      "Solano County\n"
     ]
    }
   ],
   "source": [
    "%%time\n",
    "cities_with_permits = {}\n",
    "\n",
    "for city in all_cities:\n",
    "    with HiddenPrints():\n",
    "        try:\n",
    "            cities_with_permits[city] = utils.load_all_new_building_permits(city)\n",
    "        except Exception:\n",
    "            print(city, file=sys.stderr)"
   ]
  },
  {
   "cell_type": "code",
   "execution_count": 11,
   "id": "developed-plumbing",
   "metadata": {},
   "outputs": [
    {
     "data": {
      "text/plain": [
       "99"
      ]
     },
     "execution_count": 11,
     "metadata": {},
     "output_type": "execute_result"
    }
   ],
   "source": [
    "len(cities_with_permits)"
   ]
  },
  {
   "cell_type": "code",
   "execution_count": 12,
   "id": "203df826-76f1-4ae5-8a45-cfc0e31e8135",
   "metadata": {},
   "outputs": [
    {
     "data": {
      "text/plain": [
       "97"
      ]
     },
     "execution_count": 12,
     "metadata": {},
     "output_type": "execute_result"
    }
   ],
   "source": [
    "len(set(cities_with_permits).intersection(set(cities_with_sites)))"
   ]
  },
  {
   "cell_type": "markdown",
   "id": "modified-bristol",
   "metadata": {},
   "source": [
    "## Dump match results to JSON, for use in website"
   ]
  },
  {
   "cell_type": "code",
   "execution_count": 15,
   "id": "appointed-master",
   "metadata": {},
   "outputs": [
    {
     "name": "stderr",
     "output_type": "stream",
     "text": [
      "100%|██████████| 106/106 [04:12<00:00,  2.39s/it]\n"
     ]
    }
   ],
   "source": [
    "reload(utils)\n",
    "reload(map_utils)\n",
    "map_utils.write_matches_to_files(\n",
    "    cities_with_sites,\n",
    "    cities_with_permits,\n",
    "    Path('./map_results')\n",
    ")"
   ]
  },
  {
   "cell_type": "markdown",
   "id": "indie-firewall",
   "metadata": {},
   "source": [
    "## Data Cleaning Factoids"
   ]
  },
  {
   "cell_type": "markdown",
   "id": "decimal-assessment",
   "metadata": {},
   "source": [
    "### Realistic Capacity"
   ]
  },
  {
   "cell_type": "markdown",
   "id": "checked-athens",
   "metadata": {},
   "source": [
    "#### Pre-Existing Nulls"
   ]
  },
  {
   "cell_type": "markdown",
   "id": "elect-convenience",
   "metadata": {},
   "source": [
    "Two ways to calculate NA realistic capacities come to the same conclusion"
   ]
  },
  {
   "cell_type": "code",
   "execution_count": null,
   "id": "exciting-healthcare",
   "metadata": {},
   "outputs": [],
   "source": [
    "rhna5 = sites_df[sites_df.rhnacyc == 'RHNA5']"
   ]
  },
  {
   "cell_type": "code",
   "execution_count": null,
   "id": "sonic-aquarium",
   "metadata": {},
   "outputs": [],
   "source": [
    "rhna5.relcapcty[rhna5.relcapcty.isna()].shape"
   ]
  },
  {
   "cell_type": "code",
   "execution_count": null,
   "id": "naughty-price",
   "metadata": {},
   "outputs": [],
   "source": [
    "rhna5[(rhna5.relcapcty.str.contains(\"/^([^0-9]*)$/\") != False)].shape"
   ]
  },
  {
   "cell_type": "code",
   "execution_count": null,
   "id": "infrared-training",
   "metadata": {},
   "outputs": [],
   "source": [
    "rhna5.shape"
   ]
  },
  {
   "cell_type": "code",
   "execution_count": null,
   "id": "demanding-casino",
   "metadata": {},
   "outputs": [],
   "source": [
    "2910 / rhna5.shape[0]"
   ]
  },
  {
   "cell_type": "markdown",
   "id": "pursuant-contrary",
   "metadata": {},
   "source": [
    "### Proportion of nulls that are our fault versus theirs"
   ]
  },
  {
   "cell_type": "code",
   "execution_count": null,
   "id": "third-course",
   "metadata": {},
   "outputs": [],
   "source": [
    "for city, site in cities_with_sites.items():\n",
    "    num_fail_parse_realcap = site.realcap_parse_fail.sum()\n",
    "    if num_fail_parse_realcap:\n",
    "        print(city, end='\\t')\n",
    "        print('Realcap', num_fail_parse_realcap)"
   ]
  },
  {
   "cell_type": "code",
   "execution_count": null,
   "id": "rotary-overhead",
   "metadata": {},
   "outputs": [],
   "source": [
    "sum([site.realcap_parse_fail.sum() for city, site in cities_with_sites.items()])"
   ]
  },
  {
   "cell_type": "markdown",
   "id": "incident-rochester",
   "metadata": {},
   "source": [
    "None of the realistic capacity nulls are our fault."
   ]
  },
  {
   "cell_type": "markdown",
   "id": "lucky-surge",
   "metadata": {},
   "source": [
    "#### Degenerate Rows"
   ]
  },
  {
   "cell_type": "code",
   "execution_count": null,
   "id": "characteristic-johnson",
   "metadata": {},
   "outputs": [],
   "source": [
    "no_realcap = pd.to_numeric(rhna5.relcapcty, errors='coerce') == 0\n",
    "no_locacreage = pd.to_numeric(rhna5.locacres, errors='coerce') == 0\n",
    "no_gacreage = pd.to_numeric(rhna5.gacres, errors='coerce') == 0"
   ]
  },
  {
   "cell_type": "code",
   "execution_count": null,
   "id": "discrete-discussion",
   "metadata": {},
   "outputs": [],
   "source": [
    "rhna5[no_realcap & no_locacreage].shape"
   ]
  },
  {
   "cell_type": "code",
   "execution_count": null,
   "id": "neural-hunter",
   "metadata": {},
   "outputs": [],
   "source": [
    "rhna5[no_gacreage & no_locacreage].shape"
   ]
  },
  {
   "cell_type": "code",
   "execution_count": null,
   "id": "cleared-excerpt",
   "metadata": {},
   "outputs": [],
   "source": [
    "rhna5[no_gacreage].shape"
   ]
  },
  {
   "cell_type": "markdown",
   "id": "previous-garlic",
   "metadata": {},
   "source": [
    "I wouldn't say there are any degenerate rows. Even when locacreage is zero, we can rely on gacreage instead. \n",
    "\n",
    "There are, however, 901 sites with no realistic capacity and no allowable density. What kind of sites are these?"
   ]
  },
  {
   "cell_type": "markdown",
   "id": "hundred-right",
   "metadata": {},
   "source": [
    "They're mostly in San Francisco and have a zoning type of PDR. According to SF's website, \"In order to protect PDR, residential development would be prohibited, while office, retail, and institutional uses (schools, hospitals, etc.) would be limited. HOWEVER, residences, offices and retail which currently exist legally in these areas may stay indefinitely.\"\n"
   ]
  },
  {
   "cell_type": "code",
   "execution_count": null,
   "id": "apparent-surveillance",
   "metadata": {},
   "outputs": [],
   "source": [
    "sf_sites = cities_with_sites['San Francisco']\n",
    "sf_sites_fixed = sf_sites[\n",
    "    sf_sites['relcapcty'] != 0\n",
    "]\n",
    "cities_with_sites['San Francisco'] = sf_sites_fixed"
   ]
  },
  {
   "cell_type": "code",
   "execution_count": null,
   "id": "mental-seeking",
   "metadata": {},
   "outputs": [],
   "source": [
    "sf_sites.shape"
   ]
  },
  {
   "cell_type": "markdown",
   "id": "sticky-institution",
   "metadata": {},
   "source": [
    "## Results"
   ]
  },
  {
   "cell_type": "code",
   "execution_count": null,
   "id": "white-blair",
   "metadata": {},
   "outputs": [],
   "source": [
    "def get_results_for_city(city: str, match_by: str) -> pd.DataFrame:\n",
    "    permits = cities_with_permits[city]\n",
    "    sites = cities_with_sites[city]\n",
    "    \n",
    "    nonvacant_matches, nonvacant_sites, nonvacant_ratio = utils.calculate_pdev_for_nonvacant_sites(sites, permits, match_by)\n",
    "    vacant_matches, vacant_sites, vacant_ratio = utils.calculate_pdev_for_vacant_sites(sites, permits, match_by)\n",
    "    all_matches, all_sites, all_ratio = utils.calculate_pdev_for_inventory(sites, permits, match_by)\n",
    "    \n",
    "    return {\n",
    "        'City': city,\n",
    "        'Ratio of development on inventory sites': utils.calculate_total_units_permitted_over_he_capacity(sites, permits),\n",
    "        'Mean overproduction': utils.calculate_underproduction_on_sites(sites, permits),\n",
    "        'Inventory housing / all housing': utils.calculate_inventory_housing_over_all_housing(sites, permits),\n",
    "        'P(dev) for nonvacant sites': nonvacant_ratio,\n",
    "        'P(dev) for vacant sites': vacant_ratio,\n",
    "        'P(dev) for inventory': all_ratio,\n",
    "        '# nonvacant matches': f'{nonvacant_matches} / {nonvacant_sites}',\n",
    "        '# vacant matches': f'{vacant_matches} / {vacant_sites}',\n",
    "        '# matches': f'{all_matches} / {all_sites}',\n",
    "    }"
   ]
  },
  {
   "cell_type": "code",
   "execution_count": null,
   "id": "varying-leader",
   "metadata": {},
   "outputs": [],
   "source": [
    "cities = [city for city in all_cities if city in cities_with_permits and city in cities_with_sites]"
   ]
  },
  {
   "cell_type": "code",
   "execution_count": null,
   "id": "greek-annotation",
   "metadata": {},
   "outputs": [],
   "source": [
    "len(cities)"
   ]
  },
  {
   "cell_type": "code",
   "execution_count": null,
   "id": "prompt-silver",
   "metadata": {},
   "outputs": [],
   "source": [
    "%%time\n",
    "with HiddenPrints():\n",
    "    results_df = pd.DataFrame([get_results_for_city(city, match_by='apn') for city in cities])"
   ]
  },
  {
   "cell_type": "code",
   "execution_count": null,
   "id": "declared-starter",
   "metadata": {},
   "outputs": [],
   "source": [
    "results_df[results_df['P(dev) for inventory'].isna()]"
   ]
  },
  {
   "cell_type": "code",
   "execution_count": null,
   "id": "warming-maker",
   "metadata": {},
   "outputs": [],
   "source": [
    "sites_df[sites_df.jurisdict == 'Orinda']"
   ]
  },
  {
   "cell_type": "code",
   "execution_count": null,
   "id": "covered-astronomy",
   "metadata": {},
   "outputs": [],
   "source": [
    "for city, permits in cities_with_permits.items():\n",
    "    print(city, '\\t', round(utils.fraction_apns_nan(permits), 2))"
   ]
  },
  {
   "cell_type": "code",
   "execution_count": null,
   "id": "informational-fundamentals",
   "metadata": {},
   "outputs": [],
   "source": [
    "cities_with_permits['Dublin'].apn.isna().mean()"
   ]
  },
  {
   "cell_type": "code",
   "execution_count": null,
   "id": "legal-railway",
   "metadata": {},
   "outputs": [],
   "source": [
    "x = results_df[\"P(dev) for inventory\"]\n",
    "y = [utils.fraction_apns_nan(p) for c, p in cities_with_permits.items() if c in cities_with_sites]\n",
    "plt.scatter(x, y, alpha=.2)\n",
    "plt.xlabel(\"P(dev)\")\n",
    "plt.ylabel(\"% APNs NAN\")\n",
    "plt.title(\"Are missing APNs skewing our results?\")"
   ]
  },
  {
   "cell_type": "code",
   "execution_count": null,
   "id": "superior-return",
   "metadata": {},
   "outputs": [],
   "source": [
    "%%time\n",
    "with HiddenPrints():\n",
    "    results_geo_df = pd.DataFrame([get_results_for_city(city, match_by='geo') for city in cities])"
   ]
  },
  {
   "cell_type": "code",
   "execution_count": null,
   "id": "815de487-a44f-468e-b079-f71d078e54b5",
   "metadata": {},
   "outputs": [],
   "source": [
    "reload(utils)"
   ]
  },
  {
   "cell_type": "code",
   "execution_count": null,
   "id": "8914b952-8597-4061-93a3-18091d96cbe2",
   "metadata": {},
   "outputs": [],
   "source": [
    "%%time\n",
    "with HiddenPrints():\n",
    "    results_geo_lax_df = pd.DataFrame([get_results_for_city(city, match_by='geo') for city in cities])"
   ]
  },
  {
   "cell_type": "code",
   "execution_count": null,
   "id": "23b56f9b-1a6d-4f31-80f6-9e98743973de",
   "metadata": {},
   "outputs": [],
   "source": [
    "query = \"\"\"\n",
    "City in ['Mountain View', 'San Francisco']\n",
    "\"\"\""
   ]
  },
  {
   "cell_type": "code",
   "execution_count": null,
   "id": "1716b2d1-e205-4410-91cc-12b92e3e6c86",
   "metadata": {},
   "outputs": [],
   "source": [
    "results_geo_lax_df.query(query)"
   ]
  },
  {
   "cell_type": "code",
   "execution_count": null,
   "id": "dc66dc61-b021-4f20-b5fd-cceccdb31614",
   "metadata": {},
   "outputs": [],
   "source": [
    "results_geo_df.query(query)"
   ]
  },
  {
   "cell_type": "code",
   "execution_count": null,
   "id": "renewable-migration",
   "metadata": {},
   "outputs": [],
   "source": [
    "%%time\n",
    "with HiddenPrints():\n",
    "    results_both_df = pd.DataFrame([get_results_for_city(city, match_by='both') for city in cities])"
   ]
  },
  {
   "cell_type": "code",
   "execution_count": null,
   "id": "scenic-tuesday",
   "metadata": {},
   "outputs": [],
   "source": [
    "results_both_df.round(3)"
   ]
  },
  {
   "cell_type": "markdown",
   "id": "ecological-marathon",
   "metadata": {},
   "source": [
    "### Histograms of QOIs"
   ]
  },
  {
   "cell_type": "code",
   "execution_count": null,
   "id": "silver-discussion",
   "metadata": {},
   "outputs": [],
   "source": [
    "results_df[results_df['P(dev) for inventory'] == 0].City.values"
   ]
  },
  {
   "cell_type": "code",
   "execution_count": null,
   "id": "optional-jewelry",
   "metadata": {},
   "outputs": [],
   "source": [
    "reload(utils)"
   ]
  },
  {
   "cell_type": "code",
   "execution_count": null,
   "id": "split-hotel",
   "metadata": {},
   "outputs": [],
   "source": [
    "utils.map_qoi('P(dev) for vacant sites', results_both_df)"
   ]
  },
  {
   "cell_type": "code",
   "execution_count": null,
   "id": "virtual-usage",
   "metadata": {},
   "outputs": [],
   "source": [
    "utils.map_qoi('P(dev) for nonvacant sites', results_both_df)"
   ]
  },
  {
   "cell_type": "code",
   "execution_count": null,
   "id": "blind-newsletter",
   "metadata": {},
   "outputs": [],
   "source": [
    "utils.map_qoi('Ratio of development on inventory sites', results_both_df)"
   ]
  },
  {
   "cell_type": "code",
   "execution_count": null,
   "id": "finnish-victim",
   "metadata": {},
   "outputs": [],
   "source": [
    "utils.map_qoi('Mean overproduction', results_both_df)"
   ]
  },
  {
   "cell_type": "code",
   "execution_count": null,
   "id": "representative-harris",
   "metadata": {},
   "outputs": [],
   "source": [
    "utils.map_qoi('Ratio of development on inventory sites', results_both_df)"
   ]
  },
  {
   "cell_type": "code",
   "execution_count": null,
   "id": "identical-first",
   "metadata": {},
   "outputs": [],
   "source": [
    "sea_plot = sea.histplot(results_both_df['P(dev) for nonvacant sites']).set_title(\"Each city's P(dev) for nonvacant sites\")\n",
    "sea_plot.get_figure().savefig('./figures/Pdev_nonvacant.png')"
   ]
  },
  {
   "cell_type": "code",
   "execution_count": null,
   "id": "buried-notification",
   "metadata": {},
   "outputs": [],
   "source": [
    "sea_plot = sea.histplot(results_both_df['P(dev) for vacant sites']).set_title(\"Each city's P(dev) for vacant sites\")\n",
    "sea_plot.get_figure().savefig('./figures/Pdev_vacant.png')"
   ]
  },
  {
   "cell_type": "code",
   "execution_count": null,
   "id": "exposed-commissioner",
   "metadata": {},
   "outputs": [],
   "source": [
    "sea_plot = sea.histplot(results_both_df['P(dev) for vacant sites']).set_title(\"Each city's P(dev)\")\n",
    "sea_plot.get_figure().savefig('./figures/Pdev.png')"
   ]
  },
  {
   "cell_type": "code",
   "execution_count": null,
   "id": "usual-schedule",
   "metadata": {},
   "outputs": [],
   "source": [
    "sea_plot = sea.histplot(results_both_df['Ratio of development on inventory sites']).set_title(\"Each city's 1 / P(inventory|dev)\")\n",
    "sea_plot.get_figure().savefig('./figures/ratio_of_dev.png')"
   ]
  },
  {
   "cell_type": "code",
   "execution_count": null,
   "id": "collectible-peoples",
   "metadata": {},
   "outputs": [],
   "source": [
    "sea_plot = sea.histplot(results_both_df['Mean overproduction']).set_title(\"Each city's mean overproduction\")\n",
    "sea_plot.get_figure().savefig('./figures/mean_overproduction.png')"
   ]
  },
  {
   "cell_type": "code",
   "execution_count": null,
   "id": "expressed-stuff",
   "metadata": {},
   "outputs": [],
   "source": [
    "sea_plot = sea.histplot(results_both_df['Inventory housing / all housing']).set_title(\"Each city's Inventory housing / all housing\")\n",
    "sea_plot.get_figure().savefig('./figures/inventory_housing_over_all_housing.png')\n"
   ]
  },
  {
   "cell_type": "markdown",
   "id": "naked-frank",
   "metadata": {},
   "source": [
    "### Did RHNA success in last cycle actually have anything to do with how good the site inventory was?"
   ]
  },
  {
   "cell_type": "code",
   "execution_count": null,
   "id": "uniform-vitamin",
   "metadata": {},
   "outputs": [],
   "source": [
    "rhna_success = results_both_df['Ratio of development on inventory sites']\n",
    "p_dev = results_both_df['P(dev) for inventory']\n",
    "\n",
    "is_null = np.isnan(rhna_success) | np.isnan(p_dev)\n",
    "stats.pearsonr(rhna_success[~is_null], p_dev[~is_null])"
   ]
  },
  {
   "cell_type": "code",
   "execution_count": null,
   "id": "municipal-asthma",
   "metadata": {},
   "outputs": [],
   "source": [
    "sea_plot = sea.scatterplot(x=rhna_success[~is_null], y=p_dev[~is_null])\n",
    "sea_plot.set_title(\"Does RHNA success have anything to do with the realistic capacity of the inventory sites?\")\n",
    "sea_plot.get_figure().savefig('./figures/did_realistic_capacity_calcs_matter.png')"
   ]
  },
  {
   "cell_type": "markdown",
   "id": "harmful-balloon",
   "metadata": {},
   "source": [
    "### Table of top 10 cities by P(dev) & bottom 10"
   ]
  },
  {
   "cell_type": "markdown",
   "id": "continent-prime",
   "metadata": {},
   "source": [
    "#### Worst"
   ]
  },
  {
   "cell_type": "code",
   "execution_count": null,
   "id": "infectious-marks",
   "metadata": {},
   "outputs": [],
   "source": [
    "results_both_df.sort_values(by='P(dev) for inventory').head(10)"
   ]
  },
  {
   "cell_type": "markdown",
   "id": "leading-bermuda",
   "metadata": {},
   "source": [
    "#### Best"
   ]
  },
  {
   "cell_type": "code",
   "execution_count": null,
   "id": "moving-duplicate",
   "metadata": {},
   "outputs": [],
   "source": [
    "results_both_df.sort_values(by='P(dev) for inventory', ascending=False).head(10)"
   ]
  },
  {
   "cell_type": "code",
   "execution_count": null,
   "id": "abroad-history",
   "metadata": {},
   "outputs": [],
   "source": [
    "combined_df = results_df.merge(\n",
    "    results_geo_df,\n",
    "    on='City',\n",
    "    suffixes=[' (by APN)', ' (by geomatching)']\n",
    ")"
   ]
  },
  {
   "cell_type": "code",
   "execution_count": null,
   "id": "designing-consistency",
   "metadata": {},
   "outputs": [],
   "source": [
    "combined_df.round(3)"
   ]
  },
  {
   "cell_type": "code",
   "execution_count": null,
   "id": "compliant-building",
   "metadata": {},
   "outputs": [],
   "source": [
    "cities_sorted = results_both_df.sort_values('P(dev) for inventory', ascending=False)['City'].values\n",
    "plt.figure(figsize=(20, 6))\n",
    "ax = sea.barplot(x=\"City\", y=\"P(dev) for inventory\", orient=\"vertical\",\n",
    "            data=results_both_df, saturation=.5,\n",
    "            order=cities_sorted)\n",
    "ax.tick_params(axis='x', labelrotation=90)\n",
    "plt.savefig(f'figures/pdev_by_city.jpg')"
   ]
  },
  {
   "cell_type": "code",
   "execution_count": null,
   "id": "direct-conviction",
   "metadata": {},
   "outputs": [],
   "source": [
    "all_df = combined_df.merge(\n",
    "    results_both_df,\n",
    "    on='City',\n",
    "    suffixes=['', ' union']\n",
    ")"
   ]
  },
  {
   "cell_type": "code",
   "execution_count": null,
   "id": "electric-relief",
   "metadata": {},
   "outputs": [],
   "source": [
    "reload(utils)\n",
    "utils.catplot_qoi(all_df, 'P(dev) for inventory', cities_sorted)"
   ]
  },
  {
   "cell_type": "code",
   "execution_count": null,
   "id": "social-montreal",
   "metadata": {},
   "outputs": [],
   "source": [
    "results_df.to_csv('results/apn_matching_results.csv')\n",
    "results_geo_df.to_csv('results/geo_matching_results.csv')\n",
    "combined_df.to_csv('results/combined_df.csv')\n",
    "results_both_df.to_csv('results/apn_or_geo_matching_results.csv')"
   ]
  },
  {
   "cell_type": "markdown",
   "id": "criminal-utilization",
   "metadata": {},
   "source": [
    "Let's look into some cities where the APN results and Geo results are very out of line:"
   ]
  },
  {
   "cell_type": "code",
   "execution_count": null,
   "id": "soviet-melissa",
   "metadata": {},
   "outputs": [],
   "source": [
    "combined_df[\n",
    "    (combined_df['P(dev) for nonvacant sites (by APN)'] - combined_df['P(dev) for nonvacant sites (by geomatching)']).abs() > 0.3\n",
    "]"
   ]
  },
  {
   "cell_type": "code",
   "execution_count": null,
   "id": "gothic-advocate",
   "metadata": {},
   "outputs": [],
   "source": [
    "for column in ['P(dev) for nonvacant sites', 'P(dev) for vacant sites', 'P(dev) for inventory']:\n",
    "    print(column, (combined_df[column + ' (by geomatching)'] >= combined_df[column + ' (by APN)']).mean())"
   ]
  },
  {
   "cell_type": "code",
   "execution_count": null,
   "id": "statewide-sixth",
   "metadata": {},
   "outputs": [],
   "source": [
    "for column in ['P(dev) for nonvacant sites', 'P(dev) for vacant sites', 'P(dev) for inventory']:\n",
    "    print(column, (combined_df[column + ' (by geomatching)'] == combined_df[column + ' (by APN)']).mean())"
   ]
  },
  {
   "cell_type": "markdown",
   "id": "solar-accuracy",
   "metadata": {},
   "source": [
    "# \"Ground truth\" data"
   ]
  },
  {
   "cell_type": "code",
   "execution_count": null,
   "id": "congressional-aurora",
   "metadata": {},
   "outputs": [],
   "source": [
    "def get_ground_truth_results_for_city(city: str) -> pd.DataFrame:\n",
    "    if city == 'San Jose':\n",
    "        permits = san_jose_permits.load_all_permits()\n",
    "    elif city == 'San Francisco':\n",
    "        permits = san_francisco_permits.load_all_permits()\n",
    "    elif city == 'Los Altos':\n",
    "        permits = los_altos_permits.load_all_permits()\n",
    "    else:\n",
    "        raise ValueError(f\"Ground truth data not available for {city}\")\n",
    "        \n",
    "    permits = utils.load_all_new_building_permits(city)\n",
    "    sites = utils.load_site_inventory(city)\n",
    "    \n",
    "    return {\n",
    "        'City': city,\n",
    "        'Ratio of development on inventory sites': utils.calculate_total_units_permitted_over_he_capacity(sites, permits),\n",
    "        'Mean overproduction': utils.calculate_underproduction_on_sites(sites, permits),\n",
    "        'Inventory housing / all housing': utils.calculate_inventory_housing_over_all_housing(sites, permits),\n",
    "        'P(dev) for nonvacant sites': utils.calculate_pdev_for_nonvacant_sites(sites, permits),\n",
    "        'P(dev) for vacant sites': utils.calculate_pdev_for_vacant_sites(sites, permits),\n",
    "        'P(dev) for inventory': utils.calculate_pdev_for_inventory(sites, permits),\n",
    "    }"
   ]
  },
  {
   "cell_type": "code",
   "execution_count": null,
   "id": "coastal-praise",
   "metadata": {},
   "outputs": [],
   "source": [
    "permits = pd.read_csv(\"./data/raw_data/sf_permits.csv\")\n",
    "print(permits.columns)\n",
    "date_cols = [c for c in permits.columns if 'Date' in c]\n",
    "permits[date_cols] = permits[date_cols].apply(pd.to_datetime)"
   ]
  },
  {
   "cell_type": "code",
   "execution_count": null,
   "id": "adverse-generation",
   "metadata": {},
   "outputs": [],
   "source": [
    "print(permits.columns)"
   ]
  },
  {
   "cell_type": "code",
   "execution_count": null,
   "id": "healthy-assurance",
   "metadata": {},
   "outputs": [],
   "source": [
    "%%time\n",
    "ground_truth_cities = ['Los Altos', 'San Francisco', 'San Jose']\n",
    "ground_truth_results_df = pd.DataFrame([get_ground_truth_results_for_city(city) for city in ground_truth_cities])"
   ]
  },
  {
   "cell_type": "code",
   "execution_count": null,
   "id": "declared-vancouver",
   "metadata": {},
   "outputs": [],
   "source": [
    "ground_truth_results_df"
   ]
  },
  {
   "cell_type": "markdown",
   "id": "1417f15b-b6dc-43d9-aa5a-e2b84d721638",
   "metadata": {},
   "source": [
    "# Additional summary stats for results section"
   ]
  },
  {
   "cell_type": "code",
   "execution_count": null,
   "id": "792b100e-5f38-4eac-aa1e-880dc8fcf057",
   "metadata": {},
   "outputs": [],
   "source": [
    "for col in ['# matches', '# nonvacant matches', '# vacant matches']:\n",
    "    values = results_both_df[col]\n",
    "    num = values.str.split('/').apply(lambda x: int(x[0]))\n",
    "    denom = values.str.split('/').apply(lambda x: int(x[1]))\n",
    "    print(col)\n",
    "    print('{:.1%}'.format(num.sum() / denom.sum()))\n",
    "    print()"
   ]
  },
  {
   "cell_type": "code",
   "execution_count": null,
   "id": "3823b21b-b0cb-486c-a66c-2edfb89b02a4",
   "metadata": {},
   "outputs": [],
   "source": [
    "for col in ['P(dev) for vacant sites', 'P(dev) for nonvacant sites', 'P(dev) for inventory']:\n",
    "    values = results_both_df[col]\n",
    "    print(col)\n",
    "    print('Median: {:.1%}'.format(8/5 * values.median()))\n",
    "    print('Mean: {:.1%}'.format(8/5 * values.mean()))\n",
    "    display(\n",
    "        pd.cut(\n",
    "            8/5 * values, \n",
    "            [0, 0.1, 0.25, 0.5, 1],\n",
    "            right=False\n",
    "        ).value_counts()\n",
    "    )\n",
    "    print()"
   ]
  },
  {
   "cell_type": "code",
   "execution_count": null,
   "id": "34b4300d-97fe-4b04-8906-418b39679a75",
   "metadata": {},
   "outputs": [],
   "source": []
  }
 ],
 "metadata": {
  "kernelspec": {
   "display_name": "Python 3",
   "language": "python",
   "name": "python3"
  },
  "language_info": {
   "codemirror_mode": {
    "name": "ipython",
    "version": 3
   },
   "file_extension": ".py",
   "mimetype": "text/x-python",
   "name": "python",
   "nbconvert_exporter": "python",
   "pygments_lexer": "ipython3",
   "version": "3.8.1"
  }
 },
 "nbformat": 4,
 "nbformat_minor": 5
}
