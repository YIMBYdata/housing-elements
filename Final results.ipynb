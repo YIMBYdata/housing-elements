{
 "cells": [
  {
   "cell_type": "code",
   "execution_count": 1,
   "id": "qualified-enough",
   "metadata": {},
   "outputs": [],
   "source": [
    "import pandas as pd\n",
    "import geopandas as gpd\n",
    "import numpy as np\n",
    "import seaborn as sea\n",
    "from scipy import stats\n",
    "import matplotlib.pyplot as plt\n",
    "from housing_elements import utils, los_altos_permits, san_francisco_permits, san_jose_permits"
   ]
  },
  {
   "cell_type": "code",
   "execution_count": 48,
   "id": "experimental-queen",
   "metadata": {},
   "outputs": [
    {
     "data": {
      "text/plain": [
       "<module 'housing_elements.utils' from '/Users/Salim/Desktop/housing-elements/housing_elements/utils.py'>"
      ]
     },
     "execution_count": 48,
     "metadata": {},
     "output_type": "execute_result"
    }
   ],
   "source": [
    "from importlib import reload\n",
    "reload(los_altos_permits)\n",
    "reload(san_francisco_permits)\n",
    "reload(utils)"
   ]
  },
  {
   "cell_type": "code",
   "execution_count": 3,
   "id": "stylish-replacement",
   "metadata": {},
   "outputs": [],
   "source": [
    "import os, sys\n",
    "\n",
    "class HiddenPrints:\n",
    "    def __enter__(self):\n",
    "        self._original_stdout = sys.stdout\n",
    "        sys.stdout = open(os.devnull, 'w')\n",
    "\n",
    "    def __exit__(self, exc_type, exc_val, exc_tb):\n",
    "        sys.stdout.close()\n",
    "        sys.stdout = self._original_stdout"
   ]
  },
  {
   "cell_type": "code",
   "execution_count": 4,
   "id": "sufficient-refund",
   "metadata": {},
   "outputs": [],
   "source": [
    "# Silence an annoying warning that I get when running pd.read_excel\n",
    "import warnings\n",
    "warnings.filterwarnings(\"ignore\", message=\"Data Validation extension is not supported and will be removed\")"
   ]
  },
  {
   "cell_type": "markdown",
   "id": "biblical-composite",
   "metadata": {},
   "source": [
    "# Load sites and permits DataFrames for each city"
   ]
  },
  {
   "cell_type": "code",
   "execution_count": 5,
   "id": "thick-official",
   "metadata": {},
   "outputs": [],
   "source": [
    "# Load this once, to speed up load_site_inventory below\n",
    "sites_df = utils.load_all_sites()"
   ]
  },
  {
   "cell_type": "code",
   "execution_count": 6,
   "id": "crazy-calvin",
   "metadata": {},
   "outputs": [],
   "source": [
    "all_cities = sites_df.jurisdict.unique()"
   ]
  },
  {
   "cell_type": "code",
   "execution_count": 7,
   "id": "amazing-rwanda",
   "metadata": {},
   "outputs": [
    {
     "data": {
      "text/plain": [
       "108"
      ]
     },
     "execution_count": 7,
     "metadata": {},
     "output_type": "execute_result"
    }
   ],
   "source": [
    "len(all_cities)"
   ]
  },
  {
   "cell_type": "code",
   "execution_count": 8,
   "id": "backed-communication",
   "metadata": {},
   "outputs": [],
   "source": [
    "# Load this once, to speed up load_all_new_building_permits below\n",
    "abag_permits_df = utils.load_abag_permits()"
   ]
  },
  {
   "cell_type": "code",
   "execution_count": 9,
   "id": "north-dublin",
   "metadata": {},
   "outputs": [
    {
     "data": {
      "text/plain": [
       "<module 'housing_elements.utils' from '/Users/Salim/Desktop/housing-elements/housing_elements/utils.py'>"
      ]
     },
     "execution_count": 9,
     "metadata": {},
     "output_type": "execute_result"
    }
   ],
   "source": [
    "reload(utils)"
   ]
  },
  {
   "cell_type": "code",
   "execution_count": 49,
   "id": "apparent-trouble",
   "metadata": {},
   "outputs": [
    {
     "name": "stdout",
     "output_type": "stream",
     "text": [
      "CPU times: user 4.01 s, sys: 123 ms, total: 4.13 s\n",
      "Wall time: 4.14 s\n"
     ]
    }
   ],
   "source": [
    "%%time\n",
    "cities_with_sites = {}\n",
    "\n",
    "for city in all_cities:\n",
    "    with HiddenPrints():\n",
    "        try:\n",
    "            cities_with_sites[city] = utils.load_site_inventory(city, sites_df=sites_df)\n",
    "            cities_with_sites[city].relcapcty.sum()\n",
    "        except Exception:\n",
    "            pass"
   ]
  },
  {
   "cell_type": "code",
   "execution_count": 11,
   "id": "after-reflection",
   "metadata": {},
   "outputs": [
    {
     "data": {
      "text/plain": [
       "108"
      ]
     },
     "execution_count": 11,
     "metadata": {},
     "output_type": "execute_result"
    }
   ],
   "source": [
    "len(cities_with_sites)"
   ]
  },
  {
   "cell_type": "code",
   "execution_count": 12,
   "id": "cathedral-peeing",
   "metadata": {},
   "outputs": [
    {
     "name": "stderr",
     "output_type": "stream",
     "text": [
      "Contra Costa County\n",
      "Alameda County\n",
      "Corte Madera\n",
      "Marin County\n",
      "Saint Helena\n",
      "Napa County\n",
      "Hillsborough\n",
      "San Mateo County\n",
      "Sonoma County\n"
     ]
    },
    {
     "name": "stdout",
     "output_type": "stream",
     "text": [
      "CPU times: user 4min 48s, sys: 1.33 s, total: 4min 49s\n",
      "Wall time: 4min 51s\n"
     ]
    },
    {
     "name": "stderr",
     "output_type": "stream",
     "text": [
      "Solano County\n"
     ]
    }
   ],
   "source": [
    "%%time\n",
    "cities_with_permits = {}\n",
    "\n",
    "for city in all_cities:\n",
    "    with HiddenPrints():\n",
    "        try:\n",
    "            cities_with_permits[city] = utils.load_all_new_building_permits(city, abag_permits_df)\n",
    "        except Exception:\n",
    "            print(city, file=sys.stderr)"
   ]
  },
  {
   "cell_type": "code",
   "execution_count": 15,
   "id": "humanitarian-research",
   "metadata": {},
   "outputs": [
    {
     "data": {
      "text/plain": [
       "98"
      ]
     },
     "execution_count": 15,
     "metadata": {},
     "output_type": "execute_result"
    }
   ],
   "source": [
    "len(cities_with_permits)"
   ]
  },
  {
   "cell_type": "code",
   "execution_count": 16,
   "id": "generous-beginning",
   "metadata": {},
   "outputs": [
    {
     "data": {
      "text/plain": [
       "<module 'housing_elements.utils' from '/Users/Salim/Desktop/housing-elements/housing_elements/utils.py'>"
      ]
     },
     "execution_count": 16,
     "metadata": {},
     "output_type": "execute_result"
    }
   ],
   "source": [
    "reload(utils)"
   ]
  },
  {
   "cell_type": "markdown",
   "id": "separate-token",
   "metadata": {},
   "source": [
    "## Data Cleaning Factoids"
   ]
  },
  {
   "cell_type": "markdown",
   "id": "ethical-illness",
   "metadata": {},
   "source": [
    "### Realistic Capacity"
   ]
  },
  {
   "cell_type": "markdown",
   "id": "ancient-template",
   "metadata": {},
   "source": [
    "#### Pre-Existing Nulls"
   ]
  },
  {
   "cell_type": "markdown",
   "id": "great-intersection",
   "metadata": {},
   "source": [
    "Two ways to calculate NA realistic capacities come to the same conclusion"
   ]
  },
  {
   "cell_type": "code",
   "execution_count": 17,
   "id": "ancient-finish",
   "metadata": {},
   "outputs": [],
   "source": [
    "rhna5 = sites_df[sites_df.rhnacyc == 'RHNA5']"
   ]
  },
  {
   "cell_type": "code",
   "execution_count": 21,
   "id": "defensive-hacker",
   "metadata": {},
   "outputs": [
    {
     "data": {
      "text/plain": [
       "(2910,)"
      ]
     },
     "execution_count": 21,
     "metadata": {},
     "output_type": "execute_result"
    }
   ],
   "source": [
    "rhna5.relcapcty[rhna5.relcapcty.isna()].shape"
   ]
  },
  {
   "cell_type": "code",
   "execution_count": 20,
   "id": "charged-british",
   "metadata": {},
   "outputs": [
    {
     "name": "stderr",
     "output_type": "stream",
     "text": [
      "/Users/Salim/opt/miniconda3/envs/my_env/lib/python3.7/site-packages/pandas/core/strings.py:2001: UserWarning: This pattern has match groups. To actually get the groups, use str.extract.\n",
      "  return func(self, *args, **kwargs)\n"
     ]
    },
    {
     "data": {
      "text/plain": [
       "(2910, 35)"
      ]
     },
     "execution_count": 20,
     "metadata": {},
     "output_type": "execute_result"
    }
   ],
   "source": [
    "rhna5[(rhna5.relcapcty.str.contains(\"/^([^0-9]*)$/\") != False)].shape"
   ]
  },
  {
   "cell_type": "code",
   "execution_count": 22,
   "id": "residential-escape",
   "metadata": {},
   "outputs": [
    {
     "data": {
      "text/plain": [
       "(20849, 35)"
      ]
     },
     "execution_count": 22,
     "metadata": {},
     "output_type": "execute_result"
    }
   ],
   "source": [
    "rhna5.shape"
   ]
  },
  {
   "cell_type": "code",
   "execution_count": 23,
   "id": "disabled-payroll",
   "metadata": {},
   "outputs": [
    {
     "data": {
      "text/plain": [
       "0.13957503957024317"
      ]
     },
     "execution_count": 23,
     "metadata": {},
     "output_type": "execute_result"
    }
   ],
   "source": [
    "2910 / rhna5.shape[0]"
   ]
  },
  {
   "cell_type": "markdown",
   "id": "rotary-county",
   "metadata": {},
   "source": [
    "### Proportion of nulls that are our fault versus theirs"
   ]
  },
  {
   "cell_type": "code",
   "execution_count": 55,
   "id": "vocational-expression",
   "metadata": {},
   "outputs": [
    {
     "name": "stdout",
     "output_type": "stream",
     "text": [
      "San Ramon\tAllowden 1\n",
      "Newark\tAllowden 1\n",
      "Danville\tAllowden 9\n",
      "El Cerrito\tAllowden 7\n",
      "Walnut Creek\tAllowden 90\n",
      "Corte Madera\tAllowden 1\n",
      "Pittsburg\tAllowden 1\n",
      "Piedmont\tAllowden 58\n",
      "Sausalito\tAllowden 87\n",
      "Fairfax\tAllowden 48\n",
      "Novato\tAllowden 5\n",
      "Atherton\tAllowden 2\n",
      "Woodside\tAllowden 266\n",
      "San Mateo County\tAllowden 136\n",
      "Portola Valley\tAllowden 8\n",
      "Windsor\tAllowden 1\n"
     ]
    }
   ],
   "source": [
    "for city, site in cities_with_sites.items():\n",
    "    num_fail_parse_realcap = site.realcap_parse_fail.sum()\n",
    "    num_fail_parse_allowden = site.allowden_parse_fail.sum()\n",
    "    if num_fail_parse_realcap or num_fail_parse_allowden:\n",
    "        print(city, end='\\t')\n",
    "    if num_fail_parse_realcap:\n",
    "        print('Realcap', num_fail_parse_realcap)\n",
    "    if num_fail_parse_allowden:\n",
    "        print('Allowden', num_fail_parse_allowden)"
   ]
  },
  {
   "cell_type": "code",
   "execution_count": 58,
   "id": "reported-geography",
   "metadata": {},
   "outputs": [
    {
     "data": {
      "text/plain": [
       "721"
      ]
     },
     "execution_count": 58,
     "metadata": {},
     "output_type": "execute_result"
    }
   ],
   "source": [
    "sum([site.allowden_parse_fail.sum() for city, site in cities_with_sites.items()])"
   ]
  },
  {
   "cell_type": "code",
   "execution_count": 59,
   "id": "third-today",
   "metadata": {},
   "outputs": [
    {
     "data": {
      "text/plain": [
       "0"
      ]
     },
     "execution_count": 59,
     "metadata": {},
     "output_type": "execute_result"
    }
   ],
   "source": [
    "sum([site.realcap_parse_fail.sum() for city, site in cities_with_sites.items()])"
   ]
  },
  {
   "cell_type": "code",
   "execution_count": 61,
   "id": "willing-practice",
   "metadata": {},
   "outputs": [
    {
     "data": {
      "text/plain": [
       "39851"
      ]
     },
     "execution_count": 61,
     "metadata": {},
     "output_type": "execute_result"
    }
   ],
   "source": [
    "sum([site.shape[0] for city, site in cities_with_permits.items()])"
   ]
  },
  {
   "cell_type": "code",
   "execution_count": 62,
   "id": "drawn-easter",
   "metadata": {},
   "outputs": [
    {
     "data": {
      "text/plain": [
       "0.01809239416827683"
      ]
     },
     "execution_count": 62,
     "metadata": {},
     "output_type": "execute_result"
    }
   ],
   "source": [
    "721 / 39851"
   ]
  },
  {
   "cell_type": "code",
   "execution_count": 63,
   "id": "proved-liechtenstein",
   "metadata": {},
   "outputs": [
    {
     "data": {
      "text/plain": [
       "5547"
      ]
     },
     "execution_count": 63,
     "metadata": {},
     "output_type": "execute_result"
    }
   ],
   "source": [
    "sum([site.allowden_not_listed.sum() for city, site in cities_with_sites.items()])"
   ]
  },
  {
   "cell_type": "code",
   "execution_count": 64,
   "id": "uniform-appreciation",
   "metadata": {},
   "outputs": [
    {
     "data": {
      "text/plain": [
       "0.11502871729419273"
      ]
     },
     "execution_count": 64,
     "metadata": {},
     "output_type": "execute_result"
    }
   ],
   "source": [
    "721 / (5547 + 721)"
   ]
  },
  {
   "cell_type": "markdown",
   "id": "increasing-people",
   "metadata": {},
   "source": [
    "11% of allowable density nulls are our fault. None of the realistic capacity nulls are our fault."
   ]
  },
  {
   "cell_type": "markdown",
   "id": "indian-vampire",
   "metadata": {},
   "source": [
    "#### Degenerate Rows"
   ]
  },
  {
   "cell_type": "code",
   "execution_count": 104,
   "id": "headed-paragraph",
   "metadata": {},
   "outputs": [],
   "source": [
    "no_realcap = pd.to_numeric(rhna5.relcapcty, errors='coerce') == 0\n",
    "no_allowden = pd.to_numeric(rhna5.allowden, errors='coerce') == 0\n",
    "no_locacreage = pd.to_numeric(rhna5.locacres, errors='coerce') == 0\n",
    "no_gacreage = pd.to_numeric(rhna5.gacres, errors='coerce') == 0"
   ]
  },
  {
   "cell_type": "code",
   "execution_count": 108,
   "id": "latter-audience",
   "metadata": {},
   "outputs": [
    {
     "data": {
      "text/plain": [
       "(14, 35)"
      ]
     },
     "execution_count": 108,
     "metadata": {},
     "output_type": "execute_result"
    }
   ],
   "source": [
    "rhna5[no_realcap & no_locacreage].shape"
   ]
  },
  {
   "cell_type": "code",
   "execution_count": 106,
   "id": "theoretical-valuation",
   "metadata": {},
   "outputs": [
    {
     "data": {
      "text/plain": [
       "(0, 35)"
      ]
     },
     "execution_count": 106,
     "metadata": {},
     "output_type": "execute_result"
    }
   ],
   "source": [
    "rhna5[no_gacreage & no_locacreage].shape"
   ]
  },
  {
   "cell_type": "code",
   "execution_count": 101,
   "id": "married-privilege",
   "metadata": {},
   "outputs": [
    {
     "data": {
      "text/plain": [
       "(0, 35)"
      ]
     },
     "execution_count": 101,
     "metadata": {},
     "output_type": "execute_result"
    }
   ],
   "source": [
    "rhna5[no_gacreage].shape"
   ]
  },
  {
   "cell_type": "code",
   "execution_count": 102,
   "id": "exceptional-certificate",
   "metadata": {},
   "outputs": [
    {
     "data": {
      "text/plain": [
       "(901, 35)"
      ]
     },
     "execution_count": 102,
     "metadata": {},
     "output_type": "execute_result"
    }
   ],
   "source": [
    "rhna5[no_realcap & no_allowden].shape"
   ]
  },
  {
   "cell_type": "code",
   "execution_count": 103,
   "id": "spoken-fabric",
   "metadata": {},
   "outputs": [
    {
     "data": {
      "text/plain": [
       "(0, 35)"
      ]
     },
     "execution_count": 103,
     "metadata": {},
     "output_type": "execute_result"
    }
   ],
   "source": [
    "rhna5[no_realcap & no_allowden & no_locacreage].shape"
   ]
  },
  {
   "cell_type": "markdown",
   "id": "taken-class",
   "metadata": {},
   "source": [
    "I wouldn't say there are any degenerate rows. Even when locacreage is zero, we can rely on gacreage instead. \n",
    "\n",
    "There are, however, 901 sites with no realistic capacity and no allowable density. What kind of sites are these?"
   ]
  },
  {
   "cell_type": "code",
   "execution_count": 110,
   "id": "noticed-negative",
   "metadata": {},
   "outputs": [
    {
     "data": {
      "text/plain": [
       "San Francisco       884\n",
       "Moraga               14\n",
       "San Mateo County      2\n",
       "Martinez              1\n",
       "Name: jurisdict, dtype: int64"
      ]
     },
     "execution_count": 110,
     "metadata": {},
     "output_type": "execute_result"
    }
   ],
   "source": [
    "rhna5[no_realcap & no_allowden].jurisdict.value_counts()"
   ]
  },
  {
   "cell_type": "code",
   "execution_count": 119,
   "id": "exotic-enzyme",
   "metadata": {},
   "outputs": [
    {
     "data": {
      "text/html": [
       "<div>\n",
       "<style scoped>\n",
       "    .dataframe tbody tr th:only-of-type {\n",
       "        vertical-align: middle;\n",
       "    }\n",
       "\n",
       "    .dataframe tbody tr th {\n",
       "        vertical-align: top;\n",
       "    }\n",
       "\n",
       "    .dataframe thead th {\n",
       "        text-align: right;\n",
       "    }\n",
       "</style>\n",
       "<table border=\"1\" class=\"dataframe\">\n",
       "  <thead>\n",
       "    <tr style=\"text-align: right;\">\n",
       "      <th></th>\n",
       "      <th>objectid</th>\n",
       "      <th>rhnacyc</th>\n",
       "      <th>rhnayrs</th>\n",
       "      <th>county</th>\n",
       "      <th>jurisdict</th>\n",
       "      <th>apn</th>\n",
       "      <th>locapn</th>\n",
       "      <th>genplan</th>\n",
       "      <th>zoning</th>\n",
       "      <th>gacres</th>\n",
       "      <th>...</th>\n",
       "      <th>infcapcty</th>\n",
       "      <th>siteconst</th>\n",
       "      <th>sitetype</th>\n",
       "      <th>pdaparcel</th>\n",
       "      <th>bundled</th>\n",
       "      <th>existuse</th>\n",
       "      <th>localnote</th>\n",
       "      <th>Shape__Are</th>\n",
       "      <th>Shape__Len</th>\n",
       "      <th>geometry</th>\n",
       "    </tr>\n",
       "  </thead>\n",
       "  <tbody>\n",
       "    <tr>\n",
       "      <th>28077</th>\n",
       "      <td>70211</td>\n",
       "      <td>RHNA5</td>\n",
       "      <td>2015-2023</td>\n",
       "      <td>6075</td>\n",
       "      <td>San Francisco</td>\n",
       "      <td>4227/031</td>\n",
       "      <td>4227/031</td>\n",
       "      <td>Central Waterfront</td>\n",
       "      <td>PDR-1-G</td>\n",
       "      <td>0.056</td>\n",
       "      <td>...</td>\n",
       "      <td>None</td>\n",
       "      <td>None</td>\n",
       "      <td>Underutilized</td>\n",
       "      <td>Y</td>\n",
       "      <td>None</td>\n",
       "      <td>Dwelling</td>\n",
       "      <td>None</td>\n",
       "      <td>2.312208e-08</td>\n",
       "      <td>0.000814</td>\n",
       "      <td>POLYGON ((-122.39100 37.75430, -122.39132 37.7...</td>\n",
       "    </tr>\n",
       "    <tr>\n",
       "      <th>30283</th>\n",
       "      <td>72417</td>\n",
       "      <td>RHNA5</td>\n",
       "      <td>2015-2023</td>\n",
       "      <td>6075</td>\n",
       "      <td>San Francisco</td>\n",
       "      <td>5434B/002</td>\n",
       "      <td>5434B/002</td>\n",
       "      <td>BVHP Area A,B</td>\n",
       "      <td>PDR-2</td>\n",
       "      <td>0.697</td>\n",
       "      <td>...</td>\n",
       "      <td>None</td>\n",
       "      <td>None</td>\n",
       "      <td>Underutilized</td>\n",
       "      <td>Y</td>\n",
       "      <td>None</td>\n",
       "      <td>Industrial</td>\n",
       "      <td>None</td>\n",
       "      <td>2.884321e-07</td>\n",
       "      <td>0.002368</td>\n",
       "      <td>POLYGON ((-122.39907 37.72771, -122.39941 37.7...</td>\n",
       "    </tr>\n",
       "    <tr>\n",
       "      <th>33511</th>\n",
       "      <td>75645</td>\n",
       "      <td>RHNA5</td>\n",
       "      <td>2015-2023</td>\n",
       "      <td>6075</td>\n",
       "      <td>San Francisco</td>\n",
       "      <td>5333/029</td>\n",
       "      <td>5333/029</td>\n",
       "      <td>BVHP Area A,B</td>\n",
       "      <td>PDR-2</td>\n",
       "      <td>0.057</td>\n",
       "      <td>...</td>\n",
       "      <td>None</td>\n",
       "      <td>None</td>\n",
       "      <td>Underutilized</td>\n",
       "      <td>Y</td>\n",
       "      <td>None</td>\n",
       "      <td>Industrial</td>\n",
       "      <td>None</td>\n",
       "      <td>2.374463e-08</td>\n",
       "      <td>0.000763</td>\n",
       "      <td>POLYGON ((-122.40177 37.73906, -122.40197 37.7...</td>\n",
       "    </tr>\n",
       "    <tr>\n",
       "      <th>32095</th>\n",
       "      <td>74229</td>\n",
       "      <td>RHNA5</td>\n",
       "      <td>2015-2023</td>\n",
       "      <td>6075</td>\n",
       "      <td>San Francisco</td>\n",
       "      <td>5230/021</td>\n",
       "      <td>5230/021</td>\n",
       "      <td>BVHP Area A,B</td>\n",
       "      <td>PDR-2</td>\n",
       "      <td>1.122</td>\n",
       "      <td>...</td>\n",
       "      <td>None</td>\n",
       "      <td>None</td>\n",
       "      <td>Vacant</td>\n",
       "      <td>Y</td>\n",
       "      <td>None</td>\n",
       "      <td>Vacant</td>\n",
       "      <td>None</td>\n",
       "      <td>4.643043e-07</td>\n",
       "      <td>0.004282</td>\n",
       "      <td>POLYGON ((-122.39653 37.74671, -122.39660 37.7...</td>\n",
       "    </tr>\n",
       "    <tr>\n",
       "      <th>31946</th>\n",
       "      <td>74080</td>\n",
       "      <td>RHNA5</td>\n",
       "      <td>2015-2023</td>\n",
       "      <td>6075</td>\n",
       "      <td>San Francisco</td>\n",
       "      <td>4811/011</td>\n",
       "      <td>4811/011</td>\n",
       "      <td>BVHP Area A,B</td>\n",
       "      <td>PDR-2</td>\n",
       "      <td>0.229</td>\n",
       "      <td>...</td>\n",
       "      <td>None</td>\n",
       "      <td>None</td>\n",
       "      <td>Underutilized</td>\n",
       "      <td>Y</td>\n",
       "      <td>None</td>\n",
       "      <td>Industrial</td>\n",
       "      <td>None</td>\n",
       "      <td>9.496034e-08</td>\n",
       "      <td>0.001248</td>\n",
       "      <td>POLYGON ((-122.38719 37.72667, -122.38739 37.7...</td>\n",
       "    </tr>\n",
       "  </tbody>\n",
       "</table>\n",
       "<p>5 rows × 35 columns</p>\n",
       "</div>"
      ],
      "text/plain": [
       "       objectid rhnacyc    rhnayrs county      jurisdict        apn  \\\n",
       "28077     70211   RHNA5  2015-2023   6075  San Francisco   4227/031   \n",
       "30283     72417   RHNA5  2015-2023   6075  San Francisco  5434B/002   \n",
       "33511     75645   RHNA5  2015-2023   6075  San Francisco   5333/029   \n",
       "32095     74229   RHNA5  2015-2023   6075  San Francisco   5230/021   \n",
       "31946     74080   RHNA5  2015-2023   6075  San Francisco   4811/011   \n",
       "\n",
       "          locapn             genplan   zoning  gacres  ...  infcapcty  \\\n",
       "28077   4227/031  Central Waterfront  PDR-1-G   0.056  ...       None   \n",
       "30283  5434B/002       BVHP Area A,B    PDR-2   0.697  ...       None   \n",
       "33511   5333/029       BVHP Area A,B    PDR-2   0.057  ...       None   \n",
       "32095   5230/021       BVHP Area A,B    PDR-2   1.122  ...       None   \n",
       "31946   4811/011       BVHP Area A,B    PDR-2   0.229  ...       None   \n",
       "\n",
       "       siteconst       sitetype  pdaparcel  bundled    existuse localnote  \\\n",
       "28077       None  Underutilized          Y     None    Dwelling      None   \n",
       "30283       None  Underutilized          Y     None  Industrial      None   \n",
       "33511       None  Underutilized          Y     None  Industrial      None   \n",
       "32095       None         Vacant          Y     None      Vacant      None   \n",
       "31946       None  Underutilized          Y     None  Industrial      None   \n",
       "\n",
       "         Shape__Are Shape__Len  \\\n",
       "28077  2.312208e-08   0.000814   \n",
       "30283  2.884321e-07   0.002368   \n",
       "33511  2.374463e-08   0.000763   \n",
       "32095  4.643043e-07   0.004282   \n",
       "31946  9.496034e-08   0.001248   \n",
       "\n",
       "                                                geometry  \n",
       "28077  POLYGON ((-122.39100 37.75430, -122.39132 37.7...  \n",
       "30283  POLYGON ((-122.39907 37.72771, -122.39941 37.7...  \n",
       "33511  POLYGON ((-122.40177 37.73906, -122.40197 37.7...  \n",
       "32095  POLYGON ((-122.39653 37.74671, -122.39660 37.7...  \n",
       "31946  POLYGON ((-122.38719 37.72667, -122.38739 37.7...  \n",
       "\n",
       "[5 rows x 35 columns]"
      ]
     },
     "execution_count": 119,
     "metadata": {},
     "output_type": "execute_result"
    }
   ],
   "source": [
    "rhna5[no_realcap & no_allowden].sample(5, random_state =0)"
   ]
  },
  {
   "cell_type": "markdown",
   "id": "afraid-jewelry",
   "metadata": {},
   "source": [
    "They're mostly in San Francisco and have a zoning type of PDR. According to SF's website, \"In order to protect PDR, residential development would be prohibited, while office, retail, and institutional uses (schools, hospitals, etc.) would be limited. HOWEVER, residences, offices and retail which currently exist legally in these areas may stay indefinitely.\""
   ]
  },
  {
   "cell_type": "markdown",
   "id": "demanding-phone",
   "metadata": {},
   "source": [
    "## Results"
   ]
  },
  {
   "cell_type": "code",
   "execution_count": null,
   "id": "durable-variable",
   "metadata": {},
   "outputs": [],
   "source": [
    "def get_results_for_city(city: str, match_by: str) -> pd.DataFrame:\n",
    "    permits = cities_with_permits[city]\n",
    "    sites = cities_with_sites[city]\n",
    "    \n",
    "    nonvacant_matches, nonvacant_sites, nonvacant_ratio = utils.calculate_pdev_for_nonvacant_sites(sites, permits, match_by)\n",
    "    vacant_matches, vacant_sites, vacant_ratio = utils.calculate_pdev_for_vacant_sites(sites, permits, match_by)\n",
    "    all_matches, all_sites, all_ratio = utils.calculate_pdev_for_inventory(sites, permits, match_by)\n",
    "    \n",
    "    return {\n",
    "        'City': city,\n",
    "        'Ratio of development on inventory sites': utils.calculate_total_units_permitted_over_he_capacity(sites, permits),\n",
    "        'Mean overproduction': utils.calculate_underproduction_on_sites(sites, permits),\n",
    "        'Inventory housing / all housing': utils.calculate_inventory_housing_over_all_housing(sites, permits),\n",
    "        'P(dev) for nonvacant sites': nonvacant_ratio,\n",
    "        'P(dev) for vacant sites': vacant_ratio,\n",
    "        'P(dev) for inventory': all_ratio,\n",
    "        '# nonvacant matches': f'{nonvacant_matches} / {nonvacant_sites}',\n",
    "        '# vacant matches': f'{vacant_matches} / {vacant_sites}',\n",
    "        '# matches': f'{all_matches} / {all_sites}',\n",
    "    }"
   ]
  },
  {
   "cell_type": "code",
   "execution_count": 85,
   "id": "numerical-edition",
   "metadata": {},
   "outputs": [],
   "source": []
  },
  {
   "cell_type": "code",
   "execution_count": null,
   "id": "convinced-nicholas",
   "metadata": {},
   "outputs": [],
   "source": [
    "cities = [city for city in all_cities if city in cities_with_permits and city in cities_with_sites]"
   ]
  },
  {
   "cell_type": "code",
   "execution_count": null,
   "id": "advance-tribute",
   "metadata": {},
   "outputs": [],
   "source": [
    "len(cities)"
   ]
  },
  {
   "cell_type": "code",
   "execution_count": null,
   "id": "incredible-airplane",
   "metadata": {},
   "outputs": [],
   "source": [
    "reload(utils)"
   ]
  },
  {
   "cell_type": "code",
   "execution_count": null,
   "id": "prescribed-accessory",
   "metadata": {},
   "outputs": [],
   "source": [
    "%%time\n",
    "with HiddenPrints():\n",
    "    results_df = pd.DataFrame([get_results_for_city(city, match_by='apn') for city in cities])"
   ]
  },
  {
   "cell_type": "code",
   "execution_count": null,
   "id": "molecular-inspection",
   "metadata": {},
   "outputs": [],
   "source": [
    "results_df[results_df['P(dev) for inventory'] == 0].City.values"
   ]
  },
  {
   "cell_type": "code",
   "execution_count": null,
   "id": "killing-vacation",
   "metadata": {},
   "outputs": [],
   "source": [
    "results_df[results_df['P(dev) for inventory'].isna()]"
   ]
  },
  {
   "cell_type": "code",
   "execution_count": null,
   "id": "reserved-insight",
   "metadata": {},
   "outputs": [],
   "source": [
    "sites_df[sites_df.jurisdict == 'Orinda']"
   ]
  },
  {
   "cell_type": "code",
   "execution_count": null,
   "id": "eleven-spine",
   "metadata": {},
   "outputs": [],
   "source": [
    "permits = utils.load_abag_permits()\n"
   ]
  },
  {
   "cell_type": "code",
   "execution_count": null,
   "id": "guilty-publication",
   "metadata": {},
   "outputs": [],
   "source": [
    "reload(utils)\n",
    "for city, permits in cities_with_permits.items():\n",
    "    print(city, '\\t', round(utils.fraction_apns_nan(permits), 2))"
   ]
  },
  {
   "cell_type": "code",
   "execution_count": null,
   "id": "hearing-faith",
   "metadata": {},
   "outputs": [],
   "source": [
    "cities_with_permits['Dublin'].apn.isna().mean()"
   ]
  },
  {
   "cell_type": "code",
   "execution_count": null,
   "id": "apparent-logan",
   "metadata": {},
   "outputs": [],
   "source": [
    "x = results_df[\"P(dev) for inventory\"]\n",
    "y = [utils.fraction_apns_nan(p) for c, p in cities_with_permits.items()]\n",
    "plt.scatter(x, y, alpha=.2)\n",
    "plt.xlabel(\"P(dev)\")\n",
    "plt.ylabel(\"% APNs NAN\")\n",
    "plt.title(\"Are missing APNs skewing our results?\")"
   ]
  },
  {
   "cell_type": "code",
   "execution_count": null,
   "id": "stopped-laptop",
   "metadata": {},
   "outputs": [],
   "source": [
    "%%time\n",
    "with HiddenPrints():\n",
    "    results_geo_df = pd.DataFrame([get_results_for_city(city, match_by='geo') for city in cities])"
   ]
  },
  {
   "cell_type": "code",
   "execution_count": null,
   "id": "piano-exercise",
   "metadata": {},
   "outputs": [],
   "source": [
    "results_geo_df.round(3)"
   ]
  },
  {
   "cell_type": "code",
   "execution_count": null,
   "id": "every-investigation",
   "metadata": {},
   "outputs": [],
   "source": [
    "%%time\n",
    "with HiddenPrints():\n",
    "    results_both_df = pd.DataFrame([get_results_for_city(city, match_by='both') for city in cities])"
   ]
  },
  {
   "cell_type": "code",
   "execution_count": null,
   "id": "racial-yugoslavia",
   "metadata": {},
   "outputs": [],
   "source": [
    "results_both_df.round(3)"
   ]
  },
  {
   "cell_type": "markdown",
   "id": "organized-stream",
   "metadata": {},
   "source": [
    "### Histograms of QOIs"
   ]
  },
  {
   "cell_type": "code",
   "execution_count": null,
   "id": "comprehensive-convenience",
   "metadata": {},
   "outputs": [],
   "source": [
    "sea_plot = sea.histplot(results_both_df['P(dev) for nonvacant sites']).set_title(\"Each city's P(dev) for nonvacant sites\")\n",
    "sea_plot.get_figure().savefig('./figures/Pdev_nonvacant.png')"
   ]
  },
  {
   "cell_type": "code",
   "execution_count": null,
   "id": "southeast-segment",
   "metadata": {},
   "outputs": [],
   "source": [
    "sea_plot = sea.histplot(results_both_df['P(dev) for vacant sites']).set_title(\"Each city's P(dev) for vacant sites\")\n",
    "sea_plot.get_figure().savefig('./figures/Pdev_vacant.png')"
   ]
  },
  {
   "cell_type": "code",
   "execution_count": null,
   "id": "advance-damages",
   "metadata": {},
   "outputs": [],
   "source": [
    "sea_plot = sea.histplot(results_both_df['P(dev) for vacant sites']).set_title(\"Each city's P(dev)\")\n",
    "sea_plot.get_figure().savefig('./figures/Pdev.png')"
   ]
  },
  {
   "cell_type": "code",
   "execution_count": null,
   "id": "connected-booth",
   "metadata": {},
   "outputs": [],
   "source": [
    "sea_plot = sea.histplot(results_both_df['Ratio of development on inventory sites']).set_title(\"Each city's 1 / P(inventory|dev)\")\n",
    "sea_plot.get_figure().savefig('./figures/ratio_of_dev.png')"
   ]
  },
  {
   "cell_type": "code",
   "execution_count": null,
   "id": "funded-variety",
   "metadata": {},
   "outputs": [],
   "source": [
    "sea_plot = sea.histplot(results_both_df['Mean overproduction']).set_title(\"Each city's mean overproduction\")\n",
    "sea_plot.get_figure().savefig('./figures/mean_overproduction.png')"
   ]
  },
  {
   "cell_type": "code",
   "execution_count": null,
   "id": "induced-blood",
   "metadata": {},
   "outputs": [],
   "source": [
    "sea_plot = sea.histplot(results_both_df['Inventory housing / all housing']).set_title(\"Each city's Inventory housing / all housing\")\n",
    "sea_plot.get_figure().savefig('./figures/inventory_housing_over_all_housing.png')\n"
   ]
  },
  {
   "cell_type": "markdown",
   "id": "national-salem",
   "metadata": {},
   "source": [
    "### Did RHNA success in last cycle actually have anything to do with how good the site inventory was?"
   ]
  },
  {
   "cell_type": "code",
   "execution_count": null,
   "id": "handed-perspective",
   "metadata": {},
   "outputs": [],
   "source": [
    "rhna_success = results_both_df['Ratio of development on inventory sites']\n",
    "p_dev = results_both_df['P(dev) for inventory']\n",
    "\n",
    "is_null = np.isnan(rhna_success) | np.isnan(p_dev)\n",
    "stats.pearsonr(rhna_success[~is_null], p_dev[~is_null])"
   ]
  },
  {
   "cell_type": "code",
   "execution_count": null,
   "id": "frozen-sitting",
   "metadata": {},
   "outputs": [],
   "source": [
    "sea_plot = sea.scatterplot(x=rhna_success[~is_null], y=p_dev[~is_null])\n",
    "sea_plot.set_title(\"Does RHNA success have anything to do with the realistic capacity of the inventory sites?\")\n",
    "sea_plot.get_figure().savefig('./figures/did_realistic_capacity_calcs_matter.png')"
   ]
  },
  {
   "cell_type": "markdown",
   "id": "comfortable-award",
   "metadata": {},
   "source": [
    "### Table of top 10 cities by P(dev) & bottom 10"
   ]
  },
  {
   "cell_type": "markdown",
   "id": "representative-logging",
   "metadata": {},
   "source": [
    "#### Worst"
   ]
  },
  {
   "cell_type": "code",
   "execution_count": null,
   "id": "productive-elevation",
   "metadata": {},
   "outputs": [],
   "source": [
    "results_both_df.sort_values(by='P(dev) for inventory').head(10)"
   ]
  },
  {
   "cell_type": "markdown",
   "id": "internal-crash",
   "metadata": {},
   "source": [
    "#### Best"
   ]
  },
  {
   "cell_type": "code",
   "execution_count": null,
   "id": "reduced-salvation",
   "metadata": {},
   "outputs": [],
   "source": [
    "results_both_df.sort_values(by='P(dev) for inventory', ascending=False).head(10)"
   ]
  },
  {
   "cell_type": "code",
   "execution_count": null,
   "id": "voluntary-state",
   "metadata": {},
   "outputs": [],
   "source": [
    "combined_df = results_df.merge(\n",
    "    results_geo_df,\n",
    "    on='City',\n",
    "    suffixes=[' (by APN)', ' (by geomatching)']\n",
    ")"
   ]
  },
  {
   "cell_type": "code",
   "execution_count": null,
   "id": "powered-month",
   "metadata": {},
   "outputs": [],
   "source": [
    "combined_df.round(3)"
   ]
  },
  {
   "cell_type": "code",
   "execution_count": null,
   "id": "informed-breed",
   "metadata": {},
   "outputs": [],
   "source": [
    "results_df.to_csv('results/apn_matching_results.csv')\n",
    "results_geo_df.to_csv('results/geo_matching_results.csv')\n",
    "combined_df.to_csv('results/combined_df.csv')\n",
    "results_both_df.to_csv('results/apn_or_geo_matching_results.csv')"
   ]
  },
  {
   "cell_type": "markdown",
   "id": "prescribed-newman",
   "metadata": {},
   "source": [
    "Let's look into some cities where the APN results and Geo results are very out of line:"
   ]
  },
  {
   "cell_type": "code",
   "execution_count": null,
   "id": "immune-microphone",
   "metadata": {},
   "outputs": [],
   "source": [
    "combined_df[\n",
    "    (combined_df['P(dev) for nonvacant sites (by APN)'] - combined_df['P(dev) for nonvacant sites (by geomatching)']).abs() > 0.3\n",
    "]"
   ]
  },
  {
   "cell_type": "code",
   "execution_count": null,
   "id": "engaging-diameter",
   "metadata": {},
   "outputs": [],
   "source": [
    "combined_df[\n",
    "    combined_df['City'].isin(['Alameda', 'Antioch', 'Walnut Creek'])\n",
    "]"
   ]
  },
  {
   "cell_type": "code",
   "execution_count": null,
   "id": "ongoing-times",
   "metadata": {},
   "outputs": [],
   "source": [
    "cities_with_sites['San Bruno']"
   ]
  },
  {
   "cell_type": "code",
   "execution_count": null,
   "id": "suspected-madagascar",
   "metadata": {},
   "outputs": [],
   "source": [
    "cities_with_sites['San Bruno'].plot()"
   ]
  },
  {
   "cell_type": "code",
   "execution_count": null,
   "id": "supported-listing",
   "metadata": {},
   "outputs": [],
   "source": [
    "cities_with_permits['San Bruno'].plot()"
   ]
  },
  {
   "cell_type": "code",
   "execution_count": null,
   "id": "loaded-symphony",
   "metadata": {},
   "outputs": [],
   "source": [
    "import contextily as cx\n",
    "\n",
    "def plot_city(sites, permits):\n",
    "    ax = sites.plot(color='blue', edgecolor='red', figsize=(15, 15))\n",
    "    permits.plot(ax=ax, color='green', markersize=3)\n",
    "    \n",
    "#     cx.add_basemap(ax, zoom=18, crs='EPSG:4326')\n",
    "#     cx.add_basemap(ax, zoom=16, crs='EPSG:4326')\n",
    "#     cx.add_basemap(\n",
    "#         ax,\n",
    "#         source='https://tiles.stadiamaps.com/tiles/osm_bright/{z}/{x}/{y}{r}.png?api_key=c50d11b9-261a-4916-b968-fe8854621c78',\n",
    "#         zoom=15,\n",
    "#         crs='EPSG:4326'\n",
    "#     )\n",
    "    cx.add_basemap(\n",
    "        ax,\n",
    "        source=cx.providers.Stamen.TonerLite,\n",
    "#         zoom=15,\n",
    "        crs='EPSG:4326',\n",
    "    )"
   ]
  },
  {
   "cell_type": "code",
   "execution_count": null,
   "id": "plain-ceremony",
   "metadata": {},
   "outputs": [],
   "source": [
    "plot_city(cities_with_sites['San Bruno'], cities_with_permits['San Bruno'])"
   ]
  },
  {
   "cell_type": "code",
   "execution_count": null,
   "id": "novel-frequency",
   "metadata": {},
   "outputs": [],
   "source": [
    "sites = cities_with_sites['Windsor']\n",
    "permits = cities_with_permits['Windsor']"
   ]
  },
  {
   "cell_type": "code",
   "execution_count": null,
   "id": "organic-amateur",
   "metadata": {},
   "outputs": [],
   "source": [
    "sites.columns"
   ]
  },
  {
   "cell_type": "code",
   "execution_count": null,
   "id": "atomic-platinum",
   "metadata": {},
   "outputs": [],
   "source": [
    "sites[['apn', 'locapn', 'relcapcty', 'gacres', 'zoning', 'locacres', 'allowden']]"
   ]
  },
  {
   "cell_type": "code",
   "execution_count": null,
   "id": "postal-richmond",
   "metadata": {},
   "outputs": [],
   "source": [
    "permits[\n",
    "    permits.apn.isin(\n",
    "        sites.apn\n",
    "    )\n",
    "][['permyear', 'address', 'totalunit', 'apn']]"
   ]
  },
  {
   "cell_type": "code",
   "execution_count": null,
   "id": "consistent-drink",
   "metadata": {},
   "outputs": [],
   "source": [
    "permits[['permyear', 'address', 'totalunit']]"
   ]
  },
  {
   "cell_type": "code",
   "execution_count": null,
   "id": "promising-purple",
   "metadata": {},
   "outputs": [],
   "source": [
    "sites.columns"
   ]
  },
  {
   "cell_type": "code",
   "execution_count": null,
   "id": "banned-allah",
   "metadata": {},
   "outputs": [],
   "source": [
    "sites[\n",
    "    sites['apn'] == 17080150.0\n",
    "][['apn', 'locapn', 'relcapcty', 'gacres', 'locacres', 'localnote', 'index', 'existuse', 'sitetype', 'zoning']]"
   ]
  },
  {
   "cell_type": "code",
   "execution_count": null,
   "id": "controversial-reunion",
   "metadata": {},
   "outputs": [],
   "source": [
    "plot_city(cities_with_sites['Windsor'], cities_with_permits['Windsor'])"
   ]
  },
  {
   "cell_type": "code",
   "execution_count": null,
   "id": "spanish-trigger",
   "metadata": {},
   "outputs": [],
   "source": [
    "cities_with_permits['San Bruno'].columns"
   ]
  },
  {
   "cell_type": "code",
   "execution_count": null,
   "id": "therapeutic-polls",
   "metadata": {},
   "outputs": [],
   "source": [
    "for column in ['P(dev) for nonvacant sites', 'P(dev) for vacant sites', 'P(dev) for inventory']:k\n",
    "    print(column, (combined_df[column + ' (by geomatching)'] >= combined_df[column + ' (by APN)']).mean())"
   ]
  },
  {
   "cell_type": "code",
   "execution_count": null,
   "id": "three-orientation",
   "metadata": {},
   "outputs": [],
   "source": [
    "for column in ['P(dev) for nonvacant sites', 'P(dev) for vacant sites', 'P(dev) for inventory']:\n",
    "    print(column, (combined_df[column + ' (by geomatching)'] == combined_df[column + ' (by APN)']).mean())"
   ]
  },
  {
   "cell_type": "markdown",
   "id": "hollywood-punch",
   "metadata": {},
   "source": [
    "# \"Ground truth\" data"
   ]
  },
  {
   "cell_type": "code",
   "execution_count": null,
   "id": "foster-syntax",
   "metadata": {},
   "outputs": [],
   "source": [
    "def get_ground_truth_results_for_city(city: str) -> pd.DataFrame:\n",
    "    if city == 'San Jose':\n",
    "        permits = san_jose_permits.load_all_permits()\n",
    "    elif city == 'San Francisco':\n",
    "        permits = san_francisco_permits.load_all_permits()\n",
    "    elif city == 'Los Altos':\n",
    "        permits = los_altos_permits.load_all_permits()\n",
    "    else:\n",
    "        raise ValueError(f\"Ground truth data not available for {city}\")\n",
    "        \n",
    "    permits = utils.load_all_new_building_permits(city)\n",
    "    sites = utils.load_site_inventory(city)\n",
    "    \n",
    "    return {\n",
    "        'City': city,\n",
    "        'Ratio of development on inventory sites': utils.calculate_total_units_permitted_over_he_capacity(sites, permits),\n",
    "        'Mean overproduction': utils.calculate_underproduction_on_sites(sites, permits),\n",
    "        'Inventory housing / all housing': utils.calculate_inventory_housing_over_all_housing(sites, permits),\n",
    "        'P(dev) for nonvacant sites': utils.calculate_pdev_for_nonvacant_sites(sites, permits),\n",
    "        'P(dev) for vacant sites': utils.calculate_pdev_for_vacant_sites(sites, permits),\n",
    "        'P(dev) for inventory': utils.calculate_pdev_for_inventory(sites, permits),\n",
    "    }"
   ]
  },
  {
   "cell_type": "code",
   "execution_count": null,
   "id": "legal-conference",
   "metadata": {},
   "outputs": [],
   "source": [
    "\n",
    "permits = pd.read_csv(\"./data/raw_data/sf_permits.csv\")\n",
    "print(permits.columns)\n",
    "date_cols = [c for c in permits.columns if 'Date' in c]\n",
    "permits[date_cols] = permits[date_cols].apply(pd.to_datetime)"
   ]
  },
  {
   "cell_type": "code",
   "execution_count": null,
   "id": "olympic-causing",
   "metadata": {},
   "outputs": [],
   "source": [
    "print(permits.columns)"
   ]
  },
  {
   "cell_type": "code",
   "execution_count": null,
   "id": "bibliographic-evaluation",
   "metadata": {},
   "outputs": [],
   "source": [
    "%%time\n",
    "ground_truth_cities = ['Los Altos', 'San Francisco']\n",
    "ground_truth_results_df = pd.DataFrame([get_ground_truth_results_for_city(city) for city in ground_truth_cities])"
   ]
  },
  {
   "cell_type": "code",
   "execution_count": null,
   "id": "operating-meditation",
   "metadata": {},
   "outputs": [],
   "source": [
    "ground_truth_results_df"
   ]
  },
  {
   "cell_type": "code",
   "execution_count": null,
   "id": "completed-importance",
   "metadata": {},
   "outputs": [],
   "source": []
  }
 ],
 "metadata": {
  "kernelspec": {
   "display_name": "my_kernel",
   "language": "python",
   "name": "my_kernel"
  },
  "language_info": {
   "codemirror_mode": {
    "name": "ipython",
    "version": 3
   },
   "file_extension": ".py",
   "mimetype": "text/x-python",
   "name": "python",
   "nbconvert_exporter": "python",
   "pygments_lexer": "ipython3",
   "version": "3.7.7"
  }
 },
 "nbformat": 4,
 "nbformat_minor": 5
}
