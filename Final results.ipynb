{
 "cells": [
  {
   "cell_type": "code",
   "execution_count": 1,
   "id": "hawaiian-boring",
   "metadata": {},
   "outputs": [],
   "source": [
    "import pandas as pd\n",
    "from housing_elements import utils, los_altos_permits, san_francisco_permits, san_jose_permits"
   ]
  },
  {
   "cell_type": "code",
   "execution_count": 10,
   "id": "skilled-order",
   "metadata": {},
   "outputs": [
    {
     "data": {
      "text/plain": [
       "<module 'housing_elements.los_altos_permits' from '/Users/sidharthkapur/personal-workspace/housing-elements/housing_elements/los_altos_permits.py'>"
      ]
     },
     "execution_count": 10,
     "metadata": {},
     "output_type": "execute_result"
    }
   ],
   "source": [
    "from importlib import reload\n",
    "reload(los_altos_permits)"
   ]
  },
  {
   "cell_type": "code",
   "execution_count": 2,
   "id": "alien-fitness",
   "metadata": {},
   "outputs": [],
   "source": [
    "# Oakland and Palo Alto don't work right now (parsing certain columns as floats fails)\n",
    "cities = ['San Francisco', 'Berkeley', 'Mountain View', 'San Jose']"
   ]
  },
  {
   "cell_type": "code",
   "execution_count": 38,
   "id": "considerable-frost",
   "metadata": {},
   "outputs": [],
   "source": [
    "def get_results_for_city(city: str, merge_with_address: bool = False) -> pd.DataFrame:\n",
    "    permits = utils.load_all_new_building_permits(city)\n",
    "    sites = utils.load_site_inventory(city)\n",
    "    \n",
    "    return {\n",
    "        'City': city,\n",
    "        'Ratio of development on inventory sites': utils.calculate_total_units_permitted_over_he_capacity(sites, permits),\n",
    "        'Mean overproduction': utils.calculate_mean_overproduction_on_sites(sites, permits),\n",
    "        'Inventory housing / all housing': utils.calculate_inventory_housing_over_all_housing(sites, permits),\n",
    "        'P(dev) for nonvacant sites': utils.calculate_pdev_for_nonvacant_sites(sites, permits, merge_with_address),\n",
    "        'P(dev) for vacant sites': utils.calculate_pdev_for_vacant_sites(sites, permits, merge_with_address),\n",
    "        'P(dev) for inventory': utils.calculate_pdev_for_inventory(sites, permits, merge_with_address),\n",
    "    }"
   ]
  },
  {
   "cell_type": "code",
   "execution_count": 24,
   "id": "colonial-hudson",
   "metadata": {},
   "outputs": [
    {
     "name": "stderr",
     "output_type": "stream",
     "text": [
      "/Users/sidharthkapur/Library/Caches/pypoetry/virtualenvs/housing-elements-H302xxA9-py3.8/lib/python3.8/site-packages/openpyxl/worksheet/_reader.py:308: UserWarning: Data Validation extension is not supported and will be removed\n",
      "  warn(msg)\n",
      "/Users/sidharthkapur/Library/Caches/pypoetry/virtualenvs/housing-elements-H302xxA9-py3.8/lib/python3.8/site-packages/openpyxl/worksheet/_reader.py:308: UserWarning: Data Validation extension is not supported and will be removed\n",
      "  warn(msg)\n"
     ]
    },
    {
     "name": "stdout",
     "output_type": "stream",
     "text": [
      "Dropping constant columns: ['rhnacyc' 'rhnayrs' 'county' 'jurisdict' 'currunits' 'allowlow' 'num_vl'\n",
      " 'num_l' 'num_m' 'num_am']\n",
      "DF shape (6158, 16)\n",
      "Total units permitted: 26071\n",
      "Total realistic capacity in inventory: 47209.0\n",
      "Number of inventory sites developed: 0\n",
      "Number of units permitted on inventory sites: 0\n",
      "Total realistic capacity of inventory sites: 0.0\n",
      "Units permitted on inventory sites: 0\n",
      "Total units permitted: 26071\n"
     ]
    },
    {
     "name": "stderr",
     "output_type": "stream",
     "text": [
      "/Users/sidharthkapur/personal-workspace/housing-elements/housing_elements/utils.py:299: RuntimeWarning: invalid value encountered in double_scalars\n",
      "  return (n_units - n_claimed) / len(inventory_sites_permitted)\n",
      "/Users/sidharthkapur/Library/Caches/pypoetry/virtualenvs/housing-elements-H302xxA9-py3.8/lib/python3.8/site-packages/openpyxl/worksheet/_reader.py:308: UserWarning: Data Validation extension is not supported and will be removed\n",
      "  warn(msg)\n",
      "/Users/sidharthkapur/Library/Caches/pypoetry/virtualenvs/housing-elements-H302xxA9-py3.8/lib/python3.8/site-packages/openpyxl/worksheet/_reader.py:308: UserWarning: Data Validation extension is not supported and will be removed\n",
      "  warn(msg)\n"
     ]
    },
    {
     "name": "stdout",
     "output_type": "stream",
     "text": [
      "Dropping constant columns: ['rhnacyc' 'rhnayrs' 'county' 'jurisdict' 'currunits' 'allowlow' 'num_vl'\n",
      " 'num_l' 'num_m' 'num_am']\n",
      "DF shape (404, 18)\n",
      "Total units permitted: 1871\n",
      "Total realistic capacity in inventory: 5372.02\n",
      "Number of inventory sites developed: 0\n",
      "Number of units permitted on inventory sites: 0\n",
      "Total realistic capacity of inventory sites: 0.0\n",
      "Units permitted on inventory sites: 0\n",
      "Total units permitted: 1871\n"
     ]
    },
    {
     "name": "stderr",
     "output_type": "stream",
     "text": [
      "/Users/sidharthkapur/personal-workspace/housing-elements/housing_elements/utils.py:299: RuntimeWarning: invalid value encountered in double_scalars\n",
      "  return (n_units - n_claimed) / len(inventory_sites_permitted)\n",
      "/Users/sidharthkapur/Library/Caches/pypoetry/virtualenvs/housing-elements-H302xxA9-py3.8/lib/python3.8/site-packages/openpyxl/worksheet/_reader.py:308: UserWarning: Data Validation extension is not supported and will be removed\n",
      "  warn(msg)\n",
      "/Users/sidharthkapur/Library/Caches/pypoetry/virtualenvs/housing-elements-H302xxA9-py3.8/lib/python3.8/site-packages/openpyxl/worksheet/_reader.py:308: UserWarning: Data Validation extension is not supported and will be removed\n",
      "  warn(msg)\n"
     ]
    },
    {
     "name": "stdout",
     "output_type": "stream",
     "text": [
      "Dropping constant columns: ['rhnacyc' 'rhnayrs' 'county' 'jurisdict' 'num_vl' 'num_l' 'num_m'\n",
      " 'num_am']\n",
      "DF shape (93, 24)\n",
      "Total units permitted: 3579.0\n",
      "Total realistic capacity in inventory: 3216.0\n",
      "Number of inventory sites developed: 3\n",
      "Number of units permitted on inventory sites: 426.0\n",
      "Total realistic capacity of inventory sites: 799.0\n",
      "Units permitted on inventory sites: 426.0\n",
      "Total units permitted: 3579.0\n"
     ]
    },
    {
     "name": "stderr",
     "output_type": "stream",
     "text": [
      "/Users/sidharthkapur/Library/Caches/pypoetry/virtualenvs/housing-elements-H302xxA9-py3.8/lib/python3.8/site-packages/openpyxl/worksheet/_reader.py:308: UserWarning: Data Validation extension is not supported and will be removed\n",
      "  warn(msg)\n",
      "/Users/sidharthkapur/Library/Caches/pypoetry/virtualenvs/housing-elements-H302xxA9-py3.8/lib/python3.8/site-packages/openpyxl/worksheet/_reader.py:308: UserWarning: Data Validation extension is not supported and will be removed\n",
      "  warn(msg)\n"
     ]
    },
    {
     "name": "stdout",
     "output_type": "stream",
     "text": [
      "Dropping constant columns: ['rhnacyc' 'rhnayrs' 'county' 'jurisdict' 'currunits' 'allowlow' 'num_vl'\n",
      " 'num_l' 'num_m' 'num_am']\n",
      "DF shape (599, 18)\n",
      "Total units permitted: 16928.0\n",
      "Total realistic capacity in inventory: 35536.43\n",
      "Number of inventory sites developed: 64\n",
      "Number of units permitted on inventory sites: 3473.0\n",
      "Total realistic capacity of inventory sites: 3664.0\n",
      "Units permitted on inventory sites: 3473.0\n",
      "Total units permitted: 16928.0\n",
      "CPU times: user 45 s, sys: 1.18 s, total: 46.2 s\n",
      "Wall time: 47 s\n"
     ]
    }
   ],
   "source": [
    "%%time\n",
    "results_df = pd.DataFrame([get_results_for_city(city) for city in cities])"
   ]
  },
  {
   "cell_type": "code",
   "execution_count": 25,
   "id": "recorded-circus",
   "metadata": {},
   "outputs": [
    {
     "data": {
      "text/html": [
       "<div>\n",
       "<style scoped>\n",
       "    .dataframe tbody tr th:only-of-type {\n",
       "        vertical-align: middle;\n",
       "    }\n",
       "\n",
       "    .dataframe tbody tr th {\n",
       "        vertical-align: top;\n",
       "    }\n",
       "\n",
       "    .dataframe thead th {\n",
       "        text-align: right;\n",
       "    }\n",
       "</style>\n",
       "<table border=\"1\" class=\"dataframe\">\n",
       "  <thead>\n",
       "    <tr style=\"text-align: right;\">\n",
       "      <th></th>\n",
       "      <th>City</th>\n",
       "      <th>Ratio of development on inventory sites</th>\n",
       "      <th>Mean overproduction</th>\n",
       "      <th>Inventory housing / all housing</th>\n",
       "      <th>P(dev) for nonvacant sites</th>\n",
       "      <th>P(dev) for vacant sites</th>\n",
       "      <th>P(dev) for inventory</th>\n",
       "    </tr>\n",
       "  </thead>\n",
       "  <tbody>\n",
       "    <tr>\n",
       "      <th>0</th>\n",
       "      <td>San Francisco</td>\n",
       "      <td>0.552246</td>\n",
       "      <td>NaN</td>\n",
       "      <td>0.000000</td>\n",
       "      <td>0.000000</td>\n",
       "      <td>0.000000</td>\n",
       "      <td>0.000000</td>\n",
       "    </tr>\n",
       "    <tr>\n",
       "      <th>1</th>\n",
       "      <td>Berkeley</td>\n",
       "      <td>0.348286</td>\n",
       "      <td>NaN</td>\n",
       "      <td>0.000000</td>\n",
       "      <td>0.000000</td>\n",
       "      <td>0.000000</td>\n",
       "      <td>0.000000</td>\n",
       "    </tr>\n",
       "    <tr>\n",
       "      <th>2</th>\n",
       "      <td>Mountain View</td>\n",
       "      <td>1.112873</td>\n",
       "      <td>-124.333333</td>\n",
       "      <td>0.119028</td>\n",
       "      <td>0.023256</td>\n",
       "      <td>0.142857</td>\n",
       "      <td>0.032258</td>\n",
       "    </tr>\n",
       "    <tr>\n",
       "      <th>3</th>\n",
       "      <td>San Jose</td>\n",
       "      <td>0.476356</td>\n",
       "      <td>-2.984375</td>\n",
       "      <td>0.205163</td>\n",
       "      <td>0.127226</td>\n",
       "      <td>0.067961</td>\n",
       "      <td>0.106845</td>\n",
       "    </tr>\n",
       "  </tbody>\n",
       "</table>\n",
       "</div>"
      ],
      "text/plain": [
       "            City  Ratio of development on inventory sites  \\\n",
       "0  San Francisco                                 0.552246   \n",
       "1       Berkeley                                 0.348286   \n",
       "2  Mountain View                                 1.112873   \n",
       "3       San Jose                                 0.476356   \n",
       "\n",
       "   Mean overproduction  Inventory housing / all housing  \\\n",
       "0                  NaN                         0.000000   \n",
       "1                  NaN                         0.000000   \n",
       "2          -124.333333                         0.119028   \n",
       "3            -2.984375                         0.205163   \n",
       "\n",
       "   P(dev) for nonvacant sites  P(dev) for vacant sites  P(dev) for inventory  \n",
       "0                    0.000000                 0.000000              0.000000  \n",
       "1                    0.000000                 0.000000              0.000000  \n",
       "2                    0.023256                 0.142857              0.032258  \n",
       "3                    0.127226                 0.067961              0.106845  "
      ]
     },
     "execution_count": 25,
     "metadata": {},
     "output_type": "execute_result"
    }
   ],
   "source": [
    "results_df"
   ]
  },
  {
   "cell_type": "code",
   "execution_count": 37,
   "id": "occupied-humanity",
   "metadata": {},
   "outputs": [
    {
     "data": {
      "text/plain": [
       "<module 'housing_elements.utils' from '/Users/sidharthkapur/personal-workspace/housing-elements/housing_elements/utils.py'>"
      ]
     },
     "execution_count": 37,
     "metadata": {},
     "output_type": "execute_result"
    }
   ],
   "source": [
    "reload(utils)"
   ]
  },
  {
   "cell_type": "code",
   "execution_count": 39,
   "id": "funny-basics",
   "metadata": {},
   "outputs": [
    {
     "name": "stderr",
     "output_type": "stream",
     "text": [
      "/Users/sidharthkapur/Library/Caches/pypoetry/virtualenvs/housing-elements-H302xxA9-py3.8/lib/python3.8/site-packages/openpyxl/worksheet/_reader.py:308: UserWarning: Data Validation extension is not supported and will be removed\n",
      "  warn(msg)\n",
      "/Users/sidharthkapur/Library/Caches/pypoetry/virtualenvs/housing-elements-H302xxA9-py3.8/lib/python3.8/site-packages/openpyxl/worksheet/_reader.py:308: UserWarning: Data Validation extension is not supported and will be removed\n",
      "  warn(msg)\n"
     ]
    },
    {
     "name": "stdout",
     "output_type": "stream",
     "text": [
      "Dropping constant columns: ['rhnacyc' 'rhnayrs' 'county' 'jurisdict' 'currunits' 'allowlow' 'num_vl'\n",
      " 'num_l' 'num_m' 'num_am']\n",
      "DF shape (6158, 16)\n",
      "Total units permitted: 26071\n",
      "Total realistic capacity in inventory: 47209.0\n",
      "Number of inventory sites developed: 0\n",
      "Number of units permitted on inventory sites: 0\n",
      "Total realistic capacity of inventory sites: 0.0\n",
      "Units permitted on inventory sites: 0\n",
      "Total units permitted: 26071\n"
     ]
    },
    {
     "name": "stderr",
     "output_type": "stream",
     "text": [
      "/Users/sidharthkapur/personal-workspace/housing-elements/housing_elements/utils.py:299: RuntimeWarning: invalid value encountered in double_scalars\n",
      "  return (n_units - n_claimed) / len(inventory_sites_permitted)\n",
      "/Users/sidharthkapur/Library/Caches/pypoetry/virtualenvs/housing-elements-H302xxA9-py3.8/lib/python3.8/site-packages/geopandas/geodataframe.py:853: SettingWithCopyWarning: \n",
      "A value is trying to be set on a copy of a slice from a DataFrame.\n",
      "Try using .loc[row_indexer,col_indexer] = value instead\n",
      "\n",
      "See the caveats in the documentation: https://pandas.pydata.org/pandas-docs/stable/user_guide/indexing.html#returning-a-view-versus-a-copy\n",
      "  super(GeoDataFrame, self).__setitem__(key, value)\n",
      "/Users/sidharthkapur/Library/Caches/pypoetry/virtualenvs/housing-elements-H302xxA9-py3.8/lib/python3.8/site-packages/geopandas/geodataframe.py:853: SettingWithCopyWarning: \n",
      "A value is trying to be set on a copy of a slice from a DataFrame.\n",
      "Try using .loc[row_indexer,col_indexer] = value instead\n",
      "\n",
      "See the caveats in the documentation: https://pandas.pydata.org/pandas-docs/stable/user_guide/indexing.html#returning-a-view-versus-a-copy\n",
      "  super(GeoDataFrame, self).__setitem__(key, value)\n",
      "/Users/sidharthkapur/Library/Caches/pypoetry/virtualenvs/housing-elements-H302xxA9-py3.8/lib/python3.8/site-packages/openpyxl/worksheet/_reader.py:308: UserWarning: Data Validation extension is not supported and will be removed\n",
      "  warn(msg)\n",
      "/Users/sidharthkapur/Library/Caches/pypoetry/virtualenvs/housing-elements-H302xxA9-py3.8/lib/python3.8/site-packages/openpyxl/worksheet/_reader.py:308: UserWarning: Data Validation extension is not supported and will be removed\n",
      "  warn(msg)\n"
     ]
    },
    {
     "name": "stdout",
     "output_type": "stream",
     "text": [
      "Dropping constant columns: ['rhnacyc' 'rhnayrs' 'county' 'jurisdict' 'currunits' 'allowlow' 'num_vl'\n",
      " 'num_l' 'num_m' 'num_am']\n",
      "DF shape (404, 18)\n",
      "Total units permitted: 1871\n",
      "Total realistic capacity in inventory: 5372.02\n",
      "Number of inventory sites developed: 0\n",
      "Number of units permitted on inventory sites: 0\n",
      "Total realistic capacity of inventory sites: 0.0\n",
      "Units permitted on inventory sites: 0\n",
      "Total units permitted: 1871\n"
     ]
    },
    {
     "name": "stderr",
     "output_type": "stream",
     "text": [
      "/Users/sidharthkapur/personal-workspace/housing-elements/housing_elements/utils.py:299: RuntimeWarning: invalid value encountered in double_scalars\n",
      "  return (n_units - n_claimed) / len(inventory_sites_permitted)\n",
      "/Users/sidharthkapur/Library/Caches/pypoetry/virtualenvs/housing-elements-H302xxA9-py3.8/lib/python3.8/site-packages/geopandas/geodataframe.py:853: SettingWithCopyWarning: \n",
      "A value is trying to be set on a copy of a slice from a DataFrame.\n",
      "Try using .loc[row_indexer,col_indexer] = value instead\n",
      "\n",
      "See the caveats in the documentation: https://pandas.pydata.org/pandas-docs/stable/user_guide/indexing.html#returning-a-view-versus-a-copy\n",
      "  super(GeoDataFrame, self).__setitem__(key, value)\n",
      "/Users/sidharthkapur/Library/Caches/pypoetry/virtualenvs/housing-elements-H302xxA9-py3.8/lib/python3.8/site-packages/geopandas/geodataframe.py:853: SettingWithCopyWarning: \n",
      "A value is trying to be set on a copy of a slice from a DataFrame.\n",
      "Try using .loc[row_indexer,col_indexer] = value instead\n",
      "\n",
      "See the caveats in the documentation: https://pandas.pydata.org/pandas-docs/stable/user_guide/indexing.html#returning-a-view-versus-a-copy\n",
      "  super(GeoDataFrame, self).__setitem__(key, value)\n",
      "/Users/sidharthkapur/Library/Caches/pypoetry/virtualenvs/housing-elements-H302xxA9-py3.8/lib/python3.8/site-packages/openpyxl/worksheet/_reader.py:308: UserWarning: Data Validation extension is not supported and will be removed\n",
      "  warn(msg)\n",
      "/Users/sidharthkapur/Library/Caches/pypoetry/virtualenvs/housing-elements-H302xxA9-py3.8/lib/python3.8/site-packages/openpyxl/worksheet/_reader.py:308: UserWarning: Data Validation extension is not supported and will be removed\n",
      "  warn(msg)\n"
     ]
    },
    {
     "name": "stdout",
     "output_type": "stream",
     "text": [
      "Dropping constant columns: ['rhnacyc' 'rhnayrs' 'county' 'jurisdict' 'num_vl' 'num_l' 'num_m'\n",
      " 'num_am']\n",
      "DF shape (93, 24)\n",
      "Total units permitted: 3579.0\n",
      "Total realistic capacity in inventory: 3216.0\n",
      "Number of inventory sites developed: 3\n",
      "Number of units permitted on inventory sites: 426.0\n",
      "Total realistic capacity of inventory sites: 799.0\n",
      "Units permitted on inventory sites: 426.0\n",
      "Total units permitted: 3579.0\n"
     ]
    },
    {
     "name": "stderr",
     "output_type": "stream",
     "text": [
      "/Users/sidharthkapur/Library/Caches/pypoetry/virtualenvs/housing-elements-H302xxA9-py3.8/lib/python3.8/site-packages/geopandas/geodataframe.py:853: SettingWithCopyWarning: \n",
      "A value is trying to be set on a copy of a slice from a DataFrame.\n",
      "Try using .loc[row_indexer,col_indexer] = value instead\n",
      "\n",
      "See the caveats in the documentation: https://pandas.pydata.org/pandas-docs/stable/user_guide/indexing.html#returning-a-view-versus-a-copy\n",
      "  super(GeoDataFrame, self).__setitem__(key, value)\n",
      "/Users/sidharthkapur/Library/Caches/pypoetry/virtualenvs/housing-elements-H302xxA9-py3.8/lib/python3.8/site-packages/geopandas/geodataframe.py:853: SettingWithCopyWarning: \n",
      "A value is trying to be set on a copy of a slice from a DataFrame.\n",
      "Try using .loc[row_indexer,col_indexer] = value instead\n",
      "\n",
      "See the caveats in the documentation: https://pandas.pydata.org/pandas-docs/stable/user_guide/indexing.html#returning-a-view-versus-a-copy\n",
      "  super(GeoDataFrame, self).__setitem__(key, value)\n",
      "/Users/sidharthkapur/Library/Caches/pypoetry/virtualenvs/housing-elements-H302xxA9-py3.8/lib/python3.8/site-packages/openpyxl/worksheet/_reader.py:308: UserWarning: Data Validation extension is not supported and will be removed\n",
      "  warn(msg)\n",
      "/Users/sidharthkapur/Library/Caches/pypoetry/virtualenvs/housing-elements-H302xxA9-py3.8/lib/python3.8/site-packages/openpyxl/worksheet/_reader.py:308: UserWarning: Data Validation extension is not supported and will be removed\n",
      "  warn(msg)\n"
     ]
    },
    {
     "name": "stdout",
     "output_type": "stream",
     "text": [
      "Dropping constant columns: ['rhnacyc' 'rhnayrs' 'county' 'jurisdict' 'currunits' 'allowlow' 'num_vl'\n",
      " 'num_l' 'num_m' 'num_am']\n",
      "DF shape (599, 18)\n",
      "Total units permitted: 16928.0\n",
      "Total realistic capacity in inventory: 35536.43\n",
      "Number of inventory sites developed: 64\n",
      "Number of units permitted on inventory sites: 3473.0\n",
      "Total realistic capacity of inventory sites: 3664.0\n",
      "Units permitted on inventory sites: 3473.0\n",
      "Total units permitted: 16928.0\n"
     ]
    },
    {
     "name": "stderr",
     "output_type": "stream",
     "text": [
      "/Users/sidharthkapur/Library/Caches/pypoetry/virtualenvs/housing-elements-H302xxA9-py3.8/lib/python3.8/site-packages/geopandas/geodataframe.py:853: SettingWithCopyWarning: \n",
      "A value is trying to be set on a copy of a slice from a DataFrame.\n",
      "Try using .loc[row_indexer,col_indexer] = value instead\n",
      "\n",
      "See the caveats in the documentation: https://pandas.pydata.org/pandas-docs/stable/user_guide/indexing.html#returning-a-view-versus-a-copy\n",
      "  super(GeoDataFrame, self).__setitem__(key, value)\n",
      "/Users/sidharthkapur/Library/Caches/pypoetry/virtualenvs/housing-elements-H302xxA9-py3.8/lib/python3.8/site-packages/geopandas/geodataframe.py:853: SettingWithCopyWarning: \n",
      "A value is trying to be set on a copy of a slice from a DataFrame.\n",
      "Try using .loc[row_indexer,col_indexer] = value instead\n",
      "\n",
      "See the caveats in the documentation: https://pandas.pydata.org/pandas-docs/stable/user_guide/indexing.html#returning-a-view-versus-a-copy\n",
      "  super(GeoDataFrame, self).__setitem__(key, value)\n"
     ]
    },
    {
     "name": "stdout",
     "output_type": "stream",
     "text": [
      "CPU times: user 52.2 s, sys: 1 s, total: 53.2 s\n",
      "Wall time: 53.5 s\n"
     ]
    }
   ],
   "source": [
    "%%time\n",
    "results_geo_df = pd.DataFrame([get_results_for_city(city, merge_with_address=True) for city in cities])"
   ]
  },
  {
   "cell_type": "code",
   "execution_count": 40,
   "id": "proud-wrapping",
   "metadata": {},
   "outputs": [
    {
     "data": {
      "text/html": [
       "<div>\n",
       "<style scoped>\n",
       "    .dataframe tbody tr th:only-of-type {\n",
       "        vertical-align: middle;\n",
       "    }\n",
       "\n",
       "    .dataframe tbody tr th {\n",
       "        vertical-align: top;\n",
       "    }\n",
       "\n",
       "    .dataframe thead th {\n",
       "        text-align: right;\n",
       "    }\n",
       "</style>\n",
       "<table border=\"1\" class=\"dataframe\">\n",
       "  <thead>\n",
       "    <tr style=\"text-align: right;\">\n",
       "      <th></th>\n",
       "      <th>City</th>\n",
       "      <th>Ratio of development on inventory sites</th>\n",
       "      <th>Mean overproduction</th>\n",
       "      <th>Inventory housing / all housing</th>\n",
       "      <th>P(dev) for nonvacant sites</th>\n",
       "      <th>P(dev) for vacant sites</th>\n",
       "      <th>P(dev) for inventory</th>\n",
       "    </tr>\n",
       "  </thead>\n",
       "  <tbody>\n",
       "    <tr>\n",
       "      <th>0</th>\n",
       "      <td>San Francisco</td>\n",
       "      <td>0.552246</td>\n",
       "      <td>NaN</td>\n",
       "      <td>0.000000</td>\n",
       "      <td>0.074924</td>\n",
       "      <td>0.075974</td>\n",
       "      <td>0.075187</td>\n",
       "    </tr>\n",
       "    <tr>\n",
       "      <th>1</th>\n",
       "      <td>Berkeley</td>\n",
       "      <td>0.348286</td>\n",
       "      <td>NaN</td>\n",
       "      <td>0.000000</td>\n",
       "      <td>0.029940</td>\n",
       "      <td>0.033755</td>\n",
       "      <td>0.032178</td>\n",
       "    </tr>\n",
       "    <tr>\n",
       "      <th>2</th>\n",
       "      <td>Mountain View</td>\n",
       "      <td>1.112873</td>\n",
       "      <td>-124.333333</td>\n",
       "      <td>0.119028</td>\n",
       "      <td>0.186047</td>\n",
       "      <td>0.285714</td>\n",
       "      <td>0.193548</td>\n",
       "    </tr>\n",
       "    <tr>\n",
       "      <th>3</th>\n",
       "      <td>San Jose</td>\n",
       "      <td>0.476356</td>\n",
       "      <td>-2.984375</td>\n",
       "      <td>0.205163</td>\n",
       "      <td>0.236641</td>\n",
       "      <td>0.126214</td>\n",
       "      <td>0.198664</td>\n",
       "    </tr>\n",
       "  </tbody>\n",
       "</table>\n",
       "</div>"
      ],
      "text/plain": [
       "            City  Ratio of development on inventory sites  \\\n",
       "0  San Francisco                                 0.552246   \n",
       "1       Berkeley                                 0.348286   \n",
       "2  Mountain View                                 1.112873   \n",
       "3       San Jose                                 0.476356   \n",
       "\n",
       "   Mean overproduction  Inventory housing / all housing  \\\n",
       "0                  NaN                         0.000000   \n",
       "1                  NaN                         0.000000   \n",
       "2          -124.333333                         0.119028   \n",
       "3            -2.984375                         0.205163   \n",
       "\n",
       "   P(dev) for nonvacant sites  P(dev) for vacant sites  P(dev) for inventory  \n",
       "0                    0.074924                 0.075974              0.075187  \n",
       "1                    0.029940                 0.033755              0.032178  \n",
       "2                    0.186047                 0.285714              0.193548  \n",
       "3                    0.236641                 0.126214              0.198664  "
      ]
     },
     "execution_count": 40,
     "metadata": {},
     "output_type": "execute_result"
    }
   ],
   "source": [
    "results_geo_df"
   ]
  },
  {
   "cell_type": "code",
   "execution_count": 3,
   "id": "referenced-decision",
   "metadata": {},
   "outputs": [],
   "source": [
    "def get_ground_truth_results_for_city(city: str) -> pd.DataFrame:\n",
    "    if city == 'San Jose':\n",
    "        permits = san_jose_permits.load_all_permits()\n",
    "    elif city == 'San Francisco':\n",
    "        permits = san_francisco_permits.load_all_permits()\n",
    "    elif city == 'Los Altos':\n",
    "        permits = los_altos_permits.load_all_permits()\n",
    "    else:\n",
    "        raise ValueError(f\"Ground truth data not available for {city}\")\n",
    "        \n",
    "    permits = utils.load_all_new_building_permits(city)\n",
    "    sites = utils.load_site_inventory(city)\n",
    "    \n",
    "    return {\n",
    "        'City': city,\n",
    "        'Ratio of development on inventory sites': utils.calculate_total_units_permitted_over_he_capacity(sites, permits),\n",
    "        'Mean overproduction': utils.calculate_mean_overproduction_on_sites(sites, permits),\n",
    "        'Inventory housing / all housing': utils.calculate_inventory_housing_over_all_housing(sites, permits),\n",
    "        'P(dev) for nonvacant sites': utils.calculate_pdev_for_nonvacant_sites(sites, permits),\n",
    "        'P(dev) for vacant sites': utils.calculate_pdev_for_vacant_sites(sites, permits),\n",
    "        'P(dev) for inventory': utils.calculate_pdev_for_inventory(sites, permits),\n",
    "    }"
   ]
  },
  {
   "cell_type": "code",
   "execution_count": 13,
   "id": "circular-literature",
   "metadata": {},
   "outputs": [
    {
     "name": "stderr",
     "output_type": "stream",
     "text": [
      "/Users/sidharthkapur/Library/Caches/pypoetry/virtualenvs/housing-elements-H302xxA9-py3.8/lib/python3.8/site-packages/openpyxl/worksheet/_reader.py:308: UserWarning: Data Validation extension is not supported and will be removed\n",
      "  warn(msg)\n",
      "/Users/sidharthkapur/Library/Caches/pypoetry/virtualenvs/housing-elements-H302xxA9-py3.8/lib/python3.8/site-packages/openpyxl/worksheet/_reader.py:308: UserWarning: Data Validation extension is not supported and will be removed\n",
      "  warn(msg)\n"
     ]
    },
    {
     "name": "stdout",
     "output_type": "stream",
     "text": [
      "Dropping constant columns: ['rhnacyc' 'rhnayrs' 'county' 'jurisdict' 'currunits' 'allowlow' 'num_vl'\n",
      " 'num_l' 'num_m' 'num_am']\n",
      "DF shape (599, 18)\n",
      "Total units permitted: 16928.0\n",
      "Total realistic capacity in inventory: 35536.43\n",
      "Number of inventory sites developed: 64\n",
      "Number of units permitted on inventory sites: 3473.0\n",
      "Total realistic capacity of inventory sites: 3664.0\n",
      "Units permitted on inventory sites: 3473.0\n",
      "Total units permitted: 16928.0\n"
     ]
    },
    {
     "name": "stderr",
     "output_type": "stream",
     "text": [
      "<timed exec>:2: DtypeWarning: Columns (22,31,34) have mixed types.Specify dtype option on import or set low_memory=False.\n"
     ]
    },
    {
     "name": "stdout",
     "output_type": "stream",
     "text": [
      "Index(['Permit Number', 'Permit Type', 'Permit Type Definition',\n",
      "       'Permit Creation Date', 'Block', 'Lot', 'Street Number',\n",
      "       'Street Number Suffix', 'Street Name', 'Street Suffix', 'Unit',\n",
      "       'Unit Suffix', 'Description', 'Current Status', 'Current Status Date',\n",
      "       'Filed Date', 'Issued Date', 'Completed Date',\n",
      "       'First Construction Document Date', 'Structural Notification',\n",
      "       'Number of Existing Stories', 'Number of Proposed Stories',\n",
      "       'Voluntary Soft-Story Retrofit', 'Fire Only Permit', 'Estimated Cost',\n",
      "       'Revised Cost', 'Existing Use', 'Existing Units', 'Proposed Use',\n",
      "       'Proposed Units', 'Plansets', 'TIDF Compliance',\n",
      "       'Existing Construction Type', 'Existing Construction Type Description',\n",
      "       'Proposed Construction Type', 'Proposed Construction Type Description',\n",
      "       'Site Permit', 'Supervisor District',\n",
      "       'Neighborhoods - Analysis Boundaries', 'Zipcode', 'Record ID'],\n",
      "      dtype='object')\n"
     ]
    },
    {
     "name": "stderr",
     "output_type": "stream",
     "text": [
      "/Users/sidharthkapur/personal-workspace/housing-elements/housing_elements/san_francisco_permits.py:23: SettingWithCopyWarning: \n",
      "A value is trying to be set on a copy of a slice from a DataFrame\n",
      "\n",
      "See the caveats in the documentation: https://pandas.pydata.org/pandas-docs/stable/user_guide/indexing.html#returning-a-view-versus-a-copy\n",
      "  rhna_permits.sort_values(by=\"Permit Type\", axis=0, inplace=True)\n",
      "/Users/sidharthkapur/Library/Caches/pypoetry/virtualenvs/housing-elements-H302xxA9-py3.8/lib/python3.8/site-packages/openpyxl/worksheet/_reader.py:308: UserWarning: Data Validation extension is not supported and will be removed\n",
      "  warn(msg)\n",
      "/Users/sidharthkapur/Library/Caches/pypoetry/virtualenvs/housing-elements-H302xxA9-py3.8/lib/python3.8/site-packages/openpyxl/worksheet/_reader.py:308: UserWarning: Data Validation extension is not supported and will be removed\n",
      "  warn(msg)\n"
     ]
    },
    {
     "name": "stdout",
     "output_type": "stream",
     "text": [
      "Dropping constant columns: ['rhnacyc' 'rhnayrs' 'county' 'jurisdict' 'currunits' 'allowlow' 'num_vl'\n",
      " 'num_l' 'num_m' 'num_am']\n",
      "DF shape (6158, 16)\n",
      "Total units permitted: 26071\n",
      "Total realistic capacity in inventory: 47209.0\n",
      "Number of inventory sites developed: 0\n",
      "Number of units permitted on inventory sites: 0\n",
      "Total realistic capacity of inventory sites: 0.0\n",
      "Units permitted on inventory sites: 0\n",
      "Total units permitted: 26071\n",
      "CPU times: user 45.5 s, sys: 1.55 s, total: 47 s\n",
      "Wall time: 47.8 s\n"
     ]
    },
    {
     "name": "stderr",
     "output_type": "stream",
     "text": [
      "/Users/sidharthkapur/personal-workspace/housing-elements/housing_elements/utils.py:299: RuntimeWarning: invalid value encountered in double_scalars\n",
      "  return (n_units - n_claimed) / len(inventory_sites_permitted)\n"
     ]
    }
   ],
   "source": [
    "%%time\n",
    "ground_truth_cities = ['San Jose', 'San Francisco']\n",
    "ground_truth_results_df = pd.DataFrame([get_ground_truth_results_for_city(city) for city in ground_truth_cities])"
   ]
  },
  {
   "cell_type": "code",
   "execution_count": 14,
   "id": "therapeutic-bryan",
   "metadata": {},
   "outputs": [
    {
     "data": {
      "text/html": [
       "<div>\n",
       "<style scoped>\n",
       "    .dataframe tbody tr th:only-of-type {\n",
       "        vertical-align: middle;\n",
       "    }\n",
       "\n",
       "    .dataframe tbody tr th {\n",
       "        vertical-align: top;\n",
       "    }\n",
       "\n",
       "    .dataframe thead th {\n",
       "        text-align: right;\n",
       "    }\n",
       "</style>\n",
       "<table border=\"1\" class=\"dataframe\">\n",
       "  <thead>\n",
       "    <tr style=\"text-align: right;\">\n",
       "      <th></th>\n",
       "      <th>City</th>\n",
       "      <th>Ratio of development on inventory sites</th>\n",
       "      <th>Mean overproduction</th>\n",
       "      <th>Inventory housing / all housing</th>\n",
       "      <th>P(dev) for nonvacant sites</th>\n",
       "      <th>P(dev) for vacant sites</th>\n",
       "      <th>P(dev) for inventory</th>\n",
       "    </tr>\n",
       "  </thead>\n",
       "  <tbody>\n",
       "    <tr>\n",
       "      <th>0</th>\n",
       "      <td>San Jose</td>\n",
       "      <td>0.476356</td>\n",
       "      <td>-2.984375</td>\n",
       "      <td>0.205163</td>\n",
       "      <td>0.127226</td>\n",
       "      <td>0.067961</td>\n",
       "      <td>0.106845</td>\n",
       "    </tr>\n",
       "    <tr>\n",
       "      <th>1</th>\n",
       "      <td>San Francisco</td>\n",
       "      <td>0.552246</td>\n",
       "      <td>NaN</td>\n",
       "      <td>0.000000</td>\n",
       "      <td>0.000000</td>\n",
       "      <td>0.000000</td>\n",
       "      <td>0.000000</td>\n",
       "    </tr>\n",
       "  </tbody>\n",
       "</table>\n",
       "</div>"
      ],
      "text/plain": [
       "            City  Ratio of development on inventory sites  \\\n",
       "0       San Jose                                 0.476356   \n",
       "1  San Francisco                                 0.552246   \n",
       "\n",
       "   Mean overproduction  Inventory housing / all housing  \\\n",
       "0            -2.984375                         0.205163   \n",
       "1                  NaN                         0.000000   \n",
       "\n",
       "   P(dev) for nonvacant sites  P(dev) for vacant sites  P(dev) for inventory  \n",
       "0                    0.127226                 0.067961              0.106845  \n",
       "1                    0.000000                 0.000000              0.000000  "
      ]
     },
     "execution_count": 14,
     "metadata": {},
     "output_type": "execute_result"
    }
   ],
   "source": [
    "ground_truth_results_df"
   ]
  }
 ],
 "metadata": {
  "kernelspec": {
   "display_name": "Python 3",
   "language": "python",
   "name": "python3"
  },
  "language_info": {
   "codemirror_mode": {
    "name": "ipython",
    "version": 3
   },
   "file_extension": ".py",
   "mimetype": "text/x-python",
   "name": "python",
   "nbconvert_exporter": "python",
   "pygments_lexer": "ipython3",
   "version": "3.8.1"
  }
 },
 "nbformat": 4,
 "nbformat_minor": 5
}
