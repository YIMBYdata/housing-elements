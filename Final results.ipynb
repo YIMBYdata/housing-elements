{
 "cells": [
  {
   "cell_type": "code",
   "execution_count": 820,
   "id": "c20ef07a",
   "metadata": {},
   "outputs": [],
   "source": [
    "import pandas as pd\n",
    "import geopandas as gpd\n",
    "import numpy as np\n",
    "from housing_elements import utils, los_altos_permits, san_francisco_permits, san_jose_permits"
   ]
  },
  {
   "cell_type": "code",
   "execution_count": 823,
   "id": "e1f2c66f",
   "metadata": {},
   "outputs": [
    {
     "data": {
      "text/plain": [
       "<module 'housing_elements.utils' from '/Users/Salim/Desktop/housing-elements/housing_elements/utils.py'>"
      ]
     },
     "execution_count": 823,
     "metadata": {},
     "output_type": "execute_result"
    }
   ],
   "source": [
    "from importlib import reload\n",
    "reload(los_altos_permits)\n",
    "reload(san_francisco_permits)\n",
    "reload(utils)"
   ]
  },
  {
   "cell_type": "code",
   "execution_count": 742,
   "id": "40c40821",
   "metadata": {},
   "outputs": [],
   "source": [
    "import os, sys\n",
    "\n",
    "class HiddenPrints:\n",
    "    def __enter__(self):\n",
    "        self._original_stdout = sys.stdout\n",
    "        sys.stdout = open(os.devnull, 'w')\n",
    "\n",
    "    def __exit__(self, exc_type, exc_val, exc_tb):\n",
    "        sys.stdout.close()\n",
    "        sys.stdout = self._original_stdout"
   ]
  },
  {
   "cell_type": "code",
   "execution_count": 743,
   "id": "b78a1b3d",
   "metadata": {},
   "outputs": [],
   "source": [
    "# Oakland and Palo Alto don't work right now (parsing certain columns as floats fails)\n",
    "cities = ['San Francisco', 'Berkeley', 'Mountain View', 'San Jose']"
   ]
  },
  {
   "cell_type": "code",
   "execution_count": 817,
   "id": "6576ca6d",
   "metadata": {},
   "outputs": [],
   "source": [
    "df = gpd.read_file(\n",
    "        \"./data/raw_data/housing_sites/xn--Bay_Area_Housing_Opportunity_Sites_Inventory__20072023_-it38a.shp\"\n",
    "    )"
   ]
  },
  {
   "cell_type": "code",
   "execution_count": 745,
   "id": "1488ba45",
   "metadata": {},
   "outputs": [],
   "source": [
    "all_cities = df.jurisdict.unique()"
   ]
  },
  {
   "cell_type": "code",
   "execution_count": 746,
   "id": "bc4401ff",
   "metadata": {},
   "outputs": [
    {
     "data": {
      "text/plain": [
       "108"
      ]
     },
     "execution_count": 746,
     "metadata": {},
     "output_type": "execute_result"
    }
   ],
   "source": [
    "len(all_cities)"
   ]
  },
  {
   "cell_type": "code",
   "execution_count": 747,
   "id": "184e2ada",
   "metadata": {},
   "outputs": [
    {
     "name": "stdout",
     "output_type": "stream",
     "text": [
      "CPU times: user 4min 45s, sys: 5.49 s, total: 4min 50s\n",
      "Wall time: 4min 48s\n"
     ]
    }
   ],
   "source": [
    "%%time\n",
    "cities_with_sites = {}\n",
    "\n",
    "for city in all_cities:\n",
    "    try:\n",
    "        with HiddenPrints():\n",
    "            cities_with_sites[city] = utils.load_site_inventory(city)\n",
    "            cities_with_sites[city].relcapcty.sum()\n",
    "    except Exception:\n",
    "        pass"
   ]
  },
  {
   "cell_type": "code",
   "execution_count": 748,
   "id": "2ea158f9",
   "metadata": {},
   "outputs": [
    {
     "data": {
      "text/plain": [
       "108"
      ]
     },
     "execution_count": 748,
     "metadata": {},
     "output_type": "execute_result"
    }
   ],
   "source": [
    "len(cities_with_sites)"
   ]
  },
  {
   "cell_type": "code",
   "execution_count": 780,
   "id": "89dd90a5",
   "metadata": {},
   "outputs": [
    {
     "name": "stdout",
     "output_type": "stream",
     "text": [
      "CPU times: user 4min 16s, sys: 1.37 s, total: 4min 17s\n",
      "Wall time: 4min 19s\n"
     ]
    }
   ],
   "source": [
    "%%time\n",
    "cities_with_permits = {}\n",
    "\n",
    "for city in all_cities:\n",
    "    try:\n",
    "        with HiddenPrints():\n",
    "            cities_with_permits[city] = utils.load_all_new_building_permits(city)\n",
    "    except Exception:\n",
    "        pass"
   ]
  },
  {
   "cell_type": "code",
   "execution_count": 781,
   "id": "4f236129",
   "metadata": {},
   "outputs": [
    {
     "data": {
      "text/plain": [
       "98"
      ]
     },
     "execution_count": 781,
     "metadata": {},
     "output_type": "execute_result"
    }
   ],
   "source": [
    "len(cities_with_permits)"
   ]
  },
  {
   "cell_type": "code",
   "execution_count": 782,
   "id": "5e38a2df",
   "metadata": {},
   "outputs": [],
   "source": [
    "def get_results_for_city(city: str, merge_with_address: bool = False) -> pd.DataFrame:\n",
    "    permits = utils.load_all_new_building_permits(city)\n",
    "    sites = utils.load_site_inventory(city)\n",
    "    \n",
    "    return {\n",
    "        'City': city,\n",
    "        'Ratio of development on inventory sites': utils.calculate_total_units_permitted_over_he_capacity(sites, permits),\n",
    "        'Mean overproduction': utils.calculate_underproduction_on_sites(sites, permits),\n",
    "        'Inventory housing / all housing': utils.calculate_inventory_housing_over_all_housing(sites, permits),\n",
    "        'P(dev) for nonvacant sites': utils.calculate_pdev_for_nonvacant_sites(sites, permits, merge_with_address),\n",
    "        'P(dev) for vacant sites': utils.calculate_pdev_for_vacant_sites(sites, permits, merge_with_address),\n",
    "        'P(dev) for inventory': utils.calculate_pdev_for_inventory(sites, permits, merge_with_address),\n",
    "    }"
   ]
  },
  {
   "cell_type": "code",
   "execution_count": 783,
   "id": "7005711a",
   "metadata": {},
   "outputs": [],
   "source": [
    "cities = [city for city in all_cities if city in cities_with_permits and city in cities_with_sites]"
   ]
  },
  {
   "cell_type": "code",
   "execution_count": 785,
   "id": "bd9709cc",
   "metadata": {},
   "outputs": [
    {
     "data": {
      "text/plain": [
       "98"
      ]
     },
     "execution_count": 785,
     "metadata": {},
     "output_type": "execute_result"
    }
   ],
   "source": [
    "len(cities)"
   ]
  },
  {
   "cell_type": "code",
   "execution_count": 632,
   "id": "cfb3231a",
   "metadata": {},
   "outputs": [
    {
     "name": "stdout",
     "output_type": "stream",
     "text": [
      "CPU times: user 8min 8s, sys: 7.29 s, total: 8min 15s\n",
      "Wall time: 8min 13s\n"
     ]
    }
   ],
   "source": [
    "%%time\n",
    "with HiddenPrints():\n",
    "    results_df = pd.DataFrame([get_results_for_city(city) for city in cities])"
   ]
  },
  {
   "cell_type": "code",
   "execution_count": 761,
   "id": "7f6d1026",
   "metadata": {},
   "outputs": [
    {
     "data": {
      "text/plain": [
       "(array([79., 12.,  1.,  1.,  0.,  0.,  0.,  0.,  0.,  2.]),\n",
       " array([0. , 0.1, 0.2, 0.3, 0.4, 0.5, 0.6, 0.7, 0.8, 0.9, 1. ]),\n",
       " <BarContainer object of 10 artists>)"
      ]
     },
     "execution_count": 761,
     "metadata": {},
     "output_type": "execute_result"
    },
    {
     "data": {
      "image/png": "[encoded data removed]",
      "text/plain": [
       "<Figure size 432x288 with 1 Axes>"
      ]
     },
     "metadata": {
      "needs_background": "light"
     },
     "output_type": "display_data"
    }
   ],
   "source": [
    "from matplotlib import pyplot as plt\n",
    "plt.hist(results_df['P(dev) for inventory'])"
   ]
  },
  {
   "cell_type": "code",
   "execution_count": 787,
   "id": "c9bbff55",
   "metadata": {},
   "outputs": [
    {
     "data": {
      "text/html": [
       "<div>\n",
       "<style scoped>\n",
       "    .dataframe tbody tr th:only-of-type {\n",
       "        vertical-align: middle;\n",
       "    }\n",
       "\n",
       "    .dataframe tbody tr th {\n",
       "        vertical-align: top;\n",
       "    }\n",
       "\n",
       "    .dataframe thead th {\n",
       "        text-align: right;\n",
       "    }\n",
       "</style>\n",
       "<table border=\"1\" class=\"dataframe\">\n",
       "  <thead>\n",
       "    <tr style=\"text-align: right;\">\n",
       "      <th></th>\n",
       "      <th>City</th>\n",
       "      <th>Ratio of development on inventory sites</th>\n",
       "      <th>Mean overproduction</th>\n",
       "      <th>Inventory housing / all housing</th>\n",
       "      <th>P(dev) for nonvacant sites</th>\n",
       "      <th>P(dev) for vacant sites</th>\n",
       "      <th>P(dev) for inventory</th>\n",
       "    </tr>\n",
       "  </thead>\n",
       "  <tbody>\n",
       "    <tr>\n",
       "      <th>18</th>\n",
       "      <td>San Francisco</td>\n",
       "      <td>0.552246</td>\n",
       "      <td>-40270.0</td>\n",
       "      <td>0.266158</td>\n",
       "      <td>1.0</td>\n",
       "      <td>1.0</td>\n",
       "      <td>1.0</td>\n",
       "    </tr>\n",
       "    <tr>\n",
       "      <th>56</th>\n",
       "      <td>Colma</td>\n",
       "      <td>2.884615</td>\n",
       "      <td>40.0</td>\n",
       "      <td>0.880000</td>\n",
       "      <td>1.0</td>\n",
       "      <td>NaN</td>\n",
       "      <td>1.0</td>\n",
       "    </tr>\n",
       "  </tbody>\n",
       "</table>\n",
       "</div>"
      ],
      "text/plain": [
       "             City  Ratio of development on inventory sites  \\\n",
       "18  San Francisco                                 0.552246   \n",
       "56          Colma                                 2.884615   \n",
       "\n",
       "    Mean overproduction  Inventory housing / all housing  \\\n",
       "18             -40270.0                         0.266158   \n",
       "56                 40.0                         0.880000   \n",
       "\n",
       "    P(dev) for nonvacant sites  P(dev) for vacant sites  P(dev) for inventory  \n",
       "18                         1.0                      1.0                   1.0  \n",
       "56                         1.0                      NaN                   1.0  "
      ]
     },
     "execution_count": 787,
     "metadata": {},
     "output_type": "execute_result"
    }
   ],
   "source": [
    "results_df[(results_df['P(dev) for inventory'] == 1)]"
   ]
  },
  {
   "cell_type": "code",
   "execution_count": 788,
   "id": "690fb654",
   "metadata": {},
   "outputs": [
    {
     "data": {
      "text/html": [
       "<div>\n",
       "<style scoped>\n",
       "    .dataframe tbody tr th:only-of-type {\n",
       "        vertical-align: middle;\n",
       "    }\n",
       "\n",
       "    .dataframe tbody tr th {\n",
       "        vertical-align: top;\n",
       "    }\n",
       "\n",
       "    .dataframe thead th {\n",
       "        text-align: right;\n",
       "    }\n",
       "</style>\n",
       "<table border=\"1\" class=\"dataframe\">\n",
       "  <thead>\n",
       "    <tr style=\"text-align: right;\">\n",
       "      <th></th>\n",
       "      <th>objectid</th>\n",
       "      <th>rhnacyc</th>\n",
       "      <th>rhnayrs</th>\n",
       "      <th>county</th>\n",
       "      <th>jurisdict</th>\n",
       "      <th>apn</th>\n",
       "      <th>locapn</th>\n",
       "      <th>genplan</th>\n",
       "      <th>zoning</th>\n",
       "      <th>gacres</th>\n",
       "      <th>...</th>\n",
       "      <th>infcapcty</th>\n",
       "      <th>siteconst</th>\n",
       "      <th>sitetype</th>\n",
       "      <th>pdaparcel</th>\n",
       "      <th>bundled</th>\n",
       "      <th>existuse</th>\n",
       "      <th>localnote</th>\n",
       "      <th>Shape__Are</th>\n",
       "      <th>Shape__Len</th>\n",
       "      <th>geometry</th>\n",
       "    </tr>\n",
       "  </thead>\n",
       "  <tbody>\n",
       "    <tr>\n",
       "      <th>33111</th>\n",
       "      <td>75245</td>\n",
       "      <td>RHNA5</td>\n",
       "      <td>2015-2023</td>\n",
       "      <td>6081</td>\n",
       "      <td>Colma</td>\n",
       "      <td>11370220</td>\n",
       "      <td>11370220</td>\n",
       "      <td>Commercial</td>\n",
       "      <td>C</td>\n",
       "      <td>3.319</td>\n",
       "      <td>...</td>\n",
       "      <td>Y</td>\n",
       "      <td>Topography, narrow and triangular site, existi...</td>\n",
       "      <td>NaN</td>\n",
       "      <td>Y</td>\n",
       "      <td>NaN</td>\n",
       "      <td>Mostly Vacant</td>\n",
       "      <td>NaN</td>\n",
       "      <td>0.000001</td>\n",
       "      <td>0.00742</td>\n",
       "      <td>POLYGON ((-122.45159 37.67198, -122.45006 37.6...</td>\n",
       "    </tr>\n",
       "  </tbody>\n",
       "</table>\n",
       "<p>1 rows × 35 columns</p>\n",
       "</div>"
      ],
      "text/plain": [
       "       objectid rhnacyc    rhnayrs county jurisdict       apn    locapn  \\\n",
       "33111     75245   RHNA5  2015-2023   6081     Colma  11370220  11370220   \n",
       "\n",
       "          genplan zoning  gacres  ...  infcapcty  \\\n",
       "33111  Commercial      C   3.319  ...          Y   \n",
       "\n",
       "                                               siteconst  sitetype  pdaparcel  \\\n",
       "33111  Topography, narrow and triangular site, existi...       NaN          Y   \n",
       "\n",
       "       bundled       existuse  localnote  Shape__Are  Shape__Len  \\\n",
       "33111      NaN  Mostly Vacant        NaN    0.000001     0.00742   \n",
       "\n",
       "                                                geometry  \n",
       "33111  POLYGON ((-122.45159 37.67198, -122.45006 37.6...  \n",
       "\n",
       "[1 rows x 35 columns]"
      ]
     },
     "execution_count": 788,
     "metadata": {},
     "output_type": "execute_result"
    }
   ],
   "source": [
    "cities_with_sites['Colma']"
   ]
  },
  {
   "cell_type": "code",
   "execution_count": 794,
   "id": "36604319",
   "metadata": {},
   "outputs": [
    {
     "data": {
      "text/plain": [
       "12    66\n",
       "Name: totalunit, dtype: int64"
      ]
     },
     "execution_count": 794,
     "metadata": {},
     "output_type": "execute_result"
    }
   ],
   "source": [
    "cities_with_permits['San Francisco'][cities_with_permits['San Francisco']['apn'] == 11370220.0].totalunit"
   ]
  },
  {
   "cell_type": "code",
   "execution_count": 773,
   "id": "27478d50",
   "metadata": {},
   "outputs": [
    {
     "data": {
      "text/html": [
       "<div>\n",
       "<style scoped>\n",
       "    .dataframe tbody tr th:only-of-type {\n",
       "        vertical-align: middle;\n",
       "    }\n",
       "\n",
       "    .dataframe tbody tr th {\n",
       "        vertical-align: top;\n",
       "    }\n",
       "\n",
       "    .dataframe thead th {\n",
       "        text-align: right;\n",
       "    }\n",
       "</style>\n",
       "<table border=\"1\" class=\"dataframe\">\n",
       "  <thead>\n",
       "    <tr style=\"text-align: right;\">\n",
       "      <th></th>\n",
       "      <th>objectid</th>\n",
       "      <th>joinid</th>\n",
       "      <th>permyear</th>\n",
       "      <th>county</th>\n",
       "      <th>jurisdictn</th>\n",
       "      <th>apn</th>\n",
       "      <th>address</th>\n",
       "      <th>zip</th>\n",
       "      <th>projname</th>\n",
       "      <th>hcategory</th>\n",
       "      <th>...</th>\n",
       "      <th>Building Permits Date Issued</th>\n",
       "      <th>How many of the units were Extremely Low Income?+</th>\n",
       "      <th>Was Project APPROVED using GC 65913.4(b)? (SB 35 Streamlining) Y/N</th>\n",
       "      <th>Infill Units? Y/N+</th>\n",
       "      <th>Deed Restriction Type (see instructions)</th>\n",
       "      <th>For units affordable without financial assistance or deed restrictions, explain how the locality determined the units were affordable (see instructions)</th>\n",
       "      <th>Term of Affordability or Deed Restriction (years) (if affordable in perpetuity enter 1000)+</th>\n",
       "      <th>Number of Demolished/Destroyed Units+</th>\n",
       "      <th>Demolished or Destroyed Units+</th>\n",
       "      <th>Demolished/Destroyed Units Owner or Renter+</th>\n",
       "    </tr>\n",
       "  </thead>\n",
       "  <tbody>\n",
       "    <tr>\n",
       "      <th>0</th>\n",
       "      <td>NaN</td>\n",
       "      <td>6d974f6a-726c-11e8-adc0-fa7ae01bbebc</td>\n",
       "      <td>2017</td>\n",
       "      <td>6001.0</td>\n",
       "      <td>Albany</td>\n",
       "      <td>6.628100e+10</td>\n",
       "      <td>728 Cornell</td>\n",
       "      <td>94706</td>\n",
       "      <td>(N) SFD + attached ADU</td>\n",
       "      <td>SF</td>\n",
       "      <td>...</td>\n",
       "      <td>NaT</td>\n",
       "      <td>NaN</td>\n",
       "      <td>NaN</td>\n",
       "      <td>NaN</td>\n",
       "      <td>NaN</td>\n",
       "      <td>NaN</td>\n",
       "      <td>NaN</td>\n",
       "      <td>NaN</td>\n",
       "      <td>NaN</td>\n",
       "      <td>NaN</td>\n",
       "    </tr>\n",
       "    <tr>\n",
       "      <th>1</th>\n",
       "      <td>NaN</td>\n",
       "      <td>6d975140-726c-11e8-adc0-fa7ae01bbebc</td>\n",
       "      <td>2017</td>\n",
       "      <td>6001.0</td>\n",
       "      <td>Albany</td>\n",
       "      <td>6.728520e+10</td>\n",
       "      <td>710 San Carlos</td>\n",
       "      <td>94706</td>\n",
       "      <td>(N) detached ADU</td>\n",
       "      <td>SU</td>\n",
       "      <td>...</td>\n",
       "      <td>NaT</td>\n",
       "      <td>NaN</td>\n",
       "      <td>NaN</td>\n",
       "      <td>NaN</td>\n",
       "      <td>NaN</td>\n",
       "      <td>NaN</td>\n",
       "      <td>NaN</td>\n",
       "      <td>NaN</td>\n",
       "      <td>NaN</td>\n",
       "      <td>NaN</td>\n",
       "    </tr>\n",
       "    <tr>\n",
       "      <th>2</th>\n",
       "      <td>NaN</td>\n",
       "      <td>6d975604-726c-11e8-adc0-fa7ae01bbebc</td>\n",
       "      <td>2017</td>\n",
       "      <td>6001.0</td>\n",
       "      <td>Albany</td>\n",
       "      <td>6.628100e+10</td>\n",
       "      <td>707 Stannage</td>\n",
       "      <td>94706</td>\n",
       "      <td>Addn &amp; remod to access bldg to convert to ADU</td>\n",
       "      <td>SU</td>\n",
       "      <td>...</td>\n",
       "      <td>NaT</td>\n",
       "      <td>NaN</td>\n",
       "      <td>NaN</td>\n",
       "      <td>NaN</td>\n",
       "      <td>NaN</td>\n",
       "      <td>NaN</td>\n",
       "      <td>NaN</td>\n",
       "      <td>NaN</td>\n",
       "      <td>NaN</td>\n",
       "      <td>NaN</td>\n",
       "    </tr>\n",
       "    <tr>\n",
       "      <th>3</th>\n",
       "      <td>NaN</td>\n",
       "      <td>6d97588e-726c-11e8-adc0-fa7ae01bbebc</td>\n",
       "      <td>2017</td>\n",
       "      <td>6001.0</td>\n",
       "      <td>Albany</td>\n",
       "      <td>6.728660e+10</td>\n",
       "      <td>508 Ramona</td>\n",
       "      <td>94706</td>\n",
       "      <td>(N) detached ADU</td>\n",
       "      <td>SU</td>\n",
       "      <td>...</td>\n",
       "      <td>NaT</td>\n",
       "      <td>NaN</td>\n",
       "      <td>NaN</td>\n",
       "      <td>NaN</td>\n",
       "      <td>NaN</td>\n",
       "      <td>NaN</td>\n",
       "      <td>NaN</td>\n",
       "      <td>NaN</td>\n",
       "      <td>NaN</td>\n",
       "      <td>NaN</td>\n",
       "    </tr>\n",
       "    <tr>\n",
       "      <th>4</th>\n",
       "      <td>NaN</td>\n",
       "      <td>6d975a96-726c-11e8-adc0-fa7ae01bbebc</td>\n",
       "      <td>2017</td>\n",
       "      <td>6001.0</td>\n",
       "      <td>Albany</td>\n",
       "      <td>6.524120e+10</td>\n",
       "      <td>1065 Curtis</td>\n",
       "      <td>94706</td>\n",
       "      <td>(N) detached ADU</td>\n",
       "      <td>SU</td>\n",
       "      <td>...</td>\n",
       "      <td>NaT</td>\n",
       "      <td>NaN</td>\n",
       "      <td>NaN</td>\n",
       "      <td>NaN</td>\n",
       "      <td>NaN</td>\n",
       "      <td>NaN</td>\n",
       "      <td>NaN</td>\n",
       "      <td>NaN</td>\n",
       "      <td>NaN</td>\n",
       "      <td>NaN</td>\n",
       "    </tr>\n",
       "    <tr>\n",
       "      <th>...</th>\n",
       "      <td>...</td>\n",
       "      <td>...</td>\n",
       "      <td>...</td>\n",
       "      <td>...</td>\n",
       "      <td>...</td>\n",
       "      <td>...</td>\n",
       "      <td>...</td>\n",
       "      <td>...</td>\n",
       "      <td>...</td>\n",
       "      <td>...</td>\n",
       "      <td>...</td>\n",
       "      <td>...</td>\n",
       "      <td>...</td>\n",
       "      <td>...</td>\n",
       "      <td>...</td>\n",
       "      <td>...</td>\n",
       "      <td>...</td>\n",
       "      <td>...</td>\n",
       "      <td>...</td>\n",
       "      <td>...</td>\n",
       "      <td>...</td>\n",
       "    </tr>\n",
       "    <tr>\n",
       "      <th>75</th>\n",
       "      <td>NaN</td>\n",
       "      <td>NaN</td>\n",
       "      <td>2018</td>\n",
       "      <td>NaN</td>\n",
       "      <td>NaN</td>\n",
       "      <td>6.627270e+10</td>\n",
       "      <td>935 FILLMORE ST</td>\n",
       "      <td>NaN</td>\n",
       "      <td>NaN</td>\n",
       "      <td>ADU</td>\n",
       "      <td>...</td>\n",
       "      <td>2018-04-30</td>\n",
       "      <td>NaN</td>\n",
       "      <td>N</td>\n",
       "      <td>NaN</td>\n",
       "      <td>NaN</td>\n",
       "      <td>Survey of comparable units</td>\n",
       "      <td>NaN</td>\n",
       "      <td>NaN</td>\n",
       "      <td>NaN</td>\n",
       "      <td>NaN</td>\n",
       "    </tr>\n",
       "    <tr>\n",
       "      <th>76</th>\n",
       "      <td>NaN</td>\n",
       "      <td>NaN</td>\n",
       "      <td>2017</td>\n",
       "      <td>NaN</td>\n",
       "      <td>NaN</td>\n",
       "      <td>6.526260e+10</td>\n",
       "      <td>908 ORDWAY ST</td>\n",
       "      <td>NaN</td>\n",
       "      <td>NaN</td>\n",
       "      <td>ADU</td>\n",
       "      <td>...</td>\n",
       "      <td>2017-12-18</td>\n",
       "      <td>NaN</td>\n",
       "      <td>N</td>\n",
       "      <td>NaN</td>\n",
       "      <td>NaN</td>\n",
       "      <td>Survey of comparable units</td>\n",
       "      <td>NaN</td>\n",
       "      <td>NaN</td>\n",
       "      <td>NaN</td>\n",
       "      <td>NaN</td>\n",
       "    </tr>\n",
       "    <tr>\n",
       "      <th>77</th>\n",
       "      <td>NaN</td>\n",
       "      <td>NaN</td>\n",
       "      <td>2017</td>\n",
       "      <td>NaN</td>\n",
       "      <td>NaN</td>\n",
       "      <td>6.524080e+10</td>\n",
       "      <td>1128 TALBOT AVE</td>\n",
       "      <td>NaN</td>\n",
       "      <td>NaN</td>\n",
       "      <td>ADU</td>\n",
       "      <td>...</td>\n",
       "      <td>2017-10-06</td>\n",
       "      <td>NaN</td>\n",
       "      <td>N</td>\n",
       "      <td>NaN</td>\n",
       "      <td>NaN</td>\n",
       "      <td>Survey of comparable units</td>\n",
       "      <td>NaN</td>\n",
       "      <td>NaN</td>\n",
       "      <td>NaN</td>\n",
       "      <td>NaN</td>\n",
       "    </tr>\n",
       "    <tr>\n",
       "      <th>78</th>\n",
       "      <td>NaN</td>\n",
       "      <td>NaN</td>\n",
       "      <td>2018</td>\n",
       "      <td>NaN</td>\n",
       "      <td>NaN</td>\n",
       "      <td>6.627890e+10</td>\n",
       "      <td>848 MADISON ST</td>\n",
       "      <td>NaN</td>\n",
       "      <td>NaN</td>\n",
       "      <td>ADU</td>\n",
       "      <td>...</td>\n",
       "      <td>2018-02-14</td>\n",
       "      <td>NaN</td>\n",
       "      <td>N</td>\n",
       "      <td>NaN</td>\n",
       "      <td>NaN</td>\n",
       "      <td>Survey of comparable units</td>\n",
       "      <td>NaN</td>\n",
       "      <td>NaN</td>\n",
       "      <td>NaN</td>\n",
       "      <td>NaN</td>\n",
       "    </tr>\n",
       "    <tr>\n",
       "      <th>79</th>\n",
       "      <td>NaN</td>\n",
       "      <td>NaN</td>\n",
       "      <td>2017</td>\n",
       "      <td>NaN</td>\n",
       "      <td>NaN</td>\n",
       "      <td>6.728660e+10</td>\n",
       "      <td>506 Ramona</td>\n",
       "      <td>NaN</td>\n",
       "      <td>NaN</td>\n",
       "      <td>ADU</td>\n",
       "      <td>...</td>\n",
       "      <td>2017-04-12</td>\n",
       "      <td>NaN</td>\n",
       "      <td>N</td>\n",
       "      <td>NaN</td>\n",
       "      <td>NaN</td>\n",
       "      <td>Survey of comparable units</td>\n",
       "      <td>NaN</td>\n",
       "      <td>NaN</td>\n",
       "      <td>NaN</td>\n",
       "      <td>NaN</td>\n",
       "    </tr>\n",
       "  </tbody>\n",
       "</table>\n",
       "<p>80 rows × 47 columns</p>\n",
       "</div>"
      ],
      "text/plain": [
       "    objectid                                joinid  permyear  county  \\\n",
       "0        NaN  6d974f6a-726c-11e8-adc0-fa7ae01bbebc      2017  6001.0   \n",
       "1        NaN  6d975140-726c-11e8-adc0-fa7ae01bbebc      2017  6001.0   \n",
       "2        NaN  6d975604-726c-11e8-adc0-fa7ae01bbebc      2017  6001.0   \n",
       "3        NaN  6d97588e-726c-11e8-adc0-fa7ae01bbebc      2017  6001.0   \n",
       "4        NaN  6d975a96-726c-11e8-adc0-fa7ae01bbebc      2017  6001.0   \n",
       "..       ...                                   ...       ...     ...   \n",
       "75       NaN                                   NaN      2018     NaN   \n",
       "76       NaN                                   NaN      2017     NaN   \n",
       "77       NaN                                   NaN      2017     NaN   \n",
       "78       NaN                                   NaN      2018     NaN   \n",
       "79       NaN                                   NaN      2017     NaN   \n",
       "\n",
       "   jurisdictn           apn          address    zip  \\\n",
       "0      Albany  6.628100e+10      728 Cornell  94706   \n",
       "1      Albany  6.728520e+10   710 San Carlos  94706   \n",
       "2      Albany  6.628100e+10     707 Stannage  94706   \n",
       "3      Albany  6.728660e+10       508 Ramona  94706   \n",
       "4      Albany  6.524120e+10      1065 Curtis  94706   \n",
       "..        ...           ...              ...    ...   \n",
       "75        NaN  6.627270e+10  935 FILLMORE ST    NaN   \n",
       "76        NaN  6.526260e+10    908 ORDWAY ST    NaN   \n",
       "77        NaN  6.524080e+10  1128 TALBOT AVE    NaN   \n",
       "78        NaN  6.627890e+10   848 MADISON ST    NaN   \n",
       "79        NaN  6.728660e+10       506 Ramona    NaN   \n",
       "\n",
       "                                         projname hcategory  ...  \\\n",
       "0                          (N) SFD + attached ADU        SF  ...   \n",
       "1                                (N) detached ADU        SU  ...   \n",
       "2   Addn & remod to access bldg to convert to ADU        SU  ...   \n",
       "3                                (N) detached ADU        SU  ...   \n",
       "4                                (N) detached ADU        SU  ...   \n",
       "..                                            ...       ...  ...   \n",
       "75                                            NaN       ADU  ...   \n",
       "76                                            NaN       ADU  ...   \n",
       "77                                            NaN       ADU  ...   \n",
       "78                                            NaN       ADU  ...   \n",
       "79                                            NaN       ADU  ...   \n",
       "\n",
       "    Building Permits Date Issued  \\\n",
       "0                            NaT   \n",
       "1                            NaT   \n",
       "2                            NaT   \n",
       "3                            NaT   \n",
       "4                            NaT   \n",
       "..                           ...   \n",
       "75                    2018-04-30   \n",
       "76                    2017-12-18   \n",
       "77                    2017-10-06   \n",
       "78                    2018-02-14   \n",
       "79                    2017-04-12   \n",
       "\n",
       "    How many of the units were Extremely Low Income?+  \\\n",
       "0                                                 NaN   \n",
       "1                                                 NaN   \n",
       "2                                                 NaN   \n",
       "3                                                 NaN   \n",
       "4                                                 NaN   \n",
       "..                                                ...   \n",
       "75                                                NaN   \n",
       "76                                                NaN   \n",
       "77                                                NaN   \n",
       "78                                                NaN   \n",
       "79                                                NaN   \n",
       "\n",
       "    Was Project APPROVED using GC 65913.4(b)? (SB 35 Streamlining) Y/N  \\\n",
       "0                                                 NaN                    \n",
       "1                                                 NaN                    \n",
       "2                                                 NaN                    \n",
       "3                                                 NaN                    \n",
       "4                                                 NaN                    \n",
       "..                                                ...                    \n",
       "75                                                  N                    \n",
       "76                                                  N                    \n",
       "77                                                  N                    \n",
       "78                                                  N                    \n",
       "79                                                  N                    \n",
       "\n",
       "    Infill Units? Y/N+  Deed Restriction Type (see instructions)  \\\n",
       "0                  NaN                                       NaN   \n",
       "1                  NaN                                       NaN   \n",
       "2                  NaN                                       NaN   \n",
       "3                  NaN                                       NaN   \n",
       "4                  NaN                                       NaN   \n",
       "..                 ...                                       ...   \n",
       "75                 NaN                                       NaN   \n",
       "76                 NaN                                       NaN   \n",
       "77                 NaN                                       NaN   \n",
       "78                 NaN                                       NaN   \n",
       "79                 NaN                                       NaN   \n",
       "\n",
       "    For units affordable without financial assistance or deed restrictions, explain how the locality determined the units were affordable (see instructions)  \\\n",
       "0                                                 NaN                                                                                                          \n",
       "1                                                 NaN                                                                                                          \n",
       "2                                                 NaN                                                                                                          \n",
       "3                                                 NaN                                                                                                          \n",
       "4                                                 NaN                                                                                                          \n",
       "..                                                ...                                                                                                          \n",
       "75                         Survey of comparable units                                                                                                          \n",
       "76                         Survey of comparable units                                                                                                          \n",
       "77                         Survey of comparable units                                                                                                          \n",
       "78                         Survey of comparable units                                                                                                          \n",
       "79                         Survey of comparable units                                                                                                          \n",
       "\n",
       "    Term of Affordability or Deed Restriction (years) (if affordable in perpetuity enter 1000)+  \\\n",
       "0                                                 NaN                                             \n",
       "1                                                 NaN                                             \n",
       "2                                                 NaN                                             \n",
       "3                                                 NaN                                             \n",
       "4                                                 NaN                                             \n",
       "..                                                ...                                             \n",
       "75                                                NaN                                             \n",
       "76                                                NaN                                             \n",
       "77                                                NaN                                             \n",
       "78                                                NaN                                             \n",
       "79                                                NaN                                             \n",
       "\n",
       "    Number of Demolished/Destroyed Units+  Demolished or Destroyed Units+  \\\n",
       "0                                     NaN                             NaN   \n",
       "1                                     NaN                             NaN   \n",
       "2                                     NaN                             NaN   \n",
       "3                                     NaN                             NaN   \n",
       "4                                     NaN                             NaN   \n",
       "..                                    ...                             ...   \n",
       "75                                    NaN                             NaN   \n",
       "76                                    NaN                             NaN   \n",
       "77                                    NaN                             NaN   \n",
       "78                                    NaN                             NaN   \n",
       "79                                    NaN                             NaN   \n",
       "\n",
       "    Demolished/Destroyed Units Owner or Renter+  \n",
       "0                                           NaN  \n",
       "1                                           NaN  \n",
       "2                                           NaN  \n",
       "3                                           NaN  \n",
       "4                                           NaN  \n",
       "..                                          ...  \n",
       "75                                          NaN  \n",
       "76                                          NaN  \n",
       "77                                          NaN  \n",
       "78                                          NaN  \n",
       "79                                          NaN  \n",
       "\n",
       "[80 rows x 47 columns]"
      ]
     },
     "execution_count": 773,
     "metadata": {},
     "output_type": "execute_result"
    }
   ],
   "source": [
    "utils.load_all_new_building_permits(\"Albany\")"
   ]
  },
  {
   "cell_type": "code",
   "execution_count": 44,
   "id": "dc69ffc8",
   "metadata": {},
   "outputs": [
    {
     "name": "stderr",
     "output_type": "stream",
     "text": [
      "/Users/sidharthkapur/Library/Caches/pypoetry/virtualenvs/housing-elements-H302xxA9-py3.8/lib/python3.8/site-packages/openpyxl/worksheet/_reader.py:308: UserWarning: Data Validation extension is not supported and will be removed\n",
      "  warn(msg)\n",
      "/Users/sidharthkapur/Library/Caches/pypoetry/virtualenvs/housing-elements-H302xxA9-py3.8/lib/python3.8/site-packages/openpyxl/worksheet/_reader.py:308: UserWarning: Data Validation extension is not supported and will be removed\n",
      "  warn(msg)\n"
     ]
    },
    {
     "name": "stdout",
     "output_type": "stream",
     "text": [
      "Dropping constant columns: ['rhnacyc' 'rhnayrs' 'county' 'jurisdict' 'currunits' 'allowlow' 'num_vl'\n",
      " 'num_l' 'num_m' 'num_am']\n",
      "DF shape (6158, 16)\n",
      "Total units permitted: 26071\n",
      "Total realistic capacity in inventory: 47209.0\n",
      "Number of inventory sites developed: 0\n",
      "Number of units permitted on inventory sites: 0\n",
      "Total realistic capacity of inventory sites: 0.0\n",
      "Units permitted on inventory sites: 0\n",
      "Total units permitted: 26071\n"
     ]
    },
    {
     "name": "stderr",
     "output_type": "stream",
     "text": [
      "/Users/sidharthkapur/personal-workspace/housing-elements/housing_elements/utils.py:299: RuntimeWarning: invalid value encountered in double_scalars\n",
      "  return (n_units - n_claimed) / len(inventory_sites_permitted)\n",
      "/Users/sidharthkapur/Library/Caches/pypoetry/virtualenvs/housing-elements-H302xxA9-py3.8/lib/python3.8/site-packages/openpyxl/worksheet/_reader.py:308: UserWarning: Data Validation extension is not supported and will be removed\n",
      "  warn(msg)\n",
      "/Users/sidharthkapur/Library/Caches/pypoetry/virtualenvs/housing-elements-H302xxA9-py3.8/lib/python3.8/site-packages/openpyxl/worksheet/_reader.py:308: UserWarning: Data Validation extension is not supported and will be removed\n",
      "  warn(msg)\n"
     ]
    },
    {
     "name": "stdout",
     "output_type": "stream",
     "text": [
      "Dropping constant columns: ['rhnacyc' 'rhnayrs' 'county' 'jurisdict' 'currunits' 'allowlow' 'num_vl'\n",
      " 'num_l' 'num_m' 'num_am']\n",
      "DF shape (404, 18)\n",
      "Total units permitted: 1871\n",
      "Total realistic capacity in inventory: 5372.02\n",
      "Number of inventory sites developed: 0\n",
      "Number of units permitted on inventory sites: 0\n",
      "Total realistic capacity of inventory sites: 0.0\n",
      "Units permitted on inventory sites: 0\n",
      "Total units permitted: 1871\n"
     ]
    },
    {
     "name": "stderr",
     "output_type": "stream",
     "text": [
      "/Users/sidharthkapur/personal-workspace/housing-elements/housing_elements/utils.py:299: RuntimeWarning: invalid value encountered in double_scalars\n",
      "  return (n_units - n_claimed) / len(inventory_sites_permitted)\n",
      "/Users/sidharthkapur/Library/Caches/pypoetry/virtualenvs/housing-elements-H302xxA9-py3.8/lib/python3.8/site-packages/openpyxl/worksheet/_reader.py:308: UserWarning: Data Validation extension is not supported and will be removed\n",
      "  warn(msg)\n",
      "/Users/sidharthkapur/Library/Caches/pypoetry/virtualenvs/housing-elements-H302xxA9-py3.8/lib/python3.8/site-packages/openpyxl/worksheet/_reader.py:308: UserWarning: Data Validation extension is not supported and will be removed\n",
      "  warn(msg)\n"
     ]
    },
    {
     "name": "stdout",
     "output_type": "stream",
     "text": [
      "Dropping constant columns: ['rhnacyc' 'rhnayrs' 'county' 'jurisdict' 'num_vl' 'num_l' 'num_m'\n",
      " 'num_am']\n",
      "DF shape (93, 24)\n",
      "Total units permitted: 3579.0\n",
      "Total realistic capacity in inventory: 3216.0\n",
      "Number of inventory sites developed: 3\n",
      "Number of units permitted on inventory sites: 426.0\n",
      "Total realistic capacity of inventory sites: 799.0\n",
      "Units permitted on inventory sites: 426.0\n",
      "Total units permitted: 3579.0\n"
     ]
    },
    {
     "name": "stderr",
     "output_type": "stream",
     "text": [
      "/Users/sidharthkapur/Library/Caches/pypoetry/virtualenvs/housing-elements-H302xxA9-py3.8/lib/python3.8/site-packages/openpyxl/worksheet/_reader.py:308: UserWarning: Data Validation extension is not supported and will be removed\n",
      "  warn(msg)\n",
      "/Users/sidharthkapur/Library/Caches/pypoetry/virtualenvs/housing-elements-H302xxA9-py3.8/lib/python3.8/site-packages/openpyxl/worksheet/_reader.py:308: UserWarning: Data Validation extension is not supported and will be removed\n",
      "  warn(msg)\n"
     ]
    },
    {
     "name": "stdout",
     "output_type": "stream",
     "text": [
      "Dropping constant columns: ['rhnacyc' 'rhnayrs' 'county' 'jurisdict' 'currunits' 'allowlow' 'num_vl'\n",
      " 'num_l' 'num_m' 'num_am']\n",
      "DF shape (599, 18)\n",
      "Total units permitted: 16928.0\n",
      "Total realistic capacity in inventory: 35536.43\n",
      "Number of inventory sites developed: 64\n",
      "Number of units permitted on inventory sites: 3473.0\n",
      "Total realistic capacity of inventory sites: 3664.0\n",
      "Units permitted on inventory sites: 3473.0\n",
      "Total units permitted: 16928.0\n",
      "CPU times: user 55.1 s, sys: 1.27 s, total: 56.3 s\n",
      "Wall time: 57 s\n"
     ]
    }
   ],
   "source": [
    "%%time\n",
    "results_geo_df = pd.DataFrame([get_results_for_city(city, merge_with_address=True) for city in cities])"
   ]
  },
  {
   "cell_type": "code",
   "execution_count": 45,
   "id": "0888fc63",
   "metadata": {},
   "outputs": [
    {
     "data": {
      "text/html": [
       "<div>\n",
       "<style scoped>\n",
       "    .dataframe tbody tr th:only-of-type {\n",
       "        vertical-align: middle;\n",
       "    }\n",
       "\n",
       "    .dataframe tbody tr th {\n",
       "        vertical-align: top;\n",
       "    }\n",
       "\n",
       "    .dataframe thead th {\n",
       "        text-align: right;\n",
       "    }\n",
       "</style>\n",
       "<table border=\"1\" class=\"dataframe\">\n",
       "  <thead>\n",
       "    <tr style=\"text-align: right;\">\n",
       "      <th></th>\n",
       "      <th>City</th>\n",
       "      <th>Ratio of development on inventory sites</th>\n",
       "      <th>Mean overproduction</th>\n",
       "      <th>Inventory housing / all housing</th>\n",
       "      <th>P(dev) for nonvacant sites</th>\n",
       "      <th>P(dev) for vacant sites</th>\n",
       "      <th>P(dev) for inventory</th>\n",
       "    </tr>\n",
       "  </thead>\n",
       "  <tbody>\n",
       "    <tr>\n",
       "      <th>0</th>\n",
       "      <td>San Francisco</td>\n",
       "      <td>0.552246</td>\n",
       "      <td>NaN</td>\n",
       "      <td>0.000000</td>\n",
       "      <td>0.074924</td>\n",
       "      <td>0.075974</td>\n",
       "      <td>0.075187</td>\n",
       "    </tr>\n",
       "    <tr>\n",
       "      <th>1</th>\n",
       "      <td>Berkeley</td>\n",
       "      <td>0.348286</td>\n",
       "      <td>NaN</td>\n",
       "      <td>0.000000</td>\n",
       "      <td>0.029940</td>\n",
       "      <td>0.033755</td>\n",
       "      <td>0.032178</td>\n",
       "    </tr>\n",
       "    <tr>\n",
       "      <th>2</th>\n",
       "      <td>Mountain View</td>\n",
       "      <td>1.112873</td>\n",
       "      <td>-124.333333</td>\n",
       "      <td>0.119028</td>\n",
       "      <td>0.186047</td>\n",
       "      <td>0.285714</td>\n",
       "      <td>0.193548</td>\n",
       "    </tr>\n",
       "    <tr>\n",
       "      <th>3</th>\n",
       "      <td>San Jose</td>\n",
       "      <td>0.476356</td>\n",
       "      <td>-2.984375</td>\n",
       "      <td>0.205163</td>\n",
       "      <td>0.236641</td>\n",
       "      <td>0.126214</td>\n",
       "      <td>0.198664</td>\n",
       "    </tr>\n",
       "  </tbody>\n",
       "</table>\n",
       "</div>"
      ],
      "text/plain": [
       "            City  Ratio of development on inventory sites  \\\n",
       "0  San Francisco                                 0.552246   \n",
       "1       Berkeley                                 0.348286   \n",
       "2  Mountain View                                 1.112873   \n",
       "3       San Jose                                 0.476356   \n",
       "\n",
       "   Mean overproduction  Inventory housing / all housing  \\\n",
       "0                  NaN                         0.000000   \n",
       "1                  NaN                         0.000000   \n",
       "2          -124.333333                         0.119028   \n",
       "3            -2.984375                         0.205163   \n",
       "\n",
       "   P(dev) for nonvacant sites  P(dev) for vacant sites  P(dev) for inventory  \n",
       "0                    0.074924                 0.075974              0.075187  \n",
       "1                    0.029940                 0.033755              0.032178  \n",
       "2                    0.186047                 0.285714              0.193548  \n",
       "3                    0.236641                 0.126214              0.198664  "
      ]
     },
     "execution_count": 45,
     "metadata": {},
     "output_type": "execute_result"
    }
   ],
   "source": [
    "results_geo_df"
   ]
  },
  {
   "cell_type": "code",
   "execution_count": 667,
   "id": "9945632f",
   "metadata": {},
   "outputs": [],
   "source": [
    "def get_ground_truth_results_for_city(city: str) -> pd.DataFrame:\n",
    "    if city == 'San Jose':\n",
    "        permits = san_jose_permits.load_all_permits()\n",
    "    elif city == 'San Francisco':\n",
    "        permits = san_francisco_permits.load_all_permits()\n",
    "    elif city == 'Los Altos':\n",
    "        permits = los_altos_permits.load_all_permits()\n",
    "    else:\n",
    "        raise ValueError(f\"Ground truth data not available for {city}\")\n",
    "        \n",
    "    permits = utils.load_all_new_building_permits(city)\n",
    "    sites = utils.load_site_inventory(city)\n",
    "    \n",
    "    return {\n",
    "        'City': city,\n",
    "        'Ratio of development on inventory sites': utils.calculate_total_units_permitted_over_he_capacity(sites, permits),\n",
    "        'Mean overproduction': utils.calculate_underproduction_on_sites(sites, permits),\n",
    "        'Inventory housing / all housing': utils.calculate_inventory_housing_over_all_housing(sites, permits),\n",
    "        'P(dev) for nonvacant sites': utils.calculate_pdev_for_nonvacant_sites(sites, permits),\n",
    "        'P(dev) for vacant sites': utils.calculate_pdev_for_vacant_sites(sites, permits),\n",
    "        'P(dev) for inventory': utils.calculate_pdev_for_inventory(sites, permits),\n",
    "    }"
   ]
  },
  {
   "cell_type": "code",
   "execution_count": 756,
   "id": "a5cb0670",
   "metadata": {},
   "outputs": [
    {
     "name": "stdout",
     "output_type": "stream",
     "text": [
      "Dropping constant columns: ['county', 'num_vl', 'rhnayrs', 'rhnacyc', 'infcapcty', 'allowlow', 'jurisdict', 'num_m', 'num_am', 'num_l']\n",
      "DF shape (57, 25)\n",
      "Total units permitted: 532\n",
      "Total realistic capacity in inventory: 257.5\n",
      "Number of inventory sites developed: 9\n",
      "Number of units permitted on inventory sites: 34\n",
      "Total realistic capacity of inventory sites: 38.0\n",
      "Units permitted on inventory sites: 34\n",
      "Total units permitted: 532\n"
     ]
    },
    {
     "name": "stderr",
     "output_type": "stream",
     "text": [
      "/Users/Salim/opt/miniconda3/envs/my_env/lib/python3.7/site-packages/ipykernel_launcher.py:2: DtypeWarning: Columns (18,22,32,35) have mixed types.Specify dtype option on import or set low_memory=False.\n",
      "  \n",
      "/Users/Salim/Desktop/housing-elements/housing_elements/san_francisco_permits.py:21: SettingWithCopyWarning: \n",
      "A value is trying to be set on a copy of a slice from a DataFrame\n",
      "\n",
      "See the caveats in the documentation: https://pandas.pydata.org/pandas-docs/stable/user_guide/indexing.html#returning-a-view-versus-a-copy\n",
      "  ]\n"
     ]
    },
    {
     "name": "stdout",
     "output_type": "stream",
     "text": [
      "Dropping constant columns: ['county', 'num_vl', 'rhnayrs', 'rhnacyc', 'currunits', 'allowlow', 'jurisdict', 'num_m', 'num_am', 'num_l']\n",
      "DF shape (6158, 25)\n",
      "Total units permitted: 26071\n",
      "Total realistic capacity in inventory: 47209.0\n",
      "Number of inventory sites developed: 1\n",
      "Number of units permitted on inventory sites: 6939\n",
      "Total realistic capacity of inventory sites: 47209.0\n",
      "Units permitted on inventory sites: 6939\n",
      "Total units permitted: 26071\n",
      "Dropping constant columns: ['county', 'num_vl', 'rhnayrs', 'rhnacyc', 'currunits', 'allowlow', 'jurisdict', 'num_m', 'num_am', 'num_l']\n",
      "DF shape (599, 25)\n",
      "Total units permitted: 16928.0\n",
      "Total realistic capacity in inventory: 35536.43\n",
      "Number of inventory sites developed: 67\n",
      "Number of units permitted on inventory sites: 5011.0\n",
      "Total realistic capacity of inventory sites: 6422.0\n",
      "Units permitted on inventory sites: 5011.0\n",
      "Total units permitted: 16928.0\n",
      "CPU times: user 29.3 s, sys: 1.39 s, total: 30.7 s\n",
      "Wall time: 1min 21s\n"
     ]
    }
   ],
   "source": [
    "%%time\n",
    "ground_truth_cities = ['Los Altos', 'San Francisco', 'San Jose']\n",
    "ground_truth_results_df = pd.DataFrame([get_ground_truth_results_for_city(city) for city in ground_truth_cities])"
   ]
  },
  {
   "cell_type": "code",
   "execution_count": 757,
   "id": "354d5809",
   "metadata": {},
   "outputs": [
    {
     "data": {
      "text/html": [
       "<div>\n",
       "<style scoped>\n",
       "    .dataframe tbody tr th:only-of-type {\n",
       "        vertical-align: middle;\n",
       "    }\n",
       "\n",
       "    .dataframe tbody tr th {\n",
       "        vertical-align: top;\n",
       "    }\n",
       "\n",
       "    .dataframe thead th {\n",
       "        text-align: right;\n",
       "    }\n",
       "</style>\n",
       "<table border=\"1\" class=\"dataframe\">\n",
       "  <thead>\n",
       "    <tr style=\"text-align: right;\">\n",
       "      <th></th>\n",
       "      <th>City</th>\n",
       "      <th>Ratio of development on inventory sites</th>\n",
       "      <th>Mean overproduction</th>\n",
       "      <th>Inventory housing / all housing</th>\n",
       "      <th>P(dev) for nonvacant sites</th>\n",
       "      <th>P(dev) for vacant sites</th>\n",
       "      <th>P(dev) for inventory</th>\n",
       "    </tr>\n",
       "  </thead>\n",
       "  <tbody>\n",
       "    <tr>\n",
       "      <th>0</th>\n",
       "      <td>Los Altos</td>\n",
       "      <td>2.066019</td>\n",
       "      <td>-0.444444</td>\n",
       "      <td>0.063910</td>\n",
       "      <td>0.088235</td>\n",
       "      <td>0.260870</td>\n",
       "      <td>0.157895</td>\n",
       "    </tr>\n",
       "    <tr>\n",
       "      <th>1</th>\n",
       "      <td>San Francisco</td>\n",
       "      <td>0.552246</td>\n",
       "      <td>-40270.000000</td>\n",
       "      <td>0.266158</td>\n",
       "      <td>1.000000</td>\n",
       "      <td>1.000000</td>\n",
       "      <td>1.000000</td>\n",
       "    </tr>\n",
       "    <tr>\n",
       "      <th>2</th>\n",
       "      <td>San Jose</td>\n",
       "      <td>0.476356</td>\n",
       "      <td>-21.059701</td>\n",
       "      <td>0.296018</td>\n",
       "      <td>0.134860</td>\n",
       "      <td>0.067961</td>\n",
       "      <td>0.111853</td>\n",
       "    </tr>\n",
       "  </tbody>\n",
       "</table>\n",
       "</div>"
      ],
      "text/plain": [
       "            City  Ratio of development on inventory sites  \\\n",
       "0      Los Altos                                 2.066019   \n",
       "1  San Francisco                                 0.552246   \n",
       "2       San Jose                                 0.476356   \n",
       "\n",
       "   Mean overproduction  Inventory housing / all housing  \\\n",
       "0            -0.444444                         0.063910   \n",
       "1        -40270.000000                         0.266158   \n",
       "2           -21.059701                         0.296018   \n",
       "\n",
       "   P(dev) for nonvacant sites  P(dev) for vacant sites  P(dev) for inventory  \n",
       "0                    0.088235                 0.260870              0.157895  \n",
       "1                    1.000000                 1.000000              1.000000  \n",
       "2                    0.134860                 0.067961              0.111853  "
      ]
     },
     "execution_count": 757,
     "metadata": {},
     "output_type": "execute_result"
    }
   ],
   "source": [
    "ground_truth_results_df"
   ]
  },
  {
   "cell_type": "code",
   "execution_count": null,
   "id": "173fdd2a",
   "metadata": {},
   "outputs": [],
   "source": []
  }
 ],
 "metadata": {
  "kernelspec": {
   "display_name": "my_kernel",
   "language": "python",
   "name": "my_kernel"
  },
  "language_info": {
   "codemirror_mode": {
    "name": "ipython",
    "version": 3
   },
   "file_extension": ".py",
   "mimetype": "text/x-python",
   "name": "python",
   "nbconvert_exporter": "python",
   "pygments_lexer": "ipython3",
   "version": "3.7.7"
  }
 },
 "nbformat": 4,
 "nbformat_minor": 5
}
