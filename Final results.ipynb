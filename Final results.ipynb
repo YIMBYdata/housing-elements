{
 "cells": [
  {
   "cell_type": "code",
   "execution_count": 524,
   "id": "4b36cb0c",
   "metadata": {},
   "outputs": [],
   "source": [
    "import pandas as pd\n",
    "import geopandas as gpd\n",
    "import numpy as np\n",
    "from housing_elements import utils, los_altos_permits, san_francisco_permits, san_jose_permits"
   ]
  },
  {
   "cell_type": "code",
   "execution_count": 686,
   "id": "8a23222d",
   "metadata": {},
   "outputs": [
    {
     "data": {
      "text/plain": [
       "<module 'housing_elements.utils' from '/Users/Salim/Desktop/housing-elements/housing_elements/utils.py'>"
      ]
     },
     "execution_count": 686,
     "metadata": {},
     "output_type": "execute_result"
    }
   ],
   "source": [
    "from importlib import reload\n",
    "reload(los_altos_permits)\n",
    "reload(san_francisco_permits)\n",
    "reload(utils)"
   ]
  },
  {
   "cell_type": "code",
   "execution_count": 301,
   "id": "e3afd37b",
   "metadata": {},
   "outputs": [],
   "source": [
    "import os, sys\n",
    "\n",
    "class HiddenPrints:\n",
    "    def __enter__(self):\n",
    "        self._original_stdout = sys.stdout\n",
    "        sys.stdout = open(os.devnull, 'w')\n",
    "\n",
    "    def __exit__(self, exc_type, exc_val, exc_tb):\n",
    "        sys.stdout.close()\n",
    "        sys.stdout = self._original_stdout"
   ]
  },
  {
   "cell_type": "code",
   "execution_count": 302,
   "id": "a2e1e74c",
   "metadata": {},
   "outputs": [],
   "source": [
    "# Oakland and Palo Alto don't work right now (parsing certain columns as floats fails)\n",
    "cities = ['San Francisco', 'Berkeley', 'Mountain View', 'San Jose']"
   ]
  },
  {
   "cell_type": "code",
   "execution_count": 303,
   "id": "3e3233f7",
   "metadata": {},
   "outputs": [],
   "source": [
    "df = gpd.read_file(\n",
    "        \"./data/raw_data/housing_sites/xn--Bay_Area_Housing_Opportunity_Sites_Inventory__20072023_-it38a.shp\"\n",
    "    )"
   ]
  },
  {
   "cell_type": "code",
   "execution_count": 304,
   "id": "e68c9ac3",
   "metadata": {},
   "outputs": [],
   "source": [
    "all_cities = df.jurisdict.unique()"
   ]
  },
  {
   "cell_type": "code",
   "execution_count": 305,
   "id": "f28517d6",
   "metadata": {},
   "outputs": [
    {
     "data": {
      "text/plain": [
       "108"
      ]
     },
     "execution_count": 305,
     "metadata": {},
     "output_type": "execute_result"
    }
   ],
   "source": [
    "len(all_cities)"
   ]
  },
  {
   "cell_type": "code",
   "execution_count": 596,
   "id": "f2c092f2",
   "metadata": {},
   "outputs": [
    {
     "name": "stdout",
     "output_type": "stream",
     "text": [
      "CPU times: user 4min 40s, sys: 5.69 s, total: 4min 46s\n",
      "Wall time: 4min 45s\n"
     ]
    }
   ],
   "source": [
    "%%time\n",
    "cities_with_sites = {}\n",
    "\n",
    "for city in all_cities:\n",
    "    with HiddenPrints():\n",
    "        try:\n",
    "            cities_with_sites[city] = utils.load_site_inventory(city)\n",
    "            cities_with_sites[city].relcapcty.sum()\n",
    "        except Exception:\n",
    "            pass"
   ]
  },
  {
   "cell_type": "code",
   "execution_count": 597,
   "id": "8c855210",
   "metadata": {},
   "outputs": [
    {
     "data": {
      "text/plain": [
       "108"
      ]
     },
     "execution_count": 597,
     "metadata": {},
     "output_type": "execute_result"
    }
   ],
   "source": [
    "len(cities_with_sites)"
   ]
  },
  {
   "cell_type": "code",
   "execution_count": 598,
   "id": "9f1226b9",
   "metadata": {},
   "outputs": [
    {
     "name": "stdout",
     "output_type": "stream",
     "text": [
      "CPU times: user 4min 9s, sys: 1.29 s, total: 4min 10s\n",
      "Wall time: 4min 11s\n"
     ]
    }
   ],
   "source": [
    "%%time\n",
    "cities_with_permits = {}\n",
    "\n",
    "for city in all_cities:\n",
    "    with HiddenPrints():\n",
    "        try:\n",
    "            cities_with_permits[city] = utils.load_all_new_building_permits(city)\n",
    "        except Exception:\n",
    "            print(city)"
   ]
  },
  {
   "cell_type": "code",
   "execution_count": 599,
   "id": "00543137",
   "metadata": {},
   "outputs": [
    {
     "data": {
      "text/plain": [
       "97"
      ]
     },
     "execution_count": 599,
     "metadata": {},
     "output_type": "execute_result"
    }
   ],
   "source": [
    "len(cities_with_permits)"
   ]
  },
  {
   "cell_type": "code",
   "execution_count": 583,
   "id": "7b4febe0",
   "metadata": {},
   "outputs": [],
   "source": [
    "def get_results_for_city(city: str, merge_with_address: bool = False) -> pd.DataFrame:\n",
    "    permits = utils.load_all_new_building_permits(city)\n",
    "    sites = utils.load_site_inventory(city)\n",
    "    \n",
    "    return {\n",
    "        'City': city,\n",
    "        'Ratio of development on inventory sites': utils.calculate_total_units_permitted_over_he_capacity(sites, permits),\n",
    "        'Mean overproduction': utils.calculate_underproduction_on_sites(sites, permits),\n",
    "        'Inventory housing / all housing': utils.calculate_inventory_housing_over_all_housing(sites, permits),\n",
    "        'P(dev) for nonvacant sites': utils.calculate_pdev_for_nonvacant_sites(sites, permits, merge_with_address),\n",
    "        'P(dev) for vacant sites': utils.calculate_pdev_for_vacant_sites(sites, permits, merge_with_address),\n",
    "        'P(dev) for inventory': utils.calculate_pdev_for_inventory(sites, permits, merge_with_address),\n",
    "    }"
   ]
  },
  {
   "cell_type": "code",
   "execution_count": 454,
   "id": "233d57fe",
   "metadata": {},
   "outputs": [],
   "source": [
    "cities = [city for city in all_cities if city in cities_with_permits and city in cities_with_sites]"
   ]
  },
  {
   "cell_type": "code",
   "execution_count": 455,
   "id": "8dabe206",
   "metadata": {},
   "outputs": [
    {
     "data": {
      "text/plain": [
       "96"
      ]
     },
     "execution_count": 455,
     "metadata": {},
     "output_type": "execute_result"
    }
   ],
   "source": [
    "len(cities)"
   ]
  },
  {
   "cell_type": "code",
   "execution_count": 632,
   "id": "132a996a",
   "metadata": {},
   "outputs": [
    {
     "name": "stdout",
     "output_type": "stream",
     "text": [
      "CPU times: user 8min 8s, sys: 7.29 s, total: 8min 15s\n",
      "Wall time: 8min 13s\n"
     ]
    }
   ],
   "source": [
    "%%time\n",
    "with HiddenPrints():\n",
    "    results_df = pd.DataFrame([get_results_for_city(city) for city in cities])"
   ]
  },
  {
   "cell_type": "code",
   "execution_count": 633,
   "id": "b46438a7",
   "metadata": {},
   "outputs": [
    {
     "data": {
      "text/html": [
       "<div>\n",
       "<style scoped>\n",
       "    .dataframe tbody tr th:only-of-type {\n",
       "        vertical-align: middle;\n",
       "    }\n",
       "\n",
       "    .dataframe tbody tr th {\n",
       "        vertical-align: top;\n",
       "    }\n",
       "\n",
       "    .dataframe thead th {\n",
       "        text-align: right;\n",
       "    }\n",
       "</style>\n",
       "<table border=\"1\" class=\"dataframe\">\n",
       "  <thead>\n",
       "    <tr style=\"text-align: right;\">\n",
       "      <th></th>\n",
       "      <th>City</th>\n",
       "      <th>Ratio of development on inventory sites</th>\n",
       "      <th>Mean overproduction</th>\n",
       "      <th>Inventory housing / all housing</th>\n",
       "      <th>P(dev) for nonvacant sites</th>\n",
       "      <th>P(dev) for vacant sites</th>\n",
       "      <th>P(dev) for inventory</th>\n",
       "    </tr>\n",
       "  </thead>\n",
       "  <tbody>\n",
       "    <tr>\n",
       "      <th>0</th>\n",
       "      <td>Berkeley</td>\n",
       "      <td>0.35</td>\n",
       "      <td>3.22</td>\n",
       "      <td>0.04</td>\n",
       "      <td>0.01</td>\n",
       "      <td>0.03</td>\n",
       "      <td>0.02</td>\n",
       "    </tr>\n",
       "    <tr>\n",
       "      <th>1</th>\n",
       "      <td>Albany</td>\n",
       "      <td>0.63</td>\n",
       "      <td>NaN</td>\n",
       "      <td>0.00</td>\n",
       "      <td>0.00</td>\n",
       "      <td>0.00</td>\n",
       "      <td>0.00</td>\n",
       "    </tr>\n",
       "    <tr>\n",
       "      <th>2</th>\n",
       "      <td>Alameda</td>\n",
       "      <td>0.53</td>\n",
       "      <td>NaN</td>\n",
       "      <td>0.00</td>\n",
       "      <td>0.00</td>\n",
       "      <td>0.00</td>\n",
       "      <td>0.00</td>\n",
       "    </tr>\n",
       "    <tr>\n",
       "      <th>3</th>\n",
       "      <td>Livermore</td>\n",
       "      <td>0.58</td>\n",
       "      <td>1.00</td>\n",
       "      <td>0.24</td>\n",
       "      <td>0.07</td>\n",
       "      <td>0.17</td>\n",
       "      <td>0.12</td>\n",
       "    </tr>\n",
       "    <tr>\n",
       "      <th>4</th>\n",
       "      <td>Fremont</td>\n",
       "      <td>0.65</td>\n",
       "      <td>-19.39</td>\n",
       "      <td>0.15</td>\n",
       "      <td>0.07</td>\n",
       "      <td>0.05</td>\n",
       "      <td>0.07</td>\n",
       "    </tr>\n",
       "    <tr>\n",
       "      <th>...</th>\n",
       "      <td>...</td>\n",
       "      <td>...</td>\n",
       "      <td>...</td>\n",
       "      <td>...</td>\n",
       "      <td>...</td>\n",
       "      <td>...</td>\n",
       "      <td>...</td>\n",
       "    </tr>\n",
       "    <tr>\n",
       "      <th>91</th>\n",
       "      <td>Monte Sereno</td>\n",
       "      <td>1.42</td>\n",
       "      <td>NaN</td>\n",
       "      <td>0.00</td>\n",
       "      <td>0.00</td>\n",
       "      <td>NaN</td>\n",
       "      <td>0.00</td>\n",
       "    </tr>\n",
       "    <tr>\n",
       "      <th>92</th>\n",
       "      <td>Healdsburg</td>\n",
       "      <td>0.51</td>\n",
       "      <td>-7.50</td>\n",
       "      <td>0.03</td>\n",
       "      <td>0.08</td>\n",
       "      <td>0.08</td>\n",
       "      <td>0.08</td>\n",
       "    </tr>\n",
       "    <tr>\n",
       "      <th>93</th>\n",
       "      <td>Fairfield</td>\n",
       "      <td>0.32</td>\n",
       "      <td>-7.00</td>\n",
       "      <td>0.00</td>\n",
       "      <td>0.00</td>\n",
       "      <td>0.03</td>\n",
       "      <td>0.02</td>\n",
       "    </tr>\n",
       "    <tr>\n",
       "      <th>94</th>\n",
       "      <td>Sonoma</td>\n",
       "      <td>0.18</td>\n",
       "      <td>-35.00</td>\n",
       "      <td>0.03</td>\n",
       "      <td>0.00</td>\n",
       "      <td>0.20</td>\n",
       "      <td>0.04</td>\n",
       "    </tr>\n",
       "    <tr>\n",
       "      <th>95</th>\n",
       "      <td>Windsor</td>\n",
       "      <td>0.16</td>\n",
       "      <td>6.83</td>\n",
       "      <td>0.38</td>\n",
       "      <td>0.12</td>\n",
       "      <td>0.00</td>\n",
       "      <td>0.12</td>\n",
       "    </tr>\n",
       "  </tbody>\n",
       "</table>\n",
       "<p>96 rows × 7 columns</p>\n",
       "</div>"
      ],
      "text/plain": [
       "            City  Ratio of development on inventory sites  \\\n",
       "0       Berkeley                                     0.35   \n",
       "1         Albany                                     0.63   \n",
       "2        Alameda                                     0.53   \n",
       "3      Livermore                                     0.58   \n",
       "4        Fremont                                     0.65   \n",
       "..           ...                                      ...   \n",
       "91  Monte Sereno                                     1.42   \n",
       "92    Healdsburg                                     0.51   \n",
       "93     Fairfield                                     0.32   \n",
       "94        Sonoma                                     0.18   \n",
       "95       Windsor                                     0.16   \n",
       "\n",
       "    Mean overproduction  Inventory housing / all housing  \\\n",
       "0                  3.22                             0.04   \n",
       "1                   NaN                             0.00   \n",
       "2                   NaN                             0.00   \n",
       "3                  1.00                             0.24   \n",
       "4                -19.39                             0.15   \n",
       "..                  ...                              ...   \n",
       "91                  NaN                             0.00   \n",
       "92                -7.50                             0.03   \n",
       "93                -7.00                             0.00   \n",
       "94               -35.00                             0.03   \n",
       "95                 6.83                             0.38   \n",
       "\n",
       "    P(dev) for nonvacant sites  P(dev) for vacant sites  P(dev) for inventory  \n",
       "0                         0.01                     0.03                  0.02  \n",
       "1                         0.00                     0.00                  0.00  \n",
       "2                         0.00                     0.00                  0.00  \n",
       "3                         0.07                     0.17                  0.12  \n",
       "4                         0.07                     0.05                  0.07  \n",
       "..                         ...                      ...                   ...  \n",
       "91                        0.00                      NaN                  0.00  \n",
       "92                        0.08                     0.08                  0.08  \n",
       "93                        0.00                     0.03                  0.02  \n",
       "94                        0.00                     0.20                  0.04  \n",
       "95                        0.12                     0.00                  0.12  \n",
       "\n",
       "[96 rows x 7 columns]"
      ]
     },
     "execution_count": 633,
     "metadata": {},
     "output_type": "execute_result"
    }
   ],
   "source": [
    "round(results_df, 2)"
   ]
  },
  {
   "cell_type": "code",
   "execution_count": 44,
   "id": "56c214ae",
   "metadata": {},
   "outputs": [
    {
     "name": "stderr",
     "output_type": "stream",
     "text": [
      "/Users/sidharthkapur/Library/Caches/pypoetry/virtualenvs/housing-elements-H302xxA9-py3.8/lib/python3.8/site-packages/openpyxl/worksheet/_reader.py:308: UserWarning: Data Validation extension is not supported and will be removed\n",
      "  warn(msg)\n",
      "/Users/sidharthkapur/Library/Caches/pypoetry/virtualenvs/housing-elements-H302xxA9-py3.8/lib/python3.8/site-packages/openpyxl/worksheet/_reader.py:308: UserWarning: Data Validation extension is not supported and will be removed\n",
      "  warn(msg)\n"
     ]
    },
    {
     "name": "stdout",
     "output_type": "stream",
     "text": [
      "Dropping constant columns: ['rhnacyc' 'rhnayrs' 'county' 'jurisdict' 'currunits' 'allowlow' 'num_vl'\n",
      " 'num_l' 'num_m' 'num_am']\n",
      "DF shape (6158, 16)\n",
      "Total units permitted: 26071\n",
      "Total realistic capacity in inventory: 47209.0\n",
      "Number of inventory sites developed: 0\n",
      "Number of units permitted on inventory sites: 0\n",
      "Total realistic capacity of inventory sites: 0.0\n",
      "Units permitted on inventory sites: 0\n",
      "Total units permitted: 26071\n"
     ]
    },
    {
     "name": "stderr",
     "output_type": "stream",
     "text": [
      "/Users/sidharthkapur/personal-workspace/housing-elements/housing_elements/utils.py:299: RuntimeWarning: invalid value encountered in double_scalars\n",
      "  return (n_units - n_claimed) / len(inventory_sites_permitted)\n",
      "/Users/sidharthkapur/Library/Caches/pypoetry/virtualenvs/housing-elements-H302xxA9-py3.8/lib/python3.8/site-packages/openpyxl/worksheet/_reader.py:308: UserWarning: Data Validation extension is not supported and will be removed\n",
      "  warn(msg)\n",
      "/Users/sidharthkapur/Library/Caches/pypoetry/virtualenvs/housing-elements-H302xxA9-py3.8/lib/python3.8/site-packages/openpyxl/worksheet/_reader.py:308: UserWarning: Data Validation extension is not supported and will be removed\n",
      "  warn(msg)\n"
     ]
    },
    {
     "name": "stdout",
     "output_type": "stream",
     "text": [
      "Dropping constant columns: ['rhnacyc' 'rhnayrs' 'county' 'jurisdict' 'currunits' 'allowlow' 'num_vl'\n",
      " 'num_l' 'num_m' 'num_am']\n",
      "DF shape (404, 18)\n",
      "Total units permitted: 1871\n",
      "Total realistic capacity in inventory: 5372.02\n",
      "Number of inventory sites developed: 0\n",
      "Number of units permitted on inventory sites: 0\n",
      "Total realistic capacity of inventory sites: 0.0\n",
      "Units permitted on inventory sites: 0\n",
      "Total units permitted: 1871\n"
     ]
    },
    {
     "name": "stderr",
     "output_type": "stream",
     "text": [
      "/Users/sidharthkapur/personal-workspace/housing-elements/housing_elements/utils.py:299: RuntimeWarning: invalid value encountered in double_scalars\n",
      "  return (n_units - n_claimed) / len(inventory_sites_permitted)\n",
      "/Users/sidharthkapur/Library/Caches/pypoetry/virtualenvs/housing-elements-H302xxA9-py3.8/lib/python3.8/site-packages/openpyxl/worksheet/_reader.py:308: UserWarning: Data Validation extension is not supported and will be removed\n",
      "  warn(msg)\n",
      "/Users/sidharthkapur/Library/Caches/pypoetry/virtualenvs/housing-elements-H302xxA9-py3.8/lib/python3.8/site-packages/openpyxl/worksheet/_reader.py:308: UserWarning: Data Validation extension is not supported and will be removed\n",
      "  warn(msg)\n"
     ]
    },
    {
     "name": "stdout",
     "output_type": "stream",
     "text": [
      "Dropping constant columns: ['rhnacyc' 'rhnayrs' 'county' 'jurisdict' 'num_vl' 'num_l' 'num_m'\n",
      " 'num_am']\n",
      "DF shape (93, 24)\n",
      "Total units permitted: 3579.0\n",
      "Total realistic capacity in inventory: 3216.0\n",
      "Number of inventory sites developed: 3\n",
      "Number of units permitted on inventory sites: 426.0\n",
      "Total realistic capacity of inventory sites: 799.0\n",
      "Units permitted on inventory sites: 426.0\n",
      "Total units permitted: 3579.0\n"
     ]
    },
    {
     "name": "stderr",
     "output_type": "stream",
     "text": [
      "/Users/sidharthkapur/Library/Caches/pypoetry/virtualenvs/housing-elements-H302xxA9-py3.8/lib/python3.8/site-packages/openpyxl/worksheet/_reader.py:308: UserWarning: Data Validation extension is not supported and will be removed\n",
      "  warn(msg)\n",
      "/Users/sidharthkapur/Library/Caches/pypoetry/virtualenvs/housing-elements-H302xxA9-py3.8/lib/python3.8/site-packages/openpyxl/worksheet/_reader.py:308: UserWarning: Data Validation extension is not supported and will be removed\n",
      "  warn(msg)\n"
     ]
    },
    {
     "name": "stdout",
     "output_type": "stream",
     "text": [
      "Dropping constant columns: ['rhnacyc' 'rhnayrs' 'county' 'jurisdict' 'currunits' 'allowlow' 'num_vl'\n",
      " 'num_l' 'num_m' 'num_am']\n",
      "DF shape (599, 18)\n",
      "Total units permitted: 16928.0\n",
      "Total realistic capacity in inventory: 35536.43\n",
      "Number of inventory sites developed: 64\n",
      "Number of units permitted on inventory sites: 3473.0\n",
      "Total realistic capacity of inventory sites: 3664.0\n",
      "Units permitted on inventory sites: 3473.0\n",
      "Total units permitted: 16928.0\n",
      "CPU times: user 55.1 s, sys: 1.27 s, total: 56.3 s\n",
      "Wall time: 57 s\n"
     ]
    }
   ],
   "source": [
    "%%time\n",
    "results_geo_df = pd.DataFrame([get_results_for_city(city, merge_with_address=True) for city in cities])"
   ]
  },
  {
   "cell_type": "code",
   "execution_count": 45,
   "id": "6222fbf6",
   "metadata": {},
   "outputs": [
    {
     "data": {
      "text/html": [
       "<div>\n",
       "<style scoped>\n",
       "    .dataframe tbody tr th:only-of-type {\n",
       "        vertical-align: middle;\n",
       "    }\n",
       "\n",
       "    .dataframe tbody tr th {\n",
       "        vertical-align: top;\n",
       "    }\n",
       "\n",
       "    .dataframe thead th {\n",
       "        text-align: right;\n",
       "    }\n",
       "</style>\n",
       "<table border=\"1\" class=\"dataframe\">\n",
       "  <thead>\n",
       "    <tr style=\"text-align: right;\">\n",
       "      <th></th>\n",
       "      <th>City</th>\n",
       "      <th>Ratio of development on inventory sites</th>\n",
       "      <th>Mean overproduction</th>\n",
       "      <th>Inventory housing / all housing</th>\n",
       "      <th>P(dev) for nonvacant sites</th>\n",
       "      <th>P(dev) for vacant sites</th>\n",
       "      <th>P(dev) for inventory</th>\n",
       "    </tr>\n",
       "  </thead>\n",
       "  <tbody>\n",
       "    <tr>\n",
       "      <th>0</th>\n",
       "      <td>San Francisco</td>\n",
       "      <td>0.552246</td>\n",
       "      <td>NaN</td>\n",
       "      <td>0.000000</td>\n",
       "      <td>0.074924</td>\n",
       "      <td>0.075974</td>\n",
       "      <td>0.075187</td>\n",
       "    </tr>\n",
       "    <tr>\n",
       "      <th>1</th>\n",
       "      <td>Berkeley</td>\n",
       "      <td>0.348286</td>\n",
       "      <td>NaN</td>\n",
       "      <td>0.000000</td>\n",
       "      <td>0.029940</td>\n",
       "      <td>0.033755</td>\n",
       "      <td>0.032178</td>\n",
       "    </tr>\n",
       "    <tr>\n",
       "      <th>2</th>\n",
       "      <td>Mountain View</td>\n",
       "      <td>1.112873</td>\n",
       "      <td>-124.333333</td>\n",
       "      <td>0.119028</td>\n",
       "      <td>0.186047</td>\n",
       "      <td>0.285714</td>\n",
       "      <td>0.193548</td>\n",
       "    </tr>\n",
       "    <tr>\n",
       "      <th>3</th>\n",
       "      <td>San Jose</td>\n",
       "      <td>0.476356</td>\n",
       "      <td>-2.984375</td>\n",
       "      <td>0.205163</td>\n",
       "      <td>0.236641</td>\n",
       "      <td>0.126214</td>\n",
       "      <td>0.198664</td>\n",
       "    </tr>\n",
       "  </tbody>\n",
       "</table>\n",
       "</div>"
      ],
      "text/plain": [
       "            City  Ratio of development on inventory sites  \\\n",
       "0  San Francisco                                 0.552246   \n",
       "1       Berkeley                                 0.348286   \n",
       "2  Mountain View                                 1.112873   \n",
       "3       San Jose                                 0.476356   \n",
       "\n",
       "   Mean overproduction  Inventory housing / all housing  \\\n",
       "0                  NaN                         0.000000   \n",
       "1                  NaN                         0.000000   \n",
       "2          -124.333333                         0.119028   \n",
       "3            -2.984375                         0.205163   \n",
       "\n",
       "   P(dev) for nonvacant sites  P(dev) for vacant sites  P(dev) for inventory  \n",
       "0                    0.074924                 0.075974              0.075187  \n",
       "1                    0.029940                 0.033755              0.032178  \n",
       "2                    0.186047                 0.285714              0.193548  \n",
       "3                    0.236641                 0.126214              0.198664  "
      ]
     },
     "execution_count": 45,
     "metadata": {},
     "output_type": "execute_result"
    }
   ],
   "source": [
    "results_geo_df"
   ]
  },
  {
   "cell_type": "code",
   "execution_count": 667,
   "id": "d9c9bffd",
   "metadata": {},
   "outputs": [],
   "source": [
    "def get_ground_truth_results_for_city(city: str) -> pd.DataFrame:\n",
    "    if city == 'San Jose':\n",
    "        permits = san_jose_permits.load_all_permits()\n",
    "    elif city == 'San Francisco':\n",
    "        permits = san_francisco_permits.load_all_permits()\n",
    "    elif city == 'Los Altos':\n",
    "        permits = los_altos_permits.load_all_permits()\n",
    "    else:\n",
    "        raise ValueError(f\"Ground truth data not available for {city}\")\n",
    "        \n",
    "    permits = utils.load_all_new_building_permits(city)\n",
    "    sites = utils.load_site_inventory(city)\n",
    "    \n",
    "    return {\n",
    "        'City': city,\n",
    "        'Ratio of development on inventory sites': utils.calculate_total_units_permitted_over_he_capacity(sites, permits),\n",
    "        'Mean overproduction': utils.calculate_underproduction_on_sites(sites, permits),\n",
    "        'Inventory housing / all housing': utils.calculate_inventory_housing_over_all_housing(sites, permits),\n",
    "        'P(dev) for nonvacant sites': utils.calculate_pdev_for_nonvacant_sites(sites, permits),\n",
    "        'P(dev) for vacant sites': utils.calculate_pdev_for_vacant_sites(sites, permits),\n",
    "        'P(dev) for inventory': utils.calculate_pdev_for_inventory(sites, permits),\n",
    "    }"
   ]
  },
  {
   "cell_type": "code",
   "execution_count": 672,
   "id": "238a1f25",
   "metadata": {},
   "outputs": [
    {
     "name": "stdout",
     "output_type": "stream",
     "text": [
      "Index(['version https://git-lfs.github.com/spec/v1'], dtype='object')\n"
     ]
    }
   ],
   "source": [
    "\n",
    "permits = pd.read_csv(\"./data/raw_data/sf_permits.csv\")\n",
    "print(permits.columns)\n",
    "date_cols = [c for c in permits.columns if 'Date' in c]\n",
    "permits[date_cols] = permits[date_cols].apply(pd.to_datetime)"
   ]
  },
  {
   "cell_type": "code",
   "execution_count": 673,
   "id": "b4f380bd",
   "metadata": {},
   "outputs": [
    {
     "name": "stdout",
     "output_type": "stream",
     "text": [
      "Index(['version https://git-lfs.github.com/spec/v1'], dtype='object')\n"
     ]
    }
   ],
   "source": [
    "print(permits.columns)"
   ]
  },
  {
   "cell_type": "code",
   "execution_count": 685,
   "id": "7cd42665",
   "metadata": {},
   "outputs": [
    {
     "name": "stdout",
     "output_type": "stream",
     "text": [
      "Dropping constant columns: ['county', 'num_vl', 'rhnayrs', 'rhnacyc', 'infcapcty', 'allowlow', 'jurisdict', 'num_m', 'num_am', 'num_l']\n",
      "DF shape (57, 25)\n",
      "Total units permitted: 532\n",
      "Total realistic capacity in inventory: 257.5\n",
      "Number of inventory sites developed: 9\n",
      "Number of units permitted on inventory sites: 34\n",
      "Total realistic capacity of inventory sites: 38.0\n",
      "Units permitted on inventory sites: 34\n",
      "Total units permitted: 532\n",
      "Index(['version https://git-lfs.github.com/spec/v1'], dtype='object')\n"
     ]
    },
    {
     "ename": "KeyError",
     "evalue": "'Block'",
     "output_type": "error",
     "traceback": [
      "\u001b[0;31m---------------------------------------------------------------------------\u001b[0m",
      "\u001b[0;31mKeyError\u001b[0m                                  Traceback (most recent call last)",
      "\u001b[0;32m~/opt/miniconda3/envs/my_env/lib/python3.7/site-packages/pandas/core/indexes/base.py\u001b[0m in \u001b[0;36mget_loc\u001b[0;34m(self, key, method, tolerance)\u001b[0m\n\u001b[1;32m   2894\u001b[0m             \u001b[0;32mtry\u001b[0m\u001b[0;34m:\u001b[0m\u001b[0;34m\u001b[0m\u001b[0;34m\u001b[0m\u001b[0m\n\u001b[0;32m-> 2895\u001b[0;31m                 \u001b[0;32mreturn\u001b[0m \u001b[0mself\u001b[0m\u001b[0;34m.\u001b[0m\u001b[0m_engine\u001b[0m\u001b[0;34m.\u001b[0m\u001b[0mget_loc\u001b[0m\u001b[0;34m(\u001b[0m\u001b[0mcasted_key\u001b[0m\u001b[0;34m)\u001b[0m\u001b[0;34m\u001b[0m\u001b[0;34m\u001b[0m\u001b[0m\n\u001b[0m\u001b[1;32m   2896\u001b[0m             \u001b[0;32mexcept\u001b[0m \u001b[0mKeyError\u001b[0m \u001b[0;32mas\u001b[0m \u001b[0merr\u001b[0m\u001b[0;34m:\u001b[0m\u001b[0;34m\u001b[0m\u001b[0;34m\u001b[0m\u001b[0m\n",
      "\u001b[0;32mpandas/_libs/index.pyx\u001b[0m in \u001b[0;36mpandas._libs.index.IndexEngine.get_loc\u001b[0;34m()\u001b[0m\n",
      "\u001b[0;32mpandas/_libs/index.pyx\u001b[0m in \u001b[0;36mpandas._libs.index.IndexEngine.get_loc\u001b[0;34m()\u001b[0m\n",
      "\u001b[0;32mpandas/_libs/hashtable_class_helper.pxi\u001b[0m in \u001b[0;36mpandas._libs.hashtable.PyObjectHashTable.get_item\u001b[0;34m()\u001b[0m\n",
      "\u001b[0;32mpandas/_libs/hashtable_class_helper.pxi\u001b[0m in \u001b[0;36mpandas._libs.hashtable.PyObjectHashTable.get_item\u001b[0;34m()\u001b[0m\n",
      "\u001b[0;31mKeyError\u001b[0m: 'Block'",
      "\nThe above exception was the direct cause of the following exception:\n",
      "\u001b[0;31mKeyError\u001b[0m                                  Traceback (most recent call last)",
      "\u001b[0;32m<timed exec>\u001b[0m in \u001b[0;36m<module>\u001b[0;34m\u001b[0m\n",
      "\u001b[0;32m<timed exec>\u001b[0m in \u001b[0;36m<listcomp>\u001b[0;34m(.0)\u001b[0m\n",
      "\u001b[0;32m<ipython-input-667-5fdce508af1c>\u001b[0m in \u001b[0;36mget_ground_truth_results_for_city\u001b[0;34m(city)\u001b[0m\n\u001b[1;32m      3\u001b[0m         \u001b[0mpermits\u001b[0m \u001b[0;34m=\u001b[0m \u001b[0msan_jose_permits\u001b[0m\u001b[0;34m.\u001b[0m\u001b[0mload_all_permits\u001b[0m\u001b[0;34m(\u001b[0m\u001b[0;34m)\u001b[0m\u001b[0;34m\u001b[0m\u001b[0;34m\u001b[0m\u001b[0m\n\u001b[1;32m      4\u001b[0m     \u001b[0;32melif\u001b[0m \u001b[0mcity\u001b[0m \u001b[0;34m==\u001b[0m \u001b[0;34m'San Francisco'\u001b[0m\u001b[0;34m:\u001b[0m\u001b[0;34m\u001b[0m\u001b[0;34m\u001b[0m\u001b[0m\n\u001b[0;32m----> 5\u001b[0;31m         \u001b[0mpermits\u001b[0m \u001b[0;34m=\u001b[0m \u001b[0msan_francisco_permits\u001b[0m\u001b[0;34m.\u001b[0m\u001b[0mload_all_permits\u001b[0m\u001b[0;34m(\u001b[0m\u001b[0;34m)\u001b[0m\u001b[0;34m\u001b[0m\u001b[0;34m\u001b[0m\u001b[0m\n\u001b[0m\u001b[1;32m      6\u001b[0m     \u001b[0;32melif\u001b[0m \u001b[0mcity\u001b[0m \u001b[0;34m==\u001b[0m \u001b[0;34m'Los Altos'\u001b[0m\u001b[0;34m:\u001b[0m\u001b[0;34m\u001b[0m\u001b[0;34m\u001b[0m\u001b[0m\n\u001b[1;32m      7\u001b[0m         \u001b[0mpermits\u001b[0m \u001b[0;34m=\u001b[0m \u001b[0mlos_altos_permits\u001b[0m\u001b[0;34m.\u001b[0m\u001b[0mload_all_permits\u001b[0m\u001b[0;34m(\u001b[0m\u001b[0;34m)\u001b[0m\u001b[0;34m\u001b[0m\u001b[0;34m\u001b[0m\u001b[0m\n",
      "\u001b[0;32m~/Desktop/housing-elements/housing_elements/san_francisco_permits.py\u001b[0m in \u001b[0;36mload_all_permits\u001b[0;34m(filter_post_2015_new_construction, dedupe)\u001b[0m\n\u001b[1;32m      9\u001b[0m     \u001b[0mdate_cols\u001b[0m \u001b[0;34m=\u001b[0m \u001b[0;34m[\u001b[0m\u001b[0mc\u001b[0m \u001b[0;32mfor\u001b[0m \u001b[0mc\u001b[0m \u001b[0;32min\u001b[0m \u001b[0mpermits\u001b[0m\u001b[0;34m.\u001b[0m\u001b[0mcolumns\u001b[0m \u001b[0;32mif\u001b[0m \u001b[0;34m'Date'\u001b[0m \u001b[0;32min\u001b[0m \u001b[0mc\u001b[0m\u001b[0;34m]\u001b[0m\u001b[0;34m\u001b[0m\u001b[0;34m\u001b[0m\u001b[0m\n\u001b[1;32m     10\u001b[0m     \u001b[0mpermits\u001b[0m\u001b[0;34m[\u001b[0m\u001b[0mdate_cols\u001b[0m\u001b[0;34m]\u001b[0m \u001b[0;34m=\u001b[0m \u001b[0mpermits\u001b[0m\u001b[0;34m[\u001b[0m\u001b[0mdate_cols\u001b[0m\u001b[0;34m]\u001b[0m\u001b[0;34m.\u001b[0m\u001b[0mapply\u001b[0m\u001b[0;34m(\u001b[0m\u001b[0mpd\u001b[0m\u001b[0;34m.\u001b[0m\u001b[0mto_datetime\u001b[0m\u001b[0;34m)\u001b[0m\u001b[0;34m\u001b[0m\u001b[0;34m\u001b[0m\u001b[0m\n\u001b[0;32m---> 11\u001b[0;31m     \u001b[0mpermits\u001b[0m\u001b[0;34m[\u001b[0m\u001b[0;34m'apn'\u001b[0m\u001b[0;34m]\u001b[0m \u001b[0;34m=\u001b[0m \u001b[0mpermits\u001b[0m\u001b[0;34m[\u001b[0m\u001b[0;34m'Block'\u001b[0m\u001b[0;34m]\u001b[0m \u001b[0;34m+\u001b[0m \u001b[0;34m'/'\u001b[0m \u001b[0;34m+\u001b[0m \u001b[0mpermits\u001b[0m\u001b[0;34m[\u001b[0m\u001b[0;34m'Lot'\u001b[0m\u001b[0;34m]\u001b[0m\u001b[0;34m\u001b[0m\u001b[0;34m\u001b[0m\u001b[0m\n\u001b[0m\u001b[1;32m     12\u001b[0m     \u001b[0mpermits\u001b[0m\u001b[0;34m[\u001b[0m\u001b[0;34m'new_units'\u001b[0m\u001b[0;34m]\u001b[0m \u001b[0;34m=\u001b[0m \u001b[0mpermits\u001b[0m\u001b[0;34m[\u001b[0m\u001b[0;34m'Proposed Units'\u001b[0m\u001b[0;34m]\u001b[0m\u001b[0;34m.\u001b[0m\u001b[0mfillna\u001b[0m\u001b[0;34m(\u001b[0m\u001b[0;36m0\u001b[0m\u001b[0;34m)\u001b[0m \u001b[0;34m-\u001b[0m \u001b[0mpermits\u001b[0m\u001b[0;34m[\u001b[0m\u001b[0;34m'Existing Units'\u001b[0m\u001b[0;34m]\u001b[0m\u001b[0;34m.\u001b[0m\u001b[0mfillna\u001b[0m\u001b[0;34m(\u001b[0m\u001b[0;36m0\u001b[0m\u001b[0;34m)\u001b[0m\u001b[0;34m\u001b[0m\u001b[0;34m\u001b[0m\u001b[0m\n\u001b[1;32m     13\u001b[0m     relevant_uses = ['apartments', '1 family dwelling', '2 family dwelling',\n",
      "\u001b[0;32m~/opt/miniconda3/envs/my_env/lib/python3.7/site-packages/pandas/core/frame.py\u001b[0m in \u001b[0;36m__getitem__\u001b[0;34m(self, key)\u001b[0m\n\u001b[1;32m   2900\u001b[0m             \u001b[0;32mif\u001b[0m \u001b[0mself\u001b[0m\u001b[0;34m.\u001b[0m\u001b[0mcolumns\u001b[0m\u001b[0;34m.\u001b[0m\u001b[0mnlevels\u001b[0m \u001b[0;34m>\u001b[0m \u001b[0;36m1\u001b[0m\u001b[0;34m:\u001b[0m\u001b[0;34m\u001b[0m\u001b[0;34m\u001b[0m\u001b[0m\n\u001b[1;32m   2901\u001b[0m                 \u001b[0;32mreturn\u001b[0m \u001b[0mself\u001b[0m\u001b[0;34m.\u001b[0m\u001b[0m_getitem_multilevel\u001b[0m\u001b[0;34m(\u001b[0m\u001b[0mkey\u001b[0m\u001b[0;34m)\u001b[0m\u001b[0;34m\u001b[0m\u001b[0;34m\u001b[0m\u001b[0m\n\u001b[0;32m-> 2902\u001b[0;31m             \u001b[0mindexer\u001b[0m \u001b[0;34m=\u001b[0m \u001b[0mself\u001b[0m\u001b[0;34m.\u001b[0m\u001b[0mcolumns\u001b[0m\u001b[0;34m.\u001b[0m\u001b[0mget_loc\u001b[0m\u001b[0;34m(\u001b[0m\u001b[0mkey\u001b[0m\u001b[0;34m)\u001b[0m\u001b[0;34m\u001b[0m\u001b[0;34m\u001b[0m\u001b[0m\n\u001b[0m\u001b[1;32m   2903\u001b[0m             \u001b[0;32mif\u001b[0m \u001b[0mis_integer\u001b[0m\u001b[0;34m(\u001b[0m\u001b[0mindexer\u001b[0m\u001b[0;34m)\u001b[0m\u001b[0;34m:\u001b[0m\u001b[0;34m\u001b[0m\u001b[0;34m\u001b[0m\u001b[0m\n\u001b[1;32m   2904\u001b[0m                 \u001b[0mindexer\u001b[0m \u001b[0;34m=\u001b[0m \u001b[0;34m[\u001b[0m\u001b[0mindexer\u001b[0m\u001b[0;34m]\u001b[0m\u001b[0;34m\u001b[0m\u001b[0;34m\u001b[0m\u001b[0m\n",
      "\u001b[0;32m~/opt/miniconda3/envs/my_env/lib/python3.7/site-packages/pandas/core/indexes/base.py\u001b[0m in \u001b[0;36mget_loc\u001b[0;34m(self, key, method, tolerance)\u001b[0m\n\u001b[1;32m   2895\u001b[0m                 \u001b[0;32mreturn\u001b[0m \u001b[0mself\u001b[0m\u001b[0;34m.\u001b[0m\u001b[0m_engine\u001b[0m\u001b[0;34m.\u001b[0m\u001b[0mget_loc\u001b[0m\u001b[0;34m(\u001b[0m\u001b[0mcasted_key\u001b[0m\u001b[0;34m)\u001b[0m\u001b[0;34m\u001b[0m\u001b[0;34m\u001b[0m\u001b[0m\n\u001b[1;32m   2896\u001b[0m             \u001b[0;32mexcept\u001b[0m \u001b[0mKeyError\u001b[0m \u001b[0;32mas\u001b[0m \u001b[0merr\u001b[0m\u001b[0;34m:\u001b[0m\u001b[0;34m\u001b[0m\u001b[0;34m\u001b[0m\u001b[0m\n\u001b[0;32m-> 2897\u001b[0;31m                 \u001b[0;32mraise\u001b[0m \u001b[0mKeyError\u001b[0m\u001b[0;34m(\u001b[0m\u001b[0mkey\u001b[0m\u001b[0;34m)\u001b[0m \u001b[0;32mfrom\u001b[0m \u001b[0merr\u001b[0m\u001b[0;34m\u001b[0m\u001b[0;34m\u001b[0m\u001b[0m\n\u001b[0m\u001b[1;32m   2898\u001b[0m \u001b[0;34m\u001b[0m\u001b[0m\n\u001b[1;32m   2899\u001b[0m         \u001b[0;32mif\u001b[0m \u001b[0mtolerance\u001b[0m \u001b[0;32mis\u001b[0m \u001b[0;32mnot\u001b[0m \u001b[0;32mNone\u001b[0m\u001b[0;34m:\u001b[0m\u001b[0;34m\u001b[0m\u001b[0;34m\u001b[0m\u001b[0m\n",
      "\u001b[0;31mKeyError\u001b[0m: 'Block'"
     ]
    }
   ],
   "source": [
    "%%time\n",
    "ground_truth_cities = ['Los Altos', 'San Francisco']\n",
    "ground_truth_results_df = pd.DataFrame([get_ground_truth_results_for_city(city) for city in ground_truth_cities])"
   ]
  },
  {
   "cell_type": "code",
   "execution_count": 684,
   "id": "c3f8c409",
   "metadata": {},
   "outputs": [
    {
     "data": {
      "text/html": [
       "<div>\n",
       "<style scoped>\n",
       "    .dataframe tbody tr th:only-of-type {\n",
       "        vertical-align: middle;\n",
       "    }\n",
       "\n",
       "    .dataframe tbody tr th {\n",
       "        vertical-align: top;\n",
       "    }\n",
       "\n",
       "    .dataframe thead th {\n",
       "        text-align: right;\n",
       "    }\n",
       "</style>\n",
       "<table border=\"1\" class=\"dataframe\">\n",
       "  <thead>\n",
       "    <tr style=\"text-align: right;\">\n",
       "      <th></th>\n",
       "      <th>City</th>\n",
       "      <th>Ratio of development on inventory sites</th>\n",
       "      <th>Mean overproduction</th>\n",
       "      <th>Inventory housing / all housing</th>\n",
       "      <th>P(dev) for nonvacant sites</th>\n",
       "      <th>P(dev) for vacant sites</th>\n",
       "      <th>P(dev) for inventory</th>\n",
       "    </tr>\n",
       "  </thead>\n",
       "  <tbody>\n",
       "    <tr>\n",
       "      <th>0</th>\n",
       "      <td>Los Altos</td>\n",
       "      <td>2.066019</td>\n",
       "      <td>-0.444444</td>\n",
       "      <td>0.06391</td>\n",
       "      <td>0.088235</td>\n",
       "      <td>0.26087</td>\n",
       "      <td>0.157895</td>\n",
       "    </tr>\n",
       "  </tbody>\n",
       "</table>\n",
       "</div>"
      ],
      "text/plain": [
       "        City  Ratio of development on inventory sites  Mean overproduction  \\\n",
       "0  Los Altos                                 2.066019            -0.444444   \n",
       "\n",
       "   Inventory housing / all housing  P(dev) for nonvacant sites  \\\n",
       "0                          0.06391                    0.088235   \n",
       "\n",
       "   P(dev) for vacant sites  P(dev) for inventory  \n",
       "0                  0.26087              0.157895  "
      ]
     },
     "execution_count": 684,
     "metadata": {},
     "output_type": "execute_result"
    }
   ],
   "source": [
    "ground_truth_results_df"
   ]
  },
  {
   "cell_type": "code",
   "execution_count": null,
   "id": "61db8742",
   "metadata": {},
   "outputs": [],
   "source": []
  }
 ],
 "metadata": {
  "kernelspec": {
   "display_name": "my_kernel",
   "language": "python",
   "name": "my_kernel"
  },
  "language_info": {
   "codemirror_mode": {
    "name": "ipython",
    "version": 3
   },
   "file_extension": ".py",
   "mimetype": "text/x-python",
   "name": "python",
   "nbconvert_exporter": "python",
   "pygments_lexer": "ipython3",
   "version": "3.7.7"
  }
 },
 "nbformat": 4,
 "nbformat_minor": 5
}
