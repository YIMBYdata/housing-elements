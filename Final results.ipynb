{
 "cells": [
  {
   "cell_type": "code",
   "execution_count": 1,
   "id": "possible-progressive",
   "metadata": {},
   "outputs": [],
   "source": [
    "import pandas as pd\n",
    "from housing_elements import utils"
   ]
  },
  {
   "cell_type": "code",
   "execution_count": 19,
   "id": "vocational-bailey",
   "metadata": {},
   "outputs": [],
   "source": [
    "# Oakland and Palo Alto don't work right now (parsing certain columns as floats fails)\n",
    "cities = ['San Francisco', 'Berkeley', 'Mountain View', 'San Jose']"
   ]
  },
  {
   "cell_type": "code",
   "execution_count": 23,
   "id": "former-drinking",
   "metadata": {},
   "outputs": [],
   "source": [
    "def get_results_for_city(city: str) -> pd.DataFrame:\n",
    "    permits = utils.load_all_new_building_permits(city)\n",
    "    sites = utils.load_site_inventory(city)\n",
    "    \n",
    "    return {\n",
    "        'City': city,\n",
    "        'Ratio of development on inventory sites': utils.calculate_total_units_permitted_over_he_capacity(sites, permits),\n",
    "        'Mean overproduction': utils.calculate_mean_overproduction_on_sites(sites, permits),\n",
    "        'Inventory housing / all housing': utils.calculate_inventory_housing_over_all_housing(sites, permits),\n",
    "        'P(dev) for nonvacant sites': utils.calculate_pdev_for_nonvacant_sites(sites, permits),\n",
    "        'P(dev) for vacant sites': utils.calculate_pdev_for_vacant_sites(sites, permits),\n",
    "        'P(dev) for inventory': utils.calculate_pdev_for_inventory(sites, permits),\n",
    "    }"
   ]
  },
  {
   "cell_type": "code",
   "execution_count": 24,
   "id": "passing-swimming",
   "metadata": {},
   "outputs": [
    {
     "name": "stderr",
     "output_type": "stream",
     "text": [
      "/Users/sidharthkapur/Library/Caches/pypoetry/virtualenvs/housing-elements-H302xxA9-py3.8/lib/python3.8/site-packages/openpyxl/worksheet/_reader.py:308: UserWarning: Data Validation extension is not supported and will be removed\n",
      "  warn(msg)\n",
      "/Users/sidharthkapur/Library/Caches/pypoetry/virtualenvs/housing-elements-H302xxA9-py3.8/lib/python3.8/site-packages/openpyxl/worksheet/_reader.py:308: UserWarning: Data Validation extension is not supported and will be removed\n",
      "  warn(msg)\n"
     ]
    },
    {
     "name": "stdout",
     "output_type": "stream",
     "text": [
      "Dropping constant columns: ['rhnacyc' 'rhnayrs' 'county' 'jurisdict' 'currunits' 'allowlow' 'num_vl'\n",
      " 'num_l' 'num_m' 'num_am']\n",
      "DF shape (6158, 16)\n",
      "Total units permitted: 26071\n",
      "Total realistic capacity in inventory: 47209.0\n",
      "Number of inventory sites developed: 0\n",
      "Number of units permitted on inventory sites: 0\n",
      "Total realistic capacity of inventory sites: 0.0\n",
      "Units permitted on inventory sites: 0\n",
      "Total units permitted: 26071\n"
     ]
    },
    {
     "name": "stderr",
     "output_type": "stream",
     "text": [
      "/Users/sidharthkapur/personal-workspace/housing-elements/housing_elements/utils.py:299: RuntimeWarning: invalid value encountered in double_scalars\n",
      "  return (n_units - n_claimed) / len(inventory_sites_permitted)\n",
      "/Users/sidharthkapur/Library/Caches/pypoetry/virtualenvs/housing-elements-H302xxA9-py3.8/lib/python3.8/site-packages/openpyxl/worksheet/_reader.py:308: UserWarning: Data Validation extension is not supported and will be removed\n",
      "  warn(msg)\n",
      "/Users/sidharthkapur/Library/Caches/pypoetry/virtualenvs/housing-elements-H302xxA9-py3.8/lib/python3.8/site-packages/openpyxl/worksheet/_reader.py:308: UserWarning: Data Validation extension is not supported and will be removed\n",
      "  warn(msg)\n"
     ]
    },
    {
     "name": "stdout",
     "output_type": "stream",
     "text": [
      "Dropping constant columns: ['rhnacyc' 'rhnayrs' 'county' 'jurisdict' 'currunits' 'allowlow' 'num_vl'\n",
      " 'num_l' 'num_m' 'num_am']\n",
      "DF shape (404, 18)\n",
      "Total units permitted: 1871\n",
      "Total realistic capacity in inventory: 5372.02\n",
      "Number of inventory sites developed: 0\n",
      "Number of units permitted on inventory sites: 0\n",
      "Total realistic capacity of inventory sites: 0.0\n",
      "Units permitted on inventory sites: 0\n",
      "Total units permitted: 1871\n"
     ]
    },
    {
     "name": "stderr",
     "output_type": "stream",
     "text": [
      "/Users/sidharthkapur/personal-workspace/housing-elements/housing_elements/utils.py:299: RuntimeWarning: invalid value encountered in double_scalars\n",
      "  return (n_units - n_claimed) / len(inventory_sites_permitted)\n",
      "/Users/sidharthkapur/Library/Caches/pypoetry/virtualenvs/housing-elements-H302xxA9-py3.8/lib/python3.8/site-packages/openpyxl/worksheet/_reader.py:308: UserWarning: Data Validation extension is not supported and will be removed\n",
      "  warn(msg)\n",
      "/Users/sidharthkapur/Library/Caches/pypoetry/virtualenvs/housing-elements-H302xxA9-py3.8/lib/python3.8/site-packages/openpyxl/worksheet/_reader.py:308: UserWarning: Data Validation extension is not supported and will be removed\n",
      "  warn(msg)\n"
     ]
    },
    {
     "name": "stdout",
     "output_type": "stream",
     "text": [
      "Dropping constant columns: ['rhnacyc' 'rhnayrs' 'county' 'jurisdict' 'num_vl' 'num_l' 'num_m'\n",
      " 'num_am']\n",
      "DF shape (93, 24)\n",
      "Total units permitted: 3579.0\n",
      "Total realistic capacity in inventory: 3216.0\n",
      "Number of inventory sites developed: 3\n",
      "Number of units permitted on inventory sites: 426.0\n",
      "Total realistic capacity of inventory sites: 799.0\n",
      "Units permitted on inventory sites: 426.0\n",
      "Total units permitted: 3579.0\n"
     ]
    },
    {
     "name": "stderr",
     "output_type": "stream",
     "text": [
      "/Users/sidharthkapur/Library/Caches/pypoetry/virtualenvs/housing-elements-H302xxA9-py3.8/lib/python3.8/site-packages/openpyxl/worksheet/_reader.py:308: UserWarning: Data Validation extension is not supported and will be removed\n",
      "  warn(msg)\n",
      "/Users/sidharthkapur/Library/Caches/pypoetry/virtualenvs/housing-elements-H302xxA9-py3.8/lib/python3.8/site-packages/openpyxl/worksheet/_reader.py:308: UserWarning: Data Validation extension is not supported and will be removed\n",
      "  warn(msg)\n"
     ]
    },
    {
     "name": "stdout",
     "output_type": "stream",
     "text": [
      "Dropping constant columns: ['rhnacyc' 'rhnayrs' 'county' 'jurisdict' 'currunits' 'allowlow' 'num_vl'\n",
      " 'num_l' 'num_m' 'num_am']\n",
      "DF shape (599, 18)\n",
      "Total units permitted: 16928.0\n",
      "Total realistic capacity in inventory: 35536.43\n",
      "Number of inventory sites developed: 64\n",
      "Number of units permitted on inventory sites: 3473.0\n",
      "Total realistic capacity of inventory sites: 3664.0\n",
      "Units permitted on inventory sites: 3473.0\n",
      "Total units permitted: 16928.0\n",
      "CPU times: user 45 s, sys: 1.18 s, total: 46.2 s\n",
      "Wall time: 47 s\n"
     ]
    }
   ],
   "source": [
    "%%time\n",
    "results_df = pd.DataFrame([get_results_for_city(city) for city in cities])"
   ]
  },
  {
   "cell_type": "code",
   "execution_count": 25,
   "id": "fifteen-secondary",
   "metadata": {},
   "outputs": [
    {
     "data": {
      "text/html": [
       "<div>\n",
       "<style scoped>\n",
       "    .dataframe tbody tr th:only-of-type {\n",
       "        vertical-align: middle;\n",
       "    }\n",
       "\n",
       "    .dataframe tbody tr th {\n",
       "        vertical-align: top;\n",
       "    }\n",
       "\n",
       "    .dataframe thead th {\n",
       "        text-align: right;\n",
       "    }\n",
       "</style>\n",
       "<table border=\"1\" class=\"dataframe\">\n",
       "  <thead>\n",
       "    <tr style=\"text-align: right;\">\n",
       "      <th></th>\n",
       "      <th>City</th>\n",
       "      <th>Ratio of development on inventory sites</th>\n",
       "      <th>Mean overproduction</th>\n",
       "      <th>Inventory housing / all housing</th>\n",
       "      <th>P(dev) for nonvacant sites</th>\n",
       "      <th>P(dev) for vacant sites</th>\n",
       "      <th>P(dev) for inventory</th>\n",
       "    </tr>\n",
       "  </thead>\n",
       "  <tbody>\n",
       "    <tr>\n",
       "      <th>0</th>\n",
       "      <td>San Francisco</td>\n",
       "      <td>0.552246</td>\n",
       "      <td>NaN</td>\n",
       "      <td>0.000000</td>\n",
       "      <td>0.000000</td>\n",
       "      <td>0.000000</td>\n",
       "      <td>0.000000</td>\n",
       "    </tr>\n",
       "    <tr>\n",
       "      <th>1</th>\n",
       "      <td>Berkeley</td>\n",
       "      <td>0.348286</td>\n",
       "      <td>NaN</td>\n",
       "      <td>0.000000</td>\n",
       "      <td>0.000000</td>\n",
       "      <td>0.000000</td>\n",
       "      <td>0.000000</td>\n",
       "    </tr>\n",
       "    <tr>\n",
       "      <th>2</th>\n",
       "      <td>Mountain View</td>\n",
       "      <td>1.112873</td>\n",
       "      <td>-124.333333</td>\n",
       "      <td>0.119028</td>\n",
       "      <td>0.023256</td>\n",
       "      <td>0.142857</td>\n",
       "      <td>0.032258</td>\n",
       "    </tr>\n",
       "    <tr>\n",
       "      <th>3</th>\n",
       "      <td>San Jose</td>\n",
       "      <td>0.476356</td>\n",
       "      <td>-2.984375</td>\n",
       "      <td>0.205163</td>\n",
       "      <td>0.127226</td>\n",
       "      <td>0.067961</td>\n",
       "      <td>0.106845</td>\n",
       "    </tr>\n",
       "  </tbody>\n",
       "</table>\n",
       "</div>"
      ],
      "text/plain": [
       "            City  Ratio of development on inventory sites  \\\n",
       "0  San Francisco                                 0.552246   \n",
       "1       Berkeley                                 0.348286   \n",
       "2  Mountain View                                 1.112873   \n",
       "3       San Jose                                 0.476356   \n",
       "\n",
       "   Mean overproduction  Inventory housing / all housing  \\\n",
       "0                  NaN                         0.000000   \n",
       "1                  NaN                         0.000000   \n",
       "2          -124.333333                         0.119028   \n",
       "3            -2.984375                         0.205163   \n",
       "\n",
       "   P(dev) for nonvacant sites  P(dev) for vacant sites  P(dev) for inventory  \n",
       "0                    0.000000                 0.000000              0.000000  \n",
       "1                    0.000000                 0.000000              0.000000  \n",
       "2                    0.023256                 0.142857              0.032258  \n",
       "3                    0.127226                 0.067961              0.106845  "
      ]
     },
     "execution_count": 25,
     "metadata": {},
     "output_type": "execute_result"
    }
   ],
   "source": [
    "results_df"
   ]
  }
 ],
 "metadata": {
  "kernelspec": {
   "display_name": "Python 3",
   "language": "python",
   "name": "python3"
  },
  "language_info": {
   "codemirror_mode": {
    "name": "ipython",
    "version": 3
   },
   "file_extension": ".py",
   "mimetype": "text/x-python",
   "name": "python",
   "nbconvert_exporter": "python",
   "pygments_lexer": "ipython3",
   "version": "3.8.1"
  }
 },
 "nbformat": 4,
 "nbformat_minor": 5
}
